{
 "cells": [
  {
   "cell_type": "code",
   "execution_count": 1,
   "metadata": {
    "collapsed": true
   },
   "outputs": [],
   "source": [
    "import pandas as pd\n",
    "import numpy as np\n",
    "\n",
    "import matplotlib.pyplot as plt\n",
    "import seaborn as sns\n",
    "%matplotlib inline"
   ]
  },
  {
   "cell_type": "code",
   "execution_count": 2,
   "metadata": {
    "collapsed": true
   },
   "outputs": [],
   "source": [
    "train = pd.read_csv(\"data/ech_apprentissage.csv\", sep = ';', index_col = 'id', low_memory = False)\n",
    "X = train.drop('prime_tot_ttc', axis = 1)\n",
    "X_test = pd.read_csv('data/ech_test.csv', sep = ';', index_col = 'id', low_memory = False)\n",
    "y = train.prime_tot_ttc\n",
    "\n",
    "df = pd.concat([X, X_test], axis=0)\n",
    "print(X.shape, X_test.shape)\n",
    "# df.dtypes\n",
    "\n",
    "cat_variables = [i for i in df.columns if df[i].dtype == 'O']\n",
    "print(cat_variables)\n",
    "\n",
    "from sklearn.preprocessing import LabelEncoder\n",
    "\n",
    "encods = [LabelEncoder() for col in cat_variables]\n",
    "for i, col in enumerate(cat_variables):\n",
    "    df[col] = encods[i].fit_transform(df[col].astype(str))\n",
    "\n",
    "# encods = [LabelEncoder() for col in cat_variables]\n",
    "\n",
    "# for i, col in enumerate(cat_variables):\n",
    "#     X_test[col] = encods[i].fit_transform(X_test[col].astype(str))\n",
    "\n",
    "num_variables = [i for i in df.columns if df[i].dtype != 'O']\n",
    "print(num_variables)\n",
    "\n",
    "df.fillna(0, inplace=True)\n",
    "\n",
    "X = df[:300000]\n",
    "X_test = df[300000:]"
   ]
  }
 ],
 "metadata": {
  "kernelspec": {
   "display_name": "Python 3",
   "language": "python",
   "name": "python3"
  },
  "language_info": {
   "codemirror_mode": {
    "name": "ipython",
    "version": 3
   },
   "file_extension": ".py",
   "mimetype": "text/x-python",
   "name": "python",
   "nbconvert_exporter": "python",
   "pygments_lexer": "ipython3",
   "version": "3.5.2"
  }
 },
 "nbformat": 4,
 "nbformat_minor": 0
}
