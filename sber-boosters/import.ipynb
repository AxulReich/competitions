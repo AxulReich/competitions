{
 "cells": [
  {
   "cell_type": "code",
   "execution_count": 1,
   "metadata": {
    "collapsed": true
   },
   "outputs": [],
   "source": [
    "import pandas as pd\n",
    "\n",
    "data_folder = 'data'"
   ]
  },
  {
   "cell_type": "code",
   "execution_count": 3,
   "metadata": {
    "collapsed": false
   },
   "outputs": [
    {
     "name": "stdout",
     "output_type": "stream",
     "text": [
      "champ1_test.csv  champ1_train.csv\r\n"
     ]
    }
   ],
   "source": [
    "!ls data"
   ]
  },
  {
   "cell_type": "markdown",
   "metadata": {},
   "source": [
    "## `train`"
   ]
  },
  {
   "cell_type": "code",
   "execution_count": 12,
   "metadata": {
    "collapsed": false
   },
   "outputs": [],
   "source": [
    "train = pd.read_csv('/'.join([data_folder, \"champ1_train.csv\"]),\n",
    "                     index_col='_ID_﻿')"
   ]
  },
  {
   "cell_type": "code",
   "execution_count": 13,
   "metadata": {
    "collapsed": false
   },
   "outputs": [
    {
     "data": {
      "text/html": [
       "<div>\n",
       "<table border=\"1\" class=\"dataframe\">\n",
       "  <thead>\n",
       "    <tr style=\"text-align: right;\">\n",
       "      <th></th>\n",
       "      <th>_TYPE_</th>\n",
       "      <th>_DATE_</th>\n",
       "      <th>_ADDRESS_</th>\n",
       "      <th>_PRICE_</th>\n",
       "      <th>_AREA_</th>\n",
       "      <th>_METRO</th>\n",
       "      <th>_LAT_</th>\n",
       "      <th>_LON_</th>\n",
       "      <th>_DESC_</th>\n",
       "    </tr>\n",
       "    <tr>\n",
       "      <th>_ID_﻿</th>\n",
       "      <th></th>\n",
       "      <th></th>\n",
       "      <th></th>\n",
       "      <th></th>\n",
       "      <th></th>\n",
       "      <th></th>\n",
       "      <th></th>\n",
       "      <th></th>\n",
       "      <th></th>\n",
       "    </tr>\n",
       "  </thead>\n",
       "  <tbody>\n",
       "    <tr>\n",
       "      <th>46595</th>\n",
       "      <td>Офис</td>\n",
       "      <td>10/09/2016</td>\n",
       "      <td>г.Чебоксары, ул.Ярославская, 76, Ленинский, Че...</td>\n",
       "      <td>1 100 000 РУБ.</td>\n",
       "      <td>16,1м²</td>\n",
       "      <td>NaN</td>\n",
       "      <td>56.13138</td>\n",
       "      <td>47.24982</td>\n",
       "      <td>Офис находится в административном здании, кото...</td>\n",
       "    </tr>\n",
       "    <tr>\n",
       "      <th>45544</th>\n",
       "      <td>Производство</td>\n",
       "      <td>15/08/2016</td>\n",
       "      <td>ул Автодромная, 21, Троицк, Челябинская область</td>\n",
       "      <td>4 200 000 РУБ.</td>\n",
       "      <td>600м²</td>\n",
       "      <td>NaN</td>\n",
       "      <td>54.0818634</td>\n",
       "      <td>61.5924759</td>\n",
       "      <td>Продам производственное помещение в районе Тро...</td>\n",
       "    </tr>\n",
       "    <tr>\n",
       "      <th>17472</th>\n",
       "      <td>Другое</td>\n",
       "      <td>26/08/2016</td>\n",
       "      <td>ул Дальневосточная, 151, Октябрьский, Иркутск,...</td>\n",
       "      <td>3 400 000 РУБ.</td>\n",
       "      <td>55м²</td>\n",
       "      <td>NaN</td>\n",
       "      <td>52.2538872</td>\n",
       "      <td>104.3219</td>\n",
       "      <td>ЖК Ангарские паруса, отличное помещение, с отд...</td>\n",
       "    </tr>\n",
       "    <tr>\n",
       "      <th>33269</th>\n",
       "      <td>Другое</td>\n",
       "      <td>30/08/2016</td>\n",
       "      <td>ул Ленина, 268в, Азов, Ростовская область</td>\n",
       "      <td>15 000 000 РУБ.</td>\n",
       "      <td>280м²</td>\n",
       "      <td>NaN</td>\n",
       "      <td>47.0912743</td>\n",
       "      <td>39.4440079</td>\n",
       "      <td>Продается здание под коммерческую деятельность...</td>\n",
       "    </tr>\n",
       "    <tr>\n",
       "      <th>21835</th>\n",
       "      <td>Офис</td>\n",
       "      <td>20/08/2016</td>\n",
       "      <td>пр.Репина, Прикубанский, Краснодар, Краснодарс...</td>\n",
       "      <td>750 000 РУБ.</td>\n",
       "      <td>20м²</td>\n",
       "      <td>NaN</td>\n",
       "      <td>None</td>\n",
       "      <td>None</td>\n",
       "      <td>цокольный этаж 16-ти эт. дома, квроремонт, спл...</td>\n",
       "    </tr>\n",
       "  </tbody>\n",
       "</table>\n",
       "</div>"
      ],
      "text/plain": [
       "             _TYPE_      _DATE_  \\\n",
       "_ID_﻿                             \n",
       "46595          Офис  10/09/2016   \n",
       "45544  Производство  15/08/2016   \n",
       "17472        Другое  26/08/2016   \n",
       "33269        Другое  30/08/2016   \n",
       "21835          Офис  20/08/2016   \n",
       "\n",
       "                                               _ADDRESS_          _PRICE_  \\\n",
       "_ID_﻿                                                                       \n",
       "46595  г.Чебоксары, ул.Ярославская, 76, Ленинский, Че...   1 100 000 РУБ.   \n",
       "45544    ул Автодромная, 21, Троицк, Челябинская область   4 200 000 РУБ.   \n",
       "17472  ул Дальневосточная, 151, Октябрьский, Иркутск,...   3 400 000 РУБ.   \n",
       "33269          ул Ленина, 268в, Азов, Ростовская область  15 000 000 РУБ.   \n",
       "21835  пр.Репина, Прикубанский, Краснодар, Краснодарс...     750 000 РУБ.   \n",
       "\n",
       "        _AREA_  _METRO       _LAT_       _LON_  \\\n",
       "_ID_﻿                                            \n",
       "46595  16,1м²      NaN    56.13138    47.24982   \n",
       "45544   600м²      NaN  54.0818634  61.5924759   \n",
       "17472    55м²      NaN  52.2538872    104.3219   \n",
       "33269   280м²      NaN  47.0912743  39.4440079   \n",
       "21835    20м²      NaN        None        None   \n",
       "\n",
       "                                                  _DESC_  \n",
       "_ID_﻿                                                     \n",
       "46595  Офис находится в административном здании, кото...  \n",
       "45544  Продам производственное помещение в районе Тро...  \n",
       "17472  ЖК Ангарские паруса, отличное помещение, с отд...  \n",
       "33269  Продается здание под коммерческую деятельность...  \n",
       "21835  цокольный этаж 16-ти эт. дома, квроремонт, спл...  "
      ]
     },
     "execution_count": 13,
     "metadata": {},
     "output_type": "execute_result"
    }
   ],
   "source": [
    "train.head()"
   ]
  },
  {
   "cell_type": "code",
   "execution_count": 2,
   "metadata": {
    "collapsed": false
   },
   "outputs": [],
   "source": [
    "X = train.drop('cible1', axis = 1)\n",
    "y = train.cible1"
   ]
  },
  {
   "cell_type": "code",
   "execution_count": 3,
   "metadata": {
    "collapsed": false
   },
   "outputs": [
    {
     "data": {
      "text/html": [
       "<div>\n",
       "<table border=\"1\" class=\"dataframe\">\n",
       "  <thead>\n",
       "    <tr style=\"text-align: right;\">\n",
       "      <th></th>\n",
       "      <th>Finess</th>\n",
       "      <th>Raison sociale</th>\n",
       "      <th>Provenance des patients (département)</th>\n",
       "      <th>Domaines d activités</th>\n",
       "      <th>âge (deux classes &gt;75 ans, &lt;= 75 ans)</th>\n",
       "      <th>Nombre de séjours/séances MCO des patients en ALD</th>\n",
       "      <th>Nombre total de séjours/séances</th>\n",
       "      <th>annee</th>\n",
       "    </tr>\n",
       "  </thead>\n",
       "  <tbody>\n",
       "    <tr>\n",
       "      <th>0</th>\n",
       "      <td>010007300</td>\n",
       "      <td>CLINIQUE AMBULATOIRE CENDANEG</td>\n",
       "      <td>01-Ain</td>\n",
       "      <td>D01-Digestif</td>\n",
       "      <td>&lt;=75 ans</td>\n",
       "      <td>19</td>\n",
       "      <td>1061</td>\n",
       "      <td>2008</td>\n",
       "    </tr>\n",
       "  </tbody>\n",
       "</table>\n",
       "</div>"
      ],
      "text/plain": [
       "      Finess                 Raison sociale  \\\n",
       "0  010007300  CLINIQUE AMBULATOIRE CENDANEG   \n",
       "\n",
       "  Provenance des patients (département) Domaines d activités  \\\n",
       "0                                01-Ain         D01-Digestif   \n",
       "\n",
       "  âge (deux classes >75 ans, <= 75 ans)  \\\n",
       "0                              <=75 ans   \n",
       "\n",
       "   Nombre de séjours/séances MCO des patients en ALD  \\\n",
       "0                                                 19   \n",
       "\n",
       "   Nombre total de séjours/séances  annee  \n",
       "0                             1061   2008  "
      ]
     },
     "execution_count": 3,
     "metadata": {},
     "output_type": "execute_result"
    }
   ],
   "source": [
    "X.head(1)"
   ]
  },
  {
   "cell_type": "markdown",
   "metadata": {},
   "source": [
    "## `test`"
   ]
  },
  {
   "cell_type": "code",
   "execution_count": 9,
   "metadata": {
    "collapsed": false,
    "scrolled": true
   },
   "outputs": [],
   "source": [
    "X_test = pd.read_csv('/'.join([data_folder, \"champ1_test.csv\"]), \n",
    "                     index_col='_ID_')\n",
    "\n",
    "ids = X_test.index"
   ]
  },
  {
   "cell_type": "code",
   "execution_count": 10,
   "metadata": {
    "collapsed": false
   },
   "outputs": [
    {
     "data": {
      "text/html": [
       "<div>\n",
       "<table border=\"1\" class=\"dataframe\">\n",
       "  <thead>\n",
       "    <tr style=\"text-align: right;\">\n",
       "      <th></th>\n",
       "      <th>_CITY_</th>\n",
       "      <th>_ADRS_</th>\n",
       "      <th>_OBJ_TYPE_</th>\n",
       "      <th>_TTL_S_</th>\n",
       "      <th>_F1_S_</th>\n",
       "      <th>_F1_U_</th>\n",
       "      <th>_FC_S_</th>\n",
       "      <th>_FC_U_</th>\n",
       "      <th>_F0_S_</th>\n",
       "      <th>_F0_U_</th>\n",
       "      <th>...</th>\n",
       "      <th>_ROUND_</th>\n",
       "      <th>_FOOT_TRAF_</th>\n",
       "      <th>_IS_PRKNG_</th>\n",
       "      <th>_IS_WIN_</th>\n",
       "      <th>_IS_SEP_ENT_</th>\n",
       "      <th>_IS_VENT_</th>\n",
       "      <th>_DECOR_</th>\n",
       "      <th>_IS_COM_</th>\n",
       "      <th>_F1_H_</th>\n",
       "      <th>_DATE_</th>\n",
       "    </tr>\n",
       "    <tr>\n",
       "      <th>_ID_</th>\n",
       "      <th></th>\n",
       "      <th></th>\n",
       "      <th></th>\n",
       "      <th></th>\n",
       "      <th></th>\n",
       "      <th></th>\n",
       "      <th></th>\n",
       "      <th></th>\n",
       "      <th></th>\n",
       "      <th></th>\n",
       "      <th></th>\n",
       "      <th></th>\n",
       "      <th></th>\n",
       "      <th></th>\n",
       "      <th></th>\n",
       "      <th></th>\n",
       "      <th></th>\n",
       "      <th></th>\n",
       "      <th></th>\n",
       "      <th></th>\n",
       "      <th></th>\n",
       "    </tr>\n",
       "  </thead>\n",
       "  <tbody>\n",
       "    <tr>\n",
       "      <th>0</th>\n",
       "      <td>г. Санкт-Петербург</td>\n",
       "      <td>1-я Красноармейская ул., д.8-10, лит.А</td>\n",
       "      <td>помещение</td>\n",
       "      <td>184,7</td>\n",
       "      <td>184,7</td>\n",
       "      <td>торговое</td>\n",
       "      <td>0</td>\n",
       "      <td>NaN</td>\n",
       "      <td>0</td>\n",
       "      <td>NaN</td>\n",
       "      <td>...</td>\n",
       "      <td>жилая застройка</td>\n",
       "      <td>очень высокий</td>\n",
       "      <td>городская парковка</td>\n",
       "      <td>да</td>\n",
       "      <td>да</td>\n",
       "      <td>центральная вентиляция</td>\n",
       "      <td>рабочее состояние</td>\n",
       "      <td>все</td>\n",
       "      <td>2,7</td>\n",
       "      <td>19.04.2016</td>\n",
       "    </tr>\n",
       "  </tbody>\n",
       "</table>\n",
       "<p>1 rows × 30 columns</p>\n",
       "</div>"
      ],
      "text/plain": [
       "                  _CITY_                                   _ADRS_ _OBJ_TYPE_  \\\n",
       "_ID_                                                                           \n",
       "0     г. Санкт-Петербург   1-я Красноармейская ул., д.8-10, лит.А  помещение   \n",
       "\n",
       "     _TTL_S_ _F1_S_    _F1_U_ _FC_S_ _FC_U_ _F0_S_ _F0_U_     ...      \\\n",
       "_ID_                                                          ...       \n",
       "0      184,7  184,7  торговое      0    NaN      0    NaN     ...       \n",
       "\n",
       "              _ROUND_    _FOOT_TRAF_          _IS_PRKNG_ _IS_WIN_  \\\n",
       "_ID_                                                                \n",
       "0     жилая застройка  очень высокий  городская парковка       да   \n",
       "\n",
       "     _IS_SEP_ENT_               _IS_VENT_            _DECOR_ _IS_COM_ _F1_H_  \\\n",
       "_ID_                                                                           \n",
       "0              да  центральная вентиляция  рабочее состояние      все    2,7   \n",
       "\n",
       "          _DATE_  \n",
       "_ID_              \n",
       "0     19.04.2016  \n",
       "\n",
       "[1 rows x 30 columns]"
      ]
     },
     "execution_count": 10,
     "metadata": {},
     "output_type": "execute_result"
    }
   ],
   "source": [
    "X_test.head(1)"
   ]
  },
  {
   "cell_type": "code",
   "execution_count": null,
   "metadata": {
    "collapsed": true
   },
   "outputs": [],
   "source": []
  }
 ],
 "metadata": {
  "kernelspec": {
   "display_name": "Python [default]",
   "language": "python",
   "name": "python3"
  },
  "language_info": {
   "codemirror_mode": {
    "name": "ipython",
    "version": 3
   },
   "file_extension": ".py",
   "mimetype": "text/x-python",
   "name": "python",
   "nbconvert_exporter": "python",
   "pygments_lexer": "ipython3",
   "version": "3.5.2"
  }
 },
 "nbformat": 4,
 "nbformat_minor": 1
}
