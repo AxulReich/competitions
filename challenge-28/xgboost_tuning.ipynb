{
 "cells": [
  {
   "cell_type": "code",
   "execution_count": null,
   "metadata": {
    "collapsed": false
   },
   "outputs": [],
   "source": [
    "from datetime import datetime\n",
    "import xgboost as xgb\n",
    "import numpy as np\n",
    "\n",
    "from sklearn import cross_validation, metrics\n",
    "from sklearn.grid_search import GridSearchCV\n",
    "\n",
    "# from rmse import rmse\n",
    "\n",
    "%run load_encoded.ipynb"
   ]
  },
  {
   "cell_type": "code",
   "execution_count": null,
   "metadata": {
    "collapsed": false
   },
   "outputs": [],
   "source": [
    "def submission_to_csv(cible, filename, id = id):\n",
    "    (pd.DataFrame(cible, id)\n",
    "     .to_csv(filename, sep=';', \n",
    "             index_label = 'id', \n",
    "             header = ['cible'], \n",
    "             float_format = '{.1f}')\n",
    "    )\n",
    "def make_submission_gridsearch(gsearch, pred):\n",
    "    cible = ['{0:.1f}'.format(p) for p in pred]\n",
    "    \n",
    "    params = '_'.join([('%s_%s' % (k, v)) for k, v in gsearch.best_params_.items()])\n",
    "    datename = datetime.now().strftime(format = '%d%m_%H%M')\n",
    "    folder = 'submissions'\n",
    "    filename = folder + '/' + 'xgb_tuning_' + params + '_' + datename + '.csv'\n",
    "    print('saving to %s...' % filename)\n",
    "\n",
    "    submission_to_csv(cible, filename)\n",
    "\n",
    "# %import make_submission.ipynb"
   ]
  },
  {
   "cell_type": "markdown",
   "metadata": {},
   "source": [
    "# `xgboost` tuning"
   ]
  },
  {
   "cell_type": "code",
   "execution_count": 7,
   "metadata": {
    "collapsed": false
   },
   "outputs": [],
   "source": [
    "dtrain = xgb.DMatrix(X, y, missing = 0.0)\n",
    "dtest = xgb.DMatrix(X_test)"
   ]
  },
  {
   "cell_type": "code",
   "execution_count": 20,
   "metadata": {
    "collapsed": true
   },
   "outputs": [],
   "source": [
    "def tune_xgb(param_grid, n_trees = 100):\n",
    "    gsearch = GridSearchCV(estimator = xgb.XGBRegressor(seed = 27, n_estimators = n_trees, silent = False), \n",
    "                             param_grid = param_grid, \n",
    "                             iid = False, \n",
    "                             cv = 3,\n",
    "                             verbose = 3#,\n",
    "#                              scoring = 'neg_mean_squared_error')\n",
    "                           )\n",
    "\n",
    "    gsearch.fit(X, y)\n",
    "\n",
    "    print(gsearch.grid_scores_)\n",
    "    print(gsearch.best_params_)\n",
    "    print(gsearch.best_score_)\n",
    "\n",
    "    pred = gsearch.best_estimator_.predict(X_test)\n",
    "    return gsearch, pred"
   ]
  },
  {
   "cell_type": "markdown",
   "metadata": {},
   "source": [
    "## `min_child_weight`"
   ]
  },
  {
   "cell_type": "code",
   "execution_count": 9,
   "metadata": {
    "collapsed": false,
    "scrolled": false
   },
   "outputs": [
    {
     "name": "stdout",
     "output_type": "stream",
     "text": [
      "CPU times: user 7 µs, sys: 1 µs, total: 8 µs\n",
      "Wall time: 14.1 µs\n"
     ]
    }
   ],
   "source": [
    "# %%time\n",
    "# param_test_1 = { 'min_child_weight': [1, 3, 5] }\n",
    "\n",
    "# gsearch, pred = tune_xgb(param_test_1, n_trees = 150)\n",
    "# make_submission_gridsearch(gsearch, pred)"
   ]
  },
  {
   "cell_type": "markdown",
   "metadata": {},
   "source": [
    "## `max_depth`\n",
    "\n",
    "`[default=6]`\n",
    "* The maximum depth of a tree, same as GBM.\n",
    "* Used to control over-fitting as higher depth will allow model to learn relations very specific to a particular sample.\n",
    "* Should be tuned using CV.\n",
    "* Typical values: 3-10\n",
    "\n",
    "```python\n",
    "[mean: 0.95449, std: 0.00880, params: {'max_depth': 8}, mean: 0.95939, std: 0.00803, params: {'max_depth': 9}, mean: 0.96333, std: 0.00698, params: {'max_depth': 10}]\n",
    "{'max_depth': 10}\n",
    "0.963330452626\n",
    "CPU times: user 2h 2min 27s, sys: 9.29 s, total: 2h 2min 36s\n",
    "Wall time: 35min 52s\n",
    "```"
   ]
  },
  {
   "cell_type": "code",
   "execution_count": 10,
   "metadata": {
    "collapsed": true
   },
   "outputs": [],
   "source": [
    "# %%time\n",
    "# param_test_max_depth = { 'max_depth': [8, 9, 10] }\n",
    "\n",
    "# gsearch, pred = tune_xgb(param_test_max_depth, n_trees = 150)\n",
    "# make_submission_gridsearch(gsearch, pred)"
   ]
  },
  {
   "cell_type": "markdown",
   "metadata": {},
   "source": [
    "## `gamma` \n",
    "\n",
    "`[default=0]`\n",
    "* A node is split only when the resulting split gives a positive reduction in the loss function. Gamma specifies the minimum loss reduction required to make a split.\n",
    "* Makes the algorithm conservative. The values can vary depending on the loss function and should be tuned."
   ]
  },
  {
   "cell_type": "code",
   "execution_count": 14,
   "metadata": {
    "collapsed": false
   },
   "outputs": [
    {
     "name": "stdout",
     "output_type": "stream",
     "text": [
      "CPU times: user 9 µs, sys: 3 µs, total: 12 µs\n",
      "Wall time: 32.9 µs\n"
     ]
    }
   ],
   "source": [
    "# %%time\n",
    "# param_test_gamma = { 'gamma': [0, 0.1, 0.3] }\n",
    "\n",
    "# gsearch, pred = tune_xgb(param_test_gamma, n_trees = 200)\n",
    "# make_submission_gridsearch(gsearch, pred)"
   ]
  },
  {
   "cell_type": "markdown",
   "metadata": {},
   "source": [
    "## `subsample` \n",
    "\n",
    "`[default=1]`\n",
    "* Same as the subsample of GBM. Denotes the fraction of observations to be randomly samples for each tree.\n",
    "* Lower values make the algorithm more conservative and prevents overfitting but too small values might lead to under-fitting.\n",
    "* Typical values: 0.5-1\n",
    "\n",
    "```python\n",
    "[mean: 0.91839, std: 0.00824, params: {'subsample': 0.5}, mean: 0.91845, std: 0.00792, params: {'subsample': 0.75}, mean: 0.91801, std: 0.00807, params: {'subsample': 1.0}]\n",
    "{'subsample': 0.75}\n",
    "0.918446100422\n",
    "CPU times: user 56min 17s, sys: 7.14 s, total: 56min 24s\n",
    "Wall time: 19min 26s```"
   ]
  },
  {
   "cell_type": "code",
   "execution_count": 15,
   "metadata": {
    "collapsed": false
   },
   "outputs": [
    {
     "name": "stdout",
     "output_type": "stream",
     "text": [
      "CPU times: user 6 µs, sys: 1e+03 ns, total: 7 µs\n",
      "Wall time: 12.2 µs\n"
     ]
    }
   ],
   "source": [
    "# %%time\n",
    "# param_test_subsample = { 'subsample': [0.5, 0.75, 1.0] }\n",
    "\n",
    "# gsearch, pred = tune_xgb(param_test_subsample, n_trees = 200)\n",
    "# make_submission_gridsearch(gsearch, pred)"
   ]
  },
  {
   "cell_type": "markdown",
   "metadata": {},
   "source": [
    "## `subsample * max_depth` \n",
    "\n",
    "```python\n",
    "[mean: -0.00118, std: 0.00045, params: {'subsample': 0.5, 'max_depth': 8}, mean: -0.00120, std: 0.00048, params: {'subsample': 0.75, 'max_depth': 8}, mean: -0.00121, std: 0.00047, params: {'subsample': 1.0, 'max_depth': 8}, mean: -0.00106, std: 0.00041, params: {'subsample': 0.5, 'max_depth': 9}, mean: -0.00106, std: 0.00042, params: {'subsample': 0.75, 'max_depth': 9}, mean: -0.00107, std: 0.00042, params: {'subsample': 1.0, 'max_depth': 9}, mean: -0.00098, std: 0.00040, params: {'subsample': 0.5, 'max_depth': 10}, mean: -0.00099, std: 0.00038, params: {'subsample': 0.75, 'max_depth': 10}, mean: -0.00098, std: 0.00037, params: {'subsample': 1.0, 'max_depth': 10}]\n",
    "{'subsample': 1.0, 'max_depth': 10}\n",
    "-0.000976894278568\n",
    "CPU times: user 8h 20min 10s, sys: 48.7 s, total: 8h 20min 58s\n",
    "Wall time: 2h 39min 30s\n",
    "```"
   ]
  },
  {
   "cell_type": "code",
   "execution_count": 16,
   "metadata": {
    "collapsed": false,
    "scrolled": true
   },
   "outputs": [
    {
     "name": "stdout",
     "output_type": "stream",
     "text": [
      "CPU times: user 8 µs, sys: 2 µs, total: 10 µs\n",
      "Wall time: 15 µs\n"
     ]
    }
   ],
   "source": [
    "# %%time\n",
    "# param_test = { 'max_depth': [8, 9, 10], 'subsample': [0.5, 0.75, 1.0] }\n",
    "\n",
    "# gsearch, pred = tune_xgb(param_test, n_trees = 200)\n",
    "# make_submission_gridsearch(gsearch, pred)"
   ]
  },
  {
   "cell_type": "markdown",
   "metadata": {},
   "source": [
    "## `eta`  / `learning_rate`\n",
    "\n",
    "`[default=0.3]`\n",
    "\n",
    "* Analogous to learning rate in GBM\n",
    "* Makes the model more robust by shrinking the weights on each step\n",
    "* Typical final values to be used: 0.01-0.2\n",
    "\n",
    "```python\n",
    "[mean: -0.00148, std: 0.00024, params: {'learning_rate': 0.01, 'max_depth': 10}, mean: -0.00109, std: 0.00025, params: {'learning_rate': 0.2, 'max_depth': 10}, mean: -0.00114, std: 0.00029, params: {'learning_rate': 0.3, 'max_depth': 10}]\n",
    "{'learning_rate': 0.2, 'max_depth': 10}\n",
    "-0.00108544710169\n",
    "```"
   ]
  },
  {
   "cell_type": "code",
   "execution_count": 17,
   "metadata": {
    "collapsed": false
   },
   "outputs": [
    {
     "name": "stdout",
     "output_type": "stream",
     "text": [
      "CPU times: user 3 µs, sys: 0 ns, total: 3 µs\n",
      "Wall time: 7.87 µs\n"
     ]
    }
   ],
   "source": [
    "# %%time\n",
    "# param_test_lr = { 'learning_rate': [0.01, 0.2, 0.3], 'max_depth': [10] }\n",
    "\n",
    "# gsearch, pred = tune_xgb(param_test_lr, n_trees = 1000)\n",
    "# make_submission_gridsearch(gsearch, pred)"
   ]
  },
  {
   "cell_type": "markdown",
   "metadata": {},
   "source": [
    "## `colsample_bytree`\n",
    "\n",
    "`[default=1]`\n",
    "\n",
    "* Similar to `max_features` in GBM. Denotes the fraction of columns to be randomly samples for each tree.\n",
    "* Typical values: 0.5-1\n",
    "\n",
    "```python\n",
    "[mean: 0.95511, std: 0.00455, params: {'max_depth': 10, 'colsample_bytree': 0.5}, mean: 0.95720, std: 0.00882, params: {'max_depth': 10, 'colsample_bytree': 0.75}, mean: 0.95638, std: 0.01238, params: {'max_depth': 10, 'colsample_bytree': 1}]\n",
    "{'max_depth': 10, 'colsample_bytree': 0.75}\n",
    "0.957203107604\n",
    "CPU times: user 54min 41s, sys: 49 s, total: 55min 30s\n",
    "Wall time: 57min 30s\n",
    "```"
   ]
  },
  {
   "cell_type": "code",
   "execution_count": 21,
   "metadata": {
    "collapsed": false,
    "scrolled": true
   },
   "outputs": [
    {
     "name": "stdout",
     "output_type": "stream",
     "text": [
      "Fitting 3 folds for each of 3 candidates, totalling 9 fits\n",
      "[CV] max_depth=10, colsample_bytree=0.5 ..............................\n",
      "[CV] ..... max_depth=10, colsample_bytree=0.5, score=0.951584 - 4.4min\n",
      "[CV] max_depth=10, colsample_bytree=0.5 ..............................\n",
      "[CV] ..... max_depth=10, colsample_bytree=0.5, score=0.961536 - 4.3min\n",
      "[CV] max_depth=10, colsample_bytree=0.5 ..............................\n",
      "[CV] ..... max_depth=10, colsample_bytree=0.5, score=0.952211 - 4.4min\n",
      "[CV] max_depth=10, colsample_bytree=0.75 .............................\n",
      "[CV] .... max_depth=10, colsample_bytree=0.75, score=0.945259 - 5.7min\n",
      "[CV] max_depth=10, colsample_bytree=0.75 .............................\n",
      "[CV] .... max_depth=10, colsample_bytree=0.75, score=0.966289 - 5.4min\n",
      "[CV] max_depth=10, colsample_bytree=0.75 .............................\n",
      "[CV] .... max_depth=10, colsample_bytree=0.75, score=0.960061 - 4.9min\n",
      "[CV] max_depth=10, colsample_bytree=1 ................................\n",
      "[CV] ....... max_depth=10, colsample_bytree=1, score=0.939478 - 6.5min\n",
      "[CV] max_depth=10, colsample_bytree=1 ................................\n",
      "[CV] ....... max_depth=10, colsample_bytree=1, score=0.968797 - 6.4min\n",
      "[CV] max_depth=10, colsample_bytree=1 ................................\n",
      "[CV] ....... max_depth=10, colsample_bytree=1, score=0.960857 - 6.6min\n"
     ]
    },
    {
     "name": "stderr",
     "output_type": "stream",
     "text": [
      "[Parallel(n_jobs=1)]: Done   9 out of   9 | elapsed: 48.6min finished\n"
     ]
    },
    {
     "name": "stdout",
     "output_type": "stream",
     "text": [
      "[mean: 0.95511, std: 0.00455, params: {'max_depth': 10, 'colsample_bytree': 0.5}, mean: 0.95720, std: 0.00882, params: {'max_depth': 10, 'colsample_bytree': 0.75}, mean: 0.95638, std: 0.01238, params: {'max_depth': 10, 'colsample_bytree': 1}]\n",
      "{'max_depth': 10, 'colsample_bytree': 0.75}\n",
      "0.957203107604\n",
      "CPU times: user 54min 41s, sys: 49 s, total: 55min 30s\n",
      "Wall time: 57min 30s\n"
     ]
    }
   ],
   "source": [
    "# %%time\n",
    "# param_test_cs = { 'colsample_bytree': [0.5, 0.75, 1], 'max_depth': [10] }\n",
    "\n",
    "# gsearch, pred = tune_xgb(param_test_cs, n_trees = 200)\n",
    "# make_submission_gridsearch(gsearch, pred)"
   ]
  },
  {
   "cell_type": "markdown",
   "metadata": {},
   "source": [
    "```python\n",
    "[mean: 0.95482, std: 0.00912, params: {'learning_rate': 0.1, 'colsample_bytree': 0.8, 'max_depth': 10}, mean: 0.95957, std: 0.00996, params: {'learning_rate': 0.2, 'colsample_bytree': 0.8, 'max_depth': 10}, mean: 0.95623, std: 0.01258, params: {'learning_rate': 0.1, 'colsample_bytree': 1, 'max_depth': 10}, mean: 0.95941, std: 0.01505, params: {'learning_rate': 0.2, 'colsample_bytree': 1, 'max_depth': 10}]\n",
    "{'learning_rate': 0.2, 'colsample_bytree': 0.8, 'max_depth': 10}```"
   ]
  },
  {
   "cell_type": "code",
   "execution_count": null,
   "metadata": {
    "collapsed": true
   },
   "outputs": [],
   "source": [
    "# %%time\n",
    "# param_test_cs = { 'colsample_bytree': [0.8, 1], 'max_depth': [10],  'learning_rate': [0.1, 0.2] }\n",
    "\n",
    "# gsearch, pred = tune_xgb(param_test_cs, n_trees = 200)\n",
    "# make_submission_gridsearch(gsearch, pred)"
   ]
  }
 ],
 "metadata": {
  "kernelspec": {
   "display_name": "Python 2",
   "language": "python",
   "name": "python2"
  },
  "language_info": {
   "codemirror_mode": {
    "name": "ipython",
    "version": 3
   },
   "file_extension": ".py",
   "mimetype": "text/x-python",
   "name": "python",
   "nbconvert_exporter": "python",
   "pygments_lexer": "ipython3",
   "version": "3.4.3"
  }
 },
 "nbformat": 4,
 "nbformat_minor": 0
}
