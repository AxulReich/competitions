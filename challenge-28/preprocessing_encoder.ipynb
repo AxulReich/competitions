{
 "cells": [
  {
   "cell_type": "code",
   "execution_count": 3,
   "metadata": {
    "collapsed": false
   },
   "outputs": [],
   "source": [
    "# %run preprocessing.ipynb\n",
    "\n",
    "import pandas as pd\n",
    "data_folder = 'data'\n",
    "\n",
    "X = pd.read_csv('/'.join([data_folder, \"X.csv\"]),\n",
    "                     low_memory = False)\n",
    "\n",
    "X_test = pd.read_csv('/'.join([data_folder, \"X_test.csv\"]),\n",
    "                     low_memory = False)\n",
    "\n",
    "df = pd.concat([X, X_test], axis=0)"
   ]
  },
  {
   "cell_type": "code",
   "execution_count": 5,
   "metadata": {
    "collapsed": false
   },
   "outputs": [
    {
     "name": "stdout",
     "output_type": "stream",
     "text": [
      "['est_id', 'est_name', 'department', 'field_of_activity', 'age']\n",
      "['est_id', 'est_name', 'department', 'field_of_activity', 'age', 'stays_long_term', 'stays_total', 'year']\n"
     ]
    }
   ],
   "source": [
    "cat_variables = [i for i in df.columns if df[i].dtype == 'O']\n",
    "print(cat_variables)\n",
    "\n",
    "from sklearn.preprocessing import LabelEncoder\n",
    "\n",
    "encods = [LabelEncoder() for col in cat_variables]\n",
    "for i, col in enumerate(cat_variables):\n",
    "    df[col] = encods[i].fit_transform(df[col].astype(str))\n",
    "\n",
    "# encods = [LabelEncoder() for col in cat_variables]\n",
    "\n",
    "# for i, col in enumerate(cat_variables):\n",
    "#     X_test[col] = encods[i].fit_transform(X_test[col].astype(str))\n",
    "\n",
    "num_variables = [i for i in df.columns if df[i].dtype != 'O']\n",
    "print(num_variables)\n",
    "\n",
    "df.fillna(0, inplace=True)\n",
    "\n",
    "X_encoded = df[:1879842]\n",
    "X_test_encoded = df[1879842:]"
   ]
  },
  {
   "cell_type": "code",
   "execution_count": 6,
   "metadata": {
    "collapsed": false
   },
   "outputs": [
    {
     "name": "stdout",
     "output_type": "stream",
     "text": [
      "(1879842, 8) (1879842, 8)\n",
      "(664524, 8) (664524, 8)\n",
      "(2544366, 8)\n"
     ]
    }
   ],
   "source": [
    "print(X.shape, X_encoded.shape)\n",
    "print(X_test.shape, X_test_encoded.shape)\n",
    "print(df.shape)\n",
    "\n",
    "# (1879842, 8)\n",
    "# (664524, 8)\n",
    "# (2544366, 8)"
   ]
  },
  {
   "cell_type": "code",
   "execution_count": 7,
   "metadata": {
    "collapsed": true
   },
   "outputs": [],
   "source": [
    "X_encoded.to_csv('/'.join([data_folder, \"X_encoded.csv\"]), index = False)\n",
    "X_test_encoded.to_csv('/'.join([data_folder, \"X_test_encoded.csv\"]), index = False)"
   ]
  },
  {
   "cell_type": "code",
   "execution_count": null,
   "metadata": {
    "collapsed": true
   },
   "outputs": [],
   "source": []
  }
 ],
 "metadata": {
  "kernelspec": {
   "display_name": "Python 3",
   "language": "python",
   "name": "python3"
  },
  "language_info": {
   "codemirror_mode": {
    "name": "ipython",
    "version": 3
   },
   "file_extension": ".py",
   "mimetype": "text/x-python",
   "name": "python",
   "nbconvert_exporter": "python",
   "pygments_lexer": "ipython3",
   "version": "3.5.2"
  }
 },
 "nbformat": 4,
 "nbformat_minor": 0
}
