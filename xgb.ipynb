{
 "cells": [
  {
   "cell_type": "code",
   "execution_count": 1,
   "metadata": {
    "collapsed": false
   },
   "outputs": [],
   "source": [
    "import pandas as pd\n",
    "import numpy as np\n",
    "\n",
    "import matplotlib.pyplot as plt\n",
    "import seaborn as sns\n",
    "%matplotlib inline\n",
    "\n",
    "import xgboost as xgb\n",
    "\n",
    "from datetime import datetime\n",
    "\n",
    "from sklearn.preprocessing import LabelEncoder"
   ]
  },
  {
   "cell_type": "markdown",
   "metadata": {},
   "source": [
    "-----\n",
    "## Preprocessing"
   ]
  },
  {
   "cell_type": "code",
   "execution_count": 2,
   "metadata": {
    "collapsed": false
   },
   "outputs": [
    {
     "name": "stdout",
     "output_type": "stream",
     "text": [
      "(300000, 32) (30000, 32)\n"
     ]
    }
   ],
   "source": [
    "train = pd.read_csv(\"data/ech_apprentissage.csv\", sep = ';', index_col = 'id', low_memory = False)\n",
    "X = train.drop('prime_tot_ttc', axis = 1)\n",
    "X_test = pd.read_csv('data/ech_test.csv', sep = ';', index_col = 'id', low_memory = False)\n",
    "y = train.prime_tot_ttc\n",
    "\n",
    "df = pd.concat([X, X_test], axis=0)\n",
    "print(X.shape, X_test.shape)\n",
    "# df.dtypes\n",
    "\n",
    "# vars_to_drop = ['var1', 'var3', 'var11', 'var14', 'codepostal']\n",
    "# vars_to_drop = ['var1', 'var3', 'var11', 'var14', 'codepostal', 'annee_naissance'] # bad idea: +0.034%\n",
    "vars_to_drop = ['var1', 'var3', 'var11', 'var14', 'codepostal', 'var12'] \n",
    "# vars_to_drop = ['var1', 'var3', 'var11', 'codepostal'] # bad idea: +0.8%\n",
    "# vars_to_drop = ['var1', 'var11', 'codepostal'] # bad idea: +1.06%\n",
    "df.drop(vars_to_drop, axis = 1, inplace=True)"
   ]
  },
  {
   "cell_type": "code",
   "execution_count": 3,
   "metadata": {
    "collapsed": false
   },
   "outputs": [],
   "source": [
    "df.replace('NR', 0, inplace=True)"
   ]
  },
  {
   "cell_type": "code",
   "execution_count": 4,
   "metadata": {
    "collapsed": false
   },
   "outputs": [],
   "source": [
    "df.var6.replace('N', 0, inplace=True)"
   ]
  },
  {
   "cell_type": "code",
   "execution_count": 5,
   "metadata": {
    "collapsed": false
   },
   "outputs": [
    {
     "name": "stdout",
     "output_type": "stream",
     "text": [
      "['marque', 'energie_veh', 'profession', 'var6', 'var7', 'var8', 'var16']\n"
     ]
    }
   ],
   "source": [
    "cat_variables = [i for i in df.columns if df[i].dtype == 'O']\n",
    "print(cat_variables)"
   ]
  },
  {
   "cell_type": "code",
   "execution_count": 6,
   "metadata": {
    "collapsed": true
   },
   "outputs": [],
   "source": [
    "encods = [LabelEncoder() for col in cat_variables]\n",
    "for i, col in enumerate(cat_variables):\n",
    "    df[col] = encods[i].fit_transform(df[col].astype(str))"
   ]
  },
  {
   "cell_type": "code",
   "execution_count": 7,
   "metadata": {
    "collapsed": true
   },
   "outputs": [],
   "source": [
    "df.fillna(0, inplace=True)\n",
    "\n",
    "X = df[:300000]\n",
    "X_test = df[300000:]"
   ]
  },
  {
   "cell_type": "markdown",
   "metadata": {},
   "source": [
    "------\n",
    "## XGBoost"
   ]
  },
  {
   "cell_type": "code",
   "execution_count": 8,
   "metadata": {
    "collapsed": true
   },
   "outputs": [],
   "source": [
    "# человеческая метрика\n",
    "def mape2(preds, dtrain):\n",
    "    y_true = dtrain.get_label()\n",
    "    return 'mape2', np.mean(np.abs((y_true - preds) / y_true))"
   ]
  },
  {
   "cell_type": "code",
   "execution_count": 9,
   "metadata": {
    "collapsed": false
   },
   "outputs": [],
   "source": [
    "dtrain = xgb.DMatrix(X, y, missing=0.0)\n",
    "dtest = xgb.DMatrix(X_test)"
   ]
  },
  {
   "cell_type": "code",
   "execution_count": 12,
   "metadata": {
    "collapsed": false,
    "scrolled": false
   },
   "outputs": [
    {
     "name": "stderr",
     "output_type": "stream",
     "text": [
      "Will train until train error hasn't decreased in 25 rounds.\n",
      "[0]\ttrain-mape2:0.691577\n",
      "[1]\ttrain-mape2:0.476839\n",
      "[2]\ttrain-mape2:0.327271\n",
      "[3]\ttrain-mape2:0.227430\n",
      "[4]\ttrain-mape2:0.167077\n",
      "[5]\ttrain-mape2:0.134763\n",
      "[6]\ttrain-mape2:0.118724\n",
      "[7]\ttrain-mape2:0.111318\n",
      "[8]\ttrain-mape2:0.106217\n",
      "[9]\ttrain-mape2:0.104183\n",
      "[10]\ttrain-mape2:0.101883\n",
      "[11]\ttrain-mape2:0.100529\n",
      "[12]\ttrain-mape2:0.099663\n",
      "[13]\ttrain-mape2:0.098825\n",
      "[14]\ttrain-mape2:0.098449\n",
      "[15]\ttrain-mape2:0.096692\n",
      "[16]\ttrain-mape2:0.096290\n",
      "[17]\ttrain-mape2:0.095178\n",
      "[18]\ttrain-mape2:0.094897\n",
      "[19]\ttrain-mape2:0.094357\n",
      "[20]\ttrain-mape2:0.093958\n",
      "[21]\ttrain-mape2:0.093518\n",
      "[22]\ttrain-mape2:0.093180\n",
      "[23]\ttrain-mape2:0.093006\n",
      "[24]\ttrain-mape2:0.092732\n",
      "[25]\ttrain-mape2:0.092516\n",
      "[26]\ttrain-mape2:0.092424\n",
      "[27]\ttrain-mape2:0.092141\n",
      "[28]\ttrain-mape2:0.091736\n",
      "[29]\ttrain-mape2:0.091574\n",
      "[30]\ttrain-mape2:0.091504\n",
      "[31]\ttrain-mape2:0.091348\n",
      "[32]\ttrain-mape2:0.091215\n",
      "[33]\ttrain-mape2:0.091068\n",
      "[34]\ttrain-mape2:0.090979\n",
      "[35]\ttrain-mape2:0.090864\n",
      "[36]\ttrain-mape2:0.090627\n",
      "[37]\ttrain-mape2:0.090432\n",
      "[38]\ttrain-mape2:0.090080\n",
      "[39]\ttrain-mape2:0.089993\n",
      "[40]\ttrain-mape2:0.089893\n",
      "[41]\ttrain-mape2:0.089725\n",
      "[42]\ttrain-mape2:0.089650\n",
      "[43]\ttrain-mape2:0.089489\n",
      "[44]\ttrain-mape2:0.089410\n",
      "[45]\ttrain-mape2:0.089280\n",
      "[46]\ttrain-mape2:0.089138\n",
      "[47]\ttrain-mape2:0.089081\n",
      "[48]\ttrain-mape2:0.088983\n",
      "[49]\ttrain-mape2:0.088835\n",
      "[50]\ttrain-mape2:0.088721\n",
      "[51]\ttrain-mape2:0.088672\n",
      "[52]\ttrain-mape2:0.088594\n",
      "[53]\ttrain-mape2:0.088462\n",
      "[54]\ttrain-mape2:0.088381\n",
      "[55]\ttrain-mape2:0.088305\n",
      "[56]\ttrain-mape2:0.088198\n",
      "[57]\ttrain-mape2:0.088132\n",
      "[58]\ttrain-mape2:0.088011\n",
      "[59]\ttrain-mape2:0.087866\n",
      "[60]\ttrain-mape2:0.087838\n",
      "[61]\ttrain-mape2:0.087794\n",
      "[62]\ttrain-mape2:0.087605\n",
      "[63]\ttrain-mape2:0.087523\n",
      "[64]\ttrain-mape2:0.087452\n",
      "[65]\ttrain-mape2:0.087243\n",
      "[66]\ttrain-mape2:0.087147\n",
      "[67]\ttrain-mape2:0.087088\n",
      "[68]\ttrain-mape2:0.087032\n",
      "[69]\ttrain-mape2:0.086970\n",
      "[70]\ttrain-mape2:0.086884\n",
      "[71]\ttrain-mape2:0.086857\n",
      "[72]\ttrain-mape2:0.086810\n",
      "[73]\ttrain-mape2:0.086774\n",
      "[74]\ttrain-mape2:0.086751\n",
      "[75]\ttrain-mape2:0.086685\n",
      "[76]\ttrain-mape2:0.086636\n",
      "[77]\ttrain-mape2:0.086573\n",
      "[78]\ttrain-mape2:0.086510\n",
      "[79]\ttrain-mape2:0.086457\n",
      "[80]\ttrain-mape2:0.086428\n",
      "[81]\ttrain-mape2:0.086332\n",
      "[82]\ttrain-mape2:0.086290\n",
      "[83]\ttrain-mape2:0.086251\n",
      "[84]\ttrain-mape2:0.086182\n",
      "[85]\ttrain-mape2:0.086114\n",
      "[86]\ttrain-mape2:0.086060\n",
      "[87]\ttrain-mape2:0.085954\n",
      "[88]\ttrain-mape2:0.085838\n",
      "[89]\ttrain-mape2:0.085782\n",
      "[90]\ttrain-mape2:0.085750\n",
      "[91]\ttrain-mape2:0.085683\n",
      "[92]\ttrain-mape2:0.085634\n",
      "[93]\ttrain-mape2:0.085537\n",
      "[94]\ttrain-mape2:0.085499\n",
      "[95]\ttrain-mape2:0.085415\n",
      "[96]\ttrain-mape2:0.085308\n",
      "[97]\ttrain-mape2:0.085228\n",
      "[98]\ttrain-mape2:0.085191\n",
      "[99]\ttrain-mape2:0.085127\n",
      "[100]\ttrain-mape2:0.085064\n",
      "[101]\ttrain-mape2:0.084984\n",
      "[102]\ttrain-mape2:0.084924\n",
      "[103]\ttrain-mape2:0.084853\n",
      "[104]\ttrain-mape2:0.084811\n",
      "[105]\ttrain-mape2:0.084784\n",
      "[106]\ttrain-mape2:0.084724\n",
      "[107]\ttrain-mape2:0.084660\n",
      "[108]\ttrain-mape2:0.084629\n",
      "[109]\ttrain-mape2:0.084600\n",
      "[110]\ttrain-mape2:0.084573\n",
      "[111]\ttrain-mape2:0.084525\n",
      "[112]\ttrain-mape2:0.084483\n",
      "[113]\ttrain-mape2:0.084438\n",
      "[114]\ttrain-mape2:0.084378\n",
      "[115]\ttrain-mape2:0.084352\n",
      "[116]\ttrain-mape2:0.084301\n",
      "[117]\ttrain-mape2:0.084278\n",
      "[118]\ttrain-mape2:0.084275\n",
      "[119]\ttrain-mape2:0.084205\n",
      "[120]\ttrain-mape2:0.084167\n",
      "[121]\ttrain-mape2:0.084139\n",
      "[122]\ttrain-mape2:0.084081\n",
      "[123]\ttrain-mape2:0.084024\n",
      "[124]\ttrain-mape2:0.084009\n",
      "[125]\ttrain-mape2:0.083963\n",
      "[126]\ttrain-mape2:0.083908\n",
      "[127]\ttrain-mape2:0.083881\n",
      "[128]\ttrain-mape2:0.083844\n",
      "[129]\ttrain-mape2:0.083816\n",
      "[130]\ttrain-mape2:0.083761\n",
      "[131]\ttrain-mape2:0.083716\n",
      "[132]\ttrain-mape2:0.083714\n",
      "[133]\ttrain-mape2:0.083661\n",
      "[134]\ttrain-mape2:0.083612\n",
      "[135]\ttrain-mape2:0.083550\n",
      "[136]\ttrain-mape2:0.083518\n",
      "[137]\ttrain-mape2:0.083489\n",
      "[138]\ttrain-mape2:0.083457\n",
      "[139]\ttrain-mape2:0.083361\n",
      "[140]\ttrain-mape2:0.083317\n",
      "[141]\ttrain-mape2:0.083271\n",
      "[142]\ttrain-mape2:0.083230\n",
      "[143]\ttrain-mape2:0.083218\n",
      "[144]\ttrain-mape2:0.083178\n",
      "[145]\ttrain-mape2:0.083111\n",
      "[146]\ttrain-mape2:0.083087\n",
      "[147]\ttrain-mape2:0.083055\n",
      "[148]\ttrain-mape2:0.083002\n",
      "[149]\ttrain-mape2:0.082957\n",
      "[150]\ttrain-mape2:0.082911\n",
      "[151]\ttrain-mape2:0.082860\n",
      "[152]\ttrain-mape2:0.082834\n",
      "[153]\ttrain-mape2:0.082792\n",
      "[154]\ttrain-mape2:0.082771\n",
      "[155]\ttrain-mape2:0.082724\n",
      "[156]\ttrain-mape2:0.082671\n",
      "[157]\ttrain-mape2:0.082609\n",
      "[158]\ttrain-mape2:0.082573\n",
      "[159]\ttrain-mape2:0.082520\n",
      "[160]\ttrain-mape2:0.082474\n",
      "[161]\ttrain-mape2:0.082432\n",
      "[162]\ttrain-mape2:0.082408\n",
      "[163]\ttrain-mape2:0.082354\n",
      "[164]\ttrain-mape2:0.082309\n",
      "[165]\ttrain-mape2:0.082258\n",
      "[166]\ttrain-mape2:0.082219\n",
      "[167]\ttrain-mape2:0.082187\n",
      "[168]\ttrain-mape2:0.082149\n",
      "[169]\ttrain-mape2:0.082102\n",
      "[170]\ttrain-mape2:0.082065\n",
      "[171]\ttrain-mape2:0.082034\n",
      "[172]\ttrain-mape2:0.081956\n",
      "[173]\ttrain-mape2:0.081907\n",
      "[174]\ttrain-mape2:0.081875\n",
      "[175]\ttrain-mape2:0.081823\n",
      "[176]\ttrain-mape2:0.081801\n",
      "[177]\ttrain-mape2:0.081737\n",
      "[178]\ttrain-mape2:0.081699\n",
      "[179]\ttrain-mape2:0.081675\n",
      "[180]\ttrain-mape2:0.081667\n",
      "[181]\ttrain-mape2:0.081619\n",
      "[182]\ttrain-mape2:0.081560\n",
      "[183]\ttrain-mape2:0.081521\n",
      "[184]\ttrain-mape2:0.081479\n",
      "[185]\ttrain-mape2:0.081443\n",
      "[186]\ttrain-mape2:0.081407\n",
      "[187]\ttrain-mape2:0.081313\n",
      "[188]\ttrain-mape2:0.081272\n",
      "[189]\ttrain-mape2:0.081238\n",
      "[190]\ttrain-mape2:0.081189\n",
      "[191]\ttrain-mape2:0.081169\n",
      "[192]\ttrain-mape2:0.081141\n",
      "[193]\ttrain-mape2:0.081115\n",
      "[194]\ttrain-mape2:0.081083\n",
      "[195]\ttrain-mape2:0.081039\n",
      "[196]\ttrain-mape2:0.081013\n",
      "[197]\ttrain-mape2:0.080979\n",
      "[198]\ttrain-mape2:0.080928\n",
      "[199]\ttrain-mape2:0.080901\n",
      "[200]\ttrain-mape2:0.080879\n",
      "[201]\ttrain-mape2:0.080839\n",
      "[202]\ttrain-mape2:0.080796\n",
      "[203]\ttrain-mape2:0.080757\n",
      "[204]\ttrain-mape2:0.080731\n",
      "[205]\ttrain-mape2:0.080697\n",
      "[206]\ttrain-mape2:0.080685\n",
      "[207]\ttrain-mape2:0.080655\n",
      "[208]\ttrain-mape2:0.080599\n",
      "[209]\ttrain-mape2:0.080565\n",
      "[210]\ttrain-mape2:0.080527\n",
      "[211]\ttrain-mape2:0.080491\n",
      "[212]\ttrain-mape2:0.080448\n",
      "[213]\ttrain-mape2:0.080392\n",
      "[214]\ttrain-mape2:0.080334\n",
      "[215]\ttrain-mape2:0.080286\n",
      "[216]\ttrain-mape2:0.080236\n",
      "[217]\ttrain-mape2:0.080201\n",
      "[218]\ttrain-mape2:0.080142\n",
      "[219]\ttrain-mape2:0.080093\n",
      "[220]\ttrain-mape2:0.080060\n",
      "[221]\ttrain-mape2:0.080029\n",
      "[222]\ttrain-mape2:0.079988\n",
      "[223]\ttrain-mape2:0.079945\n",
      "[224]\ttrain-mape2:0.079900\n",
      "[225]\ttrain-mape2:0.079861\n",
      "[226]\ttrain-mape2:0.079814\n",
      "[227]\ttrain-mape2:0.079808\n",
      "[228]\ttrain-mape2:0.079787\n",
      "[229]\ttrain-mape2:0.079745\n",
      "[230]\ttrain-mape2:0.079699\n",
      "[231]\ttrain-mape2:0.079663\n",
      "[232]\ttrain-mape2:0.079630\n",
      "[233]\ttrain-mape2:0.079582\n",
      "[234]\ttrain-mape2:0.079557\n",
      "[235]\ttrain-mape2:0.079526\n",
      "[236]\ttrain-mape2:0.079487\n",
      "[237]\ttrain-mape2:0.079449\n",
      "[238]\ttrain-mape2:0.079421\n",
      "[239]\ttrain-mape2:0.079379\n",
      "[240]\ttrain-mape2:0.079333\n",
      "[241]\ttrain-mape2:0.079301\n",
      "[242]\ttrain-mape2:0.079267\n",
      "[243]\ttrain-mape2:0.079254\n",
      "[244]\ttrain-mape2:0.079215\n",
      "[245]\ttrain-mape2:0.079173\n",
      "[246]\ttrain-mape2:0.079140\n",
      "[247]\ttrain-mape2:0.079119\n",
      "[248]\ttrain-mape2:0.079080\n",
      "[249]\ttrain-mape2:0.079036\n"
     ]
    }
   ],
   "source": [
    "param = { 'max_depth' : 7 } # -0.12%\n",
    "# num_round = 250 # +0.02%\n",
    "num_round = 100\n",
    "bst = xgb.train(param, dtrain, num_round)\n",
    "\n",
    "pred = bst.predict(dtest)"
   ]
  },
  {
   "cell_type": "code",
   "execution_count": 13,
   "metadata": {
    "collapsed": false
   },
   "outputs": [
    {
     "data": {
      "text/plain": [
       "array([ 313.0140686 ,  220.15553284,  264.82012939, ...,  404.96298218,\n",
       "        365.11065674,  360.31872559], dtype=float32)"
      ]
     },
     "execution_count": 13,
     "metadata": {},
     "output_type": "execute_result"
    }
   ],
   "source": [
    "pred"
   ]
  },
  {
   "cell_type": "code",
   "execution_count": 14,
   "metadata": {
    "collapsed": false
   },
   "outputs": [],
   "source": [
    "pred = pred * 0.99 # multiplying the answers by 0.99 is a nice hack"
   ]
  },
  {
   "cell_type": "code",
   "execution_count": 15,
   "metadata": {
    "collapsed": false
   },
   "outputs": [
    {
     "name": "stdout",
     "output_type": "stream",
     "text": [
      "saving to submissions/xgb_2308_0043.csv...\n"
     ]
    }
   ],
   "source": [
    "filename = 'submissions/xgb_' + datetime.now().strftime(format = '%d%m_%H%M') + '.csv'\n",
    "print('saving to %s...' % filename)\n",
    "pd.DataFrame({'id': X_test.index, 'pred': pred}).to_csv(filename,\n",
    "                                                        index=False,\n",
    "                                                        sep=';')"
   ]
  },
  {
   "cell_type": "code",
   "execution_count": null,
   "metadata": {
    "collapsed": true
   },
   "outputs": [],
   "source": []
  }
 ],
 "metadata": {
  "kernelspec": {
   "display_name": "Python 3",
   "language": "python",
   "name": "python3"
  },
  "language_info": {
   "codemirror_mode": {
    "name": "ipython",
    "version": 3
   },
   "file_extension": ".py",
   "mimetype": "text/x-python",
   "name": "python",
   "nbconvert_exporter": "python",
   "pygments_lexer": "ipython3",
   "version": "3.5.2"
  }
 },
 "nbformat": 4,
 "nbformat_minor": 0
}
