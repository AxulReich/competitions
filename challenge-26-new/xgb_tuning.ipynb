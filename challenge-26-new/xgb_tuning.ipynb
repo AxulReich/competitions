{
 "cells": [
  {
   "cell_type": "code",
   "execution_count": 10,
   "metadata": {
    "collapsed": true
   },
   "outputs": [],
   "source": [
    "import pandas as pd\n",
    "import numpy as np\n",
    "\n",
    "import xgboost as xgb\n",
    "from xgboost.sklearn import XGBRegressor\n",
    "from sklearn import cross_validation, metrics   # Additional scklearn functions\n",
    "from sklearn.grid_search import GridSearchCV # Perforing grid search\n",
    "from sklearn.preprocessing import LabelEncoder\n",
    "\n",
    "import matplotlib.pylab as plt\n",
    "%matplotlib inline\n",
    "from matplotlib.pylab import rcParams\n",
    "rcParams['figure.figsize'] = 12, 4\n",
    "\n",
    "from datetime import datetime"
   ]
  },
  {
   "cell_type": "markdown",
   "metadata": {},
   "source": [
    "-----\n",
    "## Preprocessing"
   ]
  },
  {
   "cell_type": "code",
   "execution_count": 11,
   "metadata": {
    "collapsed": false
   },
   "outputs": [
    {
     "name": "stdout",
     "output_type": "stream",
     "text": [
      "(300000, 32) (30000, 32)\n"
     ]
    }
   ],
   "source": [
    "train = pd.read_csv(\"data/ech_apprentissage.csv\", sep = ';', index_col = 'id', low_memory = False)\n",
    "X = train.drop('prime_tot_ttc', axis = 1)\n",
    "X_test = pd.read_csv('data/ech_test.csv', sep = ';', index_col = 'id', low_memory = False)\n",
    "y = train.prime_tot_ttc\n",
    "\n",
    "df = pd.concat([X, X_test], axis=0)\n",
    "print(X.shape, X_test.shape)\n",
    "# df.dtypes\n",
    "\n",
    "vars_to_drop = ['var1', 'var3', 'var11', 'var14', 'codepostal']\n",
    "# vars_to_drop = ['var1', 'var3', 'var11', 'codepostal'] # bad idea: +0.8%\n",
    "# vars_to_drop = ['var1', 'var11', 'codepostal'] # bad idea: +1.06%\n",
    "df.drop(vars_to_drop, axis = 1, inplace=True)"
   ]
  },
  {
   "cell_type": "code",
   "execution_count": 12,
   "metadata": {
    "collapsed": false
   },
   "outputs": [],
   "source": [
    "df.replace('NR', 0, inplace=True)"
   ]
  },
  {
   "cell_type": "code",
   "execution_count": 13,
   "metadata": {
    "collapsed": false
   },
   "outputs": [],
   "source": [
    "df.var6.replace('N', 0, inplace=True)"
   ]
  },
  {
   "cell_type": "code",
   "execution_count": 14,
   "metadata": {
    "collapsed": false
   },
   "outputs": [
    {
     "name": "stdout",
     "output_type": "stream",
     "text": [
      "['marque', 'energie_veh', 'profession', 'var6', 'var7', 'var8', 'var16']\n"
     ]
    }
   ],
   "source": [
    "cat_variables = [i for i in df.columns if df[i].dtype == 'O']\n",
    "print(cat_variables)"
   ]
  },
  {
   "cell_type": "code",
   "execution_count": 15,
   "metadata": {
    "collapsed": true
   },
   "outputs": [],
   "source": [
    "encods = [LabelEncoder() for col in cat_variables]\n",
    "for i, col in enumerate(cat_variables):\n",
    "    df[col] = encods[i].fit_transform(df[col].astype(str))"
   ]
  },
  {
   "cell_type": "code",
   "execution_count": 16,
   "metadata": {
    "collapsed": true
   },
   "outputs": [],
   "source": [
    "df.fillna(0, inplace=True)\n",
    "\n",
    "X = df[:300000]\n",
    "X_test = df[300000:]"
   ]
  },
  {
   "cell_type": "markdown",
   "metadata": {},
   "source": [
    "------\n",
    "## XGBoost Tuning"
   ]
  },
  {
   "cell_type": "code",
   "execution_count": 17,
   "metadata": {
    "collapsed": true
   },
   "outputs": [],
   "source": [
    "# человеческая метрика\n",
    "def mape2(preds, dtrain):\n",
    "    y_true = dtrain.get_label()\n",
    "    return 'mape2', np.mean(np.abs((y_true - preds) / y_true))"
   ]
  },
  {
   "cell_type": "code",
   "execution_count": 18,
   "metadata": {
    "collapsed": false
   },
   "outputs": [],
   "source": [
    "dtrain = xgb.DMatrix(X, y, missing=0.0)\n",
    "dtest = xgb.DMatrix(X_test)"
   ]
  },
  {
   "cell_type": "code",
   "execution_count": null,
   "metadata": {
    "collapsed": false
   },
   "outputs": [],
   "source": [
    "# param = { }\n",
    "# num_round = 100\n",
    "# bst = xgb.train(param, dtrain, num_round)"
   ]
  },
  {
   "cell_type": "markdown",
   "metadata": {},
   "source": [
    "### `min_child_weight`"
   ]
  },
  {
   "cell_type": "code",
   "execution_count": 19,
   "metadata": {
    "collapsed": true
   },
   "outputs": [],
   "source": [
    "%%time\n",
    "\n",
    "param_test_1 = {\n",
    "#  'max_depth': [3, 5, 7, 9],\n",
    "#  'min_child_weight': [1, 3, 5]\n",
    "     'min_child_weight': [1, 3]\n",
    "}\n",
    "\n",
    "gsearch_1 = GridSearchCV(estimator = XGBRegressor(seed = 27), \n",
    "                         param_grid = param_test_1, \n",
    "#                          scoring = mape2, \n",
    "                         iid = False, \n",
    "                         cv = 5)\n",
    "\n",
    "gsearch_1.fit(X, y)\n",
    "gsearch_1.grid_scores_, gsearch_1.best_params_, gsearch_1.best_score_"
   ]
  },
  {
   "cell_type": "markdown",
   "metadata": {},
   "source": [
    "### `max_depth`\n",
    "\n",
    "`[default=6]`\n",
    "* The maximum depth of a tree, same as GBM.\n",
    "* Used to control over-fitting as higher depth will allow model to learn relations very specific to a particular sample.\n",
    "* Should be tuned using CV.\n",
    "* Typical values: 3-10"
   ]
  },
  {
   "cell_type": "code",
   "execution_count": 35,
   "metadata": {
    "collapsed": false
   },
   "outputs": [
    {
     "name": "stdout",
     "output_type": "stream",
     "text": [
      "CPU times: user 20min 48s, sys: 4.29 s, total: 20min 52s\n",
      "Wall time: 21min\n"
     ]
    }
   ],
   "source": [
    "%%time\n",
    "\n",
    "param_test_2 = { 'max_depth': [6, 9] }\n",
    "\n",
    "gsearch_2 = GridSearchCV(estimator = XGBRegressor(seed = 11), \n",
    "                         param_grid = param_test_2, \n",
    "#                          scoring = mape2, \n",
    "                         iid = False, \n",
    "                         cv = 5)\n",
    "\n",
    "gsearch_2.fit(X, y)\n",
    "# gsearch_2.grid_scores_, gsearch_2.best_params_, gsearch_2.best_score_"
   ]
  },
  {
   "cell_type": "code",
   "execution_count": 36,
   "metadata": {
    "collapsed": false
   },
   "outputs": [
    {
     "name": "stdout",
     "output_type": "stream",
     "text": [
      "[mean: 0.88464, std: 0.00254, params: {'max_depth': 6}, mean: 0.89360, std: 0.00240, params: {'max_depth': 9}]\n",
      "{'max_depth': 9}\n",
      "0.893603987388\n"
     ]
    }
   ],
   "source": [
    "print(gsearch_2.grid_scores_)\n",
    "print(gsearch_2.best_params_)\n",
    "print(gsearch_2.best_score_)\n",
    "# [mean: 0.84584, std: 0.00293, params: {'max_depth': 3}, mean: 0.89360, std: 0.00240, params: {'max_depth': 9}]\n",
    "# {'max_depth': 9}\n",
    "# 0.893603987388"
   ]
  },
  {
   "cell_type": "markdown",
   "metadata": {},
   "source": [
    "### `subsample`\n",
    "\n",
    "`[default=1]`\n",
    "\n",
    "* Same as the subsample of GBM. Denotes the fraction of observations to be randomly samples for each tree.\n",
    "* Lower values make the algorithm more conservative and prevents overfitting but too small values might lead to under-fitting.\n",
    "* Typical values: 0.5-1"
   ]
  },
  {
   "cell_type": "code",
   "execution_count": 28,
   "metadata": {
    "collapsed": false
   },
   "outputs": [
    {
     "name": "stdout",
     "output_type": "stream",
     "text": [
      "[mean: 0.84781, std: 0.00181, params: {'subsample': 0.5}, mean: 0.84681, std: 0.00167, params: {'subsample': 0.8}, mean: 0.84584, std: 0.00293, params: {'subsample': 1}]\n",
      "{'subsample': 0.5}\n",
      "0.847808192227\n",
      "CPU times: user 11min 50s, sys: 4.41 s, total: 11min 54s\n",
      "Wall time: 11min 58s\n"
     ]
    }
   ],
   "source": [
    "%%time\n",
    "\n",
    "param_test_3 = { 'subsample': [0.5, 0.8, 1] }\n",
    "\n",
    "gsearch_3 = GridSearchCV(estimator = XGBRegressor(seed = 11), \n",
    "                         param_grid = param_test_3, \n",
    "#                          scoring = mape2, \n",
    "                         iid = False, \n",
    "                         cv = 5)\n",
    "\n",
    "gsearch_3.fit(X, y)\n",
    "\n",
    "print(gsearch_3.grid_scores_)\n",
    "print(gsearch_3.best_params_)\n",
    "print(gsearch_3.best_score_)"
   ]
  },
  {
   "cell_type": "markdown",
   "metadata": {},
   "source": [
    "------"
   ]
  },
  {
   "cell_type": "code",
   "execution_count": 29,
   "metadata": {
    "collapsed": false
   },
   "outputs": [],
   "source": [
    "param = {'subsample': 0.5, 'max_depth': 9}\n",
    "num_round = 100\n",
    "bst = xgb.train(param, dtrain, num_round)\n",
    "\n",
    "pred = bst.predict(dtest)\n",
    "\n",
    "pred = pred * 0.99 # multiplying the answers by 0.99 is a nice hack"
   ]
  },
  {
   "cell_type": "code",
   "execution_count": 31,
   "metadata": {
    "collapsed": false,
    "scrolled": false
   },
   "outputs": [
    {
     "name": "stdout",
     "output_type": "stream",
     "text": [
      "saving to submissions/xgb_tuning_2008_2112.csv...\n"
     ]
    }
   ],
   "source": [
    "filename = 'submissions/xgb_tuning_' + datetime.now().strftime(format = '%d%m_%H%M') + '.csv'\n",
    "print('saving to %s...' % filename)\n",
    "pd.DataFrame({'id': X_test.index, 'pred': pred}).to_csv(filename,\n",
    "                                                        index=False,\n",
    "                                                        sep=';')"
   ]
  },
  {
   "cell_type": "markdown",
   "metadata": {},
   "source": [
    "------"
   ]
  },
  {
   "cell_type": "markdown",
   "metadata": {},
   "source": [
    "### `learning_rate`"
   ]
  },
  {
   "cell_type": "code",
   "execution_count": 32,
   "metadata": {
    "collapsed": false,
    "scrolled": true
   },
   "outputs": [
    {
     "name": "stdout",
     "output_type": "stream",
     "text": [
      "[mean: 0.84584, std: 0.00293, params: {'learning_rate': 0.1}, mean: 0.86764, std: 0.00225, params: {'learning_rate': 0.2}, mean: 0.80411, std: 0.00186, params: {'learning_rate': 0.05}]\n",
      "{'learning_rate': 0.2}\n",
      "0.867641998714\n",
      "CPU times: user 11min 38s, sys: 4.66 s, total: 11min 43s\n",
      "Wall time: 11min 46s\n"
     ]
    }
   ],
   "source": [
    "%%time\n",
    "\n",
    "param_test = { 'learning_rate': [0.1, 0.2, 0.05] }\n",
    "\n",
    "gsearch = GridSearchCV(estimator = XGBRegressor(seed = 11), \n",
    "                         param_grid = param_test, \n",
    "                         iid = False, \n",
    "                         cv = 5)\n",
    "\n",
    "gsearch.fit(X, y)\n",
    "\n",
    "print(gsearch.grid_scores_)\n",
    "print(gsearch.best_params_)\n",
    "print(gsearch.best_score_)"
   ]
  },
  {
   "cell_type": "code",
   "execution_count": 37,
   "metadata": {
    "collapsed": false,
    "scrolled": true
   },
   "outputs": [
    {
     "name": "stdout",
     "output_type": "stream",
     "text": [
      "[mean: 0.87495, std: 0.00209, params: {'learning_rate': 0.3}]\n",
      "{'learning_rate': 0.3}\n",
      "0.874945101343\n",
      "CPU times: user 4min 30s, sys: 2 s, total: 4min 32s\n",
      "Wall time: 4min 35s\n"
     ]
    }
   ],
   "source": [
    "%%time\n",
    "\n",
    "param_test = { 'learning_rate': [0.3] }\n",
    "\n",
    "gsearch = GridSearchCV(estimator = XGBRegressor(seed = 11), \n",
    "                         param_grid = param_test, \n",
    "                         iid = False, \n",
    "                         cv = 5)\n",
    "\n",
    "gsearch.fit(X, y)\n",
    "\n",
    "print(gsearch.grid_scores_)\n",
    "print(gsearch.best_params_)\n",
    "print(gsearch.best_score_)"
   ]
  },
  {
   "cell_type": "markdown",
   "metadata": {},
   "source": [
    "------"
   ]
  },
  {
   "cell_type": "code",
   "execution_count": 38,
   "metadata": {
    "collapsed": false
   },
   "outputs": [],
   "source": [
    "param = {'subsample': 0.5, 'max_depth': 9, 'learning_rate': 0.3}\n",
    "num_round = 100\n",
    "bst = xgb.train(param, dtrain, num_round)\n",
    "\n",
    "pred = bst.predict(dtest)\n",
    "\n",
    "pred = pred * 0.99 # multiplying the answers by 0.99 is a nice hack"
   ]
  },
  {
   "cell_type": "code",
   "execution_count": 39,
   "metadata": {
    "collapsed": false,
    "scrolled": false
   },
   "outputs": [
    {
     "name": "stdout",
     "output_type": "stream",
     "text": [
      "saving to submissions/xgb_tuning_2008_2240.csv...\n"
     ]
    }
   ],
   "source": [
    "filename = 'submissions/xgb_tuning_' + datetime.now().strftime(format = '%d%m_%H%M') + '.csv'\n",
    "print('saving to %s...' % filename)\n",
    "pd.DataFrame({'id': X_test.index, 'pred': pred}).to_csv(filename,\n",
    "                                                        index=False,\n",
    "                                                        sep=';')"
   ]
  },
  {
   "cell_type": "markdown",
   "metadata": {},
   "source": [
    "------"
   ]
  },
  {
   "cell_type": "code",
   "execution_count": null,
   "metadata": {
    "collapsed": true
   },
   "outputs": [],
   "source": []
  }
 ],
 "metadata": {
  "kernelspec": {
   "display_name": "Python 3",
   "language": "python",
   "name": "python3"
  },
  "language_info": {
   "codemirror_mode": {
    "name": "ipython",
    "version": 3
   },
   "file_extension": ".py",
   "mimetype": "text/x-python",
   "name": "python",
   "nbconvert_exporter": "python",
   "pygments_lexer": "ipython3",
   "version": "3.5.2"
  }
 },
 "nbformat": 4,
 "nbformat_minor": 0
}
