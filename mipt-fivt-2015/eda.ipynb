{
 "cells": [
  {
   "cell_type": "code",
   "execution_count": 1,
   "metadata": {
    "collapsed": true
   },
   "outputs": [],
   "source": [
    "import matplotlib.pyplot as plt\n",
    "%matplotlib inline\n",
    "import seaborn as sns"
   ]
  },
  {
   "cell_type": "code",
   "execution_count": 2,
   "metadata": {
    "collapsed": false
   },
   "outputs": [
    {
     "name": "stdout",
     "output_type": "stream",
     "text": [
      "(14800, 41)\n"
     ]
    }
   ],
   "source": [
    "%run import.ipynb"
   ]
  },
  {
   "cell_type": "markdown",
   "metadata": {},
   "source": [
    "# Exploring the data"
   ]
  },
  {
   "cell_type": "markdown",
   "metadata": {},
   "source": [
    "## Labels"
   ]
  },
  {
   "cell_type": "code",
   "execution_count": 3,
   "metadata": {
    "collapsed": false,
    "scrolled": true
   },
   "outputs": [
    {
     "data": {
      "text/plain": [
       "50000+    5000\n",
       "-50000    5000\n",
       "Name: CLASS, dtype: int64"
      ]
     },
     "execution_count": 3,
     "metadata": {},
     "output_type": "execute_result"
    }
   ],
   "source": [
    "y.value_counts()"
   ]
  },
  {
   "cell_type": "markdown",
   "metadata": {},
   "source": [
    "## Features"
   ]
  },
  {
   "cell_type": "code",
   "execution_count": 4,
   "metadata": {
    "collapsed": false
   },
   "outputs": [
    {
     "data": {
      "text/plain": [
       "AAGE          int64\n",
       "ACLSWKR      object\n",
       "ADTIND        int64\n",
       "ADTOCC        int64\n",
       "AHGA         object\n",
       "AHRSPAY       int64\n",
       "AHSCOL       object\n",
       "AMARITL      object\n",
       "AMJIND       object\n",
       "AMJOCC       object\n",
       "ARACE        object\n",
       "AREORGN      object\n",
       "ASEX         object\n",
       "AUNMEM       object\n",
       "AUNTYPE      object\n",
       "AWKSTAT      object\n",
       "CAPGAIN       int64\n",
       "CAPLOSS       int64\n",
       "DIVVAL        int64\n",
       "FILESTAT     object\n",
       "GRINREG      object\n",
       "GRINST       object\n",
       "HHDFMX       object\n",
       "HHDREL       object\n",
       "MARSUPWT    float64\n",
       "MIGMTR1      object\n",
       "MIGMTR3      object\n",
       "MIGMTR4      object\n",
       "MIGSAME      object\n",
       "MIGSUN       object\n",
       "NOEMP         int64\n",
       "PARENT       object\n",
       "PEFNTVTY     object\n",
       "PEMNTVTY     object\n",
       "PENATVTY     object\n",
       "PRCITSHP     object\n",
       "SEOTR         int64\n",
       "TAXINC       object\n",
       "VETQVA        int64\n",
       "VETYN         int64\n",
       "WKSWORK       int64\n",
       "dtype: object"
      ]
     },
     "execution_count": 4,
     "metadata": {},
     "output_type": "execute_result"
    }
   ],
   "source": [
    "df.dtypes"
   ]
  },
  {
   "cell_type": "markdown",
   "metadata": {},
   "source": [
    "## age — `AAGE`"
   ]
  },
  {
   "cell_type": "code",
   "execution_count": 33,
   "metadata": {
    "collapsed": false
   },
   "outputs": [
    {
     "name": "stdout",
     "output_type": "stream",
     "text": [
      "count    14800.000000\n",
      "mean        39.778514\n",
      "std         18.879251\n",
      "min          0.000000\n",
      "25%         29.000000\n",
      "50%         41.000000\n",
      "75%         51.000000\n",
      "max         90.000000\n",
      "Name: AAGE, dtype: float64\n"
     ]
    },
    {
     "data": {
      "image/png": "[encoded data removed]",
      "text/plain": [
       "<matplotlib.figure.Figure at 0x10b6272b0>"
      ]
     },
     "metadata": {},
     "output_type": "display_data"
    }
   ],
   "source": [
    "print(df.AAGE.describe())\n",
    "\n",
    "X.AAGE.hist(bins = 89);\n",
    "X_test.AAGE.hist(bins = 89);"
   ]
  },
  {
   "cell_type": "markdown",
   "metadata": {},
   "source": [
    "## class of worker — `ACLSWKR`"
   ]
  },
  {
   "cell_type": "code",
   "execution_count": 40,
   "metadata": {
    "collapsed": false
   },
   "outputs": [
    {
     "name": "stdout",
     "output_type": "stream",
     "text": [
      "count       14800\n",
      "unique          9\n",
      "top       Private\n",
      "freq         6968\n",
      "Name: ACLSWKR, dtype: object\n",
      "\n",
      "empty cells: 0\n",
      "Private                          6968\n",
      "Not_in_universe                  4395\n",
      "Self-employed-notIncorporated    1005\n",
      "LocalGovernment                   769\n",
      "Self-employed-incorporated        758\n",
      "StateGovernment                   448\n",
      "FederalGovernment                 428\n",
      "NeverWorked                        22\n",
      "WithoutPay                          7\n",
      "Name: ACLSWKR, dtype: int64\n",
      "Private                          4742\n",
      "Not_in_universe                  2973\n",
      "Self-employed-notIncorporated     699\n",
      "LocalGovernment                   509\n",
      "Self-employed-incorporated        491\n",
      "StateGovernment                   298\n",
      "FederalGovernment                 267\n",
      "NeverWorked                        16\n",
      "WithoutPay                          5\n",
      "Name: ACLSWKR, dtype: int64\n",
      "Private                          2226\n",
      "Not_in_universe                  1422\n",
      "Self-employed-notIncorporated     306\n",
      "Self-employed-incorporated        267\n",
      "LocalGovernment                   260\n",
      "FederalGovernment                 161\n",
      "StateGovernment                   150\n",
      "NeverWorked                         6\n",
      "WithoutPay                          2\n",
      "Name: ACLSWKR, dtype: int64\n"
     ]
    }
   ],
   "source": [
    "print(df.ACLSWKR.describe())\n",
    "print('\\nempty cells: %s' % df.ACLSWKR.isnull().sum())\n",
    "\n",
    "print(df.ACLSWKR.value_counts())\n",
    "print(X.ACLSWKR.value_counts())\n",
    "print(X_test.ACLSWKR.value_counts())\n",
    "# X.AAGE.hist(bins = 89);\n",
    "# X_test.AAGE.hist(bins = 89);"
   ]
  },
  {
   "cell_type": "code",
   "execution_count": 45,
   "metadata": {
    "collapsed": false,
    "scrolled": true
   },
   "outputs": [
    {
     "data": {
      "text/html": [
       "<div>\n",
       "<table border=\"1\" class=\"dataframe\">\n",
       "  <thead>\n",
       "    <tr style=\"text-align: right;\">\n",
       "      <th></th>\n",
       "      <th>AAGE</th>\n",
       "      <th>ACLSWKR</th>\n",
       "      <th>ADTIND</th>\n",
       "      <th>ADTOCC</th>\n",
       "      <th>AHGA</th>\n",
       "      <th>AHRSPAY</th>\n",
       "      <th>AHSCOL</th>\n",
       "      <th>AMARITL</th>\n",
       "      <th>AMJIND</th>\n",
       "      <th>AMJOCC</th>\n",
       "      <th>...</th>\n",
       "      <th>PARENT</th>\n",
       "      <th>PEFNTVTY</th>\n",
       "      <th>PEMNTVTY</th>\n",
       "      <th>PENATVTY</th>\n",
       "      <th>PRCITSHP</th>\n",
       "      <th>SEOTR</th>\n",
       "      <th>TAXINC</th>\n",
       "      <th>VETQVA</th>\n",
       "      <th>VETYN</th>\n",
       "      <th>WKSWORK</th>\n",
       "    </tr>\n",
       "  </thead>\n",
       "  <tbody>\n",
       "    <tr>\n",
       "      <th>821</th>\n",
       "      <td>15</td>\n",
       "      <td>NeverWorked</td>\n",
       "      <td>0</td>\n",
       "      <td>0</td>\n",
       "      <td>10thgrade</td>\n",
       "      <td>0</td>\n",
       "      <td>Not_in_universe</td>\n",
       "      <td>Nevermarried</td>\n",
       "      <td>Not_in_universeorchildren</td>\n",
       "      <td>Not_in_universe</td>\n",
       "      <td>...</td>\n",
       "      <td>Bothparentspresent</td>\n",
       "      <td>United-States</td>\n",
       "      <td>United-States</td>\n",
       "      <td>United-States</td>\n",
       "      <td>Native-BornintheUnitedStates</td>\n",
       "      <td>0</td>\n",
       "      <td>Not_in_universe</td>\n",
       "      <td>2</td>\n",
       "      <td>0</td>\n",
       "      <td>94</td>\n",
       "    </tr>\n",
       "    <tr>\n",
       "      <th>1059</th>\n",
       "      <td>22</td>\n",
       "      <td>NeverWorked</td>\n",
       "      <td>0</td>\n",
       "      <td>0</td>\n",
       "      <td>Somecollegebutnodegree</td>\n",
       "      <td>0</td>\n",
       "      <td>Collegeoruniversity</td>\n",
       "      <td>Nevermarried</td>\n",
       "      <td>Not_in_universeorchildren</td>\n",
       "      <td>Not_in_universe</td>\n",
       "      <td>...</td>\n",
       "      <td>Not_in_universe</td>\n",
       "      <td>United-States</td>\n",
       "      <td>United-States</td>\n",
       "      <td>United-States</td>\n",
       "      <td>Native-BornintheUnitedStates</td>\n",
       "      <td>0</td>\n",
       "      <td>Not_in_universe</td>\n",
       "      <td>2</td>\n",
       "      <td>0</td>\n",
       "      <td>94</td>\n",
       "    </tr>\n",
       "    <tr>\n",
       "      <th>1375</th>\n",
       "      <td>19</td>\n",
       "      <td>NeverWorked</td>\n",
       "      <td>0</td>\n",
       "      <td>0</td>\n",
       "      <td>Somecollegebutnodegree</td>\n",
       "      <td>0</td>\n",
       "      <td>Collegeoruniversity</td>\n",
       "      <td>Nevermarried</td>\n",
       "      <td>Not_in_universeorchildren</td>\n",
       "      <td>Not_in_universe</td>\n",
       "      <td>...</td>\n",
       "      <td>Not_in_universe</td>\n",
       "      <td>United-States</td>\n",
       "      <td>United-States</td>\n",
       "      <td>United-States</td>\n",
       "      <td>Native-BornintheUnitedStates</td>\n",
       "      <td>0</td>\n",
       "      <td>Not_in_universe</td>\n",
       "      <td>2</td>\n",
       "      <td>5</td>\n",
       "      <td>94</td>\n",
       "    </tr>\n",
       "    <tr>\n",
       "      <th>1429</th>\n",
       "      <td>17</td>\n",
       "      <td>NeverWorked</td>\n",
       "      <td>0</td>\n",
       "      <td>0</td>\n",
       "      <td>11thgrade</td>\n",
       "      <td>0</td>\n",
       "      <td>Highschool</td>\n",
       "      <td>Nevermarried</td>\n",
       "      <td>Not_in_universeorchildren</td>\n",
       "      <td>Not_in_universe</td>\n",
       "      <td>...</td>\n",
       "      <td>Bothparentspresent</td>\n",
       "      <td>United-States</td>\n",
       "      <td>United-States</td>\n",
       "      <td>United-States</td>\n",
       "      <td>Native-BornintheUnitedStates</td>\n",
       "      <td>0</td>\n",
       "      <td>Not_in_universe</td>\n",
       "      <td>2</td>\n",
       "      <td>0</td>\n",
       "      <td>94</td>\n",
       "    </tr>\n",
       "    <tr>\n",
       "      <th>2255</th>\n",
       "      <td>23</td>\n",
       "      <td>NeverWorked</td>\n",
       "      <td>0</td>\n",
       "      <td>0</td>\n",
       "      <td>10thgrade</td>\n",
       "      <td>0</td>\n",
       "      <td>Not_in_universe</td>\n",
       "      <td>Married-civilianspousepresent</td>\n",
       "      <td>Not_in_universeorchildren</td>\n",
       "      <td>Not_in_universe</td>\n",
       "      <td>...</td>\n",
       "      <td>Not_in_universe</td>\n",
       "      <td>Dominican-Republic</td>\n",
       "      <td>Dominican-Republic</td>\n",
       "      <td>Dominican-Republic</td>\n",
       "      <td>Foreignborn-NotacitizenofUS</td>\n",
       "      <td>0</td>\n",
       "      <td>Not_in_universe</td>\n",
       "      <td>2</td>\n",
       "      <td>0</td>\n",
       "      <td>94</td>\n",
       "    </tr>\n",
       "    <tr>\n",
       "      <th>4421</th>\n",
       "      <td>17</td>\n",
       "      <td>NeverWorked</td>\n",
       "      <td>0</td>\n",
       "      <td>0</td>\n",
       "      <td>11thgrade</td>\n",
       "      <td>0</td>\n",
       "      <td>Highschool</td>\n",
       "      <td>Nevermarried</td>\n",
       "      <td>Not_in_universeorchildren</td>\n",
       "      <td>Not_in_universe</td>\n",
       "      <td>...</td>\n",
       "      <td>Bothparentspresent</td>\n",
       "      <td>United-States</td>\n",
       "      <td>United-States</td>\n",
       "      <td>United-States</td>\n",
       "      <td>Native-BornintheUnitedStates</td>\n",
       "      <td>0</td>\n",
       "      <td>Not_in_universe</td>\n",
       "      <td>2</td>\n",
       "      <td>0</td>\n",
       "      <td>94</td>\n",
       "    </tr>\n",
       "    <tr>\n",
       "      <th>4541</th>\n",
       "      <td>16</td>\n",
       "      <td>NeverWorked</td>\n",
       "      <td>0</td>\n",
       "      <td>0</td>\n",
       "      <td>9thgrade</td>\n",
       "      <td>0</td>\n",
       "      <td>Highschool</td>\n",
       "      <td>Nevermarried</td>\n",
       "      <td>Not_in_universeorchildren</td>\n",
       "      <td>Not_in_universe</td>\n",
       "      <td>...</td>\n",
       "      <td>Bothparentspresent</td>\n",
       "      <td>United-States</td>\n",
       "      <td>United-States</td>\n",
       "      <td>United-States</td>\n",
       "      <td>Native-BornintheUnitedStates</td>\n",
       "      <td>0</td>\n",
       "      <td>Not_in_universe</td>\n",
       "      <td>2</td>\n",
       "      <td>0</td>\n",
       "      <td>94</td>\n",
       "    </tr>\n",
       "    <tr>\n",
       "      <th>4558</th>\n",
       "      <td>16</td>\n",
       "      <td>NeverWorked</td>\n",
       "      <td>0</td>\n",
       "      <td>0</td>\n",
       "      <td>7thand8thgrade</td>\n",
       "      <td>0</td>\n",
       "      <td>Highschool</td>\n",
       "      <td>Nevermarried</td>\n",
       "      <td>Not_in_universeorchildren</td>\n",
       "      <td>Not_in_universe</td>\n",
       "      <td>...</td>\n",
       "      <td>Motheronlypresent</td>\n",
       "      <td>United-States</td>\n",
       "      <td>United-States</td>\n",
       "      <td>United-States</td>\n",
       "      <td>Native-BornintheUnitedStates</td>\n",
       "      <td>0</td>\n",
       "      <td>Not_in_universe</td>\n",
       "      <td>2</td>\n",
       "      <td>0</td>\n",
       "      <td>94</td>\n",
       "    </tr>\n",
       "    <tr>\n",
       "      <th>5683</th>\n",
       "      <td>17</td>\n",
       "      <td>NeverWorked</td>\n",
       "      <td>0</td>\n",
       "      <td>0</td>\n",
       "      <td>12thgradenodiploma</td>\n",
       "      <td>0</td>\n",
       "      <td>Highschool</td>\n",
       "      <td>Nevermarried</td>\n",
       "      <td>Not_in_universeorchildren</td>\n",
       "      <td>Not_in_universe</td>\n",
       "      <td>...</td>\n",
       "      <td>Bothparentspresent</td>\n",
       "      <td>United-States</td>\n",
       "      <td>United-States</td>\n",
       "      <td>United-States</td>\n",
       "      <td>Native-BornintheUnitedStates</td>\n",
       "      <td>0</td>\n",
       "      <td>Not_in_universe</td>\n",
       "      <td>2</td>\n",
       "      <td>0</td>\n",
       "      <td>94</td>\n",
       "    </tr>\n",
       "    <tr>\n",
       "      <th>6896</th>\n",
       "      <td>18</td>\n",
       "      <td>NeverWorked</td>\n",
       "      <td>0</td>\n",
       "      <td>0</td>\n",
       "      <td>12thgradenodiploma</td>\n",
       "      <td>0</td>\n",
       "      <td>Highschool</td>\n",
       "      <td>Nevermarried</td>\n",
       "      <td>Not_in_universeorchildren</td>\n",
       "      <td>Not_in_universe</td>\n",
       "      <td>...</td>\n",
       "      <td>Not_in_universe</td>\n",
       "      <td>United-States</td>\n",
       "      <td>United-States</td>\n",
       "      <td>United-States</td>\n",
       "      <td>Native-BornintheUnitedStates</td>\n",
       "      <td>0</td>\n",
       "      <td>Not_in_universe</td>\n",
       "      <td>2</td>\n",
       "      <td>0</td>\n",
       "      <td>94</td>\n",
       "    </tr>\n",
       "    <tr>\n",
       "      <th>7072</th>\n",
       "      <td>16</td>\n",
       "      <td>NeverWorked</td>\n",
       "      <td>0</td>\n",
       "      <td>0</td>\n",
       "      <td>7thand8thgrade</td>\n",
       "      <td>0</td>\n",
       "      <td>Highschool</td>\n",
       "      <td>Nevermarried</td>\n",
       "      <td>Not_in_universeorchildren</td>\n",
       "      <td>Not_in_universe</td>\n",
       "      <td>...</td>\n",
       "      <td>Fatheronlypresent</td>\n",
       "      <td>United-States</td>\n",
       "      <td>United-States</td>\n",
       "      <td>United-States</td>\n",
       "      <td>Native-BornintheUnitedStates</td>\n",
       "      <td>0</td>\n",
       "      <td>Not_in_universe</td>\n",
       "      <td>2</td>\n",
       "      <td>0</td>\n",
       "      <td>94</td>\n",
       "    </tr>\n",
       "    <tr>\n",
       "      <th>7086</th>\n",
       "      <td>20</td>\n",
       "      <td>NeverWorked</td>\n",
       "      <td>0</td>\n",
       "      <td>0</td>\n",
       "      <td>10thgrade</td>\n",
       "      <td>0</td>\n",
       "      <td>Not_in_universe</td>\n",
       "      <td>Nevermarried</td>\n",
       "      <td>Not_in_universeorchildren</td>\n",
       "      <td>Not_in_universe</td>\n",
       "      <td>...</td>\n",
       "      <td>Not_in_universe</td>\n",
       "      <td>United-States</td>\n",
       "      <td>United-States</td>\n",
       "      <td>United-States</td>\n",
       "      <td>Native-BornintheUnitedStates</td>\n",
       "      <td>0</td>\n",
       "      <td>Not_in_universe</td>\n",
       "      <td>2</td>\n",
       "      <td>0</td>\n",
       "      <td>94</td>\n",
       "    </tr>\n",
       "    <tr>\n",
       "      <th>7214</th>\n",
       "      <td>17</td>\n",
       "      <td>NeverWorked</td>\n",
       "      <td>0</td>\n",
       "      <td>0</td>\n",
       "      <td>10thgrade</td>\n",
       "      <td>0</td>\n",
       "      <td>Highschool</td>\n",
       "      <td>Nevermarried</td>\n",
       "      <td>Not_in_universeorchildren</td>\n",
       "      <td>Not_in_universe</td>\n",
       "      <td>...</td>\n",
       "      <td>Bothparentspresent</td>\n",
       "      <td>United-States</td>\n",
       "      <td>United-States</td>\n",
       "      <td>United-States</td>\n",
       "      <td>Native-BornintheUnitedStates</td>\n",
       "      <td>0</td>\n",
       "      <td>Not_in_universe</td>\n",
       "      <td>2</td>\n",
       "      <td>17</td>\n",
       "      <td>94</td>\n",
       "    </tr>\n",
       "    <tr>\n",
       "      <th>7253</th>\n",
       "      <td>18</td>\n",
       "      <td>NeverWorked</td>\n",
       "      <td>0</td>\n",
       "      <td>0</td>\n",
       "      <td>11thgrade</td>\n",
       "      <td>0</td>\n",
       "      <td>Highschool</td>\n",
       "      <td>Nevermarried</td>\n",
       "      <td>Not_in_universeorchildren</td>\n",
       "      <td>Not_in_universe</td>\n",
       "      <td>...</td>\n",
       "      <td>Not_in_universe</td>\n",
       "      <td>United-States</td>\n",
       "      <td>England</td>\n",
       "      <td>United-States</td>\n",
       "      <td>Native-BornintheUnitedStates</td>\n",
       "      <td>0</td>\n",
       "      <td>Not_in_universe</td>\n",
       "      <td>2</td>\n",
       "      <td>16</td>\n",
       "      <td>94</td>\n",
       "    </tr>\n",
       "    <tr>\n",
       "      <th>8535</th>\n",
       "      <td>17</td>\n",
       "      <td>NeverWorked</td>\n",
       "      <td>0</td>\n",
       "      <td>0</td>\n",
       "      <td>10thgrade</td>\n",
       "      <td>0</td>\n",
       "      <td>Highschool</td>\n",
       "      <td>Nevermarried</td>\n",
       "      <td>Not_in_universeorchildren</td>\n",
       "      <td>Not_in_universe</td>\n",
       "      <td>...</td>\n",
       "      <td>Bothparentspresent</td>\n",
       "      <td>United-States</td>\n",
       "      <td>United-States</td>\n",
       "      <td>United-States</td>\n",
       "      <td>Native-BornintheUnitedStates</td>\n",
       "      <td>0</td>\n",
       "      <td>Not_in_universe</td>\n",
       "      <td>2</td>\n",
       "      <td>0</td>\n",
       "      <td>94</td>\n",
       "    </tr>\n",
       "    <tr>\n",
       "      <th>8819</th>\n",
       "      <td>18</td>\n",
       "      <td>NeverWorked</td>\n",
       "      <td>0</td>\n",
       "      <td>0</td>\n",
       "      <td>7thand8thgrade</td>\n",
       "      <td>0</td>\n",
       "      <td>Highschool</td>\n",
       "      <td>Nevermarried</td>\n",
       "      <td>Not_in_universeorchildren</td>\n",
       "      <td>Not_in_universe</td>\n",
       "      <td>...</td>\n",
       "      <td>Not_in_universe</td>\n",
       "      <td>El-Salvador</td>\n",
       "      <td>El-Salvador</td>\n",
       "      <td>El-Salvador</td>\n",
       "      <td>Foreignborn-NotacitizenofUS</td>\n",
       "      <td>0</td>\n",
       "      <td>Not_in_universe</td>\n",
       "      <td>2</td>\n",
       "      <td>0</td>\n",
       "      <td>94</td>\n",
       "    </tr>\n",
       "    <tr>\n",
       "      <th>2008</th>\n",
       "      <td>23</td>\n",
       "      <td>NeverWorked</td>\n",
       "      <td>0</td>\n",
       "      <td>0</td>\n",
       "      <td>7thand8thgrade</td>\n",
       "      <td>0</td>\n",
       "      <td>Not_in_universe</td>\n",
       "      <td>Married-civilianspousepresent</td>\n",
       "      <td>Not_in_universeorchildren</td>\n",
       "      <td>Not_in_universe</td>\n",
       "      <td>...</td>\n",
       "      <td>Not_in_universe</td>\n",
       "      <td>Mexico</td>\n",
       "      <td>Mexico</td>\n",
       "      <td>HongKong</td>\n",
       "      <td>Foreignborn-UScitizenbynaturalization</td>\n",
       "      <td>0</td>\n",
       "      <td>Not_in_universe</td>\n",
       "      <td>2</td>\n",
       "      <td>0</td>\n",
       "      <td>94</td>\n",
       "    </tr>\n",
       "    <tr>\n",
       "      <th>2411</th>\n",
       "      <td>20</td>\n",
       "      <td>NeverWorked</td>\n",
       "      <td>0</td>\n",
       "      <td>0</td>\n",
       "      <td>Somecollegebutnodegree</td>\n",
       "      <td>0</td>\n",
       "      <td>Not_in_universe</td>\n",
       "      <td>Nevermarried</td>\n",
       "      <td>Not_in_universeorchildren</td>\n",
       "      <td>Not_in_universe</td>\n",
       "      <td>...</td>\n",
       "      <td>Not_in_universe</td>\n",
       "      <td>United-States</td>\n",
       "      <td>United-States</td>\n",
       "      <td>United-States</td>\n",
       "      <td>Native-BornintheUnitedStates</td>\n",
       "      <td>0</td>\n",
       "      <td>Not_in_universe</td>\n",
       "      <td>2</td>\n",
       "      <td>52</td>\n",
       "      <td>94</td>\n",
       "    </tr>\n",
       "    <tr>\n",
       "      <th>2951</th>\n",
       "      <td>16</td>\n",
       "      <td>NeverWorked</td>\n",
       "      <td>0</td>\n",
       "      <td>0</td>\n",
       "      <td>7thand8thgrade</td>\n",
       "      <td>0</td>\n",
       "      <td>Highschool</td>\n",
       "      <td>Divorced</td>\n",
       "      <td>Not_in_universeorchildren</td>\n",
       "      <td>Not_in_universe</td>\n",
       "      <td>...</td>\n",
       "      <td>Motheronlypresent</td>\n",
       "      <td>United-States</td>\n",
       "      <td>United-States</td>\n",
       "      <td>United-States</td>\n",
       "      <td>Native-BornintheUnitedStates</td>\n",
       "      <td>0</td>\n",
       "      <td>Not_in_universe</td>\n",
       "      <td>2</td>\n",
       "      <td>0</td>\n",
       "      <td>94</td>\n",
       "    </tr>\n",
       "    <tr>\n",
       "      <th>3010</th>\n",
       "      <td>17</td>\n",
       "      <td>NeverWorked</td>\n",
       "      <td>0</td>\n",
       "      <td>0</td>\n",
       "      <td>10thgrade</td>\n",
       "      <td>0</td>\n",
       "      <td>Highschool</td>\n",
       "      <td>Nevermarried</td>\n",
       "      <td>Not_in_universeorchildren</td>\n",
       "      <td>Not_in_universe</td>\n",
       "      <td>...</td>\n",
       "      <td>Bothparentspresent</td>\n",
       "      <td>United-States</td>\n",
       "      <td>United-States</td>\n",
       "      <td>United-States</td>\n",
       "      <td>Native-BornintheUnitedStates</td>\n",
       "      <td>0</td>\n",
       "      <td>Not_in_universe</td>\n",
       "      <td>2</td>\n",
       "      <td>0</td>\n",
       "      <td>94</td>\n",
       "    </tr>\n",
       "    <tr>\n",
       "      <th>3802</th>\n",
       "      <td>16</td>\n",
       "      <td>NeverWorked</td>\n",
       "      <td>0</td>\n",
       "      <td>0</td>\n",
       "      <td>9thgrade</td>\n",
       "      <td>0</td>\n",
       "      <td>Highschool</td>\n",
       "      <td>Nevermarried</td>\n",
       "      <td>Not_in_universeorchildren</td>\n",
       "      <td>Not_in_universe</td>\n",
       "      <td>...</td>\n",
       "      <td>Motheronlypresent</td>\n",
       "      <td>United-States</td>\n",
       "      <td>United-States</td>\n",
       "      <td>United-States</td>\n",
       "      <td>Native-BornintheUnitedStates</td>\n",
       "      <td>0</td>\n",
       "      <td>Not_in_universe</td>\n",
       "      <td>2</td>\n",
       "      <td>0</td>\n",
       "      <td>94</td>\n",
       "    </tr>\n",
       "    <tr>\n",
       "      <th>3956</th>\n",
       "      <td>15</td>\n",
       "      <td>NeverWorked</td>\n",
       "      <td>0</td>\n",
       "      <td>0</td>\n",
       "      <td>9thgrade</td>\n",
       "      <td>0</td>\n",
       "      <td>Not_in_universe</td>\n",
       "      <td>Nevermarried</td>\n",
       "      <td>Not_in_universeorchildren</td>\n",
       "      <td>Not_in_universe</td>\n",
       "      <td>...</td>\n",
       "      <td>Bothparentspresent</td>\n",
       "      <td>United-States</td>\n",
       "      <td>United-States</td>\n",
       "      <td>United-States</td>\n",
       "      <td>Native-BornintheUnitedStates</td>\n",
       "      <td>0</td>\n",
       "      <td>Not_in_universe</td>\n",
       "      <td>2</td>\n",
       "      <td>0</td>\n",
       "      <td>94</td>\n",
       "    </tr>\n",
       "  </tbody>\n",
       "</table>\n",
       "<p>22 rows × 41 columns</p>\n",
       "</div>"
      ],
      "text/plain": [
       "      AAGE      ACLSWKR  ADTIND  ADTOCC                    AHGA  AHRSPAY  \\\n",
       "821     15  NeverWorked       0       0               10thgrade        0   \n",
       "1059    22  NeverWorked       0       0  Somecollegebutnodegree        0   \n",
       "1375    19  NeverWorked       0       0  Somecollegebutnodegree        0   \n",
       "1429    17  NeverWorked       0       0               11thgrade        0   \n",
       "2255    23  NeverWorked       0       0               10thgrade        0   \n",
       "4421    17  NeverWorked       0       0               11thgrade        0   \n",
       "4541    16  NeverWorked       0       0                9thgrade        0   \n",
       "4558    16  NeverWorked       0       0          7thand8thgrade        0   \n",
       "5683    17  NeverWorked       0       0      12thgradenodiploma        0   \n",
       "6896    18  NeverWorked       0       0      12thgradenodiploma        0   \n",
       "7072    16  NeverWorked       0       0          7thand8thgrade        0   \n",
       "7086    20  NeverWorked       0       0               10thgrade        0   \n",
       "7214    17  NeverWorked       0       0               10thgrade        0   \n",
       "7253    18  NeverWorked       0       0               11thgrade        0   \n",
       "8535    17  NeverWorked       0       0               10thgrade        0   \n",
       "8819    18  NeverWorked       0       0          7thand8thgrade        0   \n",
       "2008    23  NeverWorked       0       0          7thand8thgrade        0   \n",
       "2411    20  NeverWorked       0       0  Somecollegebutnodegree        0   \n",
       "2951    16  NeverWorked       0       0          7thand8thgrade        0   \n",
       "3010    17  NeverWorked       0       0               10thgrade        0   \n",
       "3802    16  NeverWorked       0       0                9thgrade        0   \n",
       "3956    15  NeverWorked       0       0                9thgrade        0   \n",
       "\n",
       "                   AHSCOL                        AMARITL  \\\n",
       "821       Not_in_universe                   Nevermarried   \n",
       "1059  Collegeoruniversity                   Nevermarried   \n",
       "1375  Collegeoruniversity                   Nevermarried   \n",
       "1429           Highschool                   Nevermarried   \n",
       "2255      Not_in_universe  Married-civilianspousepresent   \n",
       "4421           Highschool                   Nevermarried   \n",
       "4541           Highschool                   Nevermarried   \n",
       "4558           Highschool                   Nevermarried   \n",
       "5683           Highschool                   Nevermarried   \n",
       "6896           Highschool                   Nevermarried   \n",
       "7072           Highschool                   Nevermarried   \n",
       "7086      Not_in_universe                   Nevermarried   \n",
       "7214           Highschool                   Nevermarried   \n",
       "7253           Highschool                   Nevermarried   \n",
       "8535           Highschool                   Nevermarried   \n",
       "8819           Highschool                   Nevermarried   \n",
       "2008      Not_in_universe  Married-civilianspousepresent   \n",
       "2411      Not_in_universe                   Nevermarried   \n",
       "2951           Highschool                       Divorced   \n",
       "3010           Highschool                   Nevermarried   \n",
       "3802           Highschool                   Nevermarried   \n",
       "3956      Not_in_universe                   Nevermarried   \n",
       "\n",
       "                         AMJIND           AMJOCC   ...                PARENT  \\\n",
       "821   Not_in_universeorchildren  Not_in_universe   ...    Bothparentspresent   \n",
       "1059  Not_in_universeorchildren  Not_in_universe   ...       Not_in_universe   \n",
       "1375  Not_in_universeorchildren  Not_in_universe   ...       Not_in_universe   \n",
       "1429  Not_in_universeorchildren  Not_in_universe   ...    Bothparentspresent   \n",
       "2255  Not_in_universeorchildren  Not_in_universe   ...       Not_in_universe   \n",
       "4421  Not_in_universeorchildren  Not_in_universe   ...    Bothparentspresent   \n",
       "4541  Not_in_universeorchildren  Not_in_universe   ...    Bothparentspresent   \n",
       "4558  Not_in_universeorchildren  Not_in_universe   ...     Motheronlypresent   \n",
       "5683  Not_in_universeorchildren  Not_in_universe   ...    Bothparentspresent   \n",
       "6896  Not_in_universeorchildren  Not_in_universe   ...       Not_in_universe   \n",
       "7072  Not_in_universeorchildren  Not_in_universe   ...     Fatheronlypresent   \n",
       "7086  Not_in_universeorchildren  Not_in_universe   ...       Not_in_universe   \n",
       "7214  Not_in_universeorchildren  Not_in_universe   ...    Bothparentspresent   \n",
       "7253  Not_in_universeorchildren  Not_in_universe   ...       Not_in_universe   \n",
       "8535  Not_in_universeorchildren  Not_in_universe   ...    Bothparentspresent   \n",
       "8819  Not_in_universeorchildren  Not_in_universe   ...       Not_in_universe   \n",
       "2008  Not_in_universeorchildren  Not_in_universe   ...       Not_in_universe   \n",
       "2411  Not_in_universeorchildren  Not_in_universe   ...       Not_in_universe   \n",
       "2951  Not_in_universeorchildren  Not_in_universe   ...     Motheronlypresent   \n",
       "3010  Not_in_universeorchildren  Not_in_universe   ...    Bothparentspresent   \n",
       "3802  Not_in_universeorchildren  Not_in_universe   ...     Motheronlypresent   \n",
       "3956  Not_in_universeorchildren  Not_in_universe   ...    Bothparentspresent   \n",
       "\n",
       "                PEFNTVTY            PEMNTVTY            PENATVTY  \\\n",
       "821        United-States       United-States       United-States   \n",
       "1059       United-States       United-States       United-States   \n",
       "1375       United-States       United-States       United-States   \n",
       "1429       United-States       United-States       United-States   \n",
       "2255  Dominican-Republic  Dominican-Republic  Dominican-Republic   \n",
       "4421       United-States       United-States       United-States   \n",
       "4541       United-States       United-States       United-States   \n",
       "4558       United-States       United-States       United-States   \n",
       "5683       United-States       United-States       United-States   \n",
       "6896       United-States       United-States       United-States   \n",
       "7072       United-States       United-States       United-States   \n",
       "7086       United-States       United-States       United-States   \n",
       "7214       United-States       United-States       United-States   \n",
       "7253       United-States             England       United-States   \n",
       "8535       United-States       United-States       United-States   \n",
       "8819         El-Salvador         El-Salvador         El-Salvador   \n",
       "2008              Mexico              Mexico            HongKong   \n",
       "2411       United-States       United-States       United-States   \n",
       "2951       United-States       United-States       United-States   \n",
       "3010       United-States       United-States       United-States   \n",
       "3802       United-States       United-States       United-States   \n",
       "3956       United-States       United-States       United-States   \n",
       "\n",
       "                                   PRCITSHP SEOTR           TAXINC  VETQVA  \\\n",
       "821            Native-BornintheUnitedStates     0  Not_in_universe       2   \n",
       "1059           Native-BornintheUnitedStates     0  Not_in_universe       2   \n",
       "1375           Native-BornintheUnitedStates     0  Not_in_universe       2   \n",
       "1429           Native-BornintheUnitedStates     0  Not_in_universe       2   \n",
       "2255            Foreignborn-NotacitizenofUS     0  Not_in_universe       2   \n",
       "4421           Native-BornintheUnitedStates     0  Not_in_universe       2   \n",
       "4541           Native-BornintheUnitedStates     0  Not_in_universe       2   \n",
       "4558           Native-BornintheUnitedStates     0  Not_in_universe       2   \n",
       "5683           Native-BornintheUnitedStates     0  Not_in_universe       2   \n",
       "6896           Native-BornintheUnitedStates     0  Not_in_universe       2   \n",
       "7072           Native-BornintheUnitedStates     0  Not_in_universe       2   \n",
       "7086           Native-BornintheUnitedStates     0  Not_in_universe       2   \n",
       "7214           Native-BornintheUnitedStates     0  Not_in_universe       2   \n",
       "7253           Native-BornintheUnitedStates     0  Not_in_universe       2   \n",
       "8535           Native-BornintheUnitedStates     0  Not_in_universe       2   \n",
       "8819            Foreignborn-NotacitizenofUS     0  Not_in_universe       2   \n",
       "2008  Foreignborn-UScitizenbynaturalization     0  Not_in_universe       2   \n",
       "2411           Native-BornintheUnitedStates     0  Not_in_universe       2   \n",
       "2951           Native-BornintheUnitedStates     0  Not_in_universe       2   \n",
       "3010           Native-BornintheUnitedStates     0  Not_in_universe       2   \n",
       "3802           Native-BornintheUnitedStates     0  Not_in_universe       2   \n",
       "3956           Native-BornintheUnitedStates     0  Not_in_universe       2   \n",
       "\n",
       "      VETYN WKSWORK  \n",
       "821       0      94  \n",
       "1059      0      94  \n",
       "1375      5      94  \n",
       "1429      0      94  \n",
       "2255      0      94  \n",
       "4421      0      94  \n",
       "4541      0      94  \n",
       "4558      0      94  \n",
       "5683      0      94  \n",
       "6896      0      94  \n",
       "7072      0      94  \n",
       "7086      0      94  \n",
       "7214     17      94  \n",
       "7253     16      94  \n",
       "8535      0      94  \n",
       "8819      0      94  \n",
       "2008      0      94  \n",
       "2411     52      94  \n",
       "2951      0      94  \n",
       "3010      0      94  \n",
       "3802      0      94  \n",
       "3956      0      94  \n",
       "\n",
       "[22 rows x 41 columns]"
      ]
     },
     "execution_count": 45,
     "metadata": {},
     "output_type": "execute_result"
    }
   ],
   "source": [
    "df[df.ACLSWKR == 'NeverWorked']"
   ]
  },
  {
   "cell_type": "markdown",
   "metadata": {},
   "source": [
    "## industry code — `ADTIND`"
   ]
  },
  {
   "cell_type": "code",
   "execution_count": 43,
   "metadata": {
    "collapsed": false
   },
   "outputs": [
    {
     "name": "stdout",
     "output_type": "stream",
     "text": [
      "count    14800.000000\n",
      "mean        21.621149\n",
      "std         18.048449\n",
      "min          0.000000\n",
      "25%          0.000000\n",
      "50%         29.000000\n",
      "75%         37.000000\n",
      "max         51.000000\n",
      "Name: ADTIND, dtype: float64\n"
     ]
    },
    {
     "data": {
      "image/png": "[encoded data removed]",
      "text/plain": [
       "<matplotlib.figure.Figure at 0x10b6dc080>"
      ]
     },
     "metadata": {},
     "output_type": "display_data"
    }
   ],
   "source": [
    "print(df.ADTIND.describe())\n",
    "\n",
    "X.ADTIND.hist(bins = 50);\n",
    "X_test.ADTIND.hist(bins = 50);"
   ]
  },
  {
   "cell_type": "markdown",
   "metadata": {},
   "source": [
    "## occupation code — `ADTOCC`"
   ]
  },
  {
   "cell_type": "code",
   "execution_count": 44,
   "metadata": {
    "collapsed": false
   },
   "outputs": [
    {
     "name": "stdout",
     "output_type": "stream",
     "text": [
      "count    14800.000000\n",
      "mean        11.965473\n",
      "std         13.524288\n",
      "min          0.000000\n",
      "25%          0.000000\n",
      "50%          5.000000\n",
      "75%         23.000000\n",
      "max         46.000000\n",
      "Name: ADTOCC, dtype: float64\n"
     ]
    },
    {
     "data": {
      "image/png": "[encoded data removed]",
      "text/plain": [
       "<matplotlib.figure.Figure at 0x10d3c6e48>"
      ]
     },
     "metadata": {},
     "output_type": "display_data"
    }
   ],
   "source": [
    "print(df.ADTOCC.describe())\n",
    "\n",
    "X.ADTOCC.hist();\n",
    "X_test.ADTOCC.hist();"
   ]
  },
  {
   "cell_type": "markdown",
   "metadata": {},
   "source": [
    "## education — `AHGA`"
   ]
  },
  {
   "cell_type": "markdown",
   "metadata": {},
   "source": [
    "## wage per hour — `AHRSPAY`"
   ]
  },
  {
   "cell_type": "code",
   "execution_count": 46,
   "metadata": {
    "collapsed": false
   },
   "outputs": [
    {
     "name": "stdout",
     "output_type": "stream",
     "text": [
      "count    14800.000000\n",
      "mean        64.999797\n",
      "std        349.467030\n",
      "min          0.000000\n",
      "25%          0.000000\n",
      "50%          0.000000\n",
      "75%          0.000000\n",
      "max       9999.000000\n",
      "Name: AHRSPAY, dtype: float64\n"
     ]
    },
    {
     "data": {
      "image/png": "[encoded data removed]",
      "text/plain": [
       "<matplotlib.figure.Figure at 0x10d992ef0>"
      ]
     },
     "metadata": {},
     "output_type": "display_data"
    }
   ],
   "source": [
    "print(df.AHRSPAY.describe())\n",
    "\n",
    "X.AHRSPAY.hist(bins = 89);\n",
    "X_test.AHRSPAY.hist(bins = 89);"
   ]
  },
  {
   "cell_type": "markdown",
   "metadata": {},
   "source": [
    "## enrolled in edu inst last wk — `AHSCOL`"
   ]
  },
  {
   "cell_type": "markdown",
   "metadata": {},
   "source": [
    "## marital status — `AMARITL`"
   ]
  },
  {
   "cell_type": "markdown",
   "metadata": {},
   "source": [
    "## major industry code — `AMJIND`"
   ]
  },
  {
   "cell_type": "markdown",
   "metadata": {},
   "source": [
    "## major occupation code — `AMJOCC`"
   ]
  },
  {
   "cell_type": "markdown",
   "metadata": {},
   "source": [
    "## mace — `ARACE`"
   ]
  },
  {
   "cell_type": "markdown",
   "metadata": {},
   "source": [
    "## hispanic origin — `AREORGN`"
   ]
  },
  {
   "cell_type": "markdown",
   "metadata": {},
   "source": [
    "## sex — `ASEX`"
   ]
  },
  {
   "cell_type": "markdown",
   "metadata": {},
   "source": [
    "## member of a labor union — `AUNMEM`"
   ]
  },
  {
   "cell_type": "markdown",
   "metadata": {},
   "source": [
    "## reason for unemployment — `AUNTYPE`"
   ]
  },
  {
   "cell_type": "markdown",
   "metadata": {},
   "source": [
    "## full or part time employment stat — `AWKSTAT`"
   ]
  },
  {
   "cell_type": "markdown",
   "metadata": {},
   "source": [
    "## capital gains — `CAPGAIN`"
   ]
  },
  {
   "cell_type": "code",
   "execution_count": 47,
   "metadata": {
    "collapsed": false
   },
   "outputs": [
    {
     "name": "stdout",
     "output_type": "stream",
     "text": [
      "count    14800.000000\n",
      "mean      2486.587568\n",
      "std      12241.199188\n",
      "min          0.000000\n",
      "25%          0.000000\n",
      "50%          0.000000\n",
      "75%          0.000000\n",
      "max      99999.000000\n",
      "Name: CAPGAIN, dtype: float64\n"
     ]
    },
    {
     "data": {
      "image/png": "[encoded data removed]",
      "text/plain": [
       "<matplotlib.figure.Figure at 0x10238a128>"
      ]
     },
     "metadata": {},
     "output_type": "display_data"
    }
   ],
   "source": [
    "print(df.CAPGAIN.describe())\n",
    "\n",
    "X.CAPGAIN.hist(bins = 89);\n",
    "X_test.CAPGAIN.hist(bins = 89);"
   ]
  },
  {
   "cell_type": "markdown",
   "metadata": {},
   "source": [
    "## capital losses — `CAPLOSS`"
   ]
  },
  {
   "cell_type": "code",
   "execution_count": 49,
   "metadata": {
    "collapsed": false
   },
   "outputs": [
    {
     "name": "stdout",
     "output_type": "stream",
     "text": [
      "count    14800.000000\n",
      "mean       115.031892\n",
      "std        471.170970\n",
      "min          0.000000\n",
      "25%          0.000000\n",
      "50%          0.000000\n",
      "75%          0.000000\n",
      "max       4356.000000\n",
      "Name: CAPLOSS, dtype: float64\n"
     ]
    },
    {
     "data": {
      "image/png": "[encoded data removed]",
      "text/plain": [
       "<matplotlib.figure.Figure at 0x1092cfb00>"
      ]
     },
     "metadata": {},
     "output_type": "display_data"
    }
   ],
   "source": [
    "print(df.CAPLOSS.describe())\n",
    "\n",
    "X.CAPLOSS.hist(bins = 100);\n",
    "X_test.CAPLOSS.hist(bins = 100);"
   ]
  },
  {
   "cell_type": "markdown",
   "metadata": {},
   "source": [
    "## divdends from stocks — `DIVVAL`"
   ]
  },
  {
   "cell_type": "code",
   "execution_count": 51,
   "metadata": {
    "collapsed": false
   },
   "outputs": [
    {
     "name": "stdout",
     "output_type": "stream",
     "text": [
      "count    14800.000000\n",
      "mean       814.159189\n",
      "std       4814.735793\n",
      "min          0.000000\n",
      "25%          0.000000\n",
      "50%          0.000000\n",
      "75%          5.000000\n",
      "max      99999.000000\n",
      "Name: DIVVAL, dtype: float64\n"
     ]
    },
    {
     "data": {
      "image/png": "[encoded data removed]",
      "text/plain": [
       "<matplotlib.figure.Figure at 0x1092d4c50>"
      ]
     },
     "metadata": {},
     "output_type": "display_data"
    }
   ],
   "source": [
    "print(df.DIVVAL.describe())\n",
    "\n",
    "X.DIVVAL.hist();\n",
    "X_test.DIVVAL.hist();"
   ]
  },
  {
   "cell_type": "markdown",
   "metadata": {},
   "source": [
    "## tax filer status — `FILESTAT`"
   ]
  },
  {
   "cell_type": "markdown",
   "metadata": {},
   "source": [
    "## region of previous residence — `GRINREG`"
   ]
  },
  {
   "cell_type": "markdown",
   "metadata": {},
   "source": [
    "## state of previous residence — `GRINST`"
   ]
  },
  {
   "cell_type": "markdown",
   "metadata": {},
   "source": [
    "## detailed household and family stat — `HHDFMX`"
   ]
  },
  {
   "cell_type": "markdown",
   "metadata": {},
   "source": [
    "## detailed household summary in household — `HHDREL`"
   ]
  },
  {
   "cell_type": "markdown",
   "metadata": {},
   "source": [
    "## instance weight — `MARSUPWT`"
   ]
  },
  {
   "cell_type": "code",
   "execution_count": 62,
   "metadata": {
    "collapsed": false
   },
   "outputs": [
    {
     "name": "stdout",
     "output_type": "stream",
     "text": [
      "count    14800.000000\n",
      "mean      1751.116276\n",
      "std        956.207914\n",
      "min         88.920000\n",
      "25%       1095.292500\n",
      "50%       1659.440000\n",
      "75%       2170.240000\n",
      "max      13145.100000\n",
      "Name: MARSUPWT, dtype: float64\n"
     ]
    },
    {
     "data": {
      "image/png": "[encoded data removed]",
      "text/plain": [
       "<matplotlib.figure.Figure at 0x10b5f6470>"
      ]
     },
     "metadata": {},
     "output_type": "display_data"
    }
   ],
   "source": [
    "print(df.MARSUPWT.describe())\n",
    "\n",
    "X.MARSUPWT.hist();\n",
    "X_test.MARSUPWT.hist();"
   ]
  },
  {
   "cell_type": "markdown",
   "metadata": {},
   "source": [
    "## migration code-change in msa — `MIGMTR1`"
   ]
  },
  {
   "cell_type": "markdown",
   "metadata": {},
   "source": [
    "## migration code-change in reg — `MIGMTR3`"
   ]
  },
  {
   "cell_type": "markdown",
   "metadata": {},
   "source": [
    "## migration code-move within reg — `MIGMTR4`"
   ]
  },
  {
   "cell_type": "markdown",
   "metadata": {},
   "source": [
    "## live in this house 1 year ago — `MIGSAME`"
   ]
  },
  {
   "cell_type": "markdown",
   "metadata": {},
   "source": [
    "## migration prev res in sunbelt — `MIGSUN`"
   ]
  },
  {
   "cell_type": "markdown",
   "metadata": {},
   "source": [
    "## num persons worked for employer — `NOEMP`"
   ]
  },
  {
   "cell_type": "code",
   "execution_count": 61,
   "metadata": {
    "collapsed": false
   },
   "outputs": [
    {
     "name": "stdout",
     "output_type": "stream",
     "text": [
      "count    14800.000000\n",
      "mean         2.870068\n",
      "std          2.445640\n",
      "min          0.000000\n",
      "25%          0.000000\n",
      "50%          3.000000\n",
      "75%          6.000000\n",
      "max          6.000000\n",
      "Name: NOEMP, dtype: float64\n"
     ]
    },
    {
     "data": {
      "image/png": "[encoded data removed]",
      "text/plain": [
       "<matplotlib.figure.Figure at 0x10a8304e0>"
      ]
     },
     "metadata": {},
     "output_type": "display_data"
    }
   ],
   "source": [
    "print(df.NOEMP.describe())\n",
    "\n",
    "X.NOEMP.hist(bins = 7);\n",
    "X_test.NOEMP.hist(bins = 7);"
   ]
  },
  {
   "cell_type": "markdown",
   "metadata": {},
   "source": [
    "## family members under — 18 `PARENT`"
   ]
  },
  {
   "cell_type": "markdown",
   "metadata": {},
   "source": [
    "## country of birthfather — `PEFNTVTY`"
   ]
  },
  {
   "cell_type": "markdown",
   "metadata": {},
   "source": [
    "## country of birthmother — `PEMNTVTY`"
   ]
  },
  {
   "cell_type": "markdown",
   "metadata": {},
   "source": [
    "## country of birthself — `PENATVTY`"
   ]
  },
  {
   "cell_type": "markdown",
   "metadata": {},
   "source": [
    "## citizenship — `PRCITSHP`"
   ]
  },
  {
   "cell_type": "markdown",
   "metadata": {},
   "source": [
    "## own business or self employed — `SEOTR`"
   ]
  },
  {
   "cell_type": "code",
   "execution_count": 58,
   "metadata": {
    "collapsed": false
   },
   "outputs": [
    {
     "name": "stdout",
     "output_type": "stream",
     "text": [
      "count    14800.000000\n",
      "mean         0.211554\n",
      "std          0.592463\n",
      "min          0.000000\n",
      "25%          0.000000\n",
      "50%          0.000000\n",
      "75%          0.000000\n",
      "max          2.000000\n",
      "Name: SEOTR, dtype: float64\n"
     ]
    },
    {
     "data": {
      "image/png": "[encoded data removed]",
      "text/plain": [
       "<matplotlib.figure.Figure at 0x10d1d7ac8>"
      ]
     },
     "metadata": {},
     "output_type": "display_data"
    }
   ],
   "source": [
    "print(df.SEOTR.describe())\n",
    "\n",
    "X.SEOTR.hist();\n",
    "X_test.SEOTR.hist();"
   ]
  },
  {
   "cell_type": "markdown",
   "metadata": {},
   "source": [
    "## taxable income amount — `TAXINC`"
   ]
  },
  {
   "cell_type": "markdown",
   "metadata": {},
   "source": [
    "## fill inc questionnaire for veteran's admin — `VETQVA`"
   ]
  },
  {
   "cell_type": "code",
   "execution_count": 57,
   "metadata": {
    "collapsed": false
   },
   "outputs": [
    {
     "name": "stdout",
     "output_type": "stream",
     "text": [
      "count    14800.000000\n",
      "mean         1.733243\n",
      "std          0.669474\n",
      "min          0.000000\n",
      "25%          2.000000\n",
      "50%          2.000000\n",
      "75%          2.000000\n",
      "max          2.000000\n",
      "Name: VETQVA, dtype: float64\n"
     ]
    },
    {
     "data": {
      "image/png": "[encoded data removed]",
      "text/plain": [
       "<matplotlib.figure.Figure at 0x10a70c390>"
      ]
     },
     "metadata": {},
     "output_type": "display_data"
    }
   ],
   "source": [
    "print(df.VETQVA.describe())\n",
    "\n",
    "X.VETQVA.hist();\n",
    "X_test.VETQVA.hist();"
   ]
  },
  {
   "cell_type": "markdown",
   "metadata": {},
   "source": [
    "## veterans benefits — `VETYN`"
   ]
  },
  {
   "cell_type": "code",
   "execution_count": 56,
   "metadata": {
    "collapsed": false
   },
   "outputs": [
    {
     "name": "stdout",
     "output_type": "stream",
     "text": [
      "count    14800.000000\n",
      "mean        35.101014\n",
      "std         23.161201\n",
      "min          0.000000\n",
      "25%          0.000000\n",
      "50%         52.000000\n",
      "75%         52.000000\n",
      "max         52.000000\n",
      "Name: VETYN, dtype: float64\n"
     ]
    },
    {
     "data": {
      "image/png": "[encoded data removed]",
      "text/plain": [
       "<matplotlib.figure.Figure at 0x1023bc9b0>"
      ]
     },
     "metadata": {},
     "output_type": "display_data"
    }
   ],
   "source": [
    "print(df.VETYN.describe())\n",
    "\n",
    "X.VETYN.hist(bins = 50);\n",
    "X_test.VETYN.hist(bins = 50);"
   ]
  },
  {
   "cell_type": "markdown",
   "metadata": {},
   "source": [
    "## weeks worked in year — `WKSWORK`"
   ]
  },
  {
   "cell_type": "code",
   "execution_count": 52,
   "metadata": {
    "collapsed": false
   },
   "outputs": [
    {
     "name": "stdout",
     "output_type": "stream",
     "text": [
      "count    14800.0\n",
      "mean        94.0\n",
      "std          0.0\n",
      "min         94.0\n",
      "25%         94.0\n",
      "50%         94.0\n",
      "75%         94.0\n",
      "max         94.0\n",
      "Name: WKSWORK, dtype: float64\n"
     ]
    },
    {
     "data": {
      "image/png": "[encoded data removed]",
      "text/plain": [
       "<matplotlib.figure.Figure at 0x10d1e4cf8>"
      ]
     },
     "metadata": {},
     "output_type": "display_data"
    }
   ],
   "source": [
    "print(df.WKSWORK.describe())\n",
    "\n",
    "X.WKSWORK.hist();\n",
    "X_test.WKSWORK.hist();"
   ]
  },
  {
   "cell_type": "code",
   "execution_count": 53,
   "metadata": {
    "collapsed": false
   },
   "outputs": [
    {
     "data": {
      "text/plain": [
       "94    14800\n",
       "Name: WKSWORK, dtype: int64"
      ]
     },
     "execution_count": 53,
     "metadata": {},
     "output_type": "execute_result"
    }
   ],
   "source": [
    "df.WKSWORK.value_counts()"
   ]
  },
  {
   "cell_type": "code",
   "execution_count": null,
   "metadata": {
    "collapsed": true
   },
   "outputs": [],
   "source": []
  }
 ],
 "metadata": {
  "kernelspec": {
   "display_name": "Python 3",
   "language": "python",
   "name": "python3"
  },
  "language_info": {
   "codemirror_mode": {
    "name": "ipython",
    "version": 3
   },
   "file_extension": ".py",
   "mimetype": "text/x-python",
   "name": "python",
   "nbconvert_exporter": "python",
   "pygments_lexer": "ipython3",
   "version": "3.5.2"
  }
 },
 "nbformat": 4,
 "nbformat_minor": 0
}
