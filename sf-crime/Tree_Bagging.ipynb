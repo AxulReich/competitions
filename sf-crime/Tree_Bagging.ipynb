{

 "cells": [

  {

   "cell_type": "code",

   "execution_count": 5,

   "metadata": {

    "collapsed": true

   },

   "outputs": [],

   "source": [

    "from sklearn.cross_validation import KFold\n",

    "from sklearn.ensemble import GradientBoostingClassifier\n",

    "from sklearn.cross_validation import cross_val_score\n",

    "from sklearn.metrics import accuracy_score\n",

    "from sklearn.preprocessing import StandardScaler\n",

    "from sklearn.linear_model import LogisticRegression\n",

    "from sklearn.grid_search import GridSearchCV\n",

    "import pandas as pd\n",

    "import numpy as np\n",

    "import time\n",

    "import datetime\n",

    "\n",

    "# Загрузим обе выборки: обучающую и тестовую.\n",

    "data_train = pd.read_csv('features.csv', index_col='match_id')\n",

    "data_test = pd.read_csv('features_test.csv', index_col='match_id')\n",

    "\n",

    "# target_col будет хранить имя признака, который является целевым.\n",

    "# all_feature_cols будет хранить список всех признаков, которые встречаются в тестовой выборке.\n",

    "# categorial_cols будет хранить список категориальных признаков\n",

    "target_col = 'radiant_win'\n",

    "all_feature_cols = set([col for col in data_test if col != target_col])\n",

    "categorial_cols = set(['{}{}_hero'.format(team, number) for team in 'rd' for number in range(1, 6)])\n",

    "categorial_cols.add('lobby_type')\n",

    "\n",

    "# Заполним пропуски в данных средними значениями колонки.\n",

    "for dataset in [data_train, data_test]:\n",

    "    for feature_name in dataset:\n",

    "        if dataset[feature_name].isnull().sum() > 0:\n",

    "            dataset[feature_name] = dataset[feature_name].fillna(dataset[feature_name].mean())\n",

    "\n",

    "# features = data_train[[col for col in data_train if col is not 'radiant_win']]\n",

    "y = data_train[target_col]\n",

    "\n",

    "# X - это данные, на которых мы будем обучаться. Заметьте: в них нет категориальных признаков.\n",

    "X = data_train[list(all_feature_cols - categorial_cols)]\n",

    "\n",

    "# Сюда мы включим категориальные признаки.\n",

    "X_categorial = data_train[list(all_feature_cols)]\n",

    "\n",

    "def run_gradient_boosting(X_=X, n_estimators=100):\n",

    "    kf = KFold(n=X_.shape[0], n_folds=5, shuffle=True)\n",

    "    print('n_estimators: {}'.format(n_estimators))\n",

    "\n",

    "    clf = GradientBoostingClassifier(n_estimators=n_estimators)\n",

    "\n",

    "    start_time = datetime.datetime.now()\n",

    "    scores = cross_val_score(clf, X_, y, cv=kf, scoring='roc_auc')\n",

    "    elapsed_time = datetime.datetime.now() - start_time\n",

    "\n",

    "    print('cross_val_score: {}'.format(sum(scores) / len(scores)))\n",

    "    print('corss validation lasted {}'.format(elapsed_time))\n",

    "    print()\n",

    "\n",

    "\n",

    "hero_to_number = dict()\n",

    "s = set()\n",

    "\n",

    "cnt = 0\n",

    "for col in categorial_cols:\n",

    "    if col != 'lobby_type':\n",

    "        for hero in data_train[col]:\n",

    "            if hero not in s:\n",

    "                s.add(hero)\n",

    "                hero_to_number[hero] = cnt\n",

    "                cnt += 1\n",

    "\n",

    "X_pick = np.zeros((X_categorial.shape[0], max(s)))\n",

    "\n",

    "for i, match_id in enumerate(X_categorial.index):\n",

    "    for p in range(5):\n",

    "        X_pick[i, X_categorial.ix[match_id, 'r%d_hero' % (p+1)]-1] = 1\n",

    "        X_pick[i, X_categorial.ix[match_id, 'd%d_hero' % (p+1)]-1] = -1\n",

    "\n",

    "\n",

    "X_bag = np.hstack((X, X_pick))"

   ]

  },

  {

   "cell_type": "markdown",

   "metadata": {},

   "source": [

    "## Градиентный бустинг по данным с категориальными признаками"

   ]

  },

  {

   "cell_type": "code",

   "execution_count": 6,

   "metadata": {

    "collapsed": false

   },

   "outputs": [

    {

     "name": "stdout",

     "output_type": "stream",

     "text": [

      "n_estimators: 100\n",

      "cross_val_score: 0.7066612287490657\n",

      "corss validation lasted 0:04:07.896795\n",

      "\n"

     ]

    }

   ],

   "source": [

    "run_gradient_boosting(X_=X_categorial)"

   ]

  },

  {

   "cell_type": "markdown",

   "metadata": {},

   "source": [

    "## Градиентный бустинг по данным без категориальных признаков"

   ]

  },

  {

   "cell_type": "code",

   "execution_count": 7,

   "metadata": {

    "collapsed": false

   },

   "outputs": [

    {

     "name": "stdout",

     "output_type": "stream",

     "text": [

      "n_estimators: 100\n",

      "cross_val_score: 0.706675084368468\n",

      "corss validation lasted 0:03:30.107616\n",

      "\n"

     ]

    }

   ],

   "source": [

    "run_gradient_boosting()"

   ]

  },

  {

   "cell_type": "markdown",

   "metadata": {},

   "source": [

    "## Градиентный бустинг по данным с мешком слов по героям"

   ]

  },

  {

   "cell_type": "code",

   "execution_count": 8,

   "metadata": {

    "collapsed": false

   },

   "outputs": [

    {

     "name": "stdout",

     "output_type": "stream",

     "text": [

      "n_estimators: 100\n",

      "cross_val_score: 0.7139306517324352\n",

      "corss validation lasted 0:12:40.229536\n",

      "\n"

     ]

    }

   ],

   "source": [

    "clf = run_gradient_boosting(X_=X_bag)"

   ]

  }

 ],

 "metadata": {

  "kernelspec": {

   "display_name": "Python 3",

   "language": "python",

   "name": "python3"

  },

  "language_info": {

   "codemirror_mode": {

    "name": "ipython",

    "version": 3

   },

   "file_extension": ".py",

   "mimetype": "text/x-python",

   "name": "python",

   "nbconvert_exporter": "python",

   "pygments_lexer": "ipython3",

   "version": "3.4.3+"

  }

 },

 "nbformat": 4,

 "nbformat_minor": 0

}