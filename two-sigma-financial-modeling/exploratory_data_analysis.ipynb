{
 "cells": [
  {
   "cell_type": "markdown",
   "metadata": {},
   "source": [
    "# Exploratory data analysis"
   ]
  },
  {
   "cell_type": "code",
   "execution_count": 1,
   "metadata": {
    "collapsed": true
   },
   "outputs": [],
   "source": [
    "import pandas as pd\n",
    "import numpy as np\n",
    "\n",
    "import pandas_profiling"
   ]
  },
  {
   "cell_type": "code",
   "execution_count": 24,
   "metadata": {
    "collapsed": false
   },
   "outputs": [],
   "source": [
    "import matplotlib.pyplot as plt\n",
    "%matplotlib inline\n",
    "import seaborn"
   ]
  },
  {
   "cell_type": "code",
   "execution_count": 2,
   "metadata": {
    "collapsed": false
   },
   "outputs": [],
   "source": [
    "%run import.ipynb"
   ]
  },
  {
   "cell_type": "markdown",
   "metadata": {},
   "source": [
    "## Target variable"
   ]
  },
  {
   "cell_type": "code",
   "execution_count": 3,
   "metadata": {
    "collapsed": false,
    "scrolled": true
   },
   "outputs": [
    {
     "data": {
      "text/plain": [
       "count    1.710756e+06\n",
       "mean     2.217509e-04\n",
       "std      2.240643e-02\n",
       "min     -8.609413e-02\n",
       "25%     -9.561389e-03\n",
       "50%     -1.570681e-04\n",
       "75%      9.520990e-03\n",
       "max      9.349781e-02\n",
       "Name: y, dtype: float64"
      ]
     },
     "execution_count": 3,
     "metadata": {},
     "output_type": "execute_result"
    }
   ],
   "source": [
    "y.describe()"
   ]
  },
  {
   "cell_type": "code",
   "execution_count": 4,
   "metadata": {
    "collapsed": false,
    "scrolled": true
   },
   "outputs": [
    {
     "data": {
      "image/png": "[encoded data removed]",
      "text/plain": [
       "<matplotlib.figure.Figure at 0x7f855b6a39b0>"
      ]
     },
     "metadata": {},
     "output_type": "display_data"
    }
   ],
   "source": [
    "plt.figure(figsize = (14, 5));\n",
    "plt.hist(y, bins = 50, color = 'green', alpha = 0.5);\n",
    "\n",
    "# balls = pd.DataFrame([[-0.01, 0.0, 0.015], [25000, 175000, 75000]]).transpose()\n",
    "# plt.scatter(balls[0], balls[1], color = 'red', s = 80);"
   ]
  },
  {
   "cell_type": "markdown",
   "metadata": {},
   "source": [
    "## Features"
   ]
  },
  {
   "cell_type": "code",
   "execution_count": 5,
   "metadata": {
    "collapsed": false,
    "scrolled": true
   },
   "outputs": [
    {
     "data": {
      "text/plain": [
       "Index(['id', 'timestamp', 'derived_0', 'derived_1', 'derived_2', 'derived_3',\n",
       "       'derived_4', 'fundamental_0', 'fundamental_1', 'fundamental_2',\n",
       "       ...\n",
       "       'technical_35', 'technical_36', 'technical_37', 'technical_38',\n",
       "       'technical_39', 'technical_40', 'technical_41', 'technical_42',\n",
       "       'technical_43', 'technical_44'],\n",
       "      dtype='object', length=110)"
      ]
     },
     "execution_count": 5,
     "metadata": {},
     "output_type": "execute_result"
    }
   ],
   "source": [
    "X.columns"
   ]
  },
  {
   "cell_type": "code",
   "execution_count": 6,
   "metadata": {
    "collapsed": false
   },
   "outputs": [],
   "source": [
    "cols = X.columns\n",
    "n_rows = X.shape[0]\n",
    "nulls_sum = []\n",
    "\n",
    "for c in cols:\n",
    "    current_nulls_sum = sum(X[c].isnull())\n",
    "    nulls_sum.append(current_nulls_sum)"
   ]
  },
  {
   "cell_type": "code",
   "execution_count": 9,
   "metadata": {
    "collapsed": true
   },
   "outputs": [],
   "source": [
    "nulls = pd.DataFrame({'column' : cols, 'n' : nulls_sum})\n",
    "nulls['percent'] = round(nulls.n * 100 / n_rows, 2)"
   ]
  },
  {
   "cell_type": "code",
   "execution_count": 13,
   "metadata": {
    "collapsed": false
   },
   "outputs": [
    {
     "data": {
      "text/html": [
       "<div>\n",
       "<table border=\"1\" class=\"dataframe\">\n",
       "  <thead>\n",
       "    <tr style=\"text-align: right;\">\n",
       "      <th></th>\n",
       "      <th>column</th>\n",
       "      <th>n</th>\n",
       "      <th>percent</th>\n",
       "    </tr>\n",
       "  </thead>\n",
       "  <tbody>\n",
       "    <tr>\n",
       "      <th>11</th>\n",
       "      <td>fundamental_5</td>\n",
       "      <td>962020</td>\n",
       "      <td>56.23</td>\n",
       "    </tr>\n",
       "    <tr>\n",
       "      <th>44</th>\n",
       "      <td>fundamental_38</td>\n",
       "      <td>803489</td>\n",
       "      <td>46.97</td>\n",
       "    </tr>\n",
       "    <tr>\n",
       "      <th>12</th>\n",
       "      <td>fundamental_6</td>\n",
       "      <td>701625</td>\n",
       "      <td>41.01</td>\n",
       "    </tr>\n",
       "    <tr>\n",
       "      <th>8</th>\n",
       "      <td>fundamental_1</td>\n",
       "      <td>679070</td>\n",
       "      <td>39.69</td>\n",
       "    </tr>\n",
       "    <tr>\n",
       "      <th>67</th>\n",
       "      <td>fundamental_61</td>\n",
       "      <td>671801</td>\n",
       "      <td>39.27</td>\n",
       "    </tr>\n",
       "    <tr>\n",
       "      <th>34</th>\n",
       "      <td>fundamental_28</td>\n",
       "      <td>667331</td>\n",
       "      <td>39.01</td>\n",
       "    </tr>\n",
       "    <tr>\n",
       "      <th>32</th>\n",
       "      <td>fundamental_26</td>\n",
       "      <td>657184</td>\n",
       "      <td>38.41</td>\n",
       "    </tr>\n",
       "    <tr>\n",
       "      <th>63</th>\n",
       "      <td>fundamental_57</td>\n",
       "      <td>657184</td>\n",
       "      <td>38.41</td>\n",
       "    </tr>\n",
       "    <tr>\n",
       "      <th>30</th>\n",
       "      <td>fundamental_24</td>\n",
       "      <td>576655</td>\n",
       "      <td>33.71</td>\n",
       "    </tr>\n",
       "    <tr>\n",
       "      <th>15</th>\n",
       "      <td>fundamental_9</td>\n",
       "      <td>565567</td>\n",
       "      <td>33.06</td>\n",
       "    </tr>\n",
       "    <tr>\n",
       "      <th>28</th>\n",
       "      <td>fundamental_22</td>\n",
       "      <td>558488</td>\n",
       "      <td>32.65</td>\n",
       "    </tr>\n",
       "    <tr>\n",
       "      <th>55</th>\n",
       "      <td>fundamental_49</td>\n",
       "      <td>558333</td>\n",
       "      <td>32.64</td>\n",
       "    </tr>\n",
       "    <tr>\n",
       "      <th>37</th>\n",
       "      <td>fundamental_31</td>\n",
       "      <td>454380</td>\n",
       "      <td>26.56</td>\n",
       "    </tr>\n",
       "    <tr>\n",
       "      <th>10</th>\n",
       "      <td>fundamental_3</td>\n",
       "      <td>454380</td>\n",
       "      <td>26.56</td>\n",
       "    </tr>\n",
       "    <tr>\n",
       "      <th>57</th>\n",
       "      <td>fundamental_51</td>\n",
       "      <td>447053</td>\n",
       "      <td>26.13</td>\n",
       "    </tr>\n",
       "    <tr>\n",
       "      <th>53</th>\n",
       "      <td>fundamental_47</td>\n",
       "      <td>446328</td>\n",
       "      <td>26.09</td>\n",
       "    </tr>\n",
       "    <tr>\n",
       "      <th>40</th>\n",
       "      <td>fundamental_34</td>\n",
       "      <td>434862</td>\n",
       "      <td>25.42</td>\n",
       "    </tr>\n",
       "    <tr>\n",
       "      <th>41</th>\n",
       "      <td>fundamental_35</td>\n",
       "      <td>424476</td>\n",
       "      <td>24.81</td>\n",
       "    </tr>\n",
       "    <tr>\n",
       "      <th>6</th>\n",
       "      <td>derived_4</td>\n",
       "      <td>406458</td>\n",
       "      <td>23.76</td>\n",
       "    </tr>\n",
       "    <tr>\n",
       "      <th>4</th>\n",
       "      <td>derived_2</td>\n",
       "      <td>398651</td>\n",
       "      <td>23.30</td>\n",
       "    </tr>\n",
       "  </tbody>\n",
       "</table>\n",
       "</div>"
      ],
      "text/plain": [
       "            column       n  percent\n",
       "11   fundamental_5  962020    56.23\n",
       "44  fundamental_38  803489    46.97\n",
       "12   fundamental_6  701625    41.01\n",
       "8    fundamental_1  679070    39.69\n",
       "67  fundamental_61  671801    39.27\n",
       "34  fundamental_28  667331    39.01\n",
       "32  fundamental_26  657184    38.41\n",
       "63  fundamental_57  657184    38.41\n",
       "30  fundamental_24  576655    33.71\n",
       "15   fundamental_9  565567    33.06\n",
       "28  fundamental_22  558488    32.65\n",
       "55  fundamental_49  558333    32.64\n",
       "37  fundamental_31  454380    26.56\n",
       "10   fundamental_3  454380    26.56\n",
       "57  fundamental_51  447053    26.13\n",
       "53  fundamental_47  446328    26.09\n",
       "40  fundamental_34  434862    25.42\n",
       "41  fundamental_35  424476    24.81\n",
       "6        derived_4  406458    23.76\n",
       "4        derived_2  398651    23.30"
      ]
     },
     "execution_count": 13,
     "metadata": {},
     "output_type": "execute_result"
    }
   ],
   "source": [
    "nulls.sort_values(by = 'percent',\n",
    "                  ascending = False).head(20)"
   ]
  },
  {
   "cell_type": "code",
   "execution_count": 15,
   "metadata": {
    "collapsed": true
   },
   "outputs": [],
   "source": [
    "# X.describe()"
   ]
  },
  {
   "cell_type": "code",
   "execution_count": 14,
   "metadata": {
    "collapsed": false
   },
   "outputs": [],
   "source": [
    "# %time rep = pandas_profiling.ProfileReport(X)\n",
    "# rep.to_file('pandas_profiling_report.html')"
   ]
  },
  {
   "cell_type": "code",
   "execution_count": 37,
   "metadata": {
    "collapsed": false
   },
   "outputs": [
    {
     "data": {
      "image/png": "[encoded data removed]",
      "text/plain": [
       "<matplotlib.figure.Figure at 0x7fb0bc7a2f28>"
      ]
     },
     "metadata": {},
     "output_type": "display_data"
    }
   ],
   "source": [
    "plt.figure(figsize = (12, 4));\n",
    "plt.hist(X.fundamental_3.fillna(-1), bins = 50);"
   ]
  },
  {
   "cell_type": "code",
   "execution_count": 38,
   "metadata": {
    "collapsed": false
   },
   "outputs": [
    {
     "data": {
      "image/png": "[encoded data removed]",
      "text/plain": [
       "<matplotlib.figure.Figure at 0x7fb0bc96f588>"
      ]
     },
     "metadata": {},
     "output_type": "display_data"
    }
   ],
   "source": [
    "plt.figure(figsize = (12, 4));\n",
    "plt.hist(X.fundamental_31[X.fundamental_31.isnull() == False], bins = 50);"
   ]
  },
  {
   "cell_type": "markdown",
   "metadata": {
    "collapsed": true
   },
   "source": [
    "## Correlations"
   ]
  },
  {
   "cell_type": "code",
   "execution_count": 10,
   "metadata": {
    "collapsed": false,
    "scrolled": true
   },
   "outputs": [
    {
     "data": {
      "text/plain": [
       "technical_30      0.014272\n",
       "fundamental_11    0.008151\n",
       "fundamental_51    0.006013\n",
       "fundamental_53    0.006009\n",
       "fundamental_18    0.005123\n",
       "technical_0       0.004328\n",
       "fundamental_55    0.003846\n",
       "technical_37      0.003783\n",
       "fundamental_60    0.003421\n",
       "fundamental_56    0.002926\n",
       "fundamental_2     0.002646\n",
       "fundamental_15    0.001970\n",
       "technical_12      0.001834\n",
       "fundamental_17    0.001646\n",
       "fundamental_63    0.001558\n",
       "technical_3       0.001544\n",
       "fundamental_28    0.001452\n",
       "technical_16      0.001413\n",
       "technical_13      0.001377\n",
       "derived_2         0.001369\n",
       "dtype: float64"
      ]
     },
     "execution_count": 10,
     "metadata": {},
     "output_type": "execute_result"
    }
   ],
   "source": [
    "correlations_with_target = X.corrwith(y)\n",
    "correlations_with_target.sort_values(ascending = False).head(20)"
   ]
  },
  {
   "cell_type": "markdown",
   "metadata": {},
   "source": [
    "-----\n",
    "Let's check:\n",
    "\n",
    "* `fundamental_26`, `fundamental_57`\n",
    "* `fundamental_31`, `fundamental_3`"
   ]
  },
  {
   "cell_type": "code",
   "execution_count": 17,
   "metadata": {
    "collapsed": false
   },
   "outputs": [
    {
     "data": {
      "text/html": [
       "<div>\n",
       "<table border=\"1\" class=\"dataframe\">\n",
       "  <thead>\n",
       "    <tr style=\"text-align: right;\">\n",
       "      <th></th>\n",
       "      <th>fundamental_26</th>\n",
       "      <th>fundamental_57</th>\n",
       "    </tr>\n",
       "  </thead>\n",
       "  <tbody>\n",
       "    <tr>\n",
       "      <th>fundamental_26</th>\n",
       "      <td>1.000000</td>\n",
       "      <td>-0.000978</td>\n",
       "    </tr>\n",
       "    <tr>\n",
       "      <th>fundamental_57</th>\n",
       "      <td>-0.000978</td>\n",
       "      <td>1.000000</td>\n",
       "    </tr>\n",
       "  </tbody>\n",
       "</table>\n",
       "</div>"
      ],
      "text/plain": [
       "                fundamental_26  fundamental_57\n",
       "fundamental_26        1.000000       -0.000978\n",
       "fundamental_57       -0.000978        1.000000"
      ]
     },
     "execution_count": 17,
     "metadata": {},
     "output_type": "execute_result"
    }
   ],
   "source": [
    "X[['fundamental_26', 'fundamental_57']].corr()"
   ]
  },
  {
   "cell_type": "code",
   "execution_count": 18,
   "metadata": {
    "collapsed": false,
    "scrolled": true
   },
   "outputs": [
    {
     "data": {
      "text/html": [
       "<div>\n",
       "<table border=\"1\" class=\"dataframe\">\n",
       "  <thead>\n",
       "    <tr style=\"text-align: right;\">\n",
       "      <th></th>\n",
       "      <th>fundamental_31</th>\n",
       "      <th>fundamental_3</th>\n",
       "    </tr>\n",
       "  </thead>\n",
       "  <tbody>\n",
       "    <tr>\n",
       "      <th>fundamental_31</th>\n",
       "      <td>1.000000</td>\n",
       "      <td>0.017613</td>\n",
       "    </tr>\n",
       "    <tr>\n",
       "      <th>fundamental_3</th>\n",
       "      <td>0.017613</td>\n",
       "      <td>1.000000</td>\n",
       "    </tr>\n",
       "  </tbody>\n",
       "</table>\n",
       "</div>"
      ],
      "text/plain": [
       "                fundamental_31  fundamental_3\n",
       "fundamental_31        1.000000       0.017613\n",
       "fundamental_3         0.017613       1.000000"
      ]
     },
     "execution_count": 18,
     "metadata": {},
     "output_type": "execute_result"
    }
   ],
   "source": [
    "X[['fundamental_31', 'fundamental_3']].corr()"
   ]
  },
  {
   "cell_type": "code",
   "execution_count": null,
   "metadata": {
    "collapsed": true
   },
   "outputs": [],
   "source": []
  }
 ],
 "metadata": {
  "anaconda-cloud": {},
  "kernelspec": {
   "display_name": "Python [default]",
   "language": "python",
   "name": "python3"
  },
  "language_info": {
   "codemirror_mode": {
    "name": "ipython",
    "version": 3
   },
   "file_extension": ".py",
   "mimetype": "text/x-python",
   "name": "python",
   "nbconvert_exporter": "python",
   "pygments_lexer": "ipython3",
   "version": "3.5.2"
  }
 },
 "nbformat": 4,
 "nbformat_minor": 1
}
