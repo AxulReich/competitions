{
 "cells": [
  {
   "cell_type": "markdown",
   "metadata": {},
   "source": [
    "# Exploratory data analysis"
   ]
  },
  {
   "cell_type": "code",
   "execution_count": 1,
   "metadata": {
    "collapsed": true
   },
   "outputs": [],
   "source": [
    "import pandas as pd\n",
    "import numpy as np\n",
    "\n",
    "import pandas_profiling"
   ]
  },
  {
   "cell_type": "code",
   "execution_count": 24,
   "metadata": {
    "collapsed": false
   },
   "outputs": [],
   "source": [
    "import matplotlib.pyplot as plt\n",
    "%matplotlib inline\n",
    "import seaborn"
   ]
  },
  {
   "cell_type": "code",
   "execution_count": 2,
   "metadata": {
    "collapsed": false
   },
   "outputs": [],
   "source": [
    "%run import.ipynb"
   ]
  },
  {
   "cell_type": "markdown",
   "metadata": {},
   "source": [
    "## Target variable"
   ]
  },
  {
   "cell_type": "code",
   "execution_count": 3,
   "metadata": {
    "collapsed": false,
    "scrolled": true
   },
   "outputs": [
    {
     "data": {
      "text/plain": [
       "count    1.710756e+06\n",
       "mean     2.217509e-04\n",
       "std      2.240643e-02\n",
       "min     -8.609413e-02\n",
       "25%     -9.561389e-03\n",
       "50%     -1.570681e-04\n",
       "75%      9.520990e-03\n",
       "max      9.349781e-02\n",
       "Name: y, dtype: float64"
      ]
     },
     "execution_count": 3,
     "metadata": {},
     "output_type": "execute_result"
    }
   ],
   "source": [
    "y.describe()"
   ]
  },
  {
   "cell_type": "code",
   "execution_count": 30,
   "metadata": {
    "collapsed": false,
    "scrolled": false
   },
   "outputs": [
    {
     "data": {
      "image/png": "[encoded data removed]",
      "text/plain": [
       "<matplotlib.figure.Figure at 0x16437ab00>"
      ]
     },
     "metadata": {},
     "output_type": "display_data"
    }
   ],
   "source": [
    "plt.figure(figsize = (14, 5));\n",
    "plt.hist(y, bins = 50, color = 'green', alpha = 0.5);\n",
    "\n",
    "balls = pd.DataFrame([[-0.01, 0.0002, 0.015], [25000, 147000, 75000]]).transpose()\n",
    "plt.scatter(balls[0], balls[1], color = 'red', s = 80, marker = 'o');\n",
    "\n",
    "star = pd.DataFrame([[0.0], [180000]]).transpose()\n",
    "plt.scatter(star[0], star[1], color = 'red', s = 2000, marker = '*');"
   ]
  },
  {
   "cell_type": "markdown",
   "metadata": {},
   "source": [
    "## Features"
   ]
  },
  {
   "cell_type": "code",
   "execution_count": 4,
   "metadata": {
    "collapsed": false
   },
   "outputs": [
    {
     "data": {
      "text/plain": [
       "(1710756, 110)"
      ]
     },
     "execution_count": 4,
     "metadata": {},
     "output_type": "execute_result"
    }
   ],
   "source": [
    "X.shape"
   ]
  },
  {
   "cell_type": "code",
   "execution_count": 3,
   "metadata": {
    "collapsed": false,
    "scrolled": true
   },
   "outputs": [
    {
     "data": {
      "text/plain": [
       "Index(['id', 'timestamp', 'derived_0', 'derived_1', 'derived_2', 'derived_3',\n",
       "       'derived_4', 'fundamental_0', 'fundamental_1', 'fundamental_2',\n",
       "       ...\n",
       "       'technical_35', 'technical_36', 'technical_37', 'technical_38',\n",
       "       'technical_39', 'technical_40', 'technical_41', 'technical_42',\n",
       "       'technical_43', 'technical_44'],\n",
       "      dtype='object', length=110)"
      ]
     },
     "execution_count": 3,
     "metadata": {},
     "output_type": "execute_result"
    }
   ],
   "source": [
    "X.columns"
   ]
  },
  {
   "cell_type": "code",
   "execution_count": 5,
   "metadata": {
    "collapsed": false
   },
   "outputs": [],
   "source": [
    "cols = X.columns\n",
    "n_rows = X.shape[0]\n",
    "nulls_sum = []\n",
    "\n",
    "for c in cols:\n",
    "    current_nulls_sum = sum(X[c].isnull())\n",
    "    nulls_sum.append(current_nulls_sum)"
   ]
  },
  {
   "cell_type": "code",
   "execution_count": 6,
   "metadata": {
    "collapsed": true
   },
   "outputs": [],
   "source": [
    "nulls = pd.DataFrame({'column' : cols, 'n' : nulls_sum})\n",
    "nulls['percent'] = round(nulls.n * 100 / n_rows, 2)"
   ]
  },
  {
   "cell_type": "code",
   "execution_count": 7,
   "metadata": {
    "collapsed": false
   },
   "outputs": [
    {
     "data": {
      "text/html": [
       "<div>\n",
       "<table border=\"1\" class=\"dataframe\">\n",
       "  <thead>\n",
       "    <tr style=\"text-align: right;\">\n",
       "      <th></th>\n",
       "      <th>column</th>\n",
       "      <th>n</th>\n",
       "      <th>percent</th>\n",
       "    </tr>\n",
       "  </thead>\n",
       "  <tbody>\n",
       "    <tr>\n",
       "      <th>11</th>\n",
       "      <td>fundamental_5</td>\n",
       "      <td>962020</td>\n",
       "      <td>56.23</td>\n",
       "    </tr>\n",
       "    <tr>\n",
       "      <th>44</th>\n",
       "      <td>fundamental_38</td>\n",
       "      <td>803489</td>\n",
       "      <td>46.97</td>\n",
       "    </tr>\n",
       "    <tr>\n",
       "      <th>12</th>\n",
       "      <td>fundamental_6</td>\n",
       "      <td>701625</td>\n",
       "      <td>41.01</td>\n",
       "    </tr>\n",
       "    <tr>\n",
       "      <th>8</th>\n",
       "      <td>fundamental_1</td>\n",
       "      <td>679070</td>\n",
       "      <td>39.69</td>\n",
       "    </tr>\n",
       "    <tr>\n",
       "      <th>67</th>\n",
       "      <td>fundamental_61</td>\n",
       "      <td>671801</td>\n",
       "      <td>39.27</td>\n",
       "    </tr>\n",
       "    <tr>\n",
       "      <th>34</th>\n",
       "      <td>fundamental_28</td>\n",
       "      <td>667331</td>\n",
       "      <td>39.01</td>\n",
       "    </tr>\n",
       "    <tr>\n",
       "      <th>32</th>\n",
       "      <td>fundamental_26</td>\n",
       "      <td>657184</td>\n",
       "      <td>38.41</td>\n",
       "    </tr>\n",
       "    <tr>\n",
       "      <th>63</th>\n",
       "      <td>fundamental_57</td>\n",
       "      <td>657184</td>\n",
       "      <td>38.41</td>\n",
       "    </tr>\n",
       "    <tr>\n",
       "      <th>30</th>\n",
       "      <td>fundamental_24</td>\n",
       "      <td>576655</td>\n",
       "      <td>33.71</td>\n",
       "    </tr>\n",
       "    <tr>\n",
       "      <th>15</th>\n",
       "      <td>fundamental_9</td>\n",
       "      <td>565567</td>\n",
       "      <td>33.06</td>\n",
       "    </tr>\n",
       "    <tr>\n",
       "      <th>28</th>\n",
       "      <td>fundamental_22</td>\n",
       "      <td>558488</td>\n",
       "      <td>32.65</td>\n",
       "    </tr>\n",
       "    <tr>\n",
       "      <th>55</th>\n",
       "      <td>fundamental_49</td>\n",
       "      <td>558333</td>\n",
       "      <td>32.64</td>\n",
       "    </tr>\n",
       "    <tr>\n",
       "      <th>37</th>\n",
       "      <td>fundamental_31</td>\n",
       "      <td>454380</td>\n",
       "      <td>26.56</td>\n",
       "    </tr>\n",
       "    <tr>\n",
       "      <th>10</th>\n",
       "      <td>fundamental_3</td>\n",
       "      <td>454380</td>\n",
       "      <td>26.56</td>\n",
       "    </tr>\n",
       "    <tr>\n",
       "      <th>57</th>\n",
       "      <td>fundamental_51</td>\n",
       "      <td>447053</td>\n",
       "      <td>26.13</td>\n",
       "    </tr>\n",
       "    <tr>\n",
       "      <th>53</th>\n",
       "      <td>fundamental_47</td>\n",
       "      <td>446328</td>\n",
       "      <td>26.09</td>\n",
       "    </tr>\n",
       "    <tr>\n",
       "      <th>40</th>\n",
       "      <td>fundamental_34</td>\n",
       "      <td>434862</td>\n",
       "      <td>25.42</td>\n",
       "    </tr>\n",
       "    <tr>\n",
       "      <th>41</th>\n",
       "      <td>fundamental_35</td>\n",
       "      <td>424476</td>\n",
       "      <td>24.81</td>\n",
       "    </tr>\n",
       "    <tr>\n",
       "      <th>6</th>\n",
       "      <td>derived_4</td>\n",
       "      <td>406458</td>\n",
       "      <td>23.76</td>\n",
       "    </tr>\n",
       "    <tr>\n",
       "      <th>4</th>\n",
       "      <td>derived_2</td>\n",
       "      <td>398651</td>\n",
       "      <td>23.30</td>\n",
       "    </tr>\n",
       "  </tbody>\n",
       "</table>\n",
       "</div>"
      ],
      "text/plain": [
       "            column       n  percent\n",
       "11   fundamental_5  962020    56.23\n",
       "44  fundamental_38  803489    46.97\n",
       "12   fundamental_6  701625    41.01\n",
       "8    fundamental_1  679070    39.69\n",
       "67  fundamental_61  671801    39.27\n",
       "34  fundamental_28  667331    39.01\n",
       "32  fundamental_26  657184    38.41\n",
       "63  fundamental_57  657184    38.41\n",
       "30  fundamental_24  576655    33.71\n",
       "15   fundamental_9  565567    33.06\n",
       "28  fundamental_22  558488    32.65\n",
       "55  fundamental_49  558333    32.64\n",
       "37  fundamental_31  454380    26.56\n",
       "10   fundamental_3  454380    26.56\n",
       "57  fundamental_51  447053    26.13\n",
       "53  fundamental_47  446328    26.09\n",
       "40  fundamental_34  434862    25.42\n",
       "41  fundamental_35  424476    24.81\n",
       "6        derived_4  406458    23.76\n",
       "4        derived_2  398651    23.30"
      ]
     },
     "execution_count": 7,
     "metadata": {},
     "output_type": "execute_result"
    }
   ],
   "source": [
    "nulls.sort_values(by = 'percent',\n",
    "                  ascending = False).head(20)"
   ]
  },
  {
   "cell_type": "code",
   "execution_count": 31,
   "metadata": {
    "collapsed": true
   },
   "outputs": [],
   "source": [
    "nulls.to_csv('nulls_by_features.csv', index = False)"
   ]
  },
  {
   "cell_type": "code",
   "execution_count": 37,
   "metadata": {
    "collapsed": false
   },
   "outputs": [
    {
     "data": {
      "image/png": "[encoded data removed]",
      "text/plain": [
       "<matplotlib.figure.Figure at 0x7fb0bc7a2f28>"
      ]
     },
     "metadata": {},
     "output_type": "display_data"
    }
   ],
   "source": [
    "plt.figure(figsize = (12, 4));\n",
    "plt.hist(X.fundamental_3.fillna(-1), bins = 50);"
   ]
  },
  {
   "cell_type": "code",
   "execution_count": 38,
   "metadata": {
    "collapsed": false,
    "scrolled": true
   },
   "outputs": [
    {
     "data": {
      "image/png": "[encoded data removed]",
      "text/plain": [
       "<matplotlib.figure.Figure at 0x7fb0bc96f588>"
      ]
     },
     "metadata": {},
     "output_type": "display_data"
    }
   ],
   "source": [
    "plt.figure(figsize = (12, 4));\n",
    "plt.hist(X.fundamental_31[X.fundamental_31.isnull() == False], bins = 50);"
   ]
  },
  {
   "cell_type": "markdown",
   "metadata": {},
   "source": [
    "### Taking subsample"
   ]
  },
  {
   "cell_type": "code",
   "execution_count": 13,
   "metadata": {
    "collapsed": true
   },
   "outputs": [],
   "source": [
    "X_subsample = X.sample(n = n_rows // 10)"
   ]
  },
  {
   "cell_type": "code",
   "execution_count": 15,
   "metadata": {
    "collapsed": true
   },
   "outputs": [],
   "source": [
    "del X"
   ]
  },
  {
   "cell_type": "code",
   "execution_count": 21,
   "metadata": {
    "collapsed": false
   },
   "outputs": [
    {
     "data": {
      "text/html": [
       "<div>\n",
       "<table border=\"1\" class=\"dataframe\">\n",
       "  <thead>\n",
       "    <tr style=\"text-align: right;\">\n",
       "      <th></th>\n",
       "      <th>id</th>\n",
       "      <th>timestamp</th>\n",
       "      <th>derived_0</th>\n",
       "      <th>derived_1</th>\n",
       "      <th>derived_2</th>\n",
       "      <th>derived_3</th>\n",
       "      <th>derived_4</th>\n",
       "      <th>fundamental_0</th>\n",
       "      <th>fundamental_1</th>\n",
       "      <th>fundamental_2</th>\n",
       "      <th>...</th>\n",
       "      <th>technical_35</th>\n",
       "      <th>technical_36</th>\n",
       "      <th>technical_37</th>\n",
       "      <th>technical_38</th>\n",
       "      <th>technical_39</th>\n",
       "      <th>technical_40</th>\n",
       "      <th>technical_41</th>\n",
       "      <th>technical_42</th>\n",
       "      <th>technical_43</th>\n",
       "      <th>technical_44</th>\n",
       "    </tr>\n",
       "  </thead>\n",
       "  <tbody>\n",
       "    <tr>\n",
       "      <th>624349</th>\n",
       "      <td>448</td>\n",
       "      <td>714</td>\n",
       "      <td>0.008687</td>\n",
       "      <td>0.203457</td>\n",
       "      <td>0.082071</td>\n",
       "      <td>-0.258893</td>\n",
       "      <td>0.264414</td>\n",
       "      <td>-0.088042</td>\n",
       "      <td>NaN</td>\n",
       "      <td>0.259644</td>\n",
       "      <td>...</td>\n",
       "      <td>0.568245</td>\n",
       "      <td>0.265521</td>\n",
       "      <td>-0.425651</td>\n",
       "      <td>-2.608988e-07</td>\n",
       "      <td>-0.000087</td>\n",
       "      <td>-0.045391</td>\n",
       "      <td>-0.080528</td>\n",
       "      <td>-8.806499e-10</td>\n",
       "      <td>-0.851302</td>\n",
       "      <td>-0.030326</td>\n",
       "    </tr>\n",
       "  </tbody>\n",
       "</table>\n",
       "<p>1 rows × 110 columns</p>\n",
       "</div>"
      ],
      "text/plain": [
       "         id  timestamp  derived_0  derived_1  derived_2  derived_3  derived_4  \\\n",
       "624349  448        714   0.008687   0.203457   0.082071  -0.258893   0.264414   \n",
       "\n",
       "        fundamental_0  fundamental_1  fundamental_2      ...       \\\n",
       "624349      -0.088042            NaN       0.259644      ...        \n",
       "\n",
       "        technical_35  technical_36  technical_37  technical_38  technical_39  \\\n",
       "624349      0.568245      0.265521     -0.425651 -2.608988e-07     -0.000087   \n",
       "\n",
       "        technical_40  technical_41  technical_42  technical_43  technical_44  \n",
       "624349     -0.045391     -0.080528 -8.806499e-10     -0.851302     -0.030326  \n",
       "\n",
       "[1 rows x 110 columns]"
      ]
     },
     "execution_count": 21,
     "metadata": {},
     "output_type": "execute_result"
    }
   ],
   "source": [
    "X_subsample.head(1)"
   ]
  },
  {
   "cell_type": "code",
   "execution_count": 33,
   "metadata": {
    "collapsed": false
   },
   "outputs": [
    {
     "data": {
      "text/html": [
       "<div>\n",
       "<table border=\"1\" class=\"dataframe\">\n",
       "  <thead>\n",
       "    <tr style=\"text-align: right;\">\n",
       "      <th></th>\n",
       "      <th>id</th>\n",
       "      <th>timestamp</th>\n",
       "      <th>derived_0</th>\n",
       "      <th>derived_1</th>\n",
       "      <th>derived_2</th>\n",
       "      <th>derived_3</th>\n",
       "      <th>derived_4</th>\n",
       "      <th>fundamental_0</th>\n",
       "      <th>fundamental_1</th>\n",
       "      <th>fundamental_2</th>\n",
       "      <th>...</th>\n",
       "      <th>technical_35</th>\n",
       "      <th>technical_36</th>\n",
       "      <th>technical_37</th>\n",
       "      <th>technical_38</th>\n",
       "      <th>technical_39</th>\n",
       "      <th>technical_40</th>\n",
       "      <th>technical_41</th>\n",
       "      <th>technical_42</th>\n",
       "      <th>technical_43</th>\n",
       "      <th>technical_44</th>\n",
       "    </tr>\n",
       "  </thead>\n",
       "  <tbody>\n",
       "    <tr>\n",
       "      <th>count</th>\n",
       "      <td>171075.000</td>\n",
       "      <td>171075.000</td>\n",
       "      <td>163934.000</td>\n",
       "      <td>1.631180e+05</td>\n",
       "      <td>131372.000</td>\n",
       "      <td>156179.000</td>\n",
       "      <td>130554.000</td>\n",
       "      <td>168644.000</td>\n",
       "      <td>1.035430e+05</td>\n",
       "      <td>134223.000</td>\n",
       "      <td>...</td>\n",
       "      <td>170762.000</td>\n",
       "      <td>170813.000</td>\n",
       "      <td>169125.000</td>\n",
       "      <td>169125.000</td>\n",
       "      <td>169036.000</td>\n",
       "      <td>170838.000</td>\n",
       "      <td>166668.000</td>\n",
       "      <td>169037.000</td>\n",
       "      <td>170603.000</td>\n",
       "      <td>147402.000</td>\n",
       "    </tr>\n",
       "    <tr>\n",
       "      <th>mean</th>\n",
       "      <td>1092.563</td>\n",
       "      <td>946.465</td>\n",
       "      <td>-4.437</td>\n",
       "      <td>8.028181e+11</td>\n",
       "      <td>-0.455</td>\n",
       "      <td>-0.284</td>\n",
       "      <td>16.528</td>\n",
       "      <td>-0.021</td>\n",
       "      <td>-4.637954e+08</td>\n",
       "      <td>-0.167</td>\n",
       "      <td>...</td>\n",
       "      <td>-0.105</td>\n",
       "      <td>-0.087</td>\n",
       "      <td>-0.091</td>\n",
       "      <td>-0.081</td>\n",
       "      <td>-0.074</td>\n",
       "      <td>0.049</td>\n",
       "      <td>0.005</td>\n",
       "      <td>-0.016</td>\n",
       "      <td>-0.978</td>\n",
       "      <td>0.000</td>\n",
       "    </tr>\n",
       "    <tr>\n",
       "      <th>std</th>\n",
       "      <td>631.638</td>\n",
       "      <td>519.688</td>\n",
       "      <td>243.863</td>\n",
       "      <td>7.600294e+13</td>\n",
       "      <td>81.917</td>\n",
       "      <td>57.753</td>\n",
       "      <td>904.599</td>\n",
       "      <td>0.249</td>\n",
       "      <td>6.276055e+10</td>\n",
       "      <td>3.132</td>\n",
       "      <td>...</td>\n",
       "      <td>0.553</td>\n",
       "      <td>0.618</td>\n",
       "      <td>0.248</td>\n",
       "      <td>0.232</td>\n",
       "      <td>0.224</td>\n",
       "      <td>0.311</td>\n",
       "      <td>0.114</td>\n",
       "      <td>0.212</td>\n",
       "      <td>0.963</td>\n",
       "      <td>0.030</td>\n",
       "    </tr>\n",
       "    <tr>\n",
       "      <th>min</th>\n",
       "      <td>0.000</td>\n",
       "      <td>0.000</td>\n",
       "      <td>-20174.965</td>\n",
       "      <td>-7.400000e-02</td>\n",
       "      <td>-9839.687</td>\n",
       "      <td>-20892.678</td>\n",
       "      <td>-8551.914</td>\n",
       "      <td>-2.233</td>\n",
       "      <td>-1.043737e+13</td>\n",
       "      <td>-162.696</td>\n",
       "      <td>...</td>\n",
       "      <td>-1.379</td>\n",
       "      <td>-1.688</td>\n",
       "      <td>-1.000</td>\n",
       "      <td>-1.000</td>\n",
       "      <td>-1.000</td>\n",
       "      <td>-0.525</td>\n",
       "      <td>-0.432</td>\n",
       "      <td>-1.000</td>\n",
       "      <td>-2.000</td>\n",
       "      <td>-0.121</td>\n",
       "    </tr>\n",
       "    <tr>\n",
       "      <th>25%</th>\n",
       "      <td>548.000</td>\n",
       "      <td>507.000</td>\n",
       "      <td>-0.145</td>\n",
       "      <td>-2.900000e-02</td>\n",
       "      <td>-0.059</td>\n",
       "      <td>-0.166</td>\n",
       "      <td>-0.107</td>\n",
       "      <td>-0.199</td>\n",
       "      <td>-1.970000e-01</td>\n",
       "      <td>-0.228</td>\n",
       "      <td>...</td>\n",
       "      <td>-0.427</td>\n",
       "      <td>-0.407</td>\n",
       "      <td>-0.000</td>\n",
       "      <td>-0.000</td>\n",
       "      <td>-0.000</td>\n",
       "      <td>-0.153</td>\n",
       "      <td>-0.074</td>\n",
       "      <td>-0.000</td>\n",
       "      <td>-2.000</td>\n",
       "      <td>-0.020</td>\n",
       "    </tr>\n",
       "    <tr>\n",
       "      <th>50%</th>\n",
       "      <td>1098.000</td>\n",
       "      <td>956.000</td>\n",
       "      <td>0.000</td>\n",
       "      <td>6.000000e-03</td>\n",
       "      <td>0.022</td>\n",
       "      <td>0.003</td>\n",
       "      <td>0.011</td>\n",
       "      <td>-0.040</td>\n",
       "      <td>-8.000000e-03</td>\n",
       "      <td>-0.029</td>\n",
       "      <td>...</td>\n",
       "      <td>-0.112</td>\n",
       "      <td>-0.085</td>\n",
       "      <td>-0.000</td>\n",
       "      <td>-0.000</td>\n",
       "      <td>-0.000</td>\n",
       "      <td>-0.015</td>\n",
       "      <td>0.000</td>\n",
       "      <td>0.000</td>\n",
       "      <td>-0.681</td>\n",
       "      <td>0.000</td>\n",
       "    </tr>\n",
       "    <tr>\n",
       "      <th>75%</th>\n",
       "      <td>1657.000</td>\n",
       "      <td>1403.000</td>\n",
       "      <td>0.120</td>\n",
       "      <td>1.090000e-01</td>\n",
       "      <td>0.196</td>\n",
       "      <td>0.304</td>\n",
       "      <td>0.154</td>\n",
       "      <td>0.131</td>\n",
       "      <td>1.840000e-01</td>\n",
       "      <td>0.177</td>\n",
       "      <td>...</td>\n",
       "      <td>0.158</td>\n",
       "      <td>0.192</td>\n",
       "      <td>-0.000</td>\n",
       "      <td>0.000</td>\n",
       "      <td>0.000</td>\n",
       "      <td>0.178</td>\n",
       "      <td>0.079</td>\n",
       "      <td>0.000</td>\n",
       "      <td>-0.000</td>\n",
       "      <td>0.021</td>\n",
       "    </tr>\n",
       "    <tr>\n",
       "      <th>max</th>\n",
       "      <td>2158.000</td>\n",
       "      <td>1812.000</td>\n",
       "      <td>3252.059</td>\n",
       "      <td>1.068124e+16</td>\n",
       "      <td>3713.114</td>\n",
       "      <td>712.456</td>\n",
       "      <td>67859.648</td>\n",
       "      <td>1.350</td>\n",
       "      <td>5.202730e+02</td>\n",
       "      <td>76.771</td>\n",
       "      <td>...</td>\n",
       "      <td>11.620</td>\n",
       "      <td>39.553</td>\n",
       "      <td>-0.000</td>\n",
       "      <td>-0.000</td>\n",
       "      <td>0.000</td>\n",
       "      <td>1.569</td>\n",
       "      <td>0.647</td>\n",
       "      <td>1.000</td>\n",
       "      <td>0.000</td>\n",
       "      <td>0.140</td>\n",
       "    </tr>\n",
       "  </tbody>\n",
       "</table>\n",
       "<p>8 rows × 110 columns</p>\n",
       "</div>"
      ],
      "text/plain": [
       "               id   timestamp   derived_0     derived_1   derived_2  \\\n",
       "count  171075.000  171075.000  163934.000  1.631180e+05  131372.000   \n",
       "mean     1092.563     946.465      -4.437  8.028181e+11      -0.455   \n",
       "std       631.638     519.688     243.863  7.600294e+13      81.917   \n",
       "min         0.000       0.000  -20174.965 -7.400000e-02   -9839.687   \n",
       "25%       548.000     507.000      -0.145 -2.900000e-02      -0.059   \n",
       "50%      1098.000     956.000       0.000  6.000000e-03       0.022   \n",
       "75%      1657.000    1403.000       0.120  1.090000e-01       0.196   \n",
       "max      2158.000    1812.000    3252.059  1.068124e+16    3713.114   \n",
       "\n",
       "        derived_3   derived_4  fundamental_0  fundamental_1  fundamental_2  \\\n",
       "count  156179.000  130554.000     168644.000   1.035430e+05     134223.000   \n",
       "mean       -0.284      16.528         -0.021  -4.637954e+08         -0.167   \n",
       "std        57.753     904.599          0.249   6.276055e+10          3.132   \n",
       "min    -20892.678   -8551.914         -2.233  -1.043737e+13       -162.696   \n",
       "25%        -0.166      -0.107         -0.199  -1.970000e-01         -0.228   \n",
       "50%         0.003       0.011         -0.040  -8.000000e-03         -0.029   \n",
       "75%         0.304       0.154          0.131   1.840000e-01          0.177   \n",
       "max       712.456   67859.648          1.350   5.202730e+02         76.771   \n",
       "\n",
       "           ...       technical_35  technical_36  technical_37  technical_38  \\\n",
       "count      ...         170762.000    170813.000    169125.000    169125.000   \n",
       "mean       ...             -0.105        -0.087        -0.091        -0.081   \n",
       "std        ...              0.553         0.618         0.248         0.232   \n",
       "min        ...             -1.379        -1.688        -1.000        -1.000   \n",
       "25%        ...             -0.427        -0.407        -0.000        -0.000   \n",
       "50%        ...             -0.112        -0.085        -0.000        -0.000   \n",
       "75%        ...              0.158         0.192        -0.000         0.000   \n",
       "max        ...             11.620        39.553        -0.000        -0.000   \n",
       "\n",
       "       technical_39  technical_40  technical_41  technical_42  technical_43  \\\n",
       "count    169036.000    170838.000    166668.000    169037.000    170603.000   \n",
       "mean         -0.074         0.049         0.005        -0.016        -0.978   \n",
       "std           0.224         0.311         0.114         0.212         0.963   \n",
       "min          -1.000        -0.525        -0.432        -1.000        -2.000   \n",
       "25%          -0.000        -0.153        -0.074        -0.000        -2.000   \n",
       "50%          -0.000        -0.015         0.000         0.000        -0.681   \n",
       "75%           0.000         0.178         0.079         0.000        -0.000   \n",
       "max           0.000         1.569         0.647         1.000         0.000   \n",
       "\n",
       "       technical_44  \n",
       "count    147402.000  \n",
       "mean          0.000  \n",
       "std           0.030  \n",
       "min          -0.121  \n",
       "25%          -0.020  \n",
       "50%           0.000  \n",
       "75%           0.021  \n",
       "max           0.140  \n",
       "\n",
       "[8 rows x 110 columns]"
      ]
     },
     "execution_count": 33,
     "metadata": {},
     "output_type": "execute_result"
    }
   ],
   "source": [
    "round(X_subsample.describe(), 3)"
   ]
  },
  {
   "cell_type": "code",
   "execution_count": 32,
   "metadata": {
    "collapsed": true
   },
   "outputs": [],
   "source": [
    "X_subsample.to_csv('X_subsample.csv')"
   ]
  },
  {
   "cell_type": "code",
   "execution_count": 14,
   "metadata": {
    "collapsed": false
   },
   "outputs": [],
   "source": [
    "# %time rep = pandas_profiling.ProfileReport(X)\n",
    "# rep.to_file('pandas_profiling_report.html')"
   ]
  },
  {
   "cell_type": "markdown",
   "metadata": {
    "collapsed": true
   },
   "source": [
    "## Correlations"
   ]
  },
  {
   "cell_type": "code",
   "execution_count": 10,
   "metadata": {
    "collapsed": false,
    "scrolled": true
   },
   "outputs": [
    {
     "data": {
      "text/plain": [
       "technical_30      0.014272\n",
       "fundamental_11    0.008151\n",
       "fundamental_51    0.006013\n",
       "fundamental_53    0.006009\n",
       "fundamental_18    0.005123\n",
       "technical_0       0.004328\n",
       "fundamental_55    0.003846\n",
       "technical_37      0.003783\n",
       "fundamental_60    0.003421\n",
       "fundamental_56    0.002926\n",
       "fundamental_2     0.002646\n",
       "fundamental_15    0.001970\n",
       "technical_12      0.001834\n",
       "fundamental_17    0.001646\n",
       "fundamental_63    0.001558\n",
       "technical_3       0.001544\n",
       "fundamental_28    0.001452\n",
       "technical_16      0.001413\n",
       "technical_13      0.001377\n",
       "derived_2         0.001369\n",
       "dtype: float64"
      ]
     },
     "execution_count": 10,
     "metadata": {},
     "output_type": "execute_result"
    }
   ],
   "source": [
    "correlations_with_target = X.corrwith(y)\n",
    "correlations_with_target.sort_values(ascending = False).head(20)"
   ]
  },
  {
   "cell_type": "code",
   "execution_count": 19,
   "metadata": {
    "collapsed": false
   },
   "outputs": [
    {
     "data": {
      "text/plain": [
       "technical_30      0.021711\n",
       "fundamental_53    0.013818\n",
       "fundamental_56    0.011127\n",
       "fundamental_18    0.009424\n",
       "fundamental_15    0.008129\n",
       "fundamental_2     0.008028\n",
       "technical_0       0.007305\n",
       "fundamental_28    0.007291\n",
       "technical_21      0.007148\n",
       "derived_2         0.006924\n",
       "derived_4         0.006193\n",
       "fundamental_60    0.005580\n",
       "fundamental_11    0.005496\n",
       "fundamental_51    0.005461\n",
       "fundamental_17    0.005293\n",
       "fundamental_37    0.005166\n",
       "fundamental_9     0.004530\n",
       "technical_37      0.004159\n",
       "fundamental_63    0.003777\n",
       "timestamp         0.003193\n",
       "dtype: float64"
      ]
     },
     "execution_count": 19,
     "metadata": {},
     "output_type": "execute_result"
    }
   ],
   "source": [
    "y_subsample = y[X_subsample.index]\n",
    "\n",
    "correlations_with_target_subsample = X_subsample.corrwith(y_subsample)\n",
    "correlations_with_target_subsample.sort_values(ascending = False).head(20)"
   ]
  },
  {
   "cell_type": "markdown",
   "metadata": {},
   "source": [
    "-----\n",
    "Let's check:\n",
    "\n",
    "* `fundamental_26`, `fundamental_57`\n",
    "* `fundamental_31`, `fundamental_3`"
   ]
  },
  {
   "cell_type": "code",
   "execution_count": 17,
   "metadata": {
    "collapsed": false
   },
   "outputs": [
    {
     "data": {
      "text/html": [
       "<div>\n",
       "<table border=\"1\" class=\"dataframe\">\n",
       "  <thead>\n",
       "    <tr style=\"text-align: right;\">\n",
       "      <th></th>\n",
       "      <th>fundamental_26</th>\n",
       "      <th>fundamental_57</th>\n",
       "    </tr>\n",
       "  </thead>\n",
       "  <tbody>\n",
       "    <tr>\n",
       "      <th>fundamental_26</th>\n",
       "      <td>1.000000</td>\n",
       "      <td>-0.000978</td>\n",
       "    </tr>\n",
       "    <tr>\n",
       "      <th>fundamental_57</th>\n",
       "      <td>-0.000978</td>\n",
       "      <td>1.000000</td>\n",
       "    </tr>\n",
       "  </tbody>\n",
       "</table>\n",
       "</div>"
      ],
      "text/plain": [
       "                fundamental_26  fundamental_57\n",
       "fundamental_26        1.000000       -0.000978\n",
       "fundamental_57       -0.000978        1.000000"
      ]
     },
     "execution_count": 17,
     "metadata": {},
     "output_type": "execute_result"
    }
   ],
   "source": [
    "X[['fundamental_26', 'fundamental_57']].corr()"
   ]
  },
  {
   "cell_type": "code",
   "execution_count": 18,
   "metadata": {
    "collapsed": false,
    "scrolled": true
   },
   "outputs": [
    {
     "data": {
      "text/html": [
       "<div>\n",
       "<table border=\"1\" class=\"dataframe\">\n",
       "  <thead>\n",
       "    <tr style=\"text-align: right;\">\n",
       "      <th></th>\n",
       "      <th>fundamental_31</th>\n",
       "      <th>fundamental_3</th>\n",
       "    </tr>\n",
       "  </thead>\n",
       "  <tbody>\n",
       "    <tr>\n",
       "      <th>fundamental_31</th>\n",
       "      <td>1.000000</td>\n",
       "      <td>0.017613</td>\n",
       "    </tr>\n",
       "    <tr>\n",
       "      <th>fundamental_3</th>\n",
       "      <td>0.017613</td>\n",
       "      <td>1.000000</td>\n",
       "    </tr>\n",
       "  </tbody>\n",
       "</table>\n",
       "</div>"
      ],
      "text/plain": [
       "                fundamental_31  fundamental_3\n",
       "fundamental_31        1.000000       0.017613\n",
       "fundamental_3         0.017613       1.000000"
      ]
     },
     "execution_count": 18,
     "metadata": {},
     "output_type": "execute_result"
    }
   ],
   "source": [
    "X[['fundamental_31', 'fundamental_3']].corr()"
   ]
  },
  {
   "cell_type": "code",
   "execution_count": null,
   "metadata": {
    "collapsed": true
   },
   "outputs": [],
   "source": []
  }
 ],
 "metadata": {
  "anaconda-cloud": {},
  "kernelspec": {
   "display_name": "Python 3",
   "language": "python",
   "name": "python3"
  },
  "language_info": {
   "codemirror_mode": {
    "name": "ipython",
    "version": 3
   },
   "file_extension": ".py",
   "mimetype": "text/x-python",
   "name": "python",
   "nbconvert_exporter": "python",
   "pygments_lexer": "ipython3",
   "version": "3.5.2"
  }
 },
 "nbformat": 4,
 "nbformat_minor": 1
}
