{
 "cells": [
  {
   "cell_type": "code",
   "execution_count": 4,
   "metadata": {
    "collapsed": true
   },
   "outputs": [],
   "source": [
    "import pandas as pd"
   ]
  },
  {
   "cell_type": "code",
   "execution_count": 17,
   "metadata": {
    "collapsed": false
   },
   "outputs": [
    {
     "name": "stdout",
     "output_type": "stream",
     "text": [
      "credit_test.csv          merchants_test.csv       transactions.csv\r\n",
      "credit_test.csv.zip      merchants_test.csv.zip   transactions.csv.zip\r\n",
      "credit_train.csv         merchants_train.csv\r\n",
      "credit_train.csv.zip     merchants_train.csv.zip\r\n"
     ]
    }
   ],
   "source": [
    "%ls data"
   ]
  },
  {
   "cell_type": "code",
   "execution_count": 6,
   "metadata": {
    "collapsed": false
   },
   "outputs": [],
   "source": [
    "transactions = pd.read_table('data/transactions.csv', sep = ';', quoting = False, encoding='latin-1')\n",
    "transactions.head()"
   ]
  },
  {
   "cell_type": "markdown",
   "metadata": {},
   "source": [
    "## credit"
   ]
  },
  {
   "cell_type": "code",
   "execution_count": 28,
   "metadata": {
    "collapsed": true
   },
   "outputs": [],
   "source": [
    "train = pd.read_csv('data/credit_train.csv', sep = ';', encoding='cp1251', index_col = 'client_id')\n",
    "\n",
    "X = train.drop('open_account_flg', axis = 1)\n",
    "y = train.open_account_flg\n",
    "\n",
    "X_test = pd.read_csv('data/credit_test.csv', sep = ';', encoding='cp1251', index_col = 'client_id')\n",
    "\n",
    "df = pd.concat([X, X_test], axis=0)\n",
    "\n",
    "print(len(X), len(X_test))"
   ]
  },
  {
   "cell_type": "code",
   "execution_count": null,
   "metadata": {
    "collapsed": true
   },
   "outputs": [],
   "source": []
  }
 ],
 "metadata": {
  "kernelspec": {
   "display_name": "Python 3",
   "language": "python",
   "name": "python3"
  },
  "language_info": {
   "codemirror_mode": {
    "name": "ipython",
    "version": 3
   },
   "file_extension": ".py",
   "mimetype": "text/x-python",
   "name": "python",
   "nbconvert_exporter": "python",
   "pygments_lexer": "ipython3",
   "version": "3.6.0"
  }
 },
 "nbformat": 4,
 "nbformat_minor": 2
}
