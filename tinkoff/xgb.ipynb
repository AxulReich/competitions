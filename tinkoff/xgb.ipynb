{
 "cells": [
  {
   "cell_type": "code",
   "execution_count": 1,
   "metadata": {
    "collapsed": false
   },
   "outputs": [],
   "source": [
    "# %run preprocessing.ipynb\n",
    "\n",
    "import pandas as pd\n",
    "train = pd.read_csv('data/credit_train.csv', sep = ';', encoding='cp1251', index_col = 'client_id')\n",
    "X = train.drop('open_account_flg', axis = 1)\n",
    "y = train.open_account_flg\n",
    "X_test = pd.read_csv('data/credit_test.csv', sep = ';', encoding='cp1251', index_col = 'client_id')\n",
    "df = pd.concat([X, X_test], axis=0)\n",
    "df.fillna(-999, inplace = True)\n",
    "df['credit_sum'] = [float(s.replace(',', '.')) for s in df.credit_sum]\n",
    "df['score_shk'] = [float(s.replace(',', '.')) for s in df.score_shk]\n",
    "education_map = { 'SCH' : 0, 'UGR' : 1, 'GRD' : 2, 'PGR' : 3, 'ACD' : 4 }\n",
    "df.replace({'education' : education_map}, inplace = True)\n",
    "cat_variables = [i for i in df.columns if df[i].dtype == 'O']\n",
    "from sklearn.preprocessing import LabelEncoder\n",
    "encods = [LabelEncoder() for col in cat_variables]\n",
    "for i, col in enumerate(cat_variables):\n",
    "    df[col] = encods[i].fit_transform(df[col].astype(str))\n",
    "X = df[:len(X)]\n",
    "X_test = df[len(X):]"
   ]
  },
  {
   "cell_type": "code",
   "execution_count": 2,
   "metadata": {
    "collapsed": true
   },
   "outputs": [],
   "source": [
    "from sklearn.model_selection import train_test_split\n",
    "from sklearn.metrics import mean_squared_error, roc_auc_score\n",
    "\n",
    "import xgboost as xgb\n",
    "\n",
    "from datetime import datetime"
   ]
  },
  {
   "cell_type": "code",
   "execution_count": 3,
   "metadata": {
    "collapsed": true
   },
   "outputs": [],
   "source": [
    "X_train, X_eval, y_train, y_eval = train_test_split(X, y, test_size = 0.4)"
   ]
  },
  {
   "cell_type": "code",
   "execution_count": 4,
   "metadata": {
    "collapsed": false
   },
   "outputs": [],
   "source": [
    "dtrain = xgb.DMatrix(X_train, y_train, missing=-999)\n",
    "deval = xgb.DMatrix(X_eval, y_eval, missing=-999)\n",
    "dtest = xgb.DMatrix(X_test, missing=-999)"
   ]
  },
  {
   "cell_type": "code",
   "execution_count": 5,
   "metadata": {
    "collapsed": true
   },
   "outputs": [],
   "source": [
    "param = {\n",
    "    'max_depth' : 7,\n",
    "    'objective':'binary:logistic'\n",
    "}\n",
    "param['eval_metric'] = 'auc'\n",
    "evallist  = [(deval,'eval'), (dtrain,'train')]"
   ]
  },
  {
   "cell_type": "code",
   "execution_count": 6,
   "metadata": {
    "collapsed": false,
    "scrolled": true
   },
   "outputs": [
    {
     "name": "stdout",
     "output_type": "stream",
     "text": [
      "[0]\teval-auc:0.732437\ttrain-auc:0.740606\n",
      "[100]\teval-auc:0.756861\ttrain-auc:0.86523\n",
      "[200]\teval-auc:0.748634\ttrain-auc:0.909786\n",
      "[300]\teval-auc:0.742346\ttrain-auc:0.939339\n",
      "[400]\teval-auc:0.737913\ttrain-auc:0.957205\n",
      "[500]\teval-auc:0.733446\ttrain-auc:0.970081\n",
      "[600]\teval-auc:0.729127\ttrain-auc:0.978128\n",
      "[700]\teval-auc:0.725401\ttrain-auc:0.985476\n",
      "[800]\teval-auc:0.72216\ttrain-auc:0.990886\n",
      "[900]\teval-auc:0.719792\ttrain-auc:0.993907\n"
     ]
    }
   ],
   "source": [
    "num_round = 1000\n",
    "bst = xgb.train(param, \n",
    "                dtrain, \n",
    "                num_round,\n",
    "                evals = evallist,\n",
    "                verbose_eval = 100\n",
    "               )"
   ]
  },
  {
   "cell_type": "code",
   "execution_count": 7,
   "metadata": {
    "collapsed": false
   },
   "outputs": [
    {
     "name": "stdout",
     "output_type": "stream",
     "text": [
      "The auc of prediction is: 0.71807248517\n"
     ]
    }
   ],
   "source": [
    "y_pred = bst.predict(deval)\n",
    "auc = roc_auc_score(y_eval, y_pred)\n",
    "print('The auc of prediction is:', auc)"
   ]
  },
  {
   "cell_type": "code",
   "execution_count": 8,
   "metadata": {
    "collapsed": false
   },
   "outputs": [
    {
     "name": "stdout",
     "output_type": "stream",
     "text": [
      "saving to submissions/xgb_1301_1818_0.71807.csv...\n"
     ]
    }
   ],
   "source": [
    "pred = bst.predict(dtest)\n",
    "\n",
    "datename = datetime.now().strftime(format = '%d%m_%H%M')\n",
    "filename = 'submissions/' + 'xgb_' + datename + '_' + str(round(auc, 5)) + '.csv'\n",
    "print('saving to %s...' % filename)\n",
    "\n",
    "pd.DataFrame({'_ID_': X_test.index, '_VAL_': pred}).to_csv(filename, index=False, sep=';')"
   ]
  },
  {
   "cell_type": "code",
   "execution_count": 9,
   "metadata": {
    "collapsed": false
   },
   "outputs": [
    {
     "name": "stdout",
     "output_type": "stream",
     "text": [
      "\n"
     ]
    }
   ],
   "source": [
    "print()"
   ]
  },
  {
   "cell_type": "code",
   "execution_count": 10,
   "metadata": {
    "collapsed": false
   },
   "outputs": [
    {
     "name": "stdout",
     "output_type": "stream",
     "text": [
      "gbm_1201_1932.csv          gbm_1201_2136_0.76083.csv\r\n",
      "gbm_1201_1942_0.73039.csv  gbm_1201_2140_0.76138.csv\r\n",
      "gbm_1201_1943_0.75541.csv  gbm_1301_1600_0.76456.csv\r\n",
      "gbm_1201_2037_0.75769.csv  gbm_1301_1604_0.76904.csv\r\n",
      "gbm_1201_2038_0.75769.csv  xgb_1201_1843.csv\r\n",
      "gbm_1201_2106_0.5002.csv   xgb_1201_1848.csv\r\n",
      "gbm_1201_2107_0.7604.csv   xgb_1301_1630_0.76089.csv\r\n",
      "gbm_1201_2120_0.75891.csv  xgb_1301_1818_0.71807.csv\r\n"
     ]
    }
   ],
   "source": [
    "%ls submissions/"
   ]
  },
  {
   "cell_type": "code",
   "execution_count": null,
   "metadata": {
    "collapsed": true
   },
   "outputs": [],
   "source": []
  }
 ],
 "metadata": {
  "kernelspec": {
   "display_name": "Python 3",
   "language": "python",
   "name": "python3"
  },
  "language_info": {
   "codemirror_mode": {
    "name": "ipython",
    "version": 3
   },
   "file_extension": ".py",
   "mimetype": "text/x-python",
   "name": "python",
   "nbconvert_exporter": "python",
   "pygments_lexer": "ipython3",
   "version": "3.6.0"
  }
 },
 "nbformat": 4,
 "nbformat_minor": 2
}
