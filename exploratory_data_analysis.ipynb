{
 "cells": [
  {
   "cell_type": "markdown",
   "metadata": {},
   "source": [
    "# Décodage d'une formule de pricing\n",
    "\n",
    "Le challenge consiste à déterminer l’équation ou l’algorithme permettant de calculer les prix d’une couverture d’assurance automobile.\n",
    "\n",
    "https://www.datascience.net/fr/challenge/26/details"
   ]
  },
  {
   "cell_type": "code",
   "execution_count": 1,
   "metadata": {
    "collapsed": false
   },
   "outputs": [],
   "source": [
    "import pandas as pd\n",
    "import numpy as np\n",
    "\n",
    "import matplotlib.pyplot as plt\n",
    "import seaborn as sns\n",
    "%matplotlib inline"
   ]
  },
  {
   "cell_type": "markdown",
   "metadata": {},
   "source": [
    "## Train data"
   ]
  },
  {
   "cell_type": "code",
   "execution_count": 3,
   "metadata": {
    "collapsed": false
   },
   "outputs": [
    {
     "name": "stdout",
     "output_type": "stream",
     "text": [
      "(300000, 32)\n",
      "    annee_naissance  annee_permis   marque  puis_fiscale  anc_veh codepostal  \\\n",
      "id                                                                             \n",
      "1            1986.0        2006.0  RENAULT             4        1       1034   \n",
      "2            1986.0        2006.0  RENAULT             8        2       1034   \n",
      "3            1982.0        2001.0  RENAULT             7        2       1034   \n",
      "4            1987.0        2006.0    DACIA             5        2       1034   \n",
      "5            1994.0        2013.0  CITROEN             4        2       1034   \n",
      "\n",
      "   energie_veh  kmage_annuel  crm                        profession  ...    \\\n",
      "id                                                                   ...     \n",
      "1          gpl          2924   68  enseignant, formateur, chercheur  ...     \n",
      "2          gpl         11580   50  enseignant, formateur, chercheur  ...     \n",
      "3          gpl          7149   95  enseignant, formateur, chercheur  ...     \n",
      "4          gpl          6526  100  enseignant, formateur, chercheur  ...     \n",
      "5          gpl          2872   50                  cadre, ingenieur  ...     \n",
      "\n",
      "    var13  var14  var15  var16  var17 var18 var19 var20  var21  var22  \n",
      "id                                                                     \n",
      "1       3      N      1      1      1    27     0     0      0      1  \n",
      "2       5      N      2      1      1    28     0     0      0      1  \n",
      "3       5      N      3      1      1    29     0     0      0      1  \n",
      "4       5      N      3      1      1    29     0     0      0      1  \n",
      "5       5      N      2      1      4    26     0     1      1      4  \n",
      "\n",
      "[5 rows x 32 columns]\n"
     ]
    }
   ],
   "source": [
    "train = pd.read_csv(\"data/ech_apprentissage.csv\", sep = ';', index_col = 'id', low_memory = False)\n",
    "X = train.drop('prime_tot_ttc', axis = 1)\n",
    "\n",
    "print(X.shape)\n",
    "print(X.head())"
   ]
  },
  {
   "cell_type": "markdown",
   "metadata": {},
   "source": [
    "## Test data"
   ]
  },
  {
   "cell_type": "code",
   "execution_count": 4,
   "metadata": {
    "collapsed": false
   },
   "outputs": [
    {
     "name": "stdout",
     "output_type": "stream",
     "text": [
      "(30000, 32)\n"
     ]
    },
    {
     "data": {
      "text/html": [
       "<div>\n",
       "<table border=\"1\" class=\"dataframe\">\n",
       "  <thead>\n",
       "    <tr style=\"text-align: right;\">\n",
       "      <th></th>\n",
       "      <th>annee_naissance</th>\n",
       "      <th>annee_permis</th>\n",
       "      <th>marque</th>\n",
       "      <th>puis_fiscale</th>\n",
       "      <th>anc_veh</th>\n",
       "      <th>codepostal</th>\n",
       "      <th>energie_veh</th>\n",
       "      <th>kmage_annuel</th>\n",
       "      <th>crm</th>\n",
       "      <th>profession</th>\n",
       "      <th>...</th>\n",
       "      <th>var13</th>\n",
       "      <th>var14</th>\n",
       "      <th>var15</th>\n",
       "      <th>var16</th>\n",
       "      <th>var17</th>\n",
       "      <th>var18</th>\n",
       "      <th>var19</th>\n",
       "      <th>var20</th>\n",
       "      <th>var21</th>\n",
       "      <th>var22</th>\n",
       "    </tr>\n",
       "    <tr>\n",
       "      <th>id</th>\n",
       "      <th></th>\n",
       "      <th></th>\n",
       "      <th></th>\n",
       "      <th></th>\n",
       "      <th></th>\n",
       "      <th></th>\n",
       "      <th></th>\n",
       "      <th></th>\n",
       "      <th></th>\n",
       "      <th></th>\n",
       "      <th></th>\n",
       "      <th></th>\n",
       "      <th></th>\n",
       "      <th></th>\n",
       "      <th></th>\n",
       "      <th></th>\n",
       "      <th></th>\n",
       "      <th></th>\n",
       "      <th></th>\n",
       "      <th></th>\n",
       "      <th></th>\n",
       "    </tr>\n",
       "  </thead>\n",
       "  <tbody>\n",
       "    <tr>\n",
       "      <th>300001</th>\n",
       "      <td>1992.0</td>\n",
       "      <td>2011.0</td>\n",
       "      <td>RENAULT</td>\n",
       "      <td>4</td>\n",
       "      <td>2</td>\n",
       "      <td>97109</td>\n",
       "      <td>essence</td>\n",
       "      <td>2983</td>\n",
       "      <td>88</td>\n",
       "      <td>enseignant, formateur, chercheur</td>\n",
       "      <td>...</td>\n",
       "      <td>3</td>\n",
       "      <td>N</td>\n",
       "      <td>0</td>\n",
       "      <td>1</td>\n",
       "      <td>0</td>\n",
       "      <td>20</td>\n",
       "      <td>2</td>\n",
       "      <td>0</td>\n",
       "      <td>1</td>\n",
       "      <td>0</td>\n",
       "    </tr>\n",
       "    <tr>\n",
       "      <th>300002</th>\n",
       "      <td>1991.0</td>\n",
       "      <td>2010.0</td>\n",
       "      <td>RENAULT</td>\n",
       "      <td>6</td>\n",
       "      <td>36</td>\n",
       "      <td>97109</td>\n",
       "      <td>essence</td>\n",
       "      <td>6496</td>\n",
       "      <td>50</td>\n",
       "      <td>enseignant, formateur, chercheur</td>\n",
       "      <td>...</td>\n",
       "      <td>5</td>\n",
       "      <td>N</td>\n",
       "      <td>0</td>\n",
       "      <td>4</td>\n",
       "      <td>1</td>\n",
       "      <td>20</td>\n",
       "      <td>1</td>\n",
       "      <td>0</td>\n",
       "      <td>1</td>\n",
       "      <td>0</td>\n",
       "    </tr>\n",
       "    <tr>\n",
       "      <th>300003</th>\n",
       "      <td>1976.0</td>\n",
       "      <td>1995.0</td>\n",
       "      <td>RENAULT</td>\n",
       "      <td>10</td>\n",
       "      <td>3</td>\n",
       "      <td>97109</td>\n",
       "      <td>essence</td>\n",
       "      <td>6971</td>\n",
       "      <td>50</td>\n",
       "      <td>enseignant, formateur, chercheur</td>\n",
       "      <td>...</td>\n",
       "      <td>5</td>\n",
       "      <td>N</td>\n",
       "      <td>7</td>\n",
       "      <td>1</td>\n",
       "      <td>1</td>\n",
       "      <td>21</td>\n",
       "      <td>1</td>\n",
       "      <td>0</td>\n",
       "      <td>1</td>\n",
       "      <td>0</td>\n",
       "    </tr>\n",
       "    <tr>\n",
       "      <th>300004</th>\n",
       "      <td>1976.0</td>\n",
       "      <td>1995.0</td>\n",
       "      <td>BMW</td>\n",
       "      <td>13</td>\n",
       "      <td>1</td>\n",
       "      <td>97109</td>\n",
       "      <td>essence</td>\n",
       "      <td>7293</td>\n",
       "      <td>68</td>\n",
       "      <td>enseignant, formateur, chercheur</td>\n",
       "      <td>...</td>\n",
       "      <td>4</td>\n",
       "      <td>N</td>\n",
       "      <td>0</td>\n",
       "      <td>1</td>\n",
       "      <td>1</td>\n",
       "      <td>22</td>\n",
       "      <td>1</td>\n",
       "      <td>0</td>\n",
       "      <td>1</td>\n",
       "      <td>0</td>\n",
       "    </tr>\n",
       "    <tr>\n",
       "      <th>300005</th>\n",
       "      <td>1984.0</td>\n",
       "      <td>2004.0</td>\n",
       "      <td>PEUGEOT</td>\n",
       "      <td>9</td>\n",
       "      <td>0</td>\n",
       "      <td>97109</td>\n",
       "      <td>essence</td>\n",
       "      <td>6982</td>\n",
       "      <td>50</td>\n",
       "      <td>enseignant, formateur, chercheur</td>\n",
       "      <td>...</td>\n",
       "      <td>5</td>\n",
       "      <td>N</td>\n",
       "      <td>2</td>\n",
       "      <td>4</td>\n",
       "      <td>1</td>\n",
       "      <td>16</td>\n",
       "      <td>0</td>\n",
       "      <td>0</td>\n",
       "      <td>1</td>\n",
       "      <td>1</td>\n",
       "    </tr>\n",
       "  </tbody>\n",
       "</table>\n",
       "<p>5 rows × 32 columns</p>\n",
       "</div>"
      ],
      "text/plain": [
       "        annee_naissance  annee_permis   marque  puis_fiscale  anc_veh  \\\n",
       "id                                                                      \n",
       "300001           1992.0        2011.0  RENAULT             4        2   \n",
       "300002           1991.0        2010.0  RENAULT             6       36   \n",
       "300003           1976.0        1995.0  RENAULT            10        3   \n",
       "300004           1976.0        1995.0      BMW            13        1   \n",
       "300005           1984.0        2004.0  PEUGEOT             9        0   \n",
       "\n",
       "        codepostal energie_veh  kmage_annuel  crm  \\\n",
       "id                                                  \n",
       "300001       97109     essence          2983   88   \n",
       "300002       97109     essence          6496   50   \n",
       "300003       97109     essence          6971   50   \n",
       "300004       97109     essence          7293   68   \n",
       "300005       97109     essence          6982   50   \n",
       "\n",
       "                              profession  ...    var13  var14  var15  var16  \\\n",
       "id                                        ...                                 \n",
       "300001  enseignant, formateur, chercheur  ...        3      N      0      1   \n",
       "300002  enseignant, formateur, chercheur  ...        5      N      0      4   \n",
       "300003  enseignant, formateur, chercheur  ...        5      N      7      1   \n",
       "300004  enseignant, formateur, chercheur  ...        4      N      0      1   \n",
       "300005  enseignant, formateur, chercheur  ...        5      N      2      4   \n",
       "\n",
       "        var17 var18 var19 var20  var21  var22  \n",
       "id                                             \n",
       "300001      0    20     2     0      1      0  \n",
       "300002      1    20     1     0      1      0  \n",
       "300003      1    21     1     0      1      0  \n",
       "300004      1    22     1     0      1      0  \n",
       "300005      1    16     0     0      1      1  \n",
       "\n",
       "[5 rows x 32 columns]"
      ]
     },
     "execution_count": 4,
     "metadata": {},
     "output_type": "execute_result"
    }
   ],
   "source": [
    "X_test = pd.read_csv('data/ech_test.csv', sep = ';', index_col = 'id', low_memory = False)\n",
    "\n",
    "print(X_test.shape)\n",
    "X_test.head()"
   ]
  },
  {
   "cell_type": "markdown",
   "metadata": {},
   "source": [
    "## Target"
   ]
  },
  {
   "cell_type": "code",
   "execution_count": 5,
   "metadata": {
    "collapsed": false
   },
   "outputs": [
    {
     "name": "stdout",
     "output_type": "stream",
     "text": [
      "count    300000.000000\n",
      "mean        346.063566\n",
      "std         119.870510\n",
      "min          94.780000\n",
      "25%         262.050000\n",
      "50%         323.220000\n",
      "75%         407.500000\n",
      "max        1518.810000\n",
      "Name: prime_tot_ttc, dtype: float64\n"
     ]
    },
    {
     "data": {
      "image/png": "[encoded data removed]",
      "text/plain": [
       "<matplotlib.figure.Figure at 0x7f9c43741d30>"
      ]
     },
     "metadata": {},
     "output_type": "display_data"
    }
   ],
   "source": [
    "y = train.prime_tot_ttc\n",
    "\n",
    "print(y.describe())\n",
    "np.log(y).hist(bins=50);"
   ]
  },
  {
   "cell_type": "markdown",
   "metadata": {},
   "source": [
    "## Features\n",
    "\n",
    "\n",
    "* [annee_naissance](#annee_naissance)\n",
    "* [annee_permis](#annee_permis)\n",
    "* [marque](#marque)\n",
    "* [puis_fiscale](#puis_fiscale)\n",
    "* [anc_veh](#anc_veh)\n",
    "* [codepostal](#codepostal)\n",
    "* [energie_veh](#energie_veh)\n",
    "* [kmage_annuel](#kmage_annuel)\n",
    "* [crm](#crm)\n",
    "* [profession](#profession)\n",
    "* [var1](#var1)\n",
    "* [var2](#var2)\n",
    "* [var3](#var3)\n",
    "* [var4](#var4)\n",
    "* [var5](#var5)\n",
    "* [var6](#var6)\n",
    "* [var7](#var7)\n",
    "* [var8](#var8)\n",
    "* [var9](#var9)\n",
    "* [var10](#var10)\n",
    "* [var11](#var11)\n",
    "* [var12](#var12)\n",
    "* [var13](#var13)\n",
    "* [var14](#var14)\n",
    "* [var15](#var15)\n",
    "* [var16](#var16)\n",
    "* [var17](#var17)\n",
    "* [var18](#var18)\n",
    "* [var19](#var19)\n",
    "* [var20](#var20)\n",
    "* [var21](#var21)\n",
    "* [var22](#var22)\n",
    "* [age_permis](#age_permis)"
   ]
  },
  {
   "cell_type": "code",
   "execution_count": 7,
   "metadata": {
    "collapsed": false
   },
   "outputs": [],
   "source": [
    "df = pd.concat([X, X_test], axis=0)"
   ]
  },
  {
   "cell_type": "code",
   "execution_count": 8,
   "metadata": {
    "collapsed": false,
    "scrolled": false
   },
   "outputs": [
    {
     "data": {
      "text/plain": [
       "annee_naissance    float64\n",
       "annee_permis       float64\n",
       "marque              object\n",
       "puis_fiscale         int64\n",
       "anc_veh              int64\n",
       "codepostal          object\n",
       "energie_veh         object\n",
       "kmage_annuel         int64\n",
       "crm                  int64\n",
       "profession          object\n",
       "var1               float64\n",
       "var2                 int64\n",
       "var3                 int64\n",
       "var4                 int64\n",
       "var5                 int64\n",
       "var6                object\n",
       "var7                object\n",
       "var8                object\n",
       "var9                 int64\n",
       "var10                int64\n",
       "var11                int64\n",
       "var12                int64\n",
       "var13                int64\n",
       "var14               object\n",
       "var15                int64\n",
       "var16               object\n",
       "var17                int64\n",
       "var18                int64\n",
       "var19                int64\n",
       "var20                int64\n",
       "var21                int64\n",
       "var22                int64\n",
       "dtype: object"
      ]
     },
     "execution_count": 8,
     "metadata": {},
     "output_type": "execute_result"
    }
   ],
   "source": [
    "df.dtypes"
   ]
  },
  {
   "cell_type": "code",
   "execution_count": 9,
   "metadata": {
    "collapsed": false
   },
   "outputs": [],
   "source": [
    "cat_variables = [i for i in df.columns if df[i].dtype == 'O']"
   ]
  },
  {
   "cell_type": "code",
   "execution_count": 11,
   "metadata": {
    "collapsed": false,
    "scrolled": true
   },
   "outputs": [
    {
     "name": "stdout",
     "output_type": "stream",
     "text": [
      "['marque', 'codepostal', 'energie_veh', 'profession', 'var6', 'var7', 'var8', 'var14', 'var16']\n"
     ]
    }
   ],
   "source": [
    "print(cat_variables)"
   ]
  },
  {
   "cell_type": "markdown",
   "metadata": {},
   "source": [
    "### `annee_naissance`\n",
    "\n",
    "Год рождения."
   ]
  },
  {
   "cell_type": "code",
   "execution_count": 22,
   "metadata": {
    "collapsed": false
   },
   "outputs": [
    {
     "name": "stderr",
     "output_type": "stream",
     "text": [
      "/usr/local/lib/python3.5/dist-packages/numpy/lib/function_base.py:3823: RuntimeWarning: Invalid value encountered in percentile\n",
      "  RuntimeWarning)\n"
     ]
    },
    {
     "data": {
      "text/plain": [
       "count    329693.000000\n",
       "mean       1983.684949\n",
       "std           6.563537\n",
       "min        1925.000000\n",
       "25%                NaN\n",
       "50%                NaN\n",
       "75%                NaN\n",
       "max        1998.000000\n",
       "Name: annee_naissance, dtype: float64"
      ]
     },
     "execution_count": 22,
     "metadata": {},
     "output_type": "execute_result"
    }
   ],
   "source": [
    "df.annee_naissance.describe()"
   ]
  },
  {
   "cell_type": "code",
   "execution_count": 24,
   "metadata": {
    "collapsed": false
   },
   "outputs": [
    {
     "data": {
      "image/png": "[encoded data removed]",
      "text/plain": [
       "<matplotlib.figure.Figure at 0x7f9c4346f828>"
      ]
     },
     "metadata": {},
     "output_type": "display_data"
    }
   ],
   "source": [
    "# X.groupby(['annee_naissance'])['annee_naissance'].count()\n",
    "plt.figure(figsize=(14, 4))\n",
    "X.annee_naissance.hist(bins = 72);\n",
    "X_test.annee_naissance.hist(bins = 72);"
   ]
  },
  {
   "cell_type": "markdown",
   "metadata": {},
   "source": [
    "### `annee_permis`\n",
    "\n",
    "Год получения прав."
   ]
  },
  {
   "cell_type": "code",
   "execution_count": 25,
   "metadata": {
    "collapsed": false
   },
   "outputs": [
    {
     "name": "stderr",
     "output_type": "stream",
     "text": [
      "/usr/local/lib/python3.5/dist-packages/numpy/lib/function_base.py:3823: RuntimeWarning: Invalid value encountered in percentile\n",
      "  RuntimeWarning)\n"
     ]
    },
    {
     "data": {
      "text/plain": [
       "count    329693.000000\n",
       "mean       2003.050847\n",
       "std           6.590561\n",
       "min        1944.000000\n",
       "25%                NaN\n",
       "50%                NaN\n",
       "75%                NaN\n",
       "max        2018.000000\n",
       "Name: annee_permis, dtype: float64"
      ]
     },
     "execution_count": 25,
     "metadata": {},
     "output_type": "execute_result"
    }
   ],
   "source": [
    "df.annee_permis.describe()"
   ]
  },
  {
   "cell_type": "code",
   "execution_count": 26,
   "metadata": {
    "collapsed": false
   },
   "outputs": [
    {
     "data": {
      "image/png": "[encoded data removed]",
      "text/plain": [
       "<matplotlib.figure.Figure at 0x7f9c434af470>"
      ]
     },
     "metadata": {},
     "output_type": "display_data"
    }
   ],
   "source": [
    "# X.groupby(['annee_permis'])['annee_permis'].count()\n",
    "X.annee_permis.hist(bins = 73);\n",
    "X_test.annee_permis.hist(bins = 73);"
   ]
  },
  {
   "cell_type": "markdown",
   "metadata": {},
   "source": [
    "### `age_permis`\n",
    "\n",
    "Добавим фичу `age_permis` — возраст, в котором были получены права."
   ]
  },
  {
   "cell_type": "code",
   "execution_count": 14,
   "metadata": {
    "collapsed": false
   },
   "outputs": [
    {
     "data": {
      "image/png": "[encoded data removed]",
      "text/plain": [
       "<matplotlib.figure.Figure at 0x7f9c43ab5f28>"
      ]
     },
     "metadata": {},
     "output_type": "display_data"
    }
   ],
   "source": [
    "X['age_permis'] = X.annee_permis - X.annee_naissance\n",
    "X.age_permis.hist();\n",
    "\n",
    "X_test['age_permis'] = X_test.annee_permis - X_test.annee_naissance\n",
    "X_test.age_permis.hist();"
   ]
  },
  {
   "cell_type": "markdown",
   "metadata": {},
   "source": [
    "### `marque`"
   ]
  },
  {
   "cell_type": "code",
   "execution_count": 15,
   "metadata": {
    "collapsed": false
   },
   "outputs": [
    {
     "name": "stdout",
     "output_type": "stream",
     "text": [
      "RENAULT              73371\n",
      "PEUGEOT              51202\n",
      "CITROEN              35086\n",
      "VOLKSWAGEN           20023\n",
      "OPEL                 13343\n",
      "FORD                 13135\n",
      "FIAT                 11316\n",
      "TOYOTA                8944\n",
      "MERCEDES              7621\n",
      "NISSAN                6773\n",
      "BMW                   6296\n",
      "AUDI                  5603\n",
      "SEAT                  4615\n",
      "VOLVO                 3381\n",
      "SUZUKI                3205\n",
      "HONDA                 3144\n",
      "DACIA                 2446\n",
      "LAND-ROVER            2340\n",
      "MITSUBISHI            2332\n",
      "SKODA                 2224\n",
      "ALFA ROMEO            2079\n",
      "HYUNDAI               2034\n",
      "MAZDA                 1947\n",
      "MINI                  1689\n",
      "ROVER                 1579\n",
      "JEEP                  1356\n",
      "SAAB                  1343\n",
      "KIA                   1230\n",
      "CHRYSLER              1206\n",
      "LANCIA                1020\n",
      "                     ...  \n",
      "WIESMANN                 2\n",
      "OLDSMOBILE               2\n",
      "RAYTON FISSORE           2\n",
      "JIDE                     2\n",
      "SALMSON                  2\n",
      "SMS                      2\n",
      "NECKAR                   2\n",
      "TVR                      1\n",
      "LDV                      1\n",
      "BRM                      1\n",
      "CHENARD ET WALKER        1\n",
      "AMPHICAR                 1\n",
      "LOHR                     1\n",
      "STRAUBENHARDT            1\n",
      "DONKERVOORT              1\n",
      "EAGLE                    1\n",
      "AMC                      1\n",
      "SECMA                    1\n",
      "NSU                      1\n",
      "VAUXHALL                 1\n",
      "YAMAHA                   1\n",
      "LAFER                    1\n",
      "SUNBEAM                  1\n",
      "SOVRA                    1\n",
      "RAMBLER                  1\n",
      "SATURN                   1\n",
      "LORENZ                   1\n",
      "DETHLEFFS                1\n",
      "CHEYENNE                 1\n",
      "INTERNATIONAL            1\n",
      "Name: marque, dtype: int64\n"
     ]
    },
    {
     "data": {
      "image/png": "[encoded data removed]",
      "text/plain": [
       "<matplotlib.figure.Figure at 0x7f9c4364e780>"
      ]
     },
     "metadata": {},
     "output_type": "display_data"
    }
   ],
   "source": [
    "print(X.marque.value_counts())\n",
    "plt.pie(X.marque.value_counts());"
   ]
  },
  {
   "cell_type": "code",
   "execution_count": 16,
   "metadata": {
    "collapsed": false
   },
   "outputs": [
    {
     "data": {
      "text/plain": [
       "array(['ACMA', 'ALFA ROMEO', 'ALPINE RENAULT', 'AMC', 'AMPHICAR', 'ARO',\n",
       "       'ASIA', 'ASTON MARTIN', 'AUDI', 'AUSTIN', 'AUSTIN-HEALEY',\n",
       "       'AUTO-UNION', 'AUTOBIANCHI', 'AUTOLAND', 'AUVERLAND', 'BEDFORD',\n",
       "       'BENTLEY', 'BERTONE', 'BMW', 'BREMACH', 'BRM', 'BUICK', 'CADILLAC',\n",
       "       'CARBODIES', 'CATERHAM', 'CHENARD ET WALKER', 'CHEVROLET',\n",
       "       'CHEYENNE', 'CHRYSLER', 'CITROEN', 'COURNIL', 'DACIA', 'DAEWOO',\n",
       "       'DAF', 'DAIHATSU', 'DAIMLER', 'DANGEL', 'DATSUN', 'DE LOREAN',\n",
       "       'DELAHAYE', 'DETHLEFFS', 'DODGE', 'DONKERVOORT', 'EAGLE', 'EBRO',\n",
       "       'EBS', 'ENGIN LOISIRS', 'ENGIN SPECIAL', 'ENGIN TRAVAUX PUBLIC',\n",
       "       'FERRARI', 'FIAT', 'FORD', 'FSO', 'GMC', 'GME', 'GRANDIN',\n",
       "       'HANOMAG', 'HONDA', 'HOTCHKISS', 'HUMMER', 'HYUNDAI', 'INFINITI',\n",
       "       'INTERNATIONAL', 'ISUZU', 'IVECO', 'JAGUAR', 'JEEP', 'JIDE', 'KIA',\n",
       "       'LADA', 'LAFER', 'LAMBORGHINI', 'LANCIA', 'LAND-ROVER', 'LDV',\n",
       "       'LEXUS', 'LINCOLN', 'LOHR', 'LORENZ', 'LOTUS', 'MAHINDRA', 'MARTIN',\n",
       "       'MARUTI', 'MASERATI', 'MATRA', 'MAZDA', 'MCC', 'MEGA', 'MERCEDES',\n",
       "       'MERCURY', 'MG', 'MINI', 'MITSUBISHI', 'MOKE', 'MORGAN', 'MORRIS',\n",
       "       'MVS', 'NECKAR', 'NISSAN', 'NR', 'NSU', 'OLDSMOBILE', 'OPEL',\n",
       "       'PANHARD', 'PANTHER', 'PEUGEOT', 'PGO', 'PIAGGIO', 'PININFARINA',\n",
       "       'PLYMOUTH', 'PONCIN', 'PONTIAC', 'PORSCHE', 'PROTON', 'RAMBLER',\n",
       "       'RAYTON FISSORE', 'RELIANT', 'RENAULT', 'ROLLS ROYCE', 'ROVER',\n",
       "       'SAAB', 'SALMSON', 'SANTANA', 'SATURN', 'SAVIEM', 'SEAT', 'SECMA',\n",
       "       'SIATA', 'SIMCA', 'SINGER', 'SKODA', 'SMART', 'SMS', 'SOVRA',\n",
       "       'SSANGYONG', 'STEYR PUCH', 'STRAUBENHARDT', 'SUBARU', 'SUNBEAM',\n",
       "       'SUZUKI', 'TALBOT', 'TATA', 'TEILHOL', 'TOYOTA', 'TRIUMPH', 'TVR',\n",
       "       'UMM', 'UNIMOG', 'VAUXHALL', 'VEH SPECIAL', 'VOLKSWAGEN', 'VOLVO',\n",
       "       'WIESMANN', 'WILLYS', 'YAMAHA'], dtype=object)"
      ]
     },
     "execution_count": 16,
     "metadata": {},
     "output_type": "execute_result"
    }
   ],
   "source": [
    "np.sort(X.marque.unique())"
   ]
  },
  {
   "cell_type": "markdown",
   "metadata": {},
   "source": [
    "### `puis_fiscale`\n",
    "\n",
    "Налоговая ставка (на мощность двигателя машины)."
   ]
  },
  {
   "cell_type": "code",
   "execution_count": 17,
   "metadata": {
    "collapsed": false,
    "scrolled": false
   },
   "outputs": [
    {
     "name": "stdout",
     "output_type": "stream",
     "text": [
      "count    300000.000000\n",
      "mean          6.825267\n",
      "std           2.650280\n",
      "min           0.000000\n",
      "25%           5.000000\n",
      "50%           6.000000\n",
      "75%           8.000000\n",
      "max          58.000000\n",
      "Name: puis_fiscale, dtype: float64\n"
     ]
    },
    {
     "data": {
      "image/png": "[encoded data removed]",
      "text/plain": [
       "<matplotlib.figure.Figure at 0x7f9c438f43c8>"
      ]
     },
     "metadata": {},
     "output_type": "display_data"
    }
   ],
   "source": [
    "print(X.puis_fiscale.describe())\n",
    "X.puis_fiscale.hist(bins = 57);"
   ]
  },
  {
   "cell_type": "code",
   "execution_count": 19,
   "metadata": {
    "collapsed": false,
    "scrolled": false
   },
   "outputs": [
    {
     "data": {
      "text/html": [
       "<div>\n",
       "<table border=\"1\" class=\"dataframe\">\n",
       "  <thead>\n",
       "    <tr style=\"text-align: right;\">\n",
       "      <th></th>\n",
       "      <th>annee_naissance</th>\n",
       "      <th>annee_permis</th>\n",
       "      <th>marque</th>\n",
       "      <th>puis_fiscale</th>\n",
       "      <th>anc_veh</th>\n",
       "      <th>codepostal</th>\n",
       "      <th>energie_veh</th>\n",
       "      <th>kmage_annuel</th>\n",
       "      <th>crm</th>\n",
       "      <th>profession</th>\n",
       "      <th>...</th>\n",
       "      <th>var14</th>\n",
       "      <th>var15</th>\n",
       "      <th>var16</th>\n",
       "      <th>var17</th>\n",
       "      <th>var18</th>\n",
       "      <th>var19</th>\n",
       "      <th>var20</th>\n",
       "      <th>var21</th>\n",
       "      <th>var22</th>\n",
       "      <th>age_permis</th>\n",
       "    </tr>\n",
       "    <tr>\n",
       "      <th>id</th>\n",
       "      <th></th>\n",
       "      <th></th>\n",
       "      <th></th>\n",
       "      <th></th>\n",
       "      <th></th>\n",
       "      <th></th>\n",
       "      <th></th>\n",
       "      <th></th>\n",
       "      <th></th>\n",
       "      <th></th>\n",
       "      <th></th>\n",
       "      <th></th>\n",
       "      <th></th>\n",
       "      <th></th>\n",
       "      <th></th>\n",
       "      <th></th>\n",
       "      <th></th>\n",
       "      <th></th>\n",
       "      <th></th>\n",
       "      <th></th>\n",
       "      <th></th>\n",
       "    </tr>\n",
       "  </thead>\n",
       "  <tbody>\n",
       "    <tr>\n",
       "      <th>47565</th>\n",
       "      <td>1944.0</td>\n",
       "      <td>1963.0</td>\n",
       "      <td>BENTLEY</td>\n",
       "      <td>51</td>\n",
       "      <td>4</td>\n",
       "      <td>14174</td>\n",
       "      <td>essence</td>\n",
       "      <td>14418</td>\n",
       "      <td>50</td>\n",
       "      <td>enseignant, formateur, chercheur</td>\n",
       "      <td>...</td>\n",
       "      <td>F</td>\n",
       "      <td>0</td>\n",
       "      <td>1</td>\n",
       "      <td>3</td>\n",
       "      <td>31</td>\n",
       "      <td>2</td>\n",
       "      <td>1</td>\n",
       "      <td>1</td>\n",
       "      <td>0</td>\n",
       "      <td>19.0</td>\n",
       "    </tr>\n",
       "    <tr>\n",
       "      <th>74678</th>\n",
       "      <td>1933.0</td>\n",
       "      <td>1952.0</td>\n",
       "      <td>BENTLEY</td>\n",
       "      <td>54</td>\n",
       "      <td>1</td>\n",
       "      <td>24465</td>\n",
       "      <td>essence</td>\n",
       "      <td>17000</td>\n",
       "      <td>55</td>\n",
       "      <td>enseignant, formateur, chercheur</td>\n",
       "      <td>...</td>\n",
       "      <td>F</td>\n",
       "      <td>0</td>\n",
       "      <td>1</td>\n",
       "      <td>2</td>\n",
       "      <td>22</td>\n",
       "      <td>0</td>\n",
       "      <td>0</td>\n",
       "      <td>1</td>\n",
       "      <td>1</td>\n",
       "      <td>19.0</td>\n",
       "    </tr>\n",
       "    <tr>\n",
       "      <th>162064</th>\n",
       "      <td>1932.0</td>\n",
       "      <td>1951.0</td>\n",
       "      <td>BENTLEY</td>\n",
       "      <td>51</td>\n",
       "      <td>1</td>\n",
       "      <td>54482</td>\n",
       "      <td>essence</td>\n",
       "      <td>14418</td>\n",
       "      <td>50</td>\n",
       "      <td>agent, employe</td>\n",
       "      <td>...</td>\n",
       "      <td>B</td>\n",
       "      <td>3</td>\n",
       "      <td>1</td>\n",
       "      <td>1</td>\n",
       "      <td>29</td>\n",
       "      <td>0</td>\n",
       "      <td>0</td>\n",
       "      <td>0</td>\n",
       "      <td>2</td>\n",
       "      <td>19.0</td>\n",
       "    </tr>\n",
       "    <tr>\n",
       "      <th>182182</th>\n",
       "      <td>1936.0</td>\n",
       "      <td>1955.0</td>\n",
       "      <td>FERRARI</td>\n",
       "      <td>58</td>\n",
       "      <td>40</td>\n",
       "      <td>62498</td>\n",
       "      <td>essence</td>\n",
       "      <td>12296</td>\n",
       "      <td>50</td>\n",
       "      <td>profession liberale</td>\n",
       "      <td>...</td>\n",
       "      <td>A</td>\n",
       "      <td>2</td>\n",
       "      <td>4</td>\n",
       "      <td>1</td>\n",
       "      <td>23</td>\n",
       "      <td>0</td>\n",
       "      <td>0</td>\n",
       "      <td>1</td>\n",
       "      <td>3</td>\n",
       "      <td>19.0</td>\n",
       "    </tr>\n",
       "    <tr>\n",
       "      <th>220841</th>\n",
       "      <td>1937.0</td>\n",
       "      <td>1956.0</td>\n",
       "      <td>AUDI</td>\n",
       "      <td>51</td>\n",
       "      <td>34</td>\n",
       "      <td>75109</td>\n",
       "      <td>essence</td>\n",
       "      <td>13366</td>\n",
       "      <td>50</td>\n",
       "      <td>cadre, ingenieur</td>\n",
       "      <td>...</td>\n",
       "      <td>G</td>\n",
       "      <td>2</td>\n",
       "      <td>4</td>\n",
       "      <td>4</td>\n",
       "      <td>24</td>\n",
       "      <td>0</td>\n",
       "      <td>1</td>\n",
       "      <td>0</td>\n",
       "      <td>3</td>\n",
       "      <td>19.0</td>\n",
       "    </tr>\n",
       "    <tr>\n",
       "      <th>240427</th>\n",
       "      <td>1925.0</td>\n",
       "      <td>1944.0</td>\n",
       "      <td>FERRARI</td>\n",
       "      <td>58</td>\n",
       "      <td>4</td>\n",
       "      <td>78650</td>\n",
       "      <td>essence</td>\n",
       "      <td>12296</td>\n",
       "      <td>50</td>\n",
       "      <td>enseignant, formateur, chercheur</td>\n",
       "      <td>...</td>\n",
       "      <td>G</td>\n",
       "      <td>0</td>\n",
       "      <td>1</td>\n",
       "      <td>1</td>\n",
       "      <td>15</td>\n",
       "      <td>0</td>\n",
       "      <td>1</td>\n",
       "      <td>1</td>\n",
       "      <td>1</td>\n",
       "      <td>19.0</td>\n",
       "    </tr>\n",
       "    <tr>\n",
       "      <th>254274</th>\n",
       "      <td>1947.0</td>\n",
       "      <td>1967.0</td>\n",
       "      <td>BENTLEY</td>\n",
       "      <td>51</td>\n",
       "      <td>2</td>\n",
       "      <td>83137</td>\n",
       "      <td>essence</td>\n",
       "      <td>14418</td>\n",
       "      <td>50</td>\n",
       "      <td>enseignant, formateur, chercheur</td>\n",
       "      <td>...</td>\n",
       "      <td>A</td>\n",
       "      <td>0</td>\n",
       "      <td>1</td>\n",
       "      <td>2</td>\n",
       "      <td>23</td>\n",
       "      <td>0</td>\n",
       "      <td>1</td>\n",
       "      <td>1</td>\n",
       "      <td>1</td>\n",
       "      <td>20.0</td>\n",
       "    </tr>\n",
       "    <tr>\n",
       "      <th>279724</th>\n",
       "      <td>1942.0</td>\n",
       "      <td>1961.0</td>\n",
       "      <td>BENTLEY</td>\n",
       "      <td>51</td>\n",
       "      <td>2</td>\n",
       "      <td>92051</td>\n",
       "      <td>essence</td>\n",
       "      <td>14543</td>\n",
       "      <td>50</td>\n",
       "      <td>enseignant, formateur, chercheur</td>\n",
       "      <td>...</td>\n",
       "      <td>G</td>\n",
       "      <td>1</td>\n",
       "      <td>1</td>\n",
       "      <td>2</td>\n",
       "      <td>21</td>\n",
       "      <td>0</td>\n",
       "      <td>0</td>\n",
       "      <td>1</td>\n",
       "      <td>2</td>\n",
       "      <td>19.0</td>\n",
       "    </tr>\n",
       "    <tr>\n",
       "      <th>299719</th>\n",
       "      <td>1943.0</td>\n",
       "      <td>1963.0</td>\n",
       "      <td>ROLLS ROYCE</td>\n",
       "      <td>53</td>\n",
       "      <td>3</td>\n",
       "      <td>97107</td>\n",
       "      <td>essence</td>\n",
       "      <td>14954</td>\n",
       "      <td>50</td>\n",
       "      <td>enseignant, formateur, chercheur</td>\n",
       "      <td>...</td>\n",
       "      <td>N</td>\n",
       "      <td>0</td>\n",
       "      <td>1</td>\n",
       "      <td>1</td>\n",
       "      <td>20</td>\n",
       "      <td>0</td>\n",
       "      <td>1</td>\n",
       "      <td>1</td>\n",
       "      <td>1</td>\n",
       "      <td>20.0</td>\n",
       "    </tr>\n",
       "  </tbody>\n",
       "</table>\n",
       "<p>9 rows × 33 columns</p>\n",
       "</div>"
      ],
      "text/plain": [
       "        annee_naissance  annee_permis       marque  puis_fiscale  anc_veh  \\\n",
       "id                                                                          \n",
       "47565            1944.0        1963.0      BENTLEY            51        4   \n",
       "74678            1933.0        1952.0      BENTLEY            54        1   \n",
       "162064           1932.0        1951.0      BENTLEY            51        1   \n",
       "182182           1936.0        1955.0      FERRARI            58       40   \n",
       "220841           1937.0        1956.0         AUDI            51       34   \n",
       "240427           1925.0        1944.0      FERRARI            58        4   \n",
       "254274           1947.0        1967.0      BENTLEY            51        2   \n",
       "279724           1942.0        1961.0      BENTLEY            51        2   \n",
       "299719           1943.0        1963.0  ROLLS ROYCE            53        3   \n",
       "\n",
       "       codepostal energie_veh  kmage_annuel  crm  \\\n",
       "id                                                 \n",
       "47565       14174     essence         14418   50   \n",
       "74678       24465     essence         17000   55   \n",
       "162064      54482     essence         14418   50   \n",
       "182182      62498     essence         12296   50   \n",
       "220841      75109     essence         13366   50   \n",
       "240427      78650     essence         12296   50   \n",
       "254274      83137     essence         14418   50   \n",
       "279724      92051     essence         14543   50   \n",
       "299719      97107     essence         14954   50   \n",
       "\n",
       "                              profession     ...      var14  var15  var16  \\\n",
       "id                                           ...                            \n",
       "47565   enseignant, formateur, chercheur     ...          F      0      1   \n",
       "74678   enseignant, formateur, chercheur     ...          F      0      1   \n",
       "162064                    agent, employe     ...          B      3      1   \n",
       "182182               profession liberale     ...          A      2      4   \n",
       "220841                  cadre, ingenieur     ...          G      2      4   \n",
       "240427  enseignant, formateur, chercheur     ...          G      0      1   \n",
       "254274  enseignant, formateur, chercheur     ...          A      0      1   \n",
       "279724  enseignant, formateur, chercheur     ...          G      1      1   \n",
       "299719  enseignant, formateur, chercheur     ...          N      0      1   \n",
       "\n",
       "        var17  var18 var19 var20 var21  var22  age_permis  \n",
       "id                                                         \n",
       "47565       3     31     2     1     1      0        19.0  \n",
       "74678       2     22     0     0     1      1        19.0  \n",
       "162064      1     29     0     0     0      2        19.0  \n",
       "182182      1     23     0     0     1      3        19.0  \n",
       "220841      4     24     0     1     0      3        19.0  \n",
       "240427      1     15     0     1     1      1        19.0  \n",
       "254274      2     23     0     1     1      1        20.0  \n",
       "279724      2     21     0     0     1      2        19.0  \n",
       "299719      1     20     0     1     1      1        20.0  \n",
       "\n",
       "[9 rows x 33 columns]"
      ]
     },
     "execution_count": 19,
     "metadata": {},
     "output_type": "execute_result"
    }
   ],
   "source": [
    "X[X.puis_fiscale > 50]"
   ]
  },
  {
   "cell_type": "markdown",
   "metadata": {},
   "source": [
    "### `anc_veh`"
   ]
  },
  {
   "cell_type": "code",
   "execution_count": 14,
   "metadata": {
    "collapsed": false
   },
   "outputs": [
    {
     "name": "stdout",
     "output_type": "stream",
     "text": [
      "count    300000.000000\n",
      "mean         16.362950\n",
      "std          24.769884\n",
      "min           0.000000\n",
      "25%           1.000000\n",
      "50%           2.000000\n",
      "75%          32.000000\n",
      "max          99.000000\n",
      "Name: anc_veh, dtype: float64\n"
     ]
    },
    {
     "data": {
      "image/png": "[encoded data removed]",
      "text/plain": [
       "<matplotlib.figure.Figure at 0x10c15b5c0>"
      ]
     },
     "metadata": {},
     "output_type": "display_data"
    }
   ],
   "source": [
    "print(X.anc_veh.describe())\n",
    "X.anc_veh.hist(bins = 30);"
   ]
  },
  {
   "cell_type": "markdown",
   "metadata": {},
   "source": [
    "### `codepostal`\n",
    "\n",
    "Почтовый индекс."
   ]
  },
  {
   "cell_type": "code",
   "execution_count": 15,
   "metadata": {
    "collapsed": false
   },
   "outputs": [
    {
     "data": {
      "text/plain": [
       "13001    2606\n",
       "6088     2295\n",
       "31555    2275\n",
       "35238    1992\n",
       "20004    1932\n",
       "44109    1852\n",
       "97101    1654\n",
       "34172    1629\n",
       "1034     1402\n",
       "67482    1381\n",
       "13208    1351\n",
       "87085    1194\n",
       "38185    1174\n",
       "33063    1108\n",
       "97103    1083\n",
       "13209    1067\n",
       "20033    1045\n",
       "29019     980\n",
       "72181     959\n",
       "13212     949\n",
       "49007     926\n",
       "13213     917\n",
       "79191     870\n",
       "54395     863\n",
       "30189     829\n",
       "63113     829\n",
       "83137     805\n",
       "37261     778\n",
       "75115     772\n",
       "80021     770\n",
       "         ... \n",
       "62591       1\n",
       "60379       1\n",
       "80761       1\n",
       "31089       1\n",
       "34045       1\n",
       "17473       1\n",
       "5135        1\n",
       "45121       1\n",
       "85196       1\n",
       "52444       1\n",
       "58216       1\n",
       "69077       1\n",
       "67112       1\n",
       "82145       1\n",
       "52036       1\n",
       "2119        1\n",
       "54350       1\n",
       "69012       1\n",
       "31393       1\n",
       "89128       1\n",
       "39076       1\n",
       "71265       1\n",
       "12188       1\n",
       "32042       1\n",
       "27611       1\n",
       "90020       1\n",
       "63094       1\n",
       "50549       1\n",
       "78344       1\n",
       "91098       1\n",
       "Name: codepostal, dtype: int64"
      ]
     },
     "execution_count": 15,
     "metadata": {},
     "output_type": "execute_result"
    }
   ],
   "source": [
    "X.codepostal.value_counts()#.head()"
   ]
  },
  {
   "cell_type": "code",
   "execution_count": 16,
   "metadata": {
    "collapsed": false
   },
   "outputs": [
    {
     "data": {
      "text/plain": [
       "1034     9723\n",
       "97411    2820\n",
       "97415    1965\n",
       "97422    1520\n",
       "97416    1405\n",
       "97113    1074\n",
       "97118     845\n",
       "97128     729\n",
       "97413     617\n",
       "97117     570\n",
       "97120     561\n",
       "97414     509\n",
       "97418     507\n",
       "97408     506\n",
       "97125     506\n",
       "97409     502\n",
       "97115     495\n",
       "97129     448\n",
       "97412     418\n",
       "97116     404\n",
       "97404     378\n",
       "97410     352\n",
       "97401     311\n",
       "97124     262\n",
       "97420     257\n",
       "97407     218\n",
       "97114     215\n",
       "97132     205\n",
       "97402     202\n",
       "97405     198\n",
       "97119     141\n",
       "97121     134\n",
       "97111     108\n",
       "97134     108\n",
       "97122     107\n",
       "97112      86\n",
       "97406      84\n",
       "97403      77\n",
       "97423      76\n",
       "97424      68\n",
       "97419      55\n",
       "97109      49\n",
       "97421      49\n",
       "97133      43\n",
       "97417      40\n",
       "97110      21\n",
       "97126      18\n",
       "97131       7\n",
       "97130       5\n",
       "97107       2\n",
       "Name: codepostal, dtype: int64"
      ]
     },
     "execution_count": 16,
     "metadata": {},
     "output_type": "execute_result"
    }
   ],
   "source": [
    "X_test.codepostal.value_counts()"
   ]
  },
  {
   "cell_type": "code",
   "execution_count": 17,
   "metadata": {
    "collapsed": true
   },
   "outputs": [],
   "source": [
    "cat_variables.append('codepostal')"
   ]
  },
  {
   "cell_type": "markdown",
   "metadata": {},
   "source": [
    "### `energie_veh`\n",
    "\n",
    "* перевести в factor"
   ]
  },
  {
   "cell_type": "code",
   "execution_count": 18,
   "metadata": {
    "collapsed": false
   },
   "outputs": [
    {
     "name": "stdout",
     "output_type": "stream",
     "text": [
      "gazole             165401\n",
      "essence            126025\n",
      "gpl                  7058\n",
      "hybride essence       803\n",
      "NR                    413\n",
      "electricite           300\n",
      "Name: energie_veh, dtype: int64\n"
     ]
    },
    {
     "data": {
      "image/png": "[encoded data removed]",
      "text/plain": [
       "<matplotlib.figure.Figure at 0x10db03ba8>"
      ]
     },
     "metadata": {},
     "output_type": "display_data"
    }
   ],
   "source": [
    "print(X.energie_veh.value_counts())\n",
    "plt.pie(X.energie_veh.value_counts());"
   ]
  },
  {
   "cell_type": "code",
   "execution_count": 19,
   "metadata": {
    "collapsed": true
   },
   "outputs": [],
   "source": [
    "cat_variables.append('energie_veh')"
   ]
  },
  {
   "cell_type": "markdown",
   "metadata": {},
   "source": [
    "### `kmage_annuel`\n",
    "\n",
    "Километраж в год.\n",
    "\n",
    "* кластеризовать (сделать новую переменную)"
   ]
  },
  {
   "cell_type": "code",
   "execution_count": 77,
   "metadata": {
    "collapsed": false
   },
   "outputs": [
    {
     "name": "stdout",
     "output_type": "stream",
     "text": [
      "count    300000.000000\n",
      "mean       7359.745500\n",
      "std        3085.865577\n",
      "min         282.000000\n",
      "25%        6387.000000\n",
      "50%        6928.000000\n",
      "75%        7464.000000\n",
      "max       17000.000000\n",
      "Name: kmage_annuel, dtype: float64\n"
     ]
    },
    {
     "data": {
      "image/png": "[encoded data removed]",
      "text/plain": [
       "<matplotlib.figure.Figure at 0x10c1739b0>"
      ]
     },
     "metadata": {},
     "output_type": "display_data"
    }
   ],
   "source": [
    "print(X.kmage_annuel.describe())\n",
    "plt.figure(figsize=(14, 6));\n",
    "X.kmage_annuel.hist(bins = 50);\n",
    "X_test.kmage_annuel.hist(bins = 50);"
   ]
  },
  {
   "cell_type": "code",
   "execution_count": 21,
   "metadata": {
    "collapsed": true
   },
   "outputs": [],
   "source": [
    "from sklearn import cluster"
   ]
  },
  {
   "cell_type": "code",
   "execution_count": 22,
   "metadata": {
    "collapsed": true
   },
   "outputs": [],
   "source": [
    "kmage_annuel = pd.DataFrame(X['kmage_annuel'])"
   ]
  },
  {
   "cell_type": "code",
   "execution_count": 23,
   "metadata": {
    "collapsed": false
   },
   "outputs": [
    {
     "data": {
      "image/png": "[encoded data removed]",
      "text/plain": [
       "<matplotlib.figure.Figure at 0x10dd3d3c8>"
      ]
     },
     "metadata": {},
     "output_type": "display_data"
    }
   ],
   "source": [
    "km_3 = cluster.KMeans(n_clusters=3)\n",
    "km_3.fit(kmage_annuel)\n",
    "\n",
    "kmage_annuel.hist(by=km_3.labels_);"
   ]
  },
  {
   "cell_type": "code",
   "execution_count": 24,
   "metadata": {
    "collapsed": false
   },
   "outputs": [
    {
     "data": {
      "image/png": "[encoded data removed]",
      "text/plain": [
       "<matplotlib.figure.Figure at 0x10c18e438>"
      ]
     },
     "metadata": {},
     "output_type": "display_data"
    }
   ],
   "source": [
    "km_4 = cluster.KMeans(n_clusters=4)\n",
    "km_4.fit(kmage_annuel)\n",
    "\n",
    "kmage_annuel.hist(by=km_4.labels_);"
   ]
  },
  {
   "cell_type": "markdown",
   "metadata": {},
   "source": [
    "### `crm`"
   ]
  },
  {
   "cell_type": "code",
   "execution_count": 25,
   "metadata": {
    "collapsed": false
   },
   "outputs": [
    {
     "name": "stdout",
     "output_type": "stream",
     "text": [
      "count    300000.000000\n",
      "mean         73.551957\n",
      "std          23.699505\n",
      "min          50.000000\n",
      "25%          50.000000\n",
      "50%          68.000000\n",
      "75%          95.000000\n",
      "max         270.000000\n",
      "Name: crm, dtype: float64\n"
     ]
    },
    {
     "data": {
      "text/plain": [
       "<matplotlib.axes._subplots.AxesSubplot at 0x111c430b8>"
      ]
     },
     "execution_count": 25,
     "metadata": {},
     "output_type": "execute_result"
    },
    {
     "data": {
      "image/png": "[encoded data removed]",
      "text/plain": [
       "<matplotlib.figure.Figure at 0x10d5e8f60>"
      ]
     },
     "metadata": {},
     "output_type": "display_data"
    }
   ],
   "source": [
    "print(X.crm.describe())\n",
    "X.crm.hist();\n",
    "# np.log(X.crm).hist();"
   ]
  },
  {
   "cell_type": "code",
   "execution_count": 26,
   "metadata": {
    "collapsed": false
   },
   "outputs": [],
   "source": [
    "# X.crm.value_counts()"
   ]
  },
  {
   "cell_type": "markdown",
   "metadata": {},
   "source": [
    "### `profession`\n",
    "\n",
    "* перевести в factor"
   ]
  },
  {
   "cell_type": "markdown",
   "metadata": {},
   "source": [
    "Профессии:\n",
    "\n",
    "* преподаватель, тренер, исследователь\n",
    "* агент, сотрудник\n",
    "* рамки, инженер\n",
    "* техник\n",
    "* педагог, ведущий, монитор\n",
    "* Либеральная профессия\n",
    "* работник\n",
    "* работоискатель\n",
    "* студент\n",
    "* ремесленник\n",
    "* профессия в области искусств и развлечений\n",
    "* мужчина или женщина, у себя дома\n",
    "* КоммерсантЪ\n",
    "* Промежуточное профессия здравоохранения и социальной работы в \n",
    "* Лидер бизнеса\n",
    "* Форман, мастерство агент\n",
    "* оператор фермер"
   ]
  },
  {
   "cell_type": "code",
   "execution_count": 27,
   "metadata": {
    "collapsed": false
   },
   "outputs": [
    {
     "data": {
      "text/plain": [
       "enseignant, formateur, chercheur                             110354\n",
       "agent, employe                                                74960\n",
       "cadre, ingenieur                                              31471\n",
       "technicien                                                    15624\n",
       "educateur, animateur, moniteur                                13273\n",
       "profession liberale                                           10424\n",
       "ouvrier                                                        9542\n",
       "demandeur d'emploi                                             6498\n",
       "etudiant                                                       5829\n",
       "artisan                                                        4852\n",
       "profession de l'information des arts et des spectacles         4831\n",
       "homme ou femme au foyer                                        4631\n",
       "commercant                                                     2610\n",
       "profession intermediaire de la sante et du travail social      2215\n",
       "chef d'entreprise                                              1356\n",
       "contremaitre, agent de maitrise                                1137\n",
       "agriculteur exploitant                                          393\n",
       "Name: profession, dtype: int64"
      ]
     },
     "execution_count": 27,
     "metadata": {},
     "output_type": "execute_result"
    }
   ],
   "source": [
    "X.profession.value_counts()"
   ]
  },
  {
   "cell_type": "code",
   "execution_count": 28,
   "metadata": {
    "collapsed": true
   },
   "outputs": [],
   "source": [
    "cat_variables.append('profession')"
   ]
  },
  {
   "cell_type": "markdown",
   "metadata": {},
   "source": [
    "### `var1`\n",
    "\n",
    "Судя по всему, стаж вождения."
   ]
  },
  {
   "cell_type": "code",
   "execution_count": 30,
   "metadata": {
    "collapsed": false
   },
   "outputs": [],
   "source": [
    "# pd.DataFrame([X.annee_naissance, X.age_permis, X.var1]).transpose()"
   ]
  },
  {
   "cell_type": "code",
   "execution_count": 31,
   "metadata": {
    "collapsed": false
   },
   "outputs": [],
   "source": [
    "# X.var1.isnull().sum()\n",
    "\n",
    "# var1 = X.var1.fillna(0)\n",
    "\n",
    "# X[var1 == 0]\n",
    "\n",
    "# y[var1 == 0]"
   ]
  },
  {
   "cell_type": "markdown",
   "metadata": {},
   "source": [
    "### `var2`"
   ]
  },
  {
   "cell_type": "code",
   "execution_count": 32,
   "metadata": {
    "collapsed": false
   },
   "outputs": [
    {
     "name": "stdout",
     "output_type": "stream",
     "text": [
      "0\n",
      "4    66132\n",
      "1    64146\n",
      "5    55494\n",
      "3    55430\n",
      "2    53532\n",
      "0     5266\n",
      "Name: var2, dtype: int64\n"
     ]
    }
   ],
   "source": [
    "print(X.var2.isnull().sum())\n",
    "print(X.var2.value_counts())"
   ]
  },
  {
   "cell_type": "markdown",
   "metadata": {},
   "source": [
    "### `var3`"
   ]
  },
  {
   "cell_type": "code",
   "execution_count": 33,
   "metadata": {
    "collapsed": false
   },
   "outputs": [
    {
     "name": "stdout",
     "output_type": "stream",
     "text": [
      "0\n",
      "372    169434\n",
      "272    130566\n",
      "Name: var3, dtype: int64\n"
     ]
    }
   ],
   "source": [
    "print(X.var3.isnull().sum())\n",
    "print(X.var3.value_counts())"
   ]
  },
  {
   "cell_type": "markdown",
   "metadata": {},
   "source": [
    "### `var4`"
   ]
  },
  {
   "cell_type": "code",
   "execution_count": 34,
   "metadata": {
    "collapsed": false
   },
   "outputs": [
    {
     "name": "stdout",
     "output_type": "stream",
     "text": [
      "0\n",
      "0    139795\n",
      "1     56047\n",
      "2     55355\n",
      "3     22344\n",
      "5      8677\n",
      "4      8672\n",
      "7      3542\n",
      "6      3452\n",
      "9      1591\n",
      "8       525\n",
      "Name: var4, dtype: int64\n"
     ]
    }
   ],
   "source": [
    "print(X.var4.isnull().sum())\n",
    "print(X.var4.value_counts())"
   ]
  },
  {
   "cell_type": "markdown",
   "metadata": {},
   "source": [
    "### `var5`"
   ]
  },
  {
   "cell_type": "code",
   "execution_count": 35,
   "metadata": {
    "collapsed": false
   },
   "outputs": [
    {
     "name": "stdout",
     "output_type": "stream",
     "text": [
      "0\n",
      "1    173974\n",
      "2    126026\n",
      "Name: var5, dtype: int64\n"
     ]
    }
   ],
   "source": [
    "print(X.var5.isnull().sum())\n",
    "print(X.var5.value_counts())"
   ]
  },
  {
   "cell_type": "markdown",
   "metadata": {},
   "source": [
    "### `var6`"
   ]
  },
  {
   "cell_type": "code",
   "execution_count": 36,
   "metadata": {
    "collapsed": false
   },
   "outputs": [
    {
     "name": "stdout",
     "output_type": "stream",
     "text": [
      "0\n",
      "B    115658\n",
      "A     88583\n",
      "C     77203\n",
      "D     17978\n",
      "N       578\n",
      "Name: var6, dtype: int64\n"
     ]
    }
   ],
   "source": [
    "print(X.var6.isnull().sum())\n",
    "print(X.var6.value_counts())"
   ]
  },
  {
   "cell_type": "code",
   "execution_count": 37,
   "metadata": {
    "collapsed": true
   },
   "outputs": [],
   "source": [
    "cat_variables.append('var6')"
   ]
  },
  {
   "cell_type": "markdown",
   "metadata": {},
   "source": [
    "### `var7`"
   ]
  },
  {
   "cell_type": "code",
   "execution_count": 38,
   "metadata": {
    "collapsed": false
   },
   "outputs": [
    {
     "name": "stdout",
     "output_type": "stream",
     "text": [
      "0\n",
      "1     153064\n",
      "3      34266\n",
      "10     21388\n",
      "11     19648\n",
      "4      13729\n",
      "5      12237\n",
      "7       9630\n",
      "8       8364\n",
      "20      8184\n",
      "2       7947\n",
      "6       4670\n",
      "14      2169\n",
      "12      1742\n",
      "13      1522\n",
      "9        836\n",
      "0        308\n",
      "NR       290\n",
      "50         5\n",
      "30         1\n",
      "Name: var7, dtype: int64\n"
     ]
    }
   ],
   "source": [
    "print(X.var7.isnull().sum())\n",
    "print(X.var7.value_counts())"
   ]
  },
  {
   "cell_type": "code",
   "execution_count": 39,
   "metadata": {
    "collapsed": true
   },
   "outputs": [],
   "source": [
    "cat_variables.append('var7')"
   ]
  },
  {
   "cell_type": "code",
   "execution_count": 40,
   "metadata": {
    "collapsed": false
   },
   "outputs": [
    {
     "name": "stdout",
     "output_type": "stream",
     "text": [
      "['marque', 'codepostal', 'energie_veh', 'profession', 'var6', 'var7']\n"
     ]
    }
   ],
   "source": [
    "print(cat_variables)"
   ]
  },
  {
   "cell_type": "markdown",
   "metadata": {},
   "source": [
    "### `var8`"
   ]
  },
  {
   "cell_type": "code",
   "execution_count": 41,
   "metadata": {
    "collapsed": false
   },
   "outputs": [
    {
     "name": "stdout",
     "output_type": "stream",
     "text": [
      "0\n",
      "M1    91826\n",
      "B2    66389\n",
      "M2    54018\n",
      "H1    25042\n",
      "B1    23369\n",
      "T3     7565\n",
      "T2     6525\n",
      "F      5357\n",
      "K      3947\n",
      "T4     2710\n",
      "T1     2569\n",
      "MC     2208\n",
      "K2     2124\n",
      "VA     1529\n",
      "H2     1438\n",
      "PU     1211\n",
      "P3     1202\n",
      "NR      586\n",
      "TU      348\n",
      "P2       16\n",
      "P1       14\n",
      "P4        5\n",
      "K3        1\n",
      "B         1\n",
      "Name: var8, dtype: int64\n"
     ]
    }
   ],
   "source": [
    "print(X.var8.isnull().sum())\n",
    "print(X.var8.value_counts())"
   ]
  },
  {
   "cell_type": "code",
   "execution_count": 42,
   "metadata": {
    "collapsed": true
   },
   "outputs": [],
   "source": [
    "cat_variables.append('var8')"
   ]
  },
  {
   "cell_type": "markdown",
   "metadata": {},
   "source": [
    "### `var9`"
   ]
  },
  {
   "cell_type": "code",
   "execution_count": 43,
   "metadata": {
    "collapsed": false
   },
   "outputs": [
    {
     "name": "stdout",
     "output_type": "stream",
     "text": [
      "0\n",
      "90     28257\n",
      "60     17286\n",
      "110    17199\n",
      "75     17165\n",
      "115    10933\n",
      "Name: var9, dtype: int64\n"
     ]
    }
   ],
   "source": [
    "print(X.var9.isnull().sum())\n",
    "print(X.var9.value_counts().head())"
   ]
  },
  {
   "cell_type": "code",
   "execution_count": 44,
   "metadata": {
    "collapsed": false
   },
   "outputs": [
    {
     "data": {
      "image/png": "[encoded data removed]",
      "text/plain": [
       "<matplotlib.figure.Figure at 0x111d12908>"
      ]
     },
     "metadata": {},
     "output_type": "display_data"
    }
   ],
   "source": [
    "X.var9.hist(bins = 30);"
   ]
  },
  {
   "cell_type": "markdown",
   "metadata": {},
   "source": [
    "### `var10`"
   ]
  },
  {
   "cell_type": "code",
   "execution_count": 45,
   "metadata": {
    "collapsed": false
   },
   "outputs": [
    {
     "name": "stdout",
     "output_type": "stream",
     "text": [
      "0\n",
      "180    15769\n",
      "170    12194\n",
      "185    11967\n",
      "175    11745\n",
      "160    10974\n",
      "Name: var10, dtype: int64\n"
     ]
    }
   ],
   "source": [
    "print(X.var10.isnull().sum())\n",
    "print(X.var10.value_counts().head())"
   ]
  },
  {
   "cell_type": "code",
   "execution_count": 46,
   "metadata": {
    "collapsed": false
   },
   "outputs": [
    {
     "data": {
      "image/png": "[encoded data removed]",
      "text/plain": [
       "<matplotlib.figure.Figure at 0x10c5b34e0>"
      ]
     },
     "metadata": {},
     "output_type": "display_data"
    }
   ],
   "source": [
    "X.var10.hist(bins=30);"
   ]
  },
  {
   "cell_type": "markdown",
   "metadata": {},
   "source": [
    "### `var11`"
   ]
  },
  {
   "cell_type": "code",
   "execution_count": 47,
   "metadata": {
    "collapsed": false
   },
   "outputs": [
    {
     "name": "stdout",
     "output_type": "stream",
     "text": [
      "0\n",
      "0     63845\n",
      "2     49587\n",
      "1     44320\n",
      "99    16958\n",
      "34    14497\n",
      "Name: var11, dtype: int64\n"
     ]
    }
   ],
   "source": [
    "print(X.var11.isnull().sum())\n",
    "print(X.var11.value_counts().head())"
   ]
  },
  {
   "cell_type": "code",
   "execution_count": 48,
   "metadata": {
    "collapsed": false
   },
   "outputs": [
    {
     "data": {
      "image/png": "[encoded data removed]",
      "text/plain": [
       "<matplotlib.figure.Figure at 0x10d611ba8>"
      ]
     },
     "metadata": {},
     "output_type": "display_data"
    }
   ],
   "source": [
    "X.var11.hist(bins=30);"
   ]
  },
  {
   "cell_type": "markdown",
   "metadata": {},
   "source": [
    "### `var12`"
   ]
  },
  {
   "cell_type": "code",
   "execution_count": 49,
   "metadata": {
    "collapsed": false
   },
   "outputs": [
    {
     "name": "stdout",
     "output_type": "stream",
     "text": [
      "0\n",
      "3211    4121\n",
      "960     3512\n",
      "890     3484\n",
      "980     3384\n",
      "1300    3224\n",
      "Name: var12, dtype: int64\n"
     ]
    }
   ],
   "source": [
    "print(X.var12.isnull().sum())\n",
    "print(X.var12.value_counts().head())"
   ]
  },
  {
   "cell_type": "code",
   "execution_count": 50,
   "metadata": {
    "collapsed": false
   },
   "outputs": [
    {
     "data": {
      "image/png": "[encoded data removed]",
      "text/plain": [
       "<matplotlib.figure.Figure at 0x10d6113c8>"
      ]
     },
     "metadata": {},
     "output_type": "display_data"
    }
   ],
   "source": [
    "X.var12.hist(bins = 30);"
   ]
  },
  {
   "cell_type": "markdown",
   "metadata": {},
   "source": [
    "### `var13`"
   ]
  },
  {
   "cell_type": "code",
   "execution_count": 51,
   "metadata": {
    "collapsed": false
   },
   "outputs": [
    {
     "name": "stdout",
     "output_type": "stream",
     "text": [
      "0\n",
      "5    180716\n",
      "3     69632\n",
      "4     29832\n",
      "2     19820\n",
      "Name: var13, dtype: int64\n"
     ]
    }
   ],
   "source": [
    "print(X.var13.isnull().sum())\n",
    "print(X.var13.value_counts())"
   ]
  },
  {
   "cell_type": "markdown",
   "metadata": {},
   "source": [
    "### `var14`"
   ]
  },
  {
   "cell_type": "code",
   "execution_count": 52,
   "metadata": {
    "collapsed": false
   },
   "outputs": [
    {
     "name": "stdout",
     "output_type": "stream",
     "text": [
      "0\n",
      "A    62469\n",
      "B    62449\n",
      "F    46276\n",
      "G    45126\n",
      "C    34351\n",
      "D    32757\n",
      "E    11505\n",
      "N     5067\n",
      "Name: var14, dtype: int64\n"
     ]
    }
   ],
   "source": [
    "print(X.var14.isnull().sum())\n",
    "print(X.var14.value_counts())"
   ]
  },
  {
   "cell_type": "code",
   "execution_count": 53,
   "metadata": {
    "collapsed": true
   },
   "outputs": [],
   "source": [
    "cat_variables.append('var14')"
   ]
  },
  {
   "cell_type": "markdown",
   "metadata": {},
   "source": [
    "### `var15`"
   ]
  },
  {
   "cell_type": "code",
   "execution_count": 54,
   "metadata": {
    "collapsed": false
   },
   "outputs": [
    {
     "name": "stdout",
     "output_type": "stream",
     "text": [
      "0\n",
      "0    107347\n",
      "2     98212\n",
      "1     55596\n",
      "3     29408\n",
      "4      6985\n",
      "5      1662\n",
      "6       537\n",
      "7       147\n",
      "8        78\n",
      "9        28\n",
      "Name: var15, dtype: int64\n"
     ]
    }
   ],
   "source": [
    "print(X.var15.isnull().sum())\n",
    "print(X.var15.value_counts())"
   ]
  },
  {
   "cell_type": "markdown",
   "metadata": {},
   "source": [
    "### `var16`"
   ]
  },
  {
   "cell_type": "code",
   "execution_count": 55,
   "metadata": {
    "collapsed": false
   },
   "outputs": [
    {
     "name": "stdout",
     "output_type": "stream",
     "text": [
      "0\n",
      "1     157270\n",
      "4      99301\n",
      "5      16958\n",
      "3      16880\n",
      "2       5917\n",
      "0       3345\n",
      "NR       329\n",
      "Name: var16, dtype: int64\n"
     ]
    }
   ],
   "source": [
    "print(X.var16.isnull().sum())\n",
    "print(X.var16.value_counts())"
   ]
  },
  {
   "cell_type": "code",
   "execution_count": 56,
   "metadata": {
    "collapsed": true
   },
   "outputs": [],
   "source": [
    "cat_variables.append('var16')"
   ]
  },
  {
   "cell_type": "markdown",
   "metadata": {},
   "source": [
    "### `var17`"
   ]
  },
  {
   "cell_type": "code",
   "execution_count": 57,
   "metadata": {
    "collapsed": false
   },
   "outputs": [
    {
     "name": "stdout",
     "output_type": "stream",
     "text": [
      "0\n",
      "1    189634\n",
      "2     69401\n",
      "4     31959\n",
      "3      7062\n",
      "0      1789\n",
      "5       155\n",
      "Name: var17, dtype: int64\n"
     ]
    }
   ],
   "source": [
    "print(X.var17.isnull().sum())\n",
    "print(X.var17.value_counts())"
   ]
  },
  {
   "cell_type": "markdown",
   "metadata": {},
   "source": [
    "### `var18`"
   ]
  },
  {
   "cell_type": "code",
   "execution_count": 58,
   "metadata": {
    "collapsed": false
   },
   "outputs": [
    {
     "name": "stdout",
     "output_type": "stream",
     "text": [
      "0\n",
      "23    36281\n",
      "22    34870\n",
      "24    33843\n",
      "25    29404\n",
      "21    28001\n",
      "26    25553\n",
      "27    20606\n",
      "28    15433\n",
      "20    15372\n",
      "29    11151\n",
      "30     7953\n",
      "31     6451\n",
      "19     5720\n",
      "32     4956\n",
      "33     3925\n",
      "34     3132\n",
      "35     2401\n",
      "36     1933\n",
      "37     1724\n",
      "38     1517\n",
      "39     1155\n",
      "14      797\n",
      "13      756\n",
      "15      675\n",
      "12      644\n",
      "40      572\n",
      "16      551\n",
      "11      545\n",
      "18      480\n",
      "17      472\n",
      "10      433\n",
      "9       348\n",
      "8       289\n",
      "41      281\n",
      "7       273\n",
      "4       241\n",
      "5       230\n",
      "6       230\n",
      "3       193\n",
      "1       150\n",
      "2       144\n",
      "42      132\n",
      "0        90\n",
      "43       55\n",
      "44       31\n",
      "45        7\n",
      "Name: var18, dtype: int64\n"
     ]
    }
   ],
   "source": [
    "print(X.var18.isnull().sum())\n",
    "print(X.var18.value_counts())"
   ]
  },
  {
   "cell_type": "markdown",
   "metadata": {},
   "source": [
    "### `var19`"
   ]
  },
  {
   "cell_type": "code",
   "execution_count": 59,
   "metadata": {
    "collapsed": false
   },
   "outputs": [
    {
     "name": "stdout",
     "output_type": "stream",
     "text": [
      "0\n",
      "0     210146\n",
      "1      47692\n",
      "2      24855\n",
      "3      10148\n",
      "4       3978\n",
      "5       1537\n",
      "6        662\n",
      "7        362\n",
      "8        237\n",
      "9        125\n",
      "11        63\n",
      "10        47\n",
      "12        32\n",
      "13        27\n",
      "15        16\n",
      "14        15\n",
      "16        14\n",
      "20        14\n",
      "17         9\n",
      "18         6\n",
      "19         3\n",
      "27         3\n",
      "25         2\n",
      "34         2\n",
      "32         1\n",
      "21         1\n",
      "23         1\n",
      "24         1\n",
      "28         1\n",
      "Name: var19, dtype: int64\n"
     ]
    }
   ],
   "source": [
    "print(X.var19.isnull().sum())\n",
    "print(X.var19.value_counts())"
   ]
  },
  {
   "cell_type": "markdown",
   "metadata": {},
   "source": [
    "### `var20`"
   ]
  },
  {
   "cell_type": "code",
   "execution_count": 60,
   "metadata": {
    "collapsed": false
   },
   "outputs": [
    {
     "name": "stdout",
     "output_type": "stream",
     "text": [
      "0\n",
      "1    162846\n",
      "0    137154\n",
      "Name: var20, dtype: int64\n"
     ]
    }
   ],
   "source": [
    "print(X.var20.isnull().sum())\n",
    "print(X.var20.value_counts())"
   ]
  },
  {
   "cell_type": "markdown",
   "metadata": {},
   "source": [
    "### `var21`"
   ]
  },
  {
   "cell_type": "code",
   "execution_count": 61,
   "metadata": {
    "collapsed": false
   },
   "outputs": [
    {
     "name": "stdout",
     "output_type": "stream",
     "text": [
      "0\n",
      "1    273577\n",
      "0     26423\n",
      "Name: var21, dtype: int64\n"
     ]
    }
   ],
   "source": [
    "print(X.var21.isnull().sum())\n",
    "print(X.var21.value_counts())"
   ]
  },
  {
   "cell_type": "markdown",
   "metadata": {},
   "source": [
    "### `var22`"
   ]
  },
  {
   "cell_type": "code",
   "execution_count": 62,
   "metadata": {
    "collapsed": false,
    "scrolled": false
   },
   "outputs": [
    {
     "name": "stdout",
     "output_type": "stream",
     "text": [
      "0\n",
      "0     112575\n",
      "1      93220\n",
      "2      57902\n",
      "3      23126\n",
      "4       7954\n",
      "5       2930\n",
      "6       1155\n",
      "7        484\n",
      "8        248\n",
      "9        146\n",
      "10       101\n",
      "11        44\n",
      "13        35\n",
      "12        28\n",
      "14        19\n",
      "15         8\n",
      "17         8\n",
      "22         4\n",
      "25         3\n",
      "60         3\n",
      "18         2\n",
      "30         2\n",
      "59         1\n",
      "16         1\n",
      "20         1\n",
      "Name: var22, dtype: int64\n"
     ]
    }
   ],
   "source": [
    "print(X.var22.isnull().sum())\n",
    "print(X.var22.value_counts())"
   ]
  },
  {
   "cell_type": "markdown",
   "metadata": {},
   "source": [
    "-----"
   ]
  },
  {
   "cell_type": "code",
   "execution_count": 63,
   "metadata": {
    "collapsed": false
   },
   "outputs": [],
   "source": [
    "from sklearn.preprocessing import LabelEncoder"
   ]
  },
  {
   "cell_type": "code",
   "execution_count": 64,
   "metadata": {
    "collapsed": true
   },
   "outputs": [],
   "source": [
    "encods = [LabelEncoder() for col in cat_variables]\n",
    "\n",
    "for i, col in enumerate(cat_variables):\n",
    "    X[col] = encods[i].fit_transform(X[col].astype(str))\n",
    "\n",
    "encods = [LabelEncoder() for col in cat_variables]\n",
    "\n",
    "for i, col in enumerate(cat_variables):\n",
    "    X_test[col] = encods[i].fit_transform(X_test[col].astype(str))"
   ]
  },
  {
   "cell_type": "code",
   "execution_count": 66,
   "metadata": {
    "collapsed": false
   },
   "outputs": [],
   "source": [
    "X.fillna(0, inplace = True)\n",
    "X_test.fillna(0, inplace = True)"
   ]
  },
  {
   "cell_type": "markdown",
   "metadata": {},
   "source": [
    "---------\n",
    "\n",
    "Зафигачить `xgboost`.\n",
    "\n",
    "```python\n",
    "import xgboost as xgb\n",
    "# read in data\n",
    "dtrain = xgb.DMatrix('demo/data/agaricus.txt.train')\n",
    "dtest = xgb.DMatrix('demo/data/agaricus.txt.test')\n",
    "# specify parameters via map\n",
    "param = {'max_depth':2, 'eta':1, 'silent':1, 'objective':'binary:logistic' }\n",
    "num_round = 2\n",
    "bst = xgb.train(param, dtrain, num_round)\n",
    "# make prediction\n",
    "preds = bst.predict(dtest)\n",
    "```"
   ]
  },
  {
   "cell_type": "code",
   "execution_count": 67,
   "metadata": {
    "collapsed": false
   },
   "outputs": [],
   "source": [
    "import xgboost as xgb"
   ]
  },
  {
   "cell_type": "code",
   "execution_count": 68,
   "metadata": {
    "collapsed": false
   },
   "outputs": [],
   "source": [
    "dtrain = xgb.DMatrix(X, y, missing=0)\n",
    "\n",
    "dtest = xgb.DMatrix(X_test)"
   ]
  },
  {
   "cell_type": "code",
   "execution_count": 69,
   "metadata": {
    "collapsed": true
   },
   "outputs": [],
   "source": [
    "# человеческая метрика\n",
    "def mape2(preds, dtrain):\n",
    "    y_true = dtrain.get_label()\n",
    "    return 'mape2', np.mean(np.abs((y_true - preds) / y_true))"
   ]
  },
  {
   "cell_type": "code",
   "execution_count": 70,
   "metadata": {
    "collapsed": true
   },
   "outputs": [],
   "source": [
    "param = { }\n",
    "num_round = 100\n",
    "bst = xgb.train(param, dtrain, num_round)"
   ]
  },
  {
   "cell_type": "code",
   "execution_count": 71,
   "metadata": {
    "collapsed": false
   },
   "outputs": [],
   "source": [
    "pred = bst.predict(dtest)"
   ]
  },
  {
   "cell_type": "code",
   "execution_count": 72,
   "metadata": {
    "collapsed": false
   },
   "outputs": [],
   "source": [
    "from datetime import datetime\n",
    "\n",
    "filename = 'xgb_' + datetime.now().strftime(format = '%d%m_%H%M') + '.csv'\n",
    "pd.DataFrame({'id': X_test.index, 'pred': pred}).to_csv(filename,\n",
    "                                                        index=False,\n",
    "                                                        sep=';')"
   ]
  },
  {
   "cell_type": "code",
   "execution_count": 73,
   "metadata": {
    "collapsed": false
   },
   "outputs": [],
   "source": [
    "# xgb.cv(params = param, \n",
    "#        dtrain = dtrain, \n",
    "#        num_boost_round=num_round, \n",
    "#        early_stopping_rounds = 30,\n",
    "#        feval = mape2\n",
    "#       )"
   ]
  },
  {
   "cell_type": "code",
   "execution_count": 78,
   "metadata": {
    "collapsed": false,
    "scrolled": false
   },
   "outputs": [
    {
     "data": {
      "text/html": [
       "<div>\n",
       "<table border=\"1\" class=\"dataframe\">\n",
       "  <thead>\n",
       "    <tr style=\"text-align: right;\">\n",
       "      <th></th>\n",
       "      <th>annee_naissance</th>\n",
       "      <th>annee_permis</th>\n",
       "      <th>marque</th>\n",
       "      <th>puis_fiscale</th>\n",
       "      <th>anc_veh</th>\n",
       "      <th>codepostal</th>\n",
       "      <th>energie_veh</th>\n",
       "      <th>kmage_annuel</th>\n",
       "      <th>crm</th>\n",
       "      <th>profession</th>\n",
       "      <th>...</th>\n",
       "      <th>var14</th>\n",
       "      <th>var15</th>\n",
       "      <th>var16</th>\n",
       "      <th>var17</th>\n",
       "      <th>var18</th>\n",
       "      <th>var19</th>\n",
       "      <th>var20</th>\n",
       "      <th>var21</th>\n",
       "      <th>var22</th>\n",
       "      <th>age_permis</th>\n",
       "    </tr>\n",
       "  </thead>\n",
       "  <tbody>\n",
       "    <tr>\n",
       "      <th>annee_naissance</th>\n",
       "      <td>1.000000</td>\n",
       "      <td>0.999957</td>\n",
       "      <td>-0.003007</td>\n",
       "      <td>0.037407</td>\n",
       "      <td>0.006849</td>\n",
       "      <td>-0.004392</td>\n",
       "      <td>0.147210</td>\n",
       "      <td>-0.120363</td>\n",
       "      <td>0.031002</td>\n",
       "      <td>-0.004574</td>\n",
       "      <td>...</td>\n",
       "      <td>-0.000891</td>\n",
       "      <td>0.001751</td>\n",
       "      <td>0.006076</td>\n",
       "      <td>0.001574</td>\n",
       "      <td>0.000475</td>\n",
       "      <td>-0.000976</td>\n",
       "      <td>-0.000251</td>\n",
       "      <td>-0.001690</td>\n",
       "      <td>0.000799</td>\n",
       "      <td>0.717313</td>\n",
       "    </tr>\n",
       "    <tr>\n",
       "      <th>annee_permis</th>\n",
       "      <td>0.999957</td>\n",
       "      <td>1.000000</td>\n",
       "      <td>-0.003043</td>\n",
       "      <td>0.037803</td>\n",
       "      <td>0.006859</td>\n",
       "      <td>-0.004362</td>\n",
       "      <td>0.147174</td>\n",
       "      <td>-0.120146</td>\n",
       "      <td>0.030939</td>\n",
       "      <td>-0.004564</td>\n",
       "      <td>...</td>\n",
       "      <td>-0.000868</td>\n",
       "      <td>0.001745</td>\n",
       "      <td>0.006121</td>\n",
       "      <td>0.001581</td>\n",
       "      <td>0.000441</td>\n",
       "      <td>-0.000976</td>\n",
       "      <td>-0.000219</td>\n",
       "      <td>-0.001714</td>\n",
       "      <td>0.000804</td>\n",
       "      <td>0.723754</td>\n",
       "    </tr>\n",
       "    <tr>\n",
       "      <th>marque</th>\n",
       "      <td>-0.003007</td>\n",
       "      <td>-0.003043</td>\n",
       "      <td>1.000000</td>\n",
       "      <td>-0.066060</td>\n",
       "      <td>0.011006</td>\n",
       "      <td>0.000399</td>\n",
       "      <td>-0.005366</td>\n",
       "      <td>-0.030423</td>\n",
       "      <td>0.043682</td>\n",
       "      <td>-0.007426</td>\n",
       "      <td>...</td>\n",
       "      <td>-0.001518</td>\n",
       "      <td>0.009779</td>\n",
       "      <td>0.012735</td>\n",
       "      <td>-0.001312</td>\n",
       "      <td>0.000772</td>\n",
       "      <td>-0.000475</td>\n",
       "      <td>0.001927</td>\n",
       "      <td>-0.001399</td>\n",
       "      <td>-0.005618</td>\n",
       "      <td>-0.004918</td>\n",
       "    </tr>\n",
       "    <tr>\n",
       "      <th>puis_fiscale</th>\n",
       "      <td>0.037407</td>\n",
       "      <td>0.037803</td>\n",
       "      <td>-0.066060</td>\n",
       "      <td>1.000000</td>\n",
       "      <td>-0.045425</td>\n",
       "      <td>0.027230</td>\n",
       "      <td>-0.061505</td>\n",
       "      <td>0.544390</td>\n",
       "      <td>-0.220898</td>\n",
       "      <td>0.034894</td>\n",
       "      <td>...</td>\n",
       "      <td>0.032008</td>\n",
       "      <td>0.019341</td>\n",
       "      <td>-0.014510</td>\n",
       "      <td>0.000972</td>\n",
       "      <td>-0.005158</td>\n",
       "      <td>-0.002424</td>\n",
       "      <td>-0.001528</td>\n",
       "      <td>-0.005166</td>\n",
       "      <td>-0.001318</td>\n",
       "      <td>0.056665</td>\n",
       "    </tr>\n",
       "    <tr>\n",
       "      <th>anc_veh</th>\n",
       "      <td>0.006849</td>\n",
       "      <td>0.006859</td>\n",
       "      <td>0.011006</td>\n",
       "      <td>-0.045425</td>\n",
       "      <td>1.000000</td>\n",
       "      <td>-0.008419</td>\n",
       "      <td>0.012018</td>\n",
       "      <td>-0.043351</td>\n",
       "      <td>0.197217</td>\n",
       "      <td>-0.022601</td>\n",
       "      <td>...</td>\n",
       "      <td>-0.037633</td>\n",
       "      <td>-0.085359</td>\n",
       "      <td>0.634972</td>\n",
       "      <td>-0.007347</td>\n",
       "      <td>-0.000244</td>\n",
       "      <td>-0.000791</td>\n",
       "      <td>0.006100</td>\n",
       "      <td>0.001245</td>\n",
       "      <td>0.002601</td>\n",
       "      <td>0.005722</td>\n",
       "    </tr>\n",
       "    <tr>\n",
       "      <th>codepostal</th>\n",
       "      <td>-0.004392</td>\n",
       "      <td>-0.004362</td>\n",
       "      <td>0.000399</td>\n",
       "      <td>0.027230</td>\n",
       "      <td>-0.008419</td>\n",
       "      <td>1.000000</td>\n",
       "      <td>-0.027410</td>\n",
       "      <td>0.015804</td>\n",
       "      <td>0.040679</td>\n",
       "      <td>-0.018366</td>\n",
       "      <td>...</td>\n",
       "      <td>0.384664</td>\n",
       "      <td>0.013155</td>\n",
       "      <td>0.015633</td>\n",
       "      <td>0.096410</td>\n",
       "      <td>-0.343083</td>\n",
       "      <td>-0.018654</td>\n",
       "      <td>-0.096769</td>\n",
       "      <td>-0.063687</td>\n",
       "      <td>-0.069443</td>\n",
       "      <td>-0.000948</td>\n",
       "    </tr>\n",
       "    <tr>\n",
       "      <th>energie_veh</th>\n",
       "      <td>0.147210</td>\n",
       "      <td>0.147174</td>\n",
       "      <td>-0.005366</td>\n",
       "      <td>-0.061505</td>\n",
       "      <td>0.012018</td>\n",
       "      <td>-0.027410</td>\n",
       "      <td>1.000000</td>\n",
       "      <td>0.249167</td>\n",
       "      <td>-0.031907</td>\n",
       "      <td>-0.006406</td>\n",
       "      <td>...</td>\n",
       "      <td>-0.002145</td>\n",
       "      <td>0.010658</td>\n",
       "      <td>0.018611</td>\n",
       "      <td>0.003524</td>\n",
       "      <td>0.007814</td>\n",
       "      <td>0.002714</td>\n",
       "      <td>0.007790</td>\n",
       "      <td>0.004190</td>\n",
       "      <td>0.004910</td>\n",
       "      <td>0.103432</td>\n",
       "    </tr>\n",
       "    <tr>\n",
       "      <th>kmage_annuel</th>\n",
       "      <td>-0.120363</td>\n",
       "      <td>-0.120146</td>\n",
       "      <td>-0.030423</td>\n",
       "      <td>0.544390</td>\n",
       "      <td>-0.043351</td>\n",
       "      <td>0.015804</td>\n",
       "      <td>0.249167</td>\n",
       "      <td>1.000000</td>\n",
       "      <td>-0.226800</td>\n",
       "      <td>0.034286</td>\n",
       "      <td>...</td>\n",
       "      <td>0.021486</td>\n",
       "      <td>0.054572</td>\n",
       "      <td>-0.012715</td>\n",
       "      <td>-0.000471</td>\n",
       "      <td>-0.005435</td>\n",
       "      <td>0.000691</td>\n",
       "      <td>0.002975</td>\n",
       "      <td>-0.002461</td>\n",
       "      <td>-0.000159</td>\n",
       "      <td>-0.070413</td>\n",
       "    </tr>\n",
       "    <tr>\n",
       "      <th>crm</th>\n",
       "      <td>0.031002</td>\n",
       "      <td>0.030939</td>\n",
       "      <td>0.043682</td>\n",
       "      <td>-0.220898</td>\n",
       "      <td>0.197217</td>\n",
       "      <td>0.040679</td>\n",
       "      <td>-0.031907</td>\n",
       "      <td>-0.226800</td>\n",
       "      <td>1.000000</td>\n",
       "      <td>-0.068545</td>\n",
       "      <td>...</td>\n",
       "      <td>0.009651</td>\n",
       "      <td>-0.007315</td>\n",
       "      <td>0.134523</td>\n",
       "      <td>0.004029</td>\n",
       "      <td>-0.020380</td>\n",
       "      <td>-0.000053</td>\n",
       "      <td>-0.000457</td>\n",
       "      <td>0.001444</td>\n",
       "      <td>-0.005481</td>\n",
       "      <td>0.017587</td>\n",
       "    </tr>\n",
       "    <tr>\n",
       "      <th>profession</th>\n",
       "      <td>-0.004574</td>\n",
       "      <td>-0.004564</td>\n",
       "      <td>-0.007426</td>\n",
       "      <td>0.034894</td>\n",
       "      <td>-0.022601</td>\n",
       "      <td>-0.018366</td>\n",
       "      <td>-0.006406</td>\n",
       "      <td>0.034286</td>\n",
       "      <td>-0.068545</td>\n",
       "      <td>1.000000</td>\n",
       "      <td>...</td>\n",
       "      <td>-0.001496</td>\n",
       "      <td>0.021835</td>\n",
       "      <td>-0.072695</td>\n",
       "      <td>-0.002334</td>\n",
       "      <td>0.009562</td>\n",
       "      <td>-0.000777</td>\n",
       "      <td>0.001498</td>\n",
       "      <td>0.005965</td>\n",
       "      <td>0.004280</td>\n",
       "      <td>-0.002490</td>\n",
       "    </tr>\n",
       "    <tr>\n",
       "      <th>var1</th>\n",
       "      <td>-0.044703</td>\n",
       "      <td>-0.044524</td>\n",
       "      <td>-0.023972</td>\n",
       "      <td>0.401592</td>\n",
       "      <td>-0.018457</td>\n",
       "      <td>0.011520</td>\n",
       "      <td>-0.021811</td>\n",
       "      <td>0.216883</td>\n",
       "      <td>-0.088602</td>\n",
       "      <td>0.014844</td>\n",
       "      <td>...</td>\n",
       "      <td>0.012743</td>\n",
       "      <td>0.008465</td>\n",
       "      <td>-0.007466</td>\n",
       "      <td>-0.005263</td>\n",
       "      <td>-0.004634</td>\n",
       "      <td>-0.002683</td>\n",
       "      <td>-0.003198</td>\n",
       "      <td>-0.003654</td>\n",
       "      <td>-0.001711</td>\n",
       "      <td>-0.018802</td>\n",
       "    </tr>\n",
       "    <tr>\n",
       "      <th>var2</th>\n",
       "      <td>0.014283</td>\n",
       "      <td>0.014266</td>\n",
       "      <td>0.010914</td>\n",
       "      <td>-0.006020</td>\n",
       "      <td>0.085120</td>\n",
       "      <td>0.003379</td>\n",
       "      <td>0.000833</td>\n",
       "      <td>-0.026604</td>\n",
       "      <td>0.147565</td>\n",
       "      <td>-0.044051</td>\n",
       "      <td>...</td>\n",
       "      <td>-0.009660</td>\n",
       "      <td>0.024683</td>\n",
       "      <td>0.088440</td>\n",
       "      <td>0.000268</td>\n",
       "      <td>-0.000757</td>\n",
       "      <td>-0.003405</td>\n",
       "      <td>0.000031</td>\n",
       "      <td>0.003221</td>\n",
       "      <td>0.004117</td>\n",
       "      <td>0.008997</td>\n",
       "    </tr>\n",
       "    <tr>\n",
       "      <th>var3</th>\n",
       "      <td>-0.008449</td>\n",
       "      <td>-0.008470</td>\n",
       "      <td>-0.014871</td>\n",
       "      <td>0.028392</td>\n",
       "      <td>-0.461887</td>\n",
       "      <td>-0.018576</td>\n",
       "      <td>-0.007492</td>\n",
       "      <td>0.022112</td>\n",
       "      <td>-0.091479</td>\n",
       "      <td>0.170739</td>\n",
       "      <td>...</td>\n",
       "      <td>0.011816</td>\n",
       "      <td>0.017760</td>\n",
       "      <td>-0.768887</td>\n",
       "      <td>0.000571</td>\n",
       "      <td>0.009807</td>\n",
       "      <td>-0.002216</td>\n",
       "      <td>-0.001581</td>\n",
       "      <td>0.002827</td>\n",
       "      <td>-0.001418</td>\n",
       "      <td>-0.007636</td>\n",
       "    </tr>\n",
       "    <tr>\n",
       "      <th>var4</th>\n",
       "      <td>0.000154</td>\n",
       "      <td>0.000141</td>\n",
       "      <td>-0.001967</td>\n",
       "      <td>-0.000220</td>\n",
       "      <td>0.001688</td>\n",
       "      <td>0.000065</td>\n",
       "      <td>0.002242</td>\n",
       "      <td>0.001792</td>\n",
       "      <td>-0.000781</td>\n",
       "      <td>-0.001698</td>\n",
       "      <td>...</td>\n",
       "      <td>0.001102</td>\n",
       "      <td>-0.003156</td>\n",
       "      <td>0.000917</td>\n",
       "      <td>0.001777</td>\n",
       "      <td>-0.002295</td>\n",
       "      <td>0.000149</td>\n",
       "      <td>-0.001506</td>\n",
       "      <td>-0.001016</td>\n",
       "      <td>0.000495</td>\n",
       "      <td>-0.000893</td>\n",
       "    </tr>\n",
       "    <tr>\n",
       "      <th>var5</th>\n",
       "      <td>0.008210</td>\n",
       "      <td>0.008144</td>\n",
       "      <td>0.013272</td>\n",
       "      <td>-0.133861</td>\n",
       "      <td>-0.055346</td>\n",
       "      <td>-0.016470</td>\n",
       "      <td>-0.074919</td>\n",
       "      <td>-0.128111</td>\n",
       "      <td>-0.064164</td>\n",
       "      <td>0.008163</td>\n",
       "      <td>...</td>\n",
       "      <td>-0.006046</td>\n",
       "      <td>0.012453</td>\n",
       "      <td>-0.093486</td>\n",
       "      <td>0.000505</td>\n",
       "      <td>0.003789</td>\n",
       "      <td>-0.000940</td>\n",
       "      <td>0.001160</td>\n",
       "      <td>0.004240</td>\n",
       "      <td>0.000875</td>\n",
       "      <td>0.000964</td>\n",
       "    </tr>\n",
       "    <tr>\n",
       "      <th>var6</th>\n",
       "      <td>-0.108987</td>\n",
       "      <td>-0.108900</td>\n",
       "      <td>-0.056365</td>\n",
       "      <td>0.188587</td>\n",
       "      <td>-0.017872</td>\n",
       "      <td>0.029180</td>\n",
       "      <td>-0.038593</td>\n",
       "      <td>0.172418</td>\n",
       "      <td>-0.081327</td>\n",
       "      <td>0.011390</td>\n",
       "      <td>...</td>\n",
       "      <td>0.003067</td>\n",
       "      <td>-0.019013</td>\n",
       "      <td>-0.006634</td>\n",
       "      <td>0.003208</td>\n",
       "      <td>-0.011588</td>\n",
       "      <td>-0.000009</td>\n",
       "      <td>-0.005108</td>\n",
       "      <td>-0.001533</td>\n",
       "      <td>-0.001486</td>\n",
       "      <td>-0.071998</td>\n",
       "    </tr>\n",
       "    <tr>\n",
       "      <th>var7</th>\n",
       "      <td>-0.092907</td>\n",
       "      <td>-0.092857</td>\n",
       "      <td>-0.014331</td>\n",
       "      <td>0.147042</td>\n",
       "      <td>-0.026548</td>\n",
       "      <td>0.004722</td>\n",
       "      <td>0.062505</td>\n",
       "      <td>0.197755</td>\n",
       "      <td>-0.141261</td>\n",
       "      <td>0.019615</td>\n",
       "      <td>...</td>\n",
       "      <td>0.006066</td>\n",
       "      <td>0.038160</td>\n",
       "      <td>-0.011743</td>\n",
       "      <td>0.003197</td>\n",
       "      <td>0.004794</td>\n",
       "      <td>0.003635</td>\n",
       "      <td>0.002439</td>\n",
       "      <td>-0.000745</td>\n",
       "      <td>0.000021</td>\n",
       "      <td>-0.063201</td>\n",
       "    </tr>\n",
       "    <tr>\n",
       "      <th>var8</th>\n",
       "      <td>-0.047547</td>\n",
       "      <td>-0.047355</td>\n",
       "      <td>0.003449</td>\n",
       "      <td>0.418507</td>\n",
       "      <td>-0.037359</td>\n",
       "      <td>0.005004</td>\n",
       "      <td>0.151950</td>\n",
       "      <td>0.512359</td>\n",
       "      <td>-0.179229</td>\n",
       "      <td>0.021202</td>\n",
       "      <td>...</td>\n",
       "      <td>0.027751</td>\n",
       "      <td>0.011209</td>\n",
       "      <td>-0.012981</td>\n",
       "      <td>-0.001723</td>\n",
       "      <td>-0.000811</td>\n",
       "      <td>-0.002106</td>\n",
       "      <td>0.001171</td>\n",
       "      <td>-0.000300</td>\n",
       "      <td>0.004313</td>\n",
       "      <td>-0.019851</td>\n",
       "    </tr>\n",
       "    <tr>\n",
       "      <th>var9</th>\n",
       "      <td>0.047032</td>\n",
       "      <td>0.047356</td>\n",
       "      <td>-0.082228</td>\n",
       "      <td>0.803780</td>\n",
       "      <td>-0.040880</td>\n",
       "      <td>0.035312</td>\n",
       "      <td>0.032859</td>\n",
       "      <td>0.545479</td>\n",
       "      <td>-0.217024</td>\n",
       "      <td>0.030086</td>\n",
       "      <td>...</td>\n",
       "      <td>0.015372</td>\n",
       "      <td>0.002692</td>\n",
       "      <td>-0.006314</td>\n",
       "      <td>0.003675</td>\n",
       "      <td>-0.009800</td>\n",
       "      <td>-0.002082</td>\n",
       "      <td>-0.003741</td>\n",
       "      <td>-0.006128</td>\n",
       "      <td>-0.000818</td>\n",
       "      <td>0.058163</td>\n",
       "    </tr>\n",
       "    <tr>\n",
       "      <th>var10</th>\n",
       "      <td>0.146191</td>\n",
       "      <td>0.146283</td>\n",
       "      <td>-0.036581</td>\n",
       "      <td>0.268431</td>\n",
       "      <td>-0.000406</td>\n",
       "      <td>0.026053</td>\n",
       "      <td>0.000940</td>\n",
       "      <td>-0.023370</td>\n",
       "      <td>-0.029880</td>\n",
       "      <td>-0.000437</td>\n",
       "      <td>...</td>\n",
       "      <td>-0.004314</td>\n",
       "      <td>-0.014582</td>\n",
       "      <td>0.012083</td>\n",
       "      <td>0.007125</td>\n",
       "      <td>-0.007641</td>\n",
       "      <td>-0.002710</td>\n",
       "      <td>-0.006349</td>\n",
       "      <td>-0.002030</td>\n",
       "      <td>-0.000666</td>\n",
       "      <td>0.112228</td>\n",
       "    </tr>\n",
       "    <tr>\n",
       "      <th>var11</th>\n",
       "      <td>0.006903</td>\n",
       "      <td>0.006914</td>\n",
       "      <td>0.010918</td>\n",
       "      <td>-0.045488</td>\n",
       "      <td>0.999028</td>\n",
       "      <td>-0.008405</td>\n",
       "      <td>0.012088</td>\n",
       "      <td>-0.043298</td>\n",
       "      <td>0.197174</td>\n",
       "      <td>-0.023978</td>\n",
       "      <td>...</td>\n",
       "      <td>-0.037753</td>\n",
       "      <td>-0.084454</td>\n",
       "      <td>0.638446</td>\n",
       "      <td>-0.007363</td>\n",
       "      <td>-0.000060</td>\n",
       "      <td>-0.000793</td>\n",
       "      <td>0.006086</td>\n",
       "      <td>0.001292</td>\n",
       "      <td>0.002646</td>\n",
       "      <td>0.005801</td>\n",
       "    </tr>\n",
       "    <tr>\n",
       "      <th>var12</th>\n",
       "      <td>-0.185495</td>\n",
       "      <td>-0.185296</td>\n",
       "      <td>-0.022599</td>\n",
       "      <td>0.494775</td>\n",
       "      <td>-0.041996</td>\n",
       "      <td>0.012607</td>\n",
       "      <td>0.195401</td>\n",
       "      <td>0.908274</td>\n",
       "      <td>-0.214352</td>\n",
       "      <td>0.032502</td>\n",
       "      <td>...</td>\n",
       "      <td>0.019621</td>\n",
       "      <td>0.043420</td>\n",
       "      <td>-0.014263</td>\n",
       "      <td>-0.001402</td>\n",
       "      <td>-0.004592</td>\n",
       "      <td>0.000623</td>\n",
       "      <td>0.004056</td>\n",
       "      <td>-0.002495</td>\n",
       "      <td>0.000640</td>\n",
       "      <td>-0.118738</td>\n",
       "    </tr>\n",
       "    <tr>\n",
       "      <th>var13</th>\n",
       "      <td>-0.021326</td>\n",
       "      <td>-0.021346</td>\n",
       "      <td>-0.003188</td>\n",
       "      <td>-0.051338</td>\n",
       "      <td>-0.024208</td>\n",
       "      <td>0.009830</td>\n",
       "      <td>0.183291</td>\n",
       "      <td>0.215745</td>\n",
       "      <td>-0.036992</td>\n",
       "      <td>0.019359</td>\n",
       "      <td>...</td>\n",
       "      <td>0.012707</td>\n",
       "      <td>0.075838</td>\n",
       "      <td>-0.025748</td>\n",
       "      <td>0.002020</td>\n",
       "      <td>-0.010192</td>\n",
       "      <td>0.001442</td>\n",
       "      <td>-0.000886</td>\n",
       "      <td>-0.001860</td>\n",
       "      <td>-0.003813</td>\n",
       "      <td>-0.016872</td>\n",
       "    </tr>\n",
       "    <tr>\n",
       "      <th>var14</th>\n",
       "      <td>-0.000891</td>\n",
       "      <td>-0.000868</td>\n",
       "      <td>-0.001518</td>\n",
       "      <td>0.032008</td>\n",
       "      <td>-0.037633</td>\n",
       "      <td>0.384664</td>\n",
       "      <td>-0.002145</td>\n",
       "      <td>0.021486</td>\n",
       "      <td>0.009651</td>\n",
       "      <td>-0.001496</td>\n",
       "      <td>...</td>\n",
       "      <td>1.000000</td>\n",
       "      <td>0.015270</td>\n",
       "      <td>-0.019261</td>\n",
       "      <td>0.021231</td>\n",
       "      <td>-0.175830</td>\n",
       "      <td>-0.018678</td>\n",
       "      <td>-0.054916</td>\n",
       "      <td>-0.037933</td>\n",
       "      <td>-0.041831</td>\n",
       "      <td>0.001097</td>\n",
       "    </tr>\n",
       "    <tr>\n",
       "      <th>var15</th>\n",
       "      <td>0.001751</td>\n",
       "      <td>0.001745</td>\n",
       "      <td>0.009779</td>\n",
       "      <td>0.019341</td>\n",
       "      <td>-0.085359</td>\n",
       "      <td>0.013155</td>\n",
       "      <td>0.010658</td>\n",
       "      <td>0.054572</td>\n",
       "      <td>-0.007315</td>\n",
       "      <td>0.021835</td>\n",
       "      <td>...</td>\n",
       "      <td>0.015270</td>\n",
       "      <td>1.000000</td>\n",
       "      <td>-0.032767</td>\n",
       "      <td>0.003511</td>\n",
       "      <td>-0.007505</td>\n",
       "      <td>-0.002266</td>\n",
       "      <td>-0.001841</td>\n",
       "      <td>0.001630</td>\n",
       "      <td>-0.003899</td>\n",
       "      <td>0.000866</td>\n",
       "    </tr>\n",
       "    <tr>\n",
       "      <th>var16</th>\n",
       "      <td>0.006076</td>\n",
       "      <td>0.006121</td>\n",
       "      <td>0.012735</td>\n",
       "      <td>-0.014510</td>\n",
       "      <td>0.634972</td>\n",
       "      <td>0.015633</td>\n",
       "      <td>0.018611</td>\n",
       "      <td>-0.012715</td>\n",
       "      <td>0.134523</td>\n",
       "      <td>-0.072695</td>\n",
       "      <td>...</td>\n",
       "      <td>-0.019261</td>\n",
       "      <td>-0.032767</td>\n",
       "      <td>1.000000</td>\n",
       "      <td>-0.002422</td>\n",
       "      <td>-0.006068</td>\n",
       "      <td>0.002730</td>\n",
       "      <td>0.001273</td>\n",
       "      <td>-0.002156</td>\n",
       "      <td>0.000144</td>\n",
       "      <td>0.007777</td>\n",
       "    </tr>\n",
       "    <tr>\n",
       "      <th>var17</th>\n",
       "      <td>0.001574</td>\n",
       "      <td>0.001581</td>\n",
       "      <td>-0.001312</td>\n",
       "      <td>0.000972</td>\n",
       "      <td>-0.007347</td>\n",
       "      <td>0.096410</td>\n",
       "      <td>0.003524</td>\n",
       "      <td>-0.000471</td>\n",
       "      <td>0.004029</td>\n",
       "      <td>-0.002334</td>\n",
       "      <td>...</td>\n",
       "      <td>0.021231</td>\n",
       "      <td>0.003511</td>\n",
       "      <td>-0.002422</td>\n",
       "      <td>1.000000</td>\n",
       "      <td>-0.054887</td>\n",
       "      <td>0.038657</td>\n",
       "      <td>0.042737</td>\n",
       "      <td>0.058896</td>\n",
       "      <td>0.075879</td>\n",
       "      <td>0.001660</td>\n",
       "    </tr>\n",
       "    <tr>\n",
       "      <th>var18</th>\n",
       "      <td>0.000475</td>\n",
       "      <td>0.000441</td>\n",
       "      <td>0.000772</td>\n",
       "      <td>-0.005158</td>\n",
       "      <td>-0.000244</td>\n",
       "      <td>-0.343083</td>\n",
       "      <td>0.007814</td>\n",
       "      <td>-0.005435</td>\n",
       "      <td>-0.020380</td>\n",
       "      <td>0.009562</td>\n",
       "      <td>...</td>\n",
       "      <td>-0.175830</td>\n",
       "      <td>-0.007505</td>\n",
       "      <td>-0.006068</td>\n",
       "      <td>-0.054887</td>\n",
       "      <td>1.000000</td>\n",
       "      <td>0.011668</td>\n",
       "      <td>0.084791</td>\n",
       "      <td>0.061238</td>\n",
       "      <td>0.059065</td>\n",
       "      <td>-0.002190</td>\n",
       "    </tr>\n",
       "    <tr>\n",
       "      <th>var19</th>\n",
       "      <td>-0.000976</td>\n",
       "      <td>-0.000976</td>\n",
       "      <td>-0.000475</td>\n",
       "      <td>-0.002424</td>\n",
       "      <td>-0.000791</td>\n",
       "      <td>-0.018654</td>\n",
       "      <td>0.002714</td>\n",
       "      <td>0.000691</td>\n",
       "      <td>-0.000053</td>\n",
       "      <td>-0.000777</td>\n",
       "      <td>...</td>\n",
       "      <td>-0.018678</td>\n",
       "      <td>-0.002266</td>\n",
       "      <td>0.002730</td>\n",
       "      <td>0.038657</td>\n",
       "      <td>0.011668</td>\n",
       "      <td>1.000000</td>\n",
       "      <td>0.079272</td>\n",
       "      <td>0.031901</td>\n",
       "      <td>-0.439980</td>\n",
       "      <td>-0.000757</td>\n",
       "    </tr>\n",
       "    <tr>\n",
       "      <th>var20</th>\n",
       "      <td>-0.000251</td>\n",
       "      <td>-0.000219</td>\n",
       "      <td>0.001927</td>\n",
       "      <td>-0.001528</td>\n",
       "      <td>0.006100</td>\n",
       "      <td>-0.096769</td>\n",
       "      <td>0.007790</td>\n",
       "      <td>0.002975</td>\n",
       "      <td>-0.000457</td>\n",
       "      <td>0.001498</td>\n",
       "      <td>...</td>\n",
       "      <td>-0.054916</td>\n",
       "      <td>-0.001841</td>\n",
       "      <td>0.001273</td>\n",
       "      <td>0.042737</td>\n",
       "      <td>0.084791</td>\n",
       "      <td>0.079272</td>\n",
       "      <td>1.000000</td>\n",
       "      <td>0.270901</td>\n",
       "      <td>0.099998</td>\n",
       "      <td>0.002246</td>\n",
       "    </tr>\n",
       "    <tr>\n",
       "      <th>var21</th>\n",
       "      <td>-0.001690</td>\n",
       "      <td>-0.001714</td>\n",
       "      <td>-0.001399</td>\n",
       "      <td>-0.005166</td>\n",
       "      <td>0.001245</td>\n",
       "      <td>-0.063687</td>\n",
       "      <td>0.004190</td>\n",
       "      <td>-0.002461</td>\n",
       "      <td>0.001444</td>\n",
       "      <td>0.005965</td>\n",
       "      <td>...</td>\n",
       "      <td>-0.037933</td>\n",
       "      <td>0.001630</td>\n",
       "      <td>-0.002156</td>\n",
       "      <td>0.058896</td>\n",
       "      <td>0.061238</td>\n",
       "      <td>0.031901</td>\n",
       "      <td>0.270901</td>\n",
       "      <td>1.000000</td>\n",
       "      <td>0.042897</td>\n",
       "      <td>-0.003039</td>\n",
       "    </tr>\n",
       "    <tr>\n",
       "      <th>var22</th>\n",
       "      <td>0.000799</td>\n",
       "      <td>0.000804</td>\n",
       "      <td>-0.005618</td>\n",
       "      <td>-0.001318</td>\n",
       "      <td>0.002601</td>\n",
       "      <td>-0.069443</td>\n",
       "      <td>0.004910</td>\n",
       "      <td>-0.000159</td>\n",
       "      <td>-0.005481</td>\n",
       "      <td>0.004280</td>\n",
       "      <td>...</td>\n",
       "      <td>-0.041831</td>\n",
       "      <td>-0.003899</td>\n",
       "      <td>0.000144</td>\n",
       "      <td>0.075879</td>\n",
       "      <td>0.059065</td>\n",
       "      <td>-0.439980</td>\n",
       "      <td>0.099998</td>\n",
       "      <td>0.042897</td>\n",
       "      <td>1.000000</td>\n",
       "      <td>0.000910</td>\n",
       "    </tr>\n",
       "    <tr>\n",
       "      <th>age_permis</th>\n",
       "      <td>0.717313</td>\n",
       "      <td>0.723754</td>\n",
       "      <td>-0.004918</td>\n",
       "      <td>0.056665</td>\n",
       "      <td>0.005722</td>\n",
       "      <td>-0.000948</td>\n",
       "      <td>0.103432</td>\n",
       "      <td>-0.070413</td>\n",
       "      <td>0.017587</td>\n",
       "      <td>-0.002490</td>\n",
       "      <td>...</td>\n",
       "      <td>0.001097</td>\n",
       "      <td>0.000866</td>\n",
       "      <td>0.007777</td>\n",
       "      <td>0.001660</td>\n",
       "      <td>-0.002190</td>\n",
       "      <td>-0.000757</td>\n",
       "      <td>0.002246</td>\n",
       "      <td>-0.003039</td>\n",
       "      <td>0.000910</td>\n",
       "      <td>1.000000</td>\n",
       "    </tr>\n",
       "  </tbody>\n",
       "</table>\n",
       "<p>33 rows × 33 columns</p>\n",
       "</div>"
      ],
      "text/plain": [
       "                 annee_naissance  annee_permis    marque  puis_fiscale  \\\n",
       "annee_naissance         1.000000      0.999957 -0.003007      0.037407   \n",
       "annee_permis            0.999957      1.000000 -0.003043      0.037803   \n",
       "marque                 -0.003007     -0.003043  1.000000     -0.066060   \n",
       "puis_fiscale            0.037407      0.037803 -0.066060      1.000000   \n",
       "anc_veh                 0.006849      0.006859  0.011006     -0.045425   \n",
       "codepostal             -0.004392     -0.004362  0.000399      0.027230   \n",
       "energie_veh             0.147210      0.147174 -0.005366     -0.061505   \n",
       "kmage_annuel           -0.120363     -0.120146 -0.030423      0.544390   \n",
       "crm                     0.031002      0.030939  0.043682     -0.220898   \n",
       "profession             -0.004574     -0.004564 -0.007426      0.034894   \n",
       "var1                   -0.044703     -0.044524 -0.023972      0.401592   \n",
       "var2                    0.014283      0.014266  0.010914     -0.006020   \n",
       "var3                   -0.008449     -0.008470 -0.014871      0.028392   \n",
       "var4                    0.000154      0.000141 -0.001967     -0.000220   \n",
       "var5                    0.008210      0.008144  0.013272     -0.133861   \n",
       "var6                   -0.108987     -0.108900 -0.056365      0.188587   \n",
       "var7                   -0.092907     -0.092857 -0.014331      0.147042   \n",
       "var8                   -0.047547     -0.047355  0.003449      0.418507   \n",
       "var9                    0.047032      0.047356 -0.082228      0.803780   \n",
       "var10                   0.146191      0.146283 -0.036581      0.268431   \n",
       "var11                   0.006903      0.006914  0.010918     -0.045488   \n",
       "var12                  -0.185495     -0.185296 -0.022599      0.494775   \n",
       "var13                  -0.021326     -0.021346 -0.003188     -0.051338   \n",
       "var14                  -0.000891     -0.000868 -0.001518      0.032008   \n",
       "var15                   0.001751      0.001745  0.009779      0.019341   \n",
       "var16                   0.006076      0.006121  0.012735     -0.014510   \n",
       "var17                   0.001574      0.001581 -0.001312      0.000972   \n",
       "var18                   0.000475      0.000441  0.000772     -0.005158   \n",
       "var19                  -0.000976     -0.000976 -0.000475     -0.002424   \n",
       "var20                  -0.000251     -0.000219  0.001927     -0.001528   \n",
       "var21                  -0.001690     -0.001714 -0.001399     -0.005166   \n",
       "var22                   0.000799      0.000804 -0.005618     -0.001318   \n",
       "age_permis              0.717313      0.723754 -0.004918      0.056665   \n",
       "\n",
       "                  anc_veh  codepostal  energie_veh  kmage_annuel       crm  \\\n",
       "annee_naissance  0.006849   -0.004392     0.147210     -0.120363  0.031002   \n",
       "annee_permis     0.006859   -0.004362     0.147174     -0.120146  0.030939   \n",
       "marque           0.011006    0.000399    -0.005366     -0.030423  0.043682   \n",
       "puis_fiscale    -0.045425    0.027230    -0.061505      0.544390 -0.220898   \n",
       "anc_veh          1.000000   -0.008419     0.012018     -0.043351  0.197217   \n",
       "codepostal      -0.008419    1.000000    -0.027410      0.015804  0.040679   \n",
       "energie_veh      0.012018   -0.027410     1.000000      0.249167 -0.031907   \n",
       "kmage_annuel    -0.043351    0.015804     0.249167      1.000000 -0.226800   \n",
       "crm              0.197217    0.040679    -0.031907     -0.226800  1.000000   \n",
       "profession      -0.022601   -0.018366    -0.006406      0.034286 -0.068545   \n",
       "var1            -0.018457    0.011520    -0.021811      0.216883 -0.088602   \n",
       "var2             0.085120    0.003379     0.000833     -0.026604  0.147565   \n",
       "var3            -0.461887   -0.018576    -0.007492      0.022112 -0.091479   \n",
       "var4             0.001688    0.000065     0.002242      0.001792 -0.000781   \n",
       "var5            -0.055346   -0.016470    -0.074919     -0.128111 -0.064164   \n",
       "var6            -0.017872    0.029180    -0.038593      0.172418 -0.081327   \n",
       "var7            -0.026548    0.004722     0.062505      0.197755 -0.141261   \n",
       "var8            -0.037359    0.005004     0.151950      0.512359 -0.179229   \n",
       "var9            -0.040880    0.035312     0.032859      0.545479 -0.217024   \n",
       "var10           -0.000406    0.026053     0.000940     -0.023370 -0.029880   \n",
       "var11            0.999028   -0.008405     0.012088     -0.043298  0.197174   \n",
       "var12           -0.041996    0.012607     0.195401      0.908274 -0.214352   \n",
       "var13           -0.024208    0.009830     0.183291      0.215745 -0.036992   \n",
       "var14           -0.037633    0.384664    -0.002145      0.021486  0.009651   \n",
       "var15           -0.085359    0.013155     0.010658      0.054572 -0.007315   \n",
       "var16            0.634972    0.015633     0.018611     -0.012715  0.134523   \n",
       "var17           -0.007347    0.096410     0.003524     -0.000471  0.004029   \n",
       "var18           -0.000244   -0.343083     0.007814     -0.005435 -0.020380   \n",
       "var19           -0.000791   -0.018654     0.002714      0.000691 -0.000053   \n",
       "var20            0.006100   -0.096769     0.007790      0.002975 -0.000457   \n",
       "var21            0.001245   -0.063687     0.004190     -0.002461  0.001444   \n",
       "var22            0.002601   -0.069443     0.004910     -0.000159 -0.005481   \n",
       "age_permis       0.005722   -0.000948     0.103432     -0.070413  0.017587   \n",
       "\n",
       "                 profession     ...         var14     var15     var16  \\\n",
       "annee_naissance   -0.004574     ...     -0.000891  0.001751  0.006076   \n",
       "annee_permis      -0.004564     ...     -0.000868  0.001745  0.006121   \n",
       "marque            -0.007426     ...     -0.001518  0.009779  0.012735   \n",
       "puis_fiscale       0.034894     ...      0.032008  0.019341 -0.014510   \n",
       "anc_veh           -0.022601     ...     -0.037633 -0.085359  0.634972   \n",
       "codepostal        -0.018366     ...      0.384664  0.013155  0.015633   \n",
       "energie_veh       -0.006406     ...     -0.002145  0.010658  0.018611   \n",
       "kmage_annuel       0.034286     ...      0.021486  0.054572 -0.012715   \n",
       "crm               -0.068545     ...      0.009651 -0.007315  0.134523   \n",
       "profession         1.000000     ...     -0.001496  0.021835 -0.072695   \n",
       "var1               0.014844     ...      0.012743  0.008465 -0.007466   \n",
       "var2              -0.044051     ...     -0.009660  0.024683  0.088440   \n",
       "var3               0.170739     ...      0.011816  0.017760 -0.768887   \n",
       "var4              -0.001698     ...      0.001102 -0.003156  0.000917   \n",
       "var5               0.008163     ...     -0.006046  0.012453 -0.093486   \n",
       "var6               0.011390     ...      0.003067 -0.019013 -0.006634   \n",
       "var7               0.019615     ...      0.006066  0.038160 -0.011743   \n",
       "var8               0.021202     ...      0.027751  0.011209 -0.012981   \n",
       "var9               0.030086     ...      0.015372  0.002692 -0.006314   \n",
       "var10             -0.000437     ...     -0.004314 -0.014582  0.012083   \n",
       "var11             -0.023978     ...     -0.037753 -0.084454  0.638446   \n",
       "var12              0.032502     ...      0.019621  0.043420 -0.014263   \n",
       "var13              0.019359     ...      0.012707  0.075838 -0.025748   \n",
       "var14             -0.001496     ...      1.000000  0.015270 -0.019261   \n",
       "var15              0.021835     ...      0.015270  1.000000 -0.032767   \n",
       "var16             -0.072695     ...     -0.019261 -0.032767  1.000000   \n",
       "var17             -0.002334     ...      0.021231  0.003511 -0.002422   \n",
       "var18              0.009562     ...     -0.175830 -0.007505 -0.006068   \n",
       "var19             -0.000777     ...     -0.018678 -0.002266  0.002730   \n",
       "var20              0.001498     ...     -0.054916 -0.001841  0.001273   \n",
       "var21              0.005965     ...     -0.037933  0.001630 -0.002156   \n",
       "var22              0.004280     ...     -0.041831 -0.003899  0.000144   \n",
       "age_permis        -0.002490     ...      0.001097  0.000866  0.007777   \n",
       "\n",
       "                    var17     var18     var19     var20     var21     var22  \\\n",
       "annee_naissance  0.001574  0.000475 -0.000976 -0.000251 -0.001690  0.000799   \n",
       "annee_permis     0.001581  0.000441 -0.000976 -0.000219 -0.001714  0.000804   \n",
       "marque          -0.001312  0.000772 -0.000475  0.001927 -0.001399 -0.005618   \n",
       "puis_fiscale     0.000972 -0.005158 -0.002424 -0.001528 -0.005166 -0.001318   \n",
       "anc_veh         -0.007347 -0.000244 -0.000791  0.006100  0.001245  0.002601   \n",
       "codepostal       0.096410 -0.343083 -0.018654 -0.096769 -0.063687 -0.069443   \n",
       "energie_veh      0.003524  0.007814  0.002714  0.007790  0.004190  0.004910   \n",
       "kmage_annuel    -0.000471 -0.005435  0.000691  0.002975 -0.002461 -0.000159   \n",
       "crm              0.004029 -0.020380 -0.000053 -0.000457  0.001444 -0.005481   \n",
       "profession      -0.002334  0.009562 -0.000777  0.001498  0.005965  0.004280   \n",
       "var1            -0.005263 -0.004634 -0.002683 -0.003198 -0.003654 -0.001711   \n",
       "var2             0.000268 -0.000757 -0.003405  0.000031  0.003221  0.004117   \n",
       "var3             0.000571  0.009807 -0.002216 -0.001581  0.002827 -0.001418   \n",
       "var4             0.001777 -0.002295  0.000149 -0.001506 -0.001016  0.000495   \n",
       "var5             0.000505  0.003789 -0.000940  0.001160  0.004240  0.000875   \n",
       "var6             0.003208 -0.011588 -0.000009 -0.005108 -0.001533 -0.001486   \n",
       "var7             0.003197  0.004794  0.003635  0.002439 -0.000745  0.000021   \n",
       "var8            -0.001723 -0.000811 -0.002106  0.001171 -0.000300  0.004313   \n",
       "var9             0.003675 -0.009800 -0.002082 -0.003741 -0.006128 -0.000818   \n",
       "var10            0.007125 -0.007641 -0.002710 -0.006349 -0.002030 -0.000666   \n",
       "var11           -0.007363 -0.000060 -0.000793  0.006086  0.001292  0.002646   \n",
       "var12           -0.001402 -0.004592  0.000623  0.004056 -0.002495  0.000640   \n",
       "var13            0.002020 -0.010192  0.001442 -0.000886 -0.001860 -0.003813   \n",
       "var14            0.021231 -0.175830 -0.018678 -0.054916 -0.037933 -0.041831   \n",
       "var15            0.003511 -0.007505 -0.002266 -0.001841  0.001630 -0.003899   \n",
       "var16           -0.002422 -0.006068  0.002730  0.001273 -0.002156  0.000144   \n",
       "var17            1.000000 -0.054887  0.038657  0.042737  0.058896  0.075879   \n",
       "var18           -0.054887  1.000000  0.011668  0.084791  0.061238  0.059065   \n",
       "var19            0.038657  0.011668  1.000000  0.079272  0.031901 -0.439980   \n",
       "var20            0.042737  0.084791  0.079272  1.000000  0.270901  0.099998   \n",
       "var21            0.058896  0.061238  0.031901  0.270901  1.000000  0.042897   \n",
       "var22            0.075879  0.059065 -0.439980  0.099998  0.042897  1.000000   \n",
       "age_permis       0.001660 -0.002190 -0.000757  0.002246 -0.003039  0.000910   \n",
       "\n",
       "                 age_permis  \n",
       "annee_naissance    0.717313  \n",
       "annee_permis       0.723754  \n",
       "marque            -0.004918  \n",
       "puis_fiscale       0.056665  \n",
       "anc_veh            0.005722  \n",
       "codepostal        -0.000948  \n",
       "energie_veh        0.103432  \n",
       "kmage_annuel      -0.070413  \n",
       "crm                0.017587  \n",
       "profession        -0.002490  \n",
       "var1              -0.018802  \n",
       "var2               0.008997  \n",
       "var3              -0.007636  \n",
       "var4              -0.000893  \n",
       "var5               0.000964  \n",
       "var6              -0.071998  \n",
       "var7              -0.063201  \n",
       "var8              -0.019851  \n",
       "var9               0.058163  \n",
       "var10              0.112228  \n",
       "var11              0.005801  \n",
       "var12             -0.118738  \n",
       "var13             -0.016872  \n",
       "var14              0.001097  \n",
       "var15              0.000866  \n",
       "var16              0.007777  \n",
       "var17              0.001660  \n",
       "var18             -0.002190  \n",
       "var19             -0.000757  \n",
       "var20              0.002246  \n",
       "var21             -0.003039  \n",
       "var22              0.000910  \n",
       "age_permis         1.000000  \n",
       "\n",
       "[33 rows x 33 columns]"
      ]
     },
     "execution_count": 78,
     "metadata": {},
     "output_type": "execute_result"
    }
   ],
   "source": [
    "X.corr()"
   ]
  },
  {
   "cell_type": "code",
   "execution_count": 79,
   "metadata": {
    "collapsed": false
   },
   "outputs": [
    {
     "data": {
      "text/plain": [
       "annee_naissance    0.053629\n",
       "annee_permis       0.053594\n",
       "marque             0.056387\n",
       "puis_fiscale      -0.087858\n",
       "anc_veh           -0.113175\n",
       "codepostal         0.038251\n",
       "energie_veh        0.067854\n",
       "kmage_annuel       0.017368\n",
       "crm                0.672603\n",
       "profession         0.018608\n",
       "var1              -0.158137\n",
       "var2               0.082028\n",
       "var3               0.070001\n",
       "var4               0.137481\n",
       "var5              -0.164251\n",
       "var6              -0.014386\n",
       "var7              -0.061064\n",
       "var8               0.006371\n",
       "var9              -0.017677\n",
       "var10              0.095162\n",
       "var11             -0.112625\n",
       "var12             -0.055526\n",
       "var13              0.051978\n",
       "var14              0.016385\n",
       "var15              0.027815\n",
       "var16             -0.058579\n",
       "var17              0.005639\n",
       "var18             -0.008995\n",
       "var19             -0.003160\n",
       "var20              0.001241\n",
       "var21              0.000776\n",
       "var22             -0.002512\n",
       "age_permis         0.036013\n",
       "dtype: float64"
      ]
     },
     "execution_count": 79,
     "metadata": {},
     "output_type": "execute_result"
    }
   ],
   "source": [
    "X.corrwith(y)"
   ]
  },
  {
   "cell_type": "code",
   "execution_count": null,
   "metadata": {
    "collapsed": true
   },
   "outputs": [],
   "source": []
  }
 ],
 "metadata": {
  "kernelspec": {
   "display_name": "Python 3",
   "language": "python",
   "name": "python3"
  },
  "language_info": {
   "codemirror_mode": {
    "name": "ipython",
    "version": 3
   },
   "file_extension": ".py",
   "mimetype": "text/x-python",
   "name": "python",
   "nbconvert_exporter": "python",
   "pygments_lexer": "ipython3",
   "version": "3.5.2"
  }
 },
 "nbformat": 4,
 "nbformat_minor": 0
}
