{
 "cells": [
  {
   "cell_type": "markdown",
   "metadata": {},
   "source": [
    "Décodage d'une formule de pricing\n",
    "\n",
    "Le challenge consiste à déterminer l’équation ou l’algorithme permettant de calculer les prix d’une couverture d’assurance automobile.\n",
    "\n",
    "https://www.datascience.net/fr/challenge/26/details"
   ]
  },
  {
   "cell_type": "code",
   "execution_count": 1,
   "metadata": {
    "collapsed": true
   },
   "outputs": [],
   "source": [
    "import pandas as pd\n",
    "import numpy as np\n",
    "\n",
    "import matplotlib.pyplot as plt\n",
    "%matplotlib inline"
   ]
  },
  {
   "cell_type": "markdown",
   "metadata": {},
   "source": [
    "Test data"
   ]
  },
  {
   "cell_type": "code",
   "execution_count": 22,
   "metadata": {
    "collapsed": true
   },
   "outputs": [],
   "source": [
    "# X_test = pd.read_csv('data/ech_test.csv', sep = ';', index_col = 'id')"
   ]
  },
  {
   "cell_type": "markdown",
   "metadata": {},
   "source": [
    "Train data"
   ]
  },
  {
   "cell_type": "code",
   "execution_count": 21,
   "metadata": {
    "collapsed": false
   },
   "outputs": [],
   "source": [
    "# train = pd.read_csv(\"data/ech_apprentissage.csv\", sep = ';', index_col = 'id', low_memory = False)\n",
    "\n",
    "X = train.drop('prime_tot_ttc', axis = 1)\n",
    "y = train.prime_tot_ttc"
   ]
  },
  {
   "cell_type": "code",
   "execution_count": 28,
   "metadata": {
    "collapsed": false
   },
   "outputs": [
    {
     "name": "stdout",
     "output_type": "stream",
     "text": [
      "count    300000.000000\n",
      "mean        346.063566\n",
      "std         119.870510\n",
      "min          94.780000\n",
      "25%         262.050000\n",
      "50%         323.220000\n",
      "75%         407.500000\n",
      "max        1518.810000\n",
      "Name: prime_tot_ttc, dtype: float64\n"
     ]
    },
    {
     "data": {
      "image/png": "[encoded data removed]",
      "text/plain": [
       "<matplotlib.figure.Figure at 0x7fe3fe927278>"
      ]
     },
     "metadata": {},
     "output_type": "display_data"
    }
   ],
   "source": [
    "print(y.describe())\n",
    "np.log(y).hist(bins=50);"
   ]
  },
  {
   "cell_type": "code",
   "execution_count": 77,
   "metadata": {
    "collapsed": false,
    "scrolled": false
   },
   "outputs": [
    {
     "data": {
      "text/html": [
       "<div>\n",
       "<table border=\"1\" class=\"dataframe\">\n",
       "  <thead>\n",
       "    <tr style=\"text-align: right;\">\n",
       "      <th></th>\n",
       "      <th>annee_naissance</th>\n",
       "      <th>annee_permis</th>\n",
       "      <th>marque</th>\n",
       "      <th>puis_fiscale</th>\n",
       "      <th>anc_veh</th>\n",
       "      <th>codepostal</th>\n",
       "      <th>energie_veh</th>\n",
       "      <th>kmage_annuel</th>\n",
       "      <th>crm</th>\n",
       "      <th>profession</th>\n",
       "      <th>...</th>\n",
       "      <th>var13</th>\n",
       "      <th>var14</th>\n",
       "      <th>var15</th>\n",
       "      <th>var16</th>\n",
       "      <th>var17</th>\n",
       "      <th>var18</th>\n",
       "      <th>var19</th>\n",
       "      <th>var20</th>\n",
       "      <th>var21</th>\n",
       "      <th>var22</th>\n",
       "    </tr>\n",
       "    <tr>\n",
       "      <th>id</th>\n",
       "      <th></th>\n",
       "      <th></th>\n",
       "      <th></th>\n",
       "      <th></th>\n",
       "      <th></th>\n",
       "      <th></th>\n",
       "      <th></th>\n",
       "      <th></th>\n",
       "      <th></th>\n",
       "      <th></th>\n",
       "      <th></th>\n",
       "      <th></th>\n",
       "      <th></th>\n",
       "      <th></th>\n",
       "      <th></th>\n",
       "      <th></th>\n",
       "      <th></th>\n",
       "      <th></th>\n",
       "      <th></th>\n",
       "      <th></th>\n",
       "      <th></th>\n",
       "    </tr>\n",
       "  </thead>\n",
       "  <tbody>\n",
       "    <tr>\n",
       "      <th>1</th>\n",
       "      <td>1986.0</td>\n",
       "      <td>2006.0</td>\n",
       "      <td>RENAULT</td>\n",
       "      <td>4</td>\n",
       "      <td>1</td>\n",
       "      <td>1034</td>\n",
       "      <td>gpl</td>\n",
       "      <td>2924</td>\n",
       "      <td>68</td>\n",
       "      <td>enseignant, formateur, chercheur</td>\n",
       "      <td>...</td>\n",
       "      <td>3</td>\n",
       "      <td>N</td>\n",
       "      <td>1</td>\n",
       "      <td>1</td>\n",
       "      <td>1</td>\n",
       "      <td>27</td>\n",
       "      <td>0</td>\n",
       "      <td>0</td>\n",
       "      <td>0</td>\n",
       "      <td>1</td>\n",
       "    </tr>\n",
       "    <tr>\n",
       "      <th>2</th>\n",
       "      <td>1986.0</td>\n",
       "      <td>2006.0</td>\n",
       "      <td>RENAULT</td>\n",
       "      <td>8</td>\n",
       "      <td>2</td>\n",
       "      <td>1034</td>\n",
       "      <td>gpl</td>\n",
       "      <td>11580</td>\n",
       "      <td>50</td>\n",
       "      <td>enseignant, formateur, chercheur</td>\n",
       "      <td>...</td>\n",
       "      <td>5</td>\n",
       "      <td>N</td>\n",
       "      <td>2</td>\n",
       "      <td>1</td>\n",
       "      <td>1</td>\n",
       "      <td>28</td>\n",
       "      <td>0</td>\n",
       "      <td>0</td>\n",
       "      <td>0</td>\n",
       "      <td>1</td>\n",
       "    </tr>\n",
       "    <tr>\n",
       "      <th>3</th>\n",
       "      <td>1982.0</td>\n",
       "      <td>2001.0</td>\n",
       "      <td>RENAULT</td>\n",
       "      <td>7</td>\n",
       "      <td>2</td>\n",
       "      <td>1034</td>\n",
       "      <td>gpl</td>\n",
       "      <td>7149</td>\n",
       "      <td>95</td>\n",
       "      <td>enseignant, formateur, chercheur</td>\n",
       "      <td>...</td>\n",
       "      <td>5</td>\n",
       "      <td>N</td>\n",
       "      <td>3</td>\n",
       "      <td>1</td>\n",
       "      <td>1</td>\n",
       "      <td>29</td>\n",
       "      <td>0</td>\n",
       "      <td>0</td>\n",
       "      <td>0</td>\n",
       "      <td>1</td>\n",
       "    </tr>\n",
       "    <tr>\n",
       "      <th>4</th>\n",
       "      <td>1987.0</td>\n",
       "      <td>2006.0</td>\n",
       "      <td>DACIA</td>\n",
       "      <td>5</td>\n",
       "      <td>2</td>\n",
       "      <td>1034</td>\n",
       "      <td>gpl</td>\n",
       "      <td>6526</td>\n",
       "      <td>100</td>\n",
       "      <td>enseignant, formateur, chercheur</td>\n",
       "      <td>...</td>\n",
       "      <td>5</td>\n",
       "      <td>N</td>\n",
       "      <td>3</td>\n",
       "      <td>1</td>\n",
       "      <td>1</td>\n",
       "      <td>29</td>\n",
       "      <td>0</td>\n",
       "      <td>0</td>\n",
       "      <td>0</td>\n",
       "      <td>1</td>\n",
       "    </tr>\n",
       "    <tr>\n",
       "      <th>5</th>\n",
       "      <td>1994.0</td>\n",
       "      <td>2013.0</td>\n",
       "      <td>CITROEN</td>\n",
       "      <td>4</td>\n",
       "      <td>2</td>\n",
       "      <td>1034</td>\n",
       "      <td>gpl</td>\n",
       "      <td>2872</td>\n",
       "      <td>50</td>\n",
       "      <td>cadre, ingenieur</td>\n",
       "      <td>...</td>\n",
       "      <td>5</td>\n",
       "      <td>N</td>\n",
       "      <td>2</td>\n",
       "      <td>1</td>\n",
       "      <td>4</td>\n",
       "      <td>26</td>\n",
       "      <td>0</td>\n",
       "      <td>1</td>\n",
       "      <td>1</td>\n",
       "      <td>4</td>\n",
       "    </tr>\n",
       "  </tbody>\n",
       "</table>\n",
       "<p>5 rows × 32 columns</p>\n",
       "</div>"
      ],
      "text/plain": [
       "    annee_naissance  annee_permis   marque  puis_fiscale  anc_veh codepostal  \\\n",
       "id                                                                             \n",
       "1            1986.0        2006.0  RENAULT             4        1       1034   \n",
       "2            1986.0        2006.0  RENAULT             8        2       1034   \n",
       "3            1982.0        2001.0  RENAULT             7        2       1034   \n",
       "4            1987.0        2006.0    DACIA             5        2       1034   \n",
       "5            1994.0        2013.0  CITROEN             4        2       1034   \n",
       "\n",
       "   energie_veh  kmage_annuel  crm                        profession  ...    \\\n",
       "id                                                                   ...     \n",
       "1          gpl          2924   68  enseignant, formateur, chercheur  ...     \n",
       "2          gpl         11580   50  enseignant, formateur, chercheur  ...     \n",
       "3          gpl          7149   95  enseignant, formateur, chercheur  ...     \n",
       "4          gpl          6526  100  enseignant, formateur, chercheur  ...     \n",
       "5          gpl          2872   50                  cadre, ingenieur  ...     \n",
       "\n",
       "    var13  var14  var15  var16  var17 var18 var19 var20  var21  var22  \n",
       "id                                                                     \n",
       "1       3      N      1      1      1    27     0     0      0      1  \n",
       "2       5      N      2      1      1    28     0     0      0      1  \n",
       "3       5      N      3      1      1    29     0     0      0      1  \n",
       "4       5      N      3      1      1    29     0     0      0      1  \n",
       "5       5      N      2      1      4    26     0     1      1      4  \n",
       "\n",
       "[5 rows x 32 columns]"
      ]
     },
     "execution_count": 77,
     "metadata": {},
     "output_type": "execute_result"
    }
   ],
   "source": [
    "X.head()"
   ]
  },
  {
   "cell_type": "markdown",
   "metadata": {},
   "source": [
    "annee_naissance\t"
   ]
  },
  {
   "cell_type": "code",
   "execution_count": 37,
   "metadata": {
    "collapsed": false
   },
   "outputs": [
    {
     "data": {
      "text/plain": [
       "<matplotlib.axes._subplots.AxesSubplot at 0x7fe3fe8a6470>"
      ]
     },
     "execution_count": 37,
     "metadata": {},
     "output_type": "execute_result"
    },
    {
     "data": {
      "image/png": "[encoded data removed]",
      "text/plain": [
       "<matplotlib.figure.Figure at 0x7fe3fe9a97b8>"
      ]
     },
     "metadata": {},
     "output_type": "display_data"
    }
   ],
   "source": [
    "# X.groupby(['annee_naissance'])['annee_naissance'].count()\n",
    "X.annee_naissance.hist(bins = 50)"
   ]
  },
  {
   "cell_type": "markdown",
   "metadata": {},
   "source": [
    "annee_permis"
   ]
  },
  {
   "cell_type": "code",
   "execution_count": 38,
   "metadata": {
    "collapsed": false
   },
   "outputs": [
    {
     "data": {
      "text/plain": [
       "<matplotlib.axes._subplots.AxesSubplot at 0x7fe3fe950da0>"
      ]
     },
     "execution_count": 38,
     "metadata": {},
     "output_type": "execute_result"
    },
    {
     "data": {
      "image/png": "[encoded data removed]",
      "text/plain": [
       "<matplotlib.figure.Figure at 0x7fe3fe95a4e0>"
      ]
     },
     "metadata": {},
     "output_type": "display_data"
    }
   ],
   "source": [
    "# X.groupby(['annee_permis'])['annee_permis'].count()\n",
    "X.annee_permis.hist(bins = 50)"
   ]
  },
  {
   "cell_type": "markdown",
   "metadata": {},
   "source": [
    "marque\t"
   ]
  },
  {
   "cell_type": "code",
   "execution_count": 85,
   "metadata": {
    "collapsed": false
   },
   "outputs": [
    {
     "name": "stdout",
     "output_type": "stream",
     "text": [
      "RENAULT              73371\n",
      "PEUGEOT              51202\n",
      "CITROEN              35086\n",
      "VOLKSWAGEN           20023\n",
      "OPEL                 13343\n",
      "FORD                 13135\n",
      "FIAT                 11316\n",
      "TOYOTA                8944\n",
      "MERCEDES              7621\n",
      "NISSAN                6773\n",
      "BMW                   6296\n",
      "AUDI                  5603\n",
      "SEAT                  4615\n",
      "VOLVO                 3381\n",
      "SUZUKI                3205\n",
      "HONDA                 3144\n",
      "DACIA                 2446\n",
      "LAND-ROVER            2340\n",
      "MITSUBISHI            2332\n",
      "SKODA                 2224\n",
      "ALFA ROMEO            2079\n",
      "HYUNDAI               2034\n",
      "MAZDA                 1947\n",
      "MINI                  1689\n",
      "ROVER                 1579\n",
      "JEEP                  1356\n",
      "SAAB                  1343\n",
      "KIA                   1230\n",
      "CHRYSLER              1206\n",
      "LANCIA                1020\n",
      "                     ...  \n",
      "ACMA                     2\n",
      "SMS                      2\n",
      "MARUTI                   2\n",
      "LAMBORGHINI              2\n",
      "NECKAR                   2\n",
      "OLDSMOBILE               2\n",
      "RAYTON FISSORE           2\n",
      "INTERNATIONAL            1\n",
      "LDV                      1\n",
      "LOHR                     1\n",
      "DONKERVOORT              1\n",
      "NSU                      1\n",
      "RAMBLER                  1\n",
      "VAUXHALL                 1\n",
      "AMPHICAR                 1\n",
      "SATURN                   1\n",
      "LORENZ                   1\n",
      "SOVRA                    1\n",
      "YAMAHA                   1\n",
      "BRM                      1\n",
      "LAFER                    1\n",
      "TVR                      1\n",
      "CHENARD ET WALKER        1\n",
      "CHEYENNE                 1\n",
      "STRAUBENHARDT            1\n",
      "SECMA                    1\n",
      "EAGLE                    1\n",
      "DETHLEFFS                1\n",
      "AMC                      1\n",
      "SUNBEAM                  1\n",
      "Name: marque, dtype: int64\n"
     ]
    },
    {
     "data": {
      "image/png": "[encoded data removed]",
      "text/plain": [
       "<matplotlib.figure.Figure at 0x7fe3ed2e1e10>"
      ]
     },
     "metadata": {},
     "output_type": "display_data"
    }
   ],
   "source": [
    "print(X.marque.value_counts())\n",
    "plt.pie(X.marque.value_counts());"
   ]
  },
  {
   "cell_type": "markdown",
   "metadata": {},
   "source": [
    "`puis_fiscale`"
   ]
  },
  {
   "cell_type": "code",
   "execution_count": 59,
   "metadata": {
    "collapsed": false
   },
   "outputs": [
    {
     "name": "stdout",
     "output_type": "stream",
     "text": [
      "count    300000.000000\n",
      "mean          6.825267\n",
      "std           2.650280\n",
      "min           0.000000\n",
      "25%           5.000000\n",
      "50%           6.000000\n",
      "75%           8.000000\n",
      "max          58.000000\n",
      "Name: puis_fiscale, dtype: float64\n"
     ]
    },
    {
     "data": {
      "image/png": "[encoded data removed]",
      "text/plain": [
       "<matplotlib.figure.Figure at 0x7fe3f8404080>"
      ]
     },
     "metadata": {},
     "output_type": "display_data"
    }
   ],
   "source": [
    "print(X.puis_fiscale.describe())\n",
    "X.puis_fiscale.hist(bins = 57);"
   ]
  },
  {
   "cell_type": "markdown",
   "metadata": {},
   "source": [
    "`anc_veh`"
   ]
  },
  {
   "cell_type": "code",
   "execution_count": 81,
   "metadata": {
    "collapsed": false
   },
   "outputs": [
    {
     "name": "stdout",
     "output_type": "stream",
     "text": [
      "count    300000.000000\n",
      "mean         16.362950\n",
      "std          24.769884\n",
      "min           0.000000\n",
      "25%           1.000000\n",
      "50%           2.000000\n",
      "75%          32.000000\n",
      "max          99.000000\n",
      "Name: anc_veh, dtype: float64\n"
     ]
    },
    {
     "data": {
      "image/png": "[encoded data removed]",
      "text/plain": [
       "<matplotlib.figure.Figure at 0x7fe3f8119400>"
      ]
     },
     "metadata": {},
     "output_type": "display_data"
    }
   ],
   "source": [
    "print(X.anc_veh.describe())\n",
    "X.anc_veh.hist(bins = 100);"
   ]
  },
  {
   "cell_type": "markdown",
   "metadata": {},
   "source": [
    "`codepostal`"
   ]
  },
  {
   "cell_type": "code",
   "execution_count": 89,
   "metadata": {
    "collapsed": false
   },
   "outputs": [
    {
     "data": {
      "text/plain": [
       "13001    2606\n",
       "6088     2295\n",
       "31555    2275\n",
       "35238    1992\n",
       "20004    1932\n",
       "Name: codepostal, dtype: int64"
      ]
     },
     "execution_count": 89,
     "metadata": {},
     "output_type": "execute_result"
    }
   ],
   "source": [
    "X.codepostal.value_counts().head()"
   ]
  },
  {
   "cell_type": "markdown",
   "metadata": {},
   "source": [
    "### `energie_veh`\n",
    "\n",
    "* перевести в factor"
   ]
  },
  {
   "cell_type": "code",
   "execution_count": 94,
   "metadata": {
    "collapsed": false
   },
   "outputs": [
    {
     "name": "stdout",
     "output_type": "stream",
     "text": [
      "gazole             165401\n",
      "essence            126025\n",
      "gpl                  7058\n",
      "hybride essence       803\n",
      "NR                    413\n",
      "electricite           300\n",
      "Name: energie_veh, dtype: int64\n"
     ]
    },
    {
     "data": {
      "image/png": "[encoded data removed]",
      "text/plain": [
       "<matplotlib.figure.Figure at 0x7fe3f7e12e10>"
      ]
     },
     "metadata": {},
     "output_type": "display_data"
    }
   ],
   "source": [
    "print(X.energie_veh.value_counts())\n",
    "plt.pie(X.energie_veh.value_counts());"
   ]
  },
  {
   "cell_type": "markdown",
   "metadata": {},
   "source": [
    "### `kmage_annuel`\n",
    "\n",
    "* кластеризовать (сделать новую переменную)"
   ]
  },
  {
   "cell_type": "code",
   "execution_count": 98,
   "metadata": {
    "collapsed": false
   },
   "outputs": [
    {
     "name": "stdout",
     "output_type": "stream",
     "text": [
      "count    300000.000000\n",
      "mean       7359.745500\n",
      "std        3085.865577\n",
      "min         282.000000\n",
      "25%        6387.000000\n",
      "50%        6928.000000\n",
      "75%        7464.000000\n",
      "max       17000.000000\n",
      "Name: kmage_annuel, dtype: float64\n"
     ]
    },
    {
     "data": {
      "image/png": "[encoded data removed]",
      "text/plain": [
       "<matplotlib.figure.Figure at 0x7fe3f83db5f8>"
      ]
     },
     "metadata": {},
     "output_type": "display_data"
    }
   ],
   "source": [
    "print(X.kmage_annuel.describe())\n",
    "X.kmage_annuel.hist(bins = 50);"
   ]
  },
  {
   "cell_type": "code",
   "execution_count": 108,
   "metadata": {
    "collapsed": true
   },
   "outputs": [],
   "source": [
    "from sklearn import cluster"
   ]
  },
  {
   "cell_type": "code",
   "execution_count": 117,
   "metadata": {
    "collapsed": true
   },
   "outputs": [],
   "source": [
    "kmage_annuel = pd.DataFrame(X['kmage_annuel'])"
   ]
  },
  {
   "cell_type": "code",
   "execution_count": 135,
   "metadata": {
    "collapsed": false
   },
   "outputs": [
    {
     "data": {
      "image/png": "[encoded data removed]",
      "text/plain": [
       "<matplotlib.figure.Figure at 0x7fe3d3a05c50>"
      ]
     },
     "metadata": {},
     "output_type": "display_data"
    }
   ],
   "source": [
    "km_3 = cluster.KMeans(n_clusters=3)\n",
    "km_3.fit(kmage_annuel)\n",
    "\n",
    "kmage_annuel.hist(by=km_3.labels_);"
   ]
  },
  {
   "cell_type": "code",
   "execution_count": 134,
   "metadata": {
    "collapsed": false
   },
   "outputs": [
    {
     "data": {
      "image/png": "[encoded data removed]",
      "text/plain": [
       "<matplotlib.figure.Figure at 0x7fe3d3a78748>"
      ]
     },
     "metadata": {},
     "output_type": "display_data"
    }
   ],
   "source": [
    "km_4 = cluster.KMeans(n_clusters=4)\n",
    "km_4.fit(kmage_annuel)\n",
    "\n",
    "kmage_annuel.hist(by=km_4.labels_);"
   ]
  },
  {
   "cell_type": "markdown",
   "metadata": {},
   "source": [
    "### `crm`"
   ]
  },
  {
   "cell_type": "code",
   "execution_count": 105,
   "metadata": {
    "collapsed": false
   },
   "outputs": [
    {
     "name": "stdout",
     "output_type": "stream",
     "text": [
      "count    300000.000000\n",
      "mean         73.551957\n",
      "std          23.699505\n",
      "min          50.000000\n",
      "25%          50.000000\n",
      "50%          68.000000\n",
      "75%          95.000000\n",
      "max         270.000000\n",
      "Name: crm, dtype: float64\n"
     ]
    },
    {
     "data": {
      "image/png": "[encoded data removed]",
      "text/plain": [
       "<matplotlib.figure.Figure at 0x7fe3f81d6898>"
      ]
     },
     "metadata": {},
     "output_type": "display_data"
    }
   ],
   "source": [
    "print(X.crm.describe())\n",
    "X.crm.hist();\n",
    "# np.log(X.crm).hist();"
   ]
  },
  {
   "cell_type": "code",
   "execution_count": 107,
   "metadata": {
    "collapsed": false
   },
   "outputs": [
    {
     "data": {
      "text/plain": [
       "50     95427\n",
       "100    33270\n",
       "90     20738\n",
       "95     18909\n",
       "85     14623\n",
       "80      9848\n",
       "62      6934\n",
       "76      6824\n",
       "58      6039\n",
       "55      5476\n",
       "72      5078\n",
       "118     5058\n",
       "68      4408\n",
       "125     4362\n",
       "52      4309\n",
       "112     4303\n",
       "106     4163\n",
       "64      3765\n",
       "57      3315\n",
       "60      3143\n",
       "56      2699\n",
       "54      2695\n",
       "51      2384\n",
       "53      2310\n",
       "63      2146\n",
       "67      1901\n",
       "59      1802\n",
       "65      1743\n",
       "73      1499\n",
       "69      1455\n",
       "       ...  \n",
       "172        4\n",
       "167        4\n",
       "187        3\n",
       "186        3\n",
       "150        3\n",
       "129        3\n",
       "228        3\n",
       "159        3\n",
       "232        3\n",
       "160        3\n",
       "258        2\n",
       "256        2\n",
       "138        2\n",
       "205        2\n",
       "220        2\n",
       "216        2\n",
       "194        2\n",
       "158        2\n",
       "177        1\n",
       "180        1\n",
       "184        1\n",
       "188        1\n",
       "155        1\n",
       "201        1\n",
       "171        1\n",
       "210        1\n",
       "161        1\n",
       "270        1\n",
       "221        1\n",
       "245        1\n",
       "Name: crm, dtype: int64"
      ]
     },
     "execution_count": 107,
     "metadata": {},
     "output_type": "execute_result"
    }
   ],
   "source": [
    "# X.crm.value_counts()"
   ]
  },
  {
   "cell_type": "markdown",
   "metadata": {},
   "source": [
    "### `profession`\n",
    "\n",
    "* перевести в factor"
   ]
  },
  {
   "cell_type": "code",
   "execution_count": 82,
   "metadata": {
    "collapsed": false
   },
   "outputs": [
    {
     "data": {
      "text/plain": [
       "enseignant, formateur, chercheur                             110354\n",
       "agent, employe                                                74960\n",
       "cadre, ingenieur                                              31471\n",
       "technicien                                                    15624\n",
       "educateur, animateur, moniteur                                13273\n",
       "profession liberale                                           10424\n",
       "ouvrier                                                        9542\n",
       "demandeur d'emploi                                             6498\n",
       "etudiant                                                       5829\n",
       "artisan                                                        4852\n",
       "profession de l'information des arts et des spectacles         4831\n",
       "homme ou femme au foyer                                        4631\n",
       "commercant                                                     2610\n",
       "profession intermediaire de la sante et du travail social      2215\n",
       "chef d'entreprise                                              1356\n",
       "contremaitre, agent de maitrise                                1137\n",
       "agriculteur exploitant                                          393\n",
       "Name: profession, dtype: int64"
      ]
     },
     "execution_count": 82,
     "metadata": {},
     "output_type": "execute_result"
    }
   ],
   "source": [
    "X.profession.value_counts()"
   ]
  },
  {
   "cell_type": "markdown",
   "metadata": {},
   "source": [
    "`var13\tvar14\tvar15\tvar16\tvar17\tvar18\tvar19\tvar20\tvar21\tvar22`"
   ]
  }
 ],
 "metadata": {
  "kernelspec": {
   "display_name": "Python 3",
   "language": "python",
   "name": "python3"
  },
  "language_info": {
   "codemirror_mode": {
    "name": "ipython",
    "version": 3
   },
   "file_extension": ".py",
   "mimetype": "text/x-python",
   "name": "python",
   "nbconvert_exporter": "python",
   "pygments_lexer": "ipython3",
   "version": "3.5.2"
  }
 },
 "nbformat": 4,
 "nbformat_minor": 0
}
