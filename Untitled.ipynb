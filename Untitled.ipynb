{
 "cells": [
  {
   "cell_type": "markdown",
   "metadata": {},
   "source": [
    "# Décodage d'une formule de pricing\n",
    "\n",
    "Le challenge consiste à déterminer l’équation ou l’algorithme permettant de calculer les prix d’une couverture d’assurance automobile.\n",
    "\n",
    "https://www.datascience.net/fr/challenge/26/details"
   ]
  },
  {
   "cell_type": "code",
   "execution_count": 2,
   "metadata": {
    "collapsed": true
   },
   "outputs": [],
   "source": [
    "import pandas as pd\n",
    "import numpy as np\n",
    "\n",
    "import matplotlib.pyplot as plt\n",
    "%matplotlib inline"
   ]
  },
  {
   "cell_type": "markdown",
   "metadata": {},
   "source": [
    "## Test data"
   ]
  },
  {
   "cell_type": "code",
   "execution_count": 3,
   "metadata": {
    "collapsed": true
   },
   "outputs": [],
   "source": [
    "# X_test = pd.read_csv('data/ech_test.csv', sep = ';', index_col = 'id')"
   ]
  },
  {
   "cell_type": "markdown",
   "metadata": {},
   "source": [
    "## Train data"
   ]
  },
  {
   "cell_type": "code",
   "execution_count": 4,
   "metadata": {
    "collapsed": false
   },
   "outputs": [],
   "source": [
    "train = pd.read_csv(\"data/ech_apprentissage.csv\", sep = ';', index_col = 'id', low_memory = False)\n",
    "\n",
    "X = train.drop('prime_tot_ttc', axis = 1)\n",
    "y = train.prime_tot_ttc"
   ]
  },
  {
   "cell_type": "code",
   "execution_count": 5,
   "metadata": {
    "collapsed": false
   },
   "outputs": [
    {
     "name": "stdout",
     "output_type": "stream",
     "text": [
      "count    300000.000000\n",
      "mean        346.063566\n",
      "std         119.870510\n",
      "min          94.780000\n",
      "25%         262.050000\n",
      "50%         323.220000\n",
      "75%         407.500000\n",
      "max        1518.810000\n",
      "Name: prime_tot_ttc, dtype: float64\n"
     ]
    },
    {
     "data": {
      "image/png": "[encoded data removed]",
      "text/plain": [
       "<matplotlib.figure.Figure at 0x7f11f3b6ae80>"
      ]
     },
     "metadata": {},
     "output_type": "display_data"
    }
   ],
   "source": [
    "print(y.describe())\n",
    "np.log(y).hist(bins=50);"
   ]
  },
  {
   "cell_type": "code",
   "execution_count": 6,
   "metadata": {
    "collapsed": false,
    "scrolled": false
   },
   "outputs": [
    {
     "data": {
      "text/html": [
       "<div>\n",
       "<table border=\"1\" class=\"dataframe\">\n",
       "  <thead>\n",
       "    <tr style=\"text-align: right;\">\n",
       "      <th></th>\n",
       "      <th>annee_naissance</th>\n",
       "      <th>annee_permis</th>\n",
       "      <th>marque</th>\n",
       "      <th>puis_fiscale</th>\n",
       "      <th>anc_veh</th>\n",
       "      <th>codepostal</th>\n",
       "      <th>energie_veh</th>\n",
       "      <th>kmage_annuel</th>\n",
       "      <th>crm</th>\n",
       "      <th>profession</th>\n",
       "      <th>...</th>\n",
       "      <th>var13</th>\n",
       "      <th>var14</th>\n",
       "      <th>var15</th>\n",
       "      <th>var16</th>\n",
       "      <th>var17</th>\n",
       "      <th>var18</th>\n",
       "      <th>var19</th>\n",
       "      <th>var20</th>\n",
       "      <th>var21</th>\n",
       "      <th>var22</th>\n",
       "    </tr>\n",
       "    <tr>\n",
       "      <th>id</th>\n",
       "      <th></th>\n",
       "      <th></th>\n",
       "      <th></th>\n",
       "      <th></th>\n",
       "      <th></th>\n",
       "      <th></th>\n",
       "      <th></th>\n",
       "      <th></th>\n",
       "      <th></th>\n",
       "      <th></th>\n",
       "      <th></th>\n",
       "      <th></th>\n",
       "      <th></th>\n",
       "      <th></th>\n",
       "      <th></th>\n",
       "      <th></th>\n",
       "      <th></th>\n",
       "      <th></th>\n",
       "      <th></th>\n",
       "      <th></th>\n",
       "      <th></th>\n",
       "    </tr>\n",
       "  </thead>\n",
       "  <tbody>\n",
       "    <tr>\n",
       "      <th>1</th>\n",
       "      <td>1986.0</td>\n",
       "      <td>2006.0</td>\n",
       "      <td>RENAULT</td>\n",
       "      <td>4</td>\n",
       "      <td>1</td>\n",
       "      <td>1034</td>\n",
       "      <td>gpl</td>\n",
       "      <td>2924</td>\n",
       "      <td>68</td>\n",
       "      <td>enseignant, formateur, chercheur</td>\n",
       "      <td>...</td>\n",
       "      <td>3</td>\n",
       "      <td>N</td>\n",
       "      <td>1</td>\n",
       "      <td>1</td>\n",
       "      <td>1</td>\n",
       "      <td>27</td>\n",
       "      <td>0</td>\n",
       "      <td>0</td>\n",
       "      <td>0</td>\n",
       "      <td>1</td>\n",
       "    </tr>\n",
       "    <tr>\n",
       "      <th>2</th>\n",
       "      <td>1986.0</td>\n",
       "      <td>2006.0</td>\n",
       "      <td>RENAULT</td>\n",
       "      <td>8</td>\n",
       "      <td>2</td>\n",
       "      <td>1034</td>\n",
       "      <td>gpl</td>\n",
       "      <td>11580</td>\n",
       "      <td>50</td>\n",
       "      <td>enseignant, formateur, chercheur</td>\n",
       "      <td>...</td>\n",
       "      <td>5</td>\n",
       "      <td>N</td>\n",
       "      <td>2</td>\n",
       "      <td>1</td>\n",
       "      <td>1</td>\n",
       "      <td>28</td>\n",
       "      <td>0</td>\n",
       "      <td>0</td>\n",
       "      <td>0</td>\n",
       "      <td>1</td>\n",
       "    </tr>\n",
       "    <tr>\n",
       "      <th>3</th>\n",
       "      <td>1982.0</td>\n",
       "      <td>2001.0</td>\n",
       "      <td>RENAULT</td>\n",
       "      <td>7</td>\n",
       "      <td>2</td>\n",
       "      <td>1034</td>\n",
       "      <td>gpl</td>\n",
       "      <td>7149</td>\n",
       "      <td>95</td>\n",
       "      <td>enseignant, formateur, chercheur</td>\n",
       "      <td>...</td>\n",
       "      <td>5</td>\n",
       "      <td>N</td>\n",
       "      <td>3</td>\n",
       "      <td>1</td>\n",
       "      <td>1</td>\n",
       "      <td>29</td>\n",
       "      <td>0</td>\n",
       "      <td>0</td>\n",
       "      <td>0</td>\n",
       "      <td>1</td>\n",
       "    </tr>\n",
       "    <tr>\n",
       "      <th>4</th>\n",
       "      <td>1987.0</td>\n",
       "      <td>2006.0</td>\n",
       "      <td>DACIA</td>\n",
       "      <td>5</td>\n",
       "      <td>2</td>\n",
       "      <td>1034</td>\n",
       "      <td>gpl</td>\n",
       "      <td>6526</td>\n",
       "      <td>100</td>\n",
       "      <td>enseignant, formateur, chercheur</td>\n",
       "      <td>...</td>\n",
       "      <td>5</td>\n",
       "      <td>N</td>\n",
       "      <td>3</td>\n",
       "      <td>1</td>\n",
       "      <td>1</td>\n",
       "      <td>29</td>\n",
       "      <td>0</td>\n",
       "      <td>0</td>\n",
       "      <td>0</td>\n",
       "      <td>1</td>\n",
       "    </tr>\n",
       "    <tr>\n",
       "      <th>5</th>\n",
       "      <td>1994.0</td>\n",
       "      <td>2013.0</td>\n",
       "      <td>CITROEN</td>\n",
       "      <td>4</td>\n",
       "      <td>2</td>\n",
       "      <td>1034</td>\n",
       "      <td>gpl</td>\n",
       "      <td>2872</td>\n",
       "      <td>50</td>\n",
       "      <td>cadre, ingenieur</td>\n",
       "      <td>...</td>\n",
       "      <td>5</td>\n",
       "      <td>N</td>\n",
       "      <td>2</td>\n",
       "      <td>1</td>\n",
       "      <td>4</td>\n",
       "      <td>26</td>\n",
       "      <td>0</td>\n",
       "      <td>1</td>\n",
       "      <td>1</td>\n",
       "      <td>4</td>\n",
       "    </tr>\n",
       "  </tbody>\n",
       "</table>\n",
       "<p>5 rows × 32 columns</p>\n",
       "</div>"
      ],
      "text/plain": [
       "    annee_naissance  annee_permis   marque  puis_fiscale  anc_veh codepostal  \\\n",
       "id                                                                             \n",
       "1            1986.0        2006.0  RENAULT             4        1       1034   \n",
       "2            1986.0        2006.0  RENAULT             8        2       1034   \n",
       "3            1982.0        2001.0  RENAULT             7        2       1034   \n",
       "4            1987.0        2006.0    DACIA             5        2       1034   \n",
       "5            1994.0        2013.0  CITROEN             4        2       1034   \n",
       "\n",
       "   energie_veh  kmage_annuel  crm                        profession  ...    \\\n",
       "id                                                                   ...     \n",
       "1          gpl          2924   68  enseignant, formateur, chercheur  ...     \n",
       "2          gpl         11580   50  enseignant, formateur, chercheur  ...     \n",
       "3          gpl          7149   95  enseignant, formateur, chercheur  ...     \n",
       "4          gpl          6526  100  enseignant, formateur, chercheur  ...     \n",
       "5          gpl          2872   50                  cadre, ingenieur  ...     \n",
       "\n",
       "    var13  var14  var15  var16  var17 var18 var19 var20  var21  var22  \n",
       "id                                                                     \n",
       "1       3      N      1      1      1    27     0     0      0      1  \n",
       "2       5      N      2      1      1    28     0     0      0      1  \n",
       "3       5      N      3      1      1    29     0     0      0      1  \n",
       "4       5      N      3      1      1    29     0     0      0      1  \n",
       "5       5      N      2      1      4    26     0     1      1      4  \n",
       "\n",
       "[5 rows x 32 columns]"
      ]
     },
     "execution_count": 6,
     "metadata": {},
     "output_type": "execute_result"
    }
   ],
   "source": [
    "X.head()"
   ]
  },
  {
   "cell_type": "markdown",
   "metadata": {},
   "source": [
    "### `annee_naissance`"
   ]
  },
  {
   "cell_type": "code",
   "execution_count": 7,
   "metadata": {
    "collapsed": false
   },
   "outputs": [
    {
     "data": {
      "image/png": "[encoded data removed]",
      "text/plain": [
       "<matplotlib.figure.Figure at 0x7f11f38246d8>"
      ]
     },
     "metadata": {},
     "output_type": "display_data"
    }
   ],
   "source": [
    "# X.groupby(['annee_naissance'])['annee_naissance'].count()\n",
    "X.annee_naissance.hist(bins = 50);"
   ]
  },
  {
   "cell_type": "markdown",
   "metadata": {},
   "source": [
    "### `annee_permis`"
   ]
  },
  {
   "cell_type": "code",
   "execution_count": 8,
   "metadata": {
    "collapsed": false
   },
   "outputs": [
    {
     "data": {
      "image/png": "[encoded data removed]",
      "text/plain": [
       "<matplotlib.figure.Figure at 0x7f11f3804208>"
      ]
     },
     "metadata": {},
     "output_type": "display_data"
    }
   ],
   "source": [
    "# X.groupby(['annee_permis'])['annee_permis'].count()\n",
    "X.annee_permis.hist(bins = 50);"
   ]
  },
  {
   "cell_type": "markdown",
   "metadata": {},
   "source": [
    "### `marque`"
   ]
  },
  {
   "cell_type": "code",
   "execution_count": 9,
   "metadata": {
    "collapsed": false
   },
   "outputs": [
    {
     "name": "stdout",
     "output_type": "stream",
     "text": [
      "RENAULT              73371\n",
      "PEUGEOT              51202\n",
      "CITROEN              35086\n",
      "VOLKSWAGEN           20023\n",
      "OPEL                 13343\n",
      "FORD                 13135\n",
      "FIAT                 11316\n",
      "TOYOTA                8944\n",
      "MERCEDES              7621\n",
      "NISSAN                6773\n",
      "BMW                   6296\n",
      "AUDI                  5603\n",
      "SEAT                  4615\n",
      "VOLVO                 3381\n",
      "SUZUKI                3205\n",
      "HONDA                 3144\n",
      "DACIA                 2446\n",
      "LAND-ROVER            2340\n",
      "MITSUBISHI            2332\n",
      "SKODA                 2224\n",
      "ALFA ROMEO            2079\n",
      "HYUNDAI               2034\n",
      "MAZDA                 1947\n",
      "MINI                  1689\n",
      "ROVER                 1579\n",
      "JEEP                  1356\n",
      "SAAB                  1343\n",
      "KIA                   1230\n",
      "CHRYSLER              1206\n",
      "LANCIA                1020\n",
      "                     ...  \n",
      "NECKAR                   2\n",
      "OLDSMOBILE               2\n",
      "SINGER                   2\n",
      "EBS                      2\n",
      "JIDE                     2\n",
      "SMS                      2\n",
      "RELIANT                  2\n",
      "LAFER                    1\n",
      "AMPHICAR                 1\n",
      "BRM                      1\n",
      "CHENARD ET WALKER        1\n",
      "INTERNATIONAL            1\n",
      "DONKERVOORT              1\n",
      "EAGLE                    1\n",
      "RAMBLER                  1\n",
      "LORENZ                   1\n",
      "NSU                      1\n",
      "VAUXHALL                 1\n",
      "YAMAHA                   1\n",
      "SUNBEAM                  1\n",
      "STRAUBENHARDT            1\n",
      "LOHR                     1\n",
      "DETHLEFFS                1\n",
      "LDV                      1\n",
      "SECMA                    1\n",
      "SOVRA                    1\n",
      "AMC                      1\n",
      "SATURN                   1\n",
      "TVR                      1\n",
      "CHEYENNE                 1\n",
      "Name: marque, dtype: int64\n"
     ]
    },
    {
     "data": {
      "image/png": "[encoded data removed]",
      "text/plain": [
       "<matplotlib.figure.Figure at 0x7f11f34c51d0>"
      ]
     },
     "metadata": {},
     "output_type": "display_data"
    }
   ],
   "source": [
    "print(X.marque.value_counts())\n",
    "plt.pie(X.marque.value_counts());"
   ]
  },
  {
   "cell_type": "markdown",
   "metadata": {},
   "source": [
    "### `puis_fiscale`"
   ]
  },
  {
   "cell_type": "code",
   "execution_count": 10,
   "metadata": {
    "collapsed": false
   },
   "outputs": [
    {
     "name": "stdout",
     "output_type": "stream",
     "text": [
      "count    300000.000000\n",
      "mean          6.825267\n",
      "std           2.650280\n",
      "min           0.000000\n",
      "25%           5.000000\n",
      "50%           6.000000\n",
      "75%           8.000000\n",
      "max          58.000000\n",
      "Name: puis_fiscale, dtype: float64\n"
     ]
    },
    {
     "data": {
      "image/png": "[encoded data removed]",
      "text/plain": [
       "<matplotlib.figure.Figure at 0x7f11f34789b0>"
      ]
     },
     "metadata": {},
     "output_type": "display_data"
    }
   ],
   "source": [
    "print(X.puis_fiscale.describe())\n",
    "X.puis_fiscale.hist(bins = 57);"
   ]
  },
  {
   "cell_type": "markdown",
   "metadata": {},
   "source": [
    "### `anc_veh`"
   ]
  },
  {
   "cell_type": "code",
   "execution_count": 11,
   "metadata": {
    "collapsed": false
   },
   "outputs": [
    {
     "name": "stdout",
     "output_type": "stream",
     "text": [
      "count    300000.000000\n",
      "mean         16.362950\n",
      "std          24.769884\n",
      "min           0.000000\n",
      "25%           1.000000\n",
      "50%           2.000000\n",
      "75%          32.000000\n",
      "max          99.000000\n",
      "Name: anc_veh, dtype: float64\n"
     ]
    },
    {
     "data": {
      "image/png": "[encoded data removed]",
      "text/plain": [
       "<matplotlib.figure.Figure at 0x7f11f2df1d30>"
      ]
     },
     "metadata": {},
     "output_type": "display_data"
    }
   ],
   "source": [
    "print(X.anc_veh.describe())\n",
    "X.anc_veh.hist(bins = 100);"
   ]
  },
  {
   "cell_type": "markdown",
   "metadata": {},
   "source": [
    "### `codepostal`"
   ]
  },
  {
   "cell_type": "code",
   "execution_count": 12,
   "metadata": {
    "collapsed": false
   },
   "outputs": [
    {
     "data": {
      "text/plain": [
       "13001    2606\n",
       "6088     2295\n",
       "31555    2275\n",
       "35238    1992\n",
       "20004    1932\n",
       "Name: codepostal, dtype: int64"
      ]
     },
     "execution_count": 12,
     "metadata": {},
     "output_type": "execute_result"
    }
   ],
   "source": [
    "X.codepostal.value_counts().head()"
   ]
  },
  {
   "cell_type": "markdown",
   "metadata": {},
   "source": [
    "### `energie_veh`\n",
    "\n",
    "* перевести в factor"
   ]
  },
  {
   "cell_type": "code",
   "execution_count": 13,
   "metadata": {
    "collapsed": false
   },
   "outputs": [
    {
     "name": "stdout",
     "output_type": "stream",
     "text": [
      "gazole             165401\n",
      "essence            126025\n",
      "gpl                  7058\n",
      "hybride essence       803\n",
      "NR                    413\n",
      "electricite           300\n",
      "Name: energie_veh, dtype: int64\n"
     ]
    },
    {
     "data": {
      "image/png": "[encoded data removed]",
      "text/plain": [
       "<matplotlib.figure.Figure at 0x7f11f2dff7f0>"
      ]
     },
     "metadata": {},
     "output_type": "display_data"
    }
   ],
   "source": [
    "print(X.energie_veh.value_counts())\n",
    "plt.pie(X.energie_veh.value_counts());"
   ]
  },
  {
   "cell_type": "markdown",
   "metadata": {},
   "source": [
    "### `kmage_annuel`\n",
    "\n",
    "* кластеризовать (сделать новую переменную)"
   ]
  },
  {
   "cell_type": "code",
   "execution_count": 14,
   "metadata": {
    "collapsed": false
   },
   "outputs": [
    {
     "name": "stdout",
     "output_type": "stream",
     "text": [
      "count    300000.000000\n",
      "mean       7359.745500\n",
      "std        3085.865577\n",
      "min         282.000000\n",
      "25%        6387.000000\n",
      "50%        6928.000000\n",
      "75%        7464.000000\n",
      "max       17000.000000\n",
      "Name: kmage_annuel, dtype: float64\n"
     ]
    },
    {
     "data": {
      "image/png": "[encoded data removed]",
      "text/plain": [
       "<matplotlib.figure.Figure at 0x7f11f2e837b8>"
      ]
     },
     "metadata": {},
     "output_type": "display_data"
    }
   ],
   "source": [
    "print(X.kmage_annuel.describe())\n",
    "X.kmage_annuel.hist(bins = 50);"
   ]
  },
  {
   "cell_type": "code",
   "execution_count": 15,
   "metadata": {
    "collapsed": true
   },
   "outputs": [],
   "source": [
    "from sklearn import cluster"
   ]
  },
  {
   "cell_type": "code",
   "execution_count": 16,
   "metadata": {
    "collapsed": true
   },
   "outputs": [],
   "source": [
    "kmage_annuel = pd.DataFrame(X['kmage_annuel'])"
   ]
  },
  {
   "cell_type": "code",
   "execution_count": 17,
   "metadata": {
    "collapsed": false
   },
   "outputs": [
    {
     "data": {
      "image/png": "[encoded data removed]",
      "text/plain": [
       "<matplotlib.figure.Figure at 0x7f11f35fe320>"
      ]
     },
     "metadata": {},
     "output_type": "display_data"
    }
   ],
   "source": [
    "km_3 = cluster.KMeans(n_clusters=3)\n",
    "km_3.fit(kmage_annuel)\n",
    "\n",
    "kmage_annuel.hist(by=km_3.labels_);"
   ]
  },
  {
   "cell_type": "code",
   "execution_count": 18,
   "metadata": {
    "collapsed": false
   },
   "outputs": [
    {
     "data": {
      "image/png": "[encoded data removed]",
      "text/plain": [
       "<matplotlib.figure.Figure at 0x7f11f3430080>"
      ]
     },
     "metadata": {},
     "output_type": "display_data"
    }
   ],
   "source": [
    "km_4 = cluster.KMeans(n_clusters=4)\n",
    "km_4.fit(kmage_annuel)\n",
    "\n",
    "kmage_annuel.hist(by=km_4.labels_);"
   ]
  },
  {
   "cell_type": "markdown",
   "metadata": {},
   "source": [
    "### `crm`"
   ]
  },
  {
   "cell_type": "code",
   "execution_count": 19,
   "metadata": {
    "collapsed": false
   },
   "outputs": [
    {
     "name": "stdout",
     "output_type": "stream",
     "text": [
      "count    300000.000000\n",
      "mean         73.551957\n",
      "std          23.699505\n",
      "min          50.000000\n",
      "25%          50.000000\n",
      "50%          68.000000\n",
      "75%          95.000000\n",
      "max         270.000000\n",
      "Name: crm, dtype: float64\n"
     ]
    },
    {
     "data": {
      "image/png": "[encoded data removed]",
      "text/plain": [
       "<matplotlib.figure.Figure at 0x7f11db28d470>"
      ]
     },
     "metadata": {},
     "output_type": "display_data"
    }
   ],
   "source": [
    "print(X.crm.describe())\n",
    "X.crm.hist();\n",
    "# np.log(X.crm).hist();"
   ]
  },
  {
   "cell_type": "code",
   "execution_count": 20,
   "metadata": {
    "collapsed": false
   },
   "outputs": [],
   "source": [
    "# X.crm.value_counts()"
   ]
  },
  {
   "cell_type": "markdown",
   "metadata": {},
   "source": [
    "### `profession`\n",
    "\n",
    "* перевести в factor"
   ]
  },
  {
   "cell_type": "code",
   "execution_count": 21,
   "metadata": {
    "collapsed": false
   },
   "outputs": [
    {
     "data": {
      "text/plain": [
       "enseignant, formateur, chercheur                             110354\n",
       "agent, employe                                                74960\n",
       "cadre, ingenieur                                              31471\n",
       "technicien                                                    15624\n",
       "educateur, animateur, moniteur                                13273\n",
       "profession liberale                                           10424\n",
       "ouvrier                                                        9542\n",
       "demandeur d'emploi                                             6498\n",
       "etudiant                                                       5829\n",
       "artisan                                                        4852\n",
       "profession de l'information des arts et des spectacles         4831\n",
       "homme ou femme au foyer                                        4631\n",
       "commercant                                                     2610\n",
       "profession intermediaire de la sante et du travail social      2215\n",
       "chef d'entreprise                                              1356\n",
       "contremaitre, agent de maitrise                                1137\n",
       "agriculteur exploitant                                          393\n",
       "Name: profession, dtype: int64"
      ]
     },
     "execution_count": 21,
     "metadata": {},
     "output_type": "execute_result"
    }
   ],
   "source": [
    "X.profession.value_counts()"
   ]
  },
  {
   "cell_type": "markdown",
   "metadata": {},
   "source": [
    "### `var1`"
   ]
  },
  {
   "cell_type": "code",
   "execution_count": 22,
   "metadata": {
    "collapsed": false
   },
   "outputs": [
    {
     "data": {
      "text/plain": [
       "290"
      ]
     },
     "execution_count": 22,
     "metadata": {},
     "output_type": "execute_result"
    }
   ],
   "source": [
    "X.var1.isnull().sum()"
   ]
  },
  {
   "cell_type": "code",
   "execution_count": 23,
   "metadata": {
    "collapsed": false
   },
   "outputs": [],
   "source": [
    "var1 = X.var1.fillna(-1)"
   ]
  },
  {
   "cell_type": "code",
   "execution_count": 24,
   "metadata": {
    "collapsed": false
   },
   "outputs": [
    {
     "data": {
      "text/html": [
       "<div>\n",
       "<table border=\"1\" class=\"dataframe\">\n",
       "  <thead>\n",
       "    <tr style=\"text-align: right;\">\n",
       "      <th></th>\n",
       "      <th>annee_naissance</th>\n",
       "      <th>annee_permis</th>\n",
       "      <th>marque</th>\n",
       "      <th>puis_fiscale</th>\n",
       "      <th>anc_veh</th>\n",
       "      <th>codepostal</th>\n",
       "      <th>energie_veh</th>\n",
       "      <th>kmage_annuel</th>\n",
       "      <th>crm</th>\n",
       "      <th>profession</th>\n",
       "      <th>...</th>\n",
       "      <th>var13</th>\n",
       "      <th>var14</th>\n",
       "      <th>var15</th>\n",
       "      <th>var16</th>\n",
       "      <th>var17</th>\n",
       "      <th>var18</th>\n",
       "      <th>var19</th>\n",
       "      <th>var20</th>\n",
       "      <th>var21</th>\n",
       "      <th>var22</th>\n",
       "    </tr>\n",
       "    <tr>\n",
       "      <th>id</th>\n",
       "      <th></th>\n",
       "      <th></th>\n",
       "      <th></th>\n",
       "      <th></th>\n",
       "      <th></th>\n",
       "      <th></th>\n",
       "      <th></th>\n",
       "      <th></th>\n",
       "      <th></th>\n",
       "      <th></th>\n",
       "      <th></th>\n",
       "      <th></th>\n",
       "      <th></th>\n",
       "      <th></th>\n",
       "      <th></th>\n",
       "      <th></th>\n",
       "      <th></th>\n",
       "      <th></th>\n",
       "      <th></th>\n",
       "      <th></th>\n",
       "      <th></th>\n",
       "    </tr>\n",
       "  </thead>\n",
       "  <tbody>\n",
       "    <tr>\n",
       "      <th>1379</th>\n",
       "      <td>NaN</td>\n",
       "      <td>NaN</td>\n",
       "      <td>NR</td>\n",
       "      <td>0</td>\n",
       "      <td>1</td>\n",
       "      <td>1005</td>\n",
       "      <td>NR</td>\n",
       "      <td>17000</td>\n",
       "      <td>50</td>\n",
       "      <td>enseignant, formateur, chercheur</td>\n",
       "      <td>...</td>\n",
       "      <td>5</td>\n",
       "      <td>A</td>\n",
       "      <td>0</td>\n",
       "      <td>1</td>\n",
       "      <td>1</td>\n",
       "      <td>23</td>\n",
       "      <td>0</td>\n",
       "      <td>1</td>\n",
       "      <td>1</td>\n",
       "      <td>1</td>\n",
       "    </tr>\n",
       "    <tr>\n",
       "      <th>3013</th>\n",
       "      <td>NaN</td>\n",
       "      <td>NaN</td>\n",
       "      <td>NR</td>\n",
       "      <td>0</td>\n",
       "      <td>19</td>\n",
       "      <td>1313</td>\n",
       "      <td>NR</td>\n",
       "      <td>17000</td>\n",
       "      <td>50</td>\n",
       "      <td>agent, employe</td>\n",
       "      <td>...</td>\n",
       "      <td>5</td>\n",
       "      <td>B</td>\n",
       "      <td>2</td>\n",
       "      <td>1</td>\n",
       "      <td>1</td>\n",
       "      <td>39</td>\n",
       "      <td>2</td>\n",
       "      <td>1</td>\n",
       "      <td>1</td>\n",
       "      <td>0</td>\n",
       "    </tr>\n",
       "    <tr>\n",
       "      <th>3273</th>\n",
       "      <td>NaN</td>\n",
       "      <td>NaN</td>\n",
       "      <td>NR</td>\n",
       "      <td>0</td>\n",
       "      <td>16</td>\n",
       "      <td>1354</td>\n",
       "      <td>NR</td>\n",
       "      <td>17000</td>\n",
       "      <td>76</td>\n",
       "      <td>enseignant, formateur, chercheur</td>\n",
       "      <td>...</td>\n",
       "      <td>5</td>\n",
       "      <td>B</td>\n",
       "      <td>0</td>\n",
       "      <td>1</td>\n",
       "      <td>1</td>\n",
       "      <td>35</td>\n",
       "      <td>0</td>\n",
       "      <td>1</td>\n",
       "      <td>1</td>\n",
       "      <td>2</td>\n",
       "    </tr>\n",
       "    <tr>\n",
       "      <th>3758</th>\n",
       "      <td>NaN</td>\n",
       "      <td>NaN</td>\n",
       "      <td>NR</td>\n",
       "      <td>0</td>\n",
       "      <td>12</td>\n",
       "      <td>2018</td>\n",
       "      <td>NR</td>\n",
       "      <td>17000</td>\n",
       "      <td>50</td>\n",
       "      <td>enseignant, formateur, chercheur</td>\n",
       "      <td>...</td>\n",
       "      <td>5</td>\n",
       "      <td>E</td>\n",
       "      <td>2</td>\n",
       "      <td>1</td>\n",
       "      <td>1</td>\n",
       "      <td>23</td>\n",
       "      <td>0</td>\n",
       "      <td>0</td>\n",
       "      <td>1</td>\n",
       "      <td>1</td>\n",
       "    </tr>\n",
       "    <tr>\n",
       "      <th>3846</th>\n",
       "      <td>NaN</td>\n",
       "      <td>NaN</td>\n",
       "      <td>NR</td>\n",
       "      <td>0</td>\n",
       "      <td>2</td>\n",
       "      <td>2085</td>\n",
       "      <td>NR</td>\n",
       "      <td>17000</td>\n",
       "      <td>50</td>\n",
       "      <td>enseignant, formateur, chercheur</td>\n",
       "      <td>...</td>\n",
       "      <td>5</td>\n",
       "      <td>D</td>\n",
       "      <td>2</td>\n",
       "      <td>1</td>\n",
       "      <td>1</td>\n",
       "      <td>26</td>\n",
       "      <td>4</td>\n",
       "      <td>1</td>\n",
       "      <td>1</td>\n",
       "      <td>0</td>\n",
       "    </tr>\n",
       "    <tr>\n",
       "      <th>4241</th>\n",
       "      <td>NaN</td>\n",
       "      <td>NaN</td>\n",
       "      <td>NR</td>\n",
       "      <td>0</td>\n",
       "      <td>1</td>\n",
       "      <td>2340</td>\n",
       "      <td>NR</td>\n",
       "      <td>17000</td>\n",
       "      <td>50</td>\n",
       "      <td>enseignant, formateur, chercheur</td>\n",
       "      <td>...</td>\n",
       "      <td>5</td>\n",
       "      <td>C</td>\n",
       "      <td>2</td>\n",
       "      <td>1</td>\n",
       "      <td>1</td>\n",
       "      <td>30</td>\n",
       "      <td>0</td>\n",
       "      <td>1</td>\n",
       "      <td>1</td>\n",
       "      <td>3</td>\n",
       "    </tr>\n",
       "    <tr>\n",
       "      <th>4864</th>\n",
       "      <td>NaN</td>\n",
       "      <td>NaN</td>\n",
       "      <td>NR</td>\n",
       "      <td>0</td>\n",
       "      <td>2</td>\n",
       "      <td>2691</td>\n",
       "      <td>NR</td>\n",
       "      <td>17000</td>\n",
       "      <td>50</td>\n",
       "      <td>enseignant, formateur, chercheur</td>\n",
       "      <td>...</td>\n",
       "      <td>5</td>\n",
       "      <td>C</td>\n",
       "      <td>0</td>\n",
       "      <td>1</td>\n",
       "      <td>1</td>\n",
       "      <td>25</td>\n",
       "      <td>0</td>\n",
       "      <td>1</td>\n",
       "      <td>1</td>\n",
       "      <td>1</td>\n",
       "    </tr>\n",
       "    <tr>\n",
       "      <th>5260</th>\n",
       "      <td>NaN</td>\n",
       "      <td>NaN</td>\n",
       "      <td>NR</td>\n",
       "      <td>0</td>\n",
       "      <td>2</td>\n",
       "      <td>3023</td>\n",
       "      <td>NR</td>\n",
       "      <td>17000</td>\n",
       "      <td>90</td>\n",
       "      <td>enseignant, formateur, chercheur</td>\n",
       "      <td>...</td>\n",
       "      <td>5</td>\n",
       "      <td>C</td>\n",
       "      <td>2</td>\n",
       "      <td>1</td>\n",
       "      <td>2</td>\n",
       "      <td>24</td>\n",
       "      <td>0</td>\n",
       "      <td>1</td>\n",
       "      <td>1</td>\n",
       "      <td>2</td>\n",
       "    </tr>\n",
       "    <tr>\n",
       "      <th>5962</th>\n",
       "      <td>NaN</td>\n",
       "      <td>NaN</td>\n",
       "      <td>NR</td>\n",
       "      <td>0</td>\n",
       "      <td>1</td>\n",
       "      <td>3190</td>\n",
       "      <td>NR</td>\n",
       "      <td>17000</td>\n",
       "      <td>50</td>\n",
       "      <td>enseignant, formateur, chercheur</td>\n",
       "      <td>...</td>\n",
       "      <td>5</td>\n",
       "      <td>D</td>\n",
       "      <td>0</td>\n",
       "      <td>1</td>\n",
       "      <td>1</td>\n",
       "      <td>20</td>\n",
       "      <td>0</td>\n",
       "      <td>0</td>\n",
       "      <td>0</td>\n",
       "      <td>1</td>\n",
       "    </tr>\n",
       "    <tr>\n",
       "      <th>6581</th>\n",
       "      <td>NaN</td>\n",
       "      <td>NaN</td>\n",
       "      <td>NR</td>\n",
       "      <td>0</td>\n",
       "      <td>37</td>\n",
       "      <td>4033</td>\n",
       "      <td>NR</td>\n",
       "      <td>17000</td>\n",
       "      <td>90</td>\n",
       "      <td>agent, employe</td>\n",
       "      <td>...</td>\n",
       "      <td>5</td>\n",
       "      <td>F</td>\n",
       "      <td>0</td>\n",
       "      <td>4</td>\n",
       "      <td>1</td>\n",
       "      <td>17</td>\n",
       "      <td>0</td>\n",
       "      <td>1</td>\n",
       "      <td>1</td>\n",
       "      <td>3</td>\n",
       "    </tr>\n",
       "    <tr>\n",
       "      <th>7086</th>\n",
       "      <td>NaN</td>\n",
       "      <td>NaN</td>\n",
       "      <td>NR</td>\n",
       "      <td>0</td>\n",
       "      <td>16</td>\n",
       "      <td>4112</td>\n",
       "      <td>NR</td>\n",
       "      <td>17000</td>\n",
       "      <td>50</td>\n",
       "      <td>technicien</td>\n",
       "      <td>...</td>\n",
       "      <td>5</td>\n",
       "      <td>D</td>\n",
       "      <td>0</td>\n",
       "      <td>1</td>\n",
       "      <td>1</td>\n",
       "      <td>30</td>\n",
       "      <td>0</td>\n",
       "      <td>1</td>\n",
       "      <td>1</td>\n",
       "      <td>3</td>\n",
       "    </tr>\n",
       "    <tr>\n",
       "      <th>8590</th>\n",
       "      <td>NaN</td>\n",
       "      <td>NaN</td>\n",
       "      <td>NR</td>\n",
       "      <td>0</td>\n",
       "      <td>0</td>\n",
       "      <td>5061</td>\n",
       "      <td>NR</td>\n",
       "      <td>17000</td>\n",
       "      <td>118</td>\n",
       "      <td>agent, employe</td>\n",
       "      <td>...</td>\n",
       "      <td>5</td>\n",
       "      <td>D</td>\n",
       "      <td>1</td>\n",
       "      <td>4</td>\n",
       "      <td>1</td>\n",
       "      <td>33</td>\n",
       "      <td>0</td>\n",
       "      <td>1</td>\n",
       "      <td>1</td>\n",
       "      <td>1</td>\n",
       "    </tr>\n",
       "    <tr>\n",
       "      <th>10919</th>\n",
       "      <td>NaN</td>\n",
       "      <td>NaN</td>\n",
       "      <td>NR</td>\n",
       "      <td>0</td>\n",
       "      <td>16</td>\n",
       "      <td>6033</td>\n",
       "      <td>NR</td>\n",
       "      <td>17000</td>\n",
       "      <td>64</td>\n",
       "      <td>cadre, ingenieur</td>\n",
       "      <td>...</td>\n",
       "      <td>5</td>\n",
       "      <td>A</td>\n",
       "      <td>1</td>\n",
       "      <td>1</td>\n",
       "      <td>4</td>\n",
       "      <td>26</td>\n",
       "      <td>1</td>\n",
       "      <td>1</td>\n",
       "      <td>1</td>\n",
       "      <td>0</td>\n",
       "    </tr>\n",
       "    <tr>\n",
       "      <th>13138</th>\n",
       "      <td>NaN</td>\n",
       "      <td>NaN</td>\n",
       "      <td>NR</td>\n",
       "      <td>0</td>\n",
       "      <td>0</td>\n",
       "      <td>6088</td>\n",
       "      <td>NR</td>\n",
       "      <td>17000</td>\n",
       "      <td>50</td>\n",
       "      <td>cadre, ingenieur</td>\n",
       "      <td>...</td>\n",
       "      <td>5</td>\n",
       "      <td>A</td>\n",
       "      <td>2</td>\n",
       "      <td>4</td>\n",
       "      <td>1</td>\n",
       "      <td>25</td>\n",
       "      <td>2</td>\n",
       "      <td>0</td>\n",
       "      <td>0</td>\n",
       "      <td>0</td>\n",
       "    </tr>\n",
       "    <tr>\n",
       "      <th>16406</th>\n",
       "      <td>NaN</td>\n",
       "      <td>NaN</td>\n",
       "      <td>NR</td>\n",
       "      <td>0</td>\n",
       "      <td>0</td>\n",
       "      <td>6029</td>\n",
       "      <td>NR</td>\n",
       "      <td>17000</td>\n",
       "      <td>50</td>\n",
       "      <td>cadre, ingenieur</td>\n",
       "      <td>...</td>\n",
       "      <td>5</td>\n",
       "      <td>A</td>\n",
       "      <td>1</td>\n",
       "      <td>4</td>\n",
       "      <td>1</td>\n",
       "      <td>28</td>\n",
       "      <td>2</td>\n",
       "      <td>1</td>\n",
       "      <td>1</td>\n",
       "      <td>0</td>\n",
       "    </tr>\n",
       "    <tr>\n",
       "      <th>17732</th>\n",
       "      <td>NaN</td>\n",
       "      <td>NaN</td>\n",
       "      <td>NR</td>\n",
       "      <td>0</td>\n",
       "      <td>2</td>\n",
       "      <td>7247</td>\n",
       "      <td>NR</td>\n",
       "      <td>17000</td>\n",
       "      <td>55</td>\n",
       "      <td>enseignant, formateur, chercheur</td>\n",
       "      <td>...</td>\n",
       "      <td>5</td>\n",
       "      <td>F</td>\n",
       "      <td>0</td>\n",
       "      <td>1</td>\n",
       "      <td>2</td>\n",
       "      <td>27</td>\n",
       "      <td>1</td>\n",
       "      <td>0</td>\n",
       "      <td>1</td>\n",
       "      <td>0</td>\n",
       "    </tr>\n",
       "    <tr>\n",
       "      <th>18368</th>\n",
       "      <td>NaN</td>\n",
       "      <td>NaN</td>\n",
       "      <td>NR</td>\n",
       "      <td>0</td>\n",
       "      <td>0</td>\n",
       "      <td>7343</td>\n",
       "      <td>NR</td>\n",
       "      <td>17000</td>\n",
       "      <td>50</td>\n",
       "      <td>cadre, ingenieur</td>\n",
       "      <td>...</td>\n",
       "      <td>5</td>\n",
       "      <td>D</td>\n",
       "      <td>1</td>\n",
       "      <td>4</td>\n",
       "      <td>1</td>\n",
       "      <td>31</td>\n",
       "      <td>0</td>\n",
       "      <td>0</td>\n",
       "      <td>1</td>\n",
       "      <td>0</td>\n",
       "    </tr>\n",
       "    <tr>\n",
       "      <th>19223</th>\n",
       "      <td>NaN</td>\n",
       "      <td>NaN</td>\n",
       "      <td>NR</td>\n",
       "      <td>0</td>\n",
       "      <td>0</td>\n",
       "      <td>8409</td>\n",
       "      <td>NR</td>\n",
       "      <td>17000</td>\n",
       "      <td>50</td>\n",
       "      <td>profession liberale</td>\n",
       "      <td>...</td>\n",
       "      <td>5</td>\n",
       "      <td>D</td>\n",
       "      <td>0</td>\n",
       "      <td>4</td>\n",
       "      <td>1</td>\n",
       "      <td>33</td>\n",
       "      <td>1</td>\n",
       "      <td>1</td>\n",
       "      <td>1</td>\n",
       "      <td>0</td>\n",
       "    </tr>\n",
       "    <tr>\n",
       "      <th>20832</th>\n",
       "      <td>NaN</td>\n",
       "      <td>NaN</td>\n",
       "      <td>NR</td>\n",
       "      <td>0</td>\n",
       "      <td>1</td>\n",
       "      <td>10110</td>\n",
       "      <td>NR</td>\n",
       "      <td>17000</td>\n",
       "      <td>50</td>\n",
       "      <td>enseignant, formateur, chercheur</td>\n",
       "      <td>...</td>\n",
       "      <td>5</td>\n",
       "      <td>B</td>\n",
       "      <td>0</td>\n",
       "      <td>1</td>\n",
       "      <td>1</td>\n",
       "      <td>34</td>\n",
       "      <td>1</td>\n",
       "      <td>1</td>\n",
       "      <td>1</td>\n",
       "      <td>0</td>\n",
       "    </tr>\n",
       "    <tr>\n",
       "      <th>20899</th>\n",
       "      <td>NaN</td>\n",
       "      <td>NaN</td>\n",
       "      <td>NR</td>\n",
       "      <td>0</td>\n",
       "      <td>0</td>\n",
       "      <td>10156</td>\n",
       "      <td>NR</td>\n",
       "      <td>17000</td>\n",
       "      <td>58</td>\n",
       "      <td>technicien</td>\n",
       "      <td>...</td>\n",
       "      <td>5</td>\n",
       "      <td>B</td>\n",
       "      <td>1</td>\n",
       "      <td>4</td>\n",
       "      <td>1</td>\n",
       "      <td>27</td>\n",
       "      <td>0</td>\n",
       "      <td>1</td>\n",
       "      <td>1</td>\n",
       "      <td>1</td>\n",
       "    </tr>\n",
       "    <tr>\n",
       "      <th>22078</th>\n",
       "      <td>NaN</td>\n",
       "      <td>NaN</td>\n",
       "      <td>NR</td>\n",
       "      <td>0</td>\n",
       "      <td>2</td>\n",
       "      <td>10445</td>\n",
       "      <td>NR</td>\n",
       "      <td>17000</td>\n",
       "      <td>75</td>\n",
       "      <td>agent, employe</td>\n",
       "      <td>...</td>\n",
       "      <td>5</td>\n",
       "      <td>F</td>\n",
       "      <td>0</td>\n",
       "      <td>1</td>\n",
       "      <td>2</td>\n",
       "      <td>26</td>\n",
       "      <td>1</td>\n",
       "      <td>0</td>\n",
       "      <td>0</td>\n",
       "      <td>0</td>\n",
       "    </tr>\n",
       "    <tr>\n",
       "      <th>22443</th>\n",
       "      <td>NaN</td>\n",
       "      <td>NaN</td>\n",
       "      <td>NR</td>\n",
       "      <td>0</td>\n",
       "      <td>99</td>\n",
       "      <td>11069</td>\n",
       "      <td>NR</td>\n",
       "      <td>17000</td>\n",
       "      <td>90</td>\n",
       "      <td>homme ou femme au foyer</td>\n",
       "      <td>...</td>\n",
       "      <td>5</td>\n",
       "      <td>D</td>\n",
       "      <td>2</td>\n",
       "      <td>5</td>\n",
       "      <td>1</td>\n",
       "      <td>38</td>\n",
       "      <td>0</td>\n",
       "      <td>0</td>\n",
       "      <td>1</td>\n",
       "      <td>1</td>\n",
       "    </tr>\n",
       "    <tr>\n",
       "      <th>26584</th>\n",
       "      <td>NaN</td>\n",
       "      <td>NaN</td>\n",
       "      <td>NR</td>\n",
       "      <td>0</td>\n",
       "      <td>28</td>\n",
       "      <td>13001</td>\n",
       "      <td>NR</td>\n",
       "      <td>17000</td>\n",
       "      <td>68</td>\n",
       "      <td>cadre, ingenieur</td>\n",
       "      <td>...</td>\n",
       "      <td>5</td>\n",
       "      <td>A</td>\n",
       "      <td>1</td>\n",
       "      <td>3</td>\n",
       "      <td>2</td>\n",
       "      <td>29</td>\n",
       "      <td>0</td>\n",
       "      <td>0</td>\n",
       "      <td>1</td>\n",
       "      <td>0</td>\n",
       "    </tr>\n",
       "    <tr>\n",
       "      <th>28584</th>\n",
       "      <td>NaN</td>\n",
       "      <td>NaN</td>\n",
       "      <td>NR</td>\n",
       "      <td>0</td>\n",
       "      <td>4</td>\n",
       "      <td>13011</td>\n",
       "      <td>NR</td>\n",
       "      <td>17000</td>\n",
       "      <td>50</td>\n",
       "      <td>enseignant, formateur, chercheur</td>\n",
       "      <td>...</td>\n",
       "      <td>5</td>\n",
       "      <td>F</td>\n",
       "      <td>2</td>\n",
       "      <td>1</td>\n",
       "      <td>2</td>\n",
       "      <td>27</td>\n",
       "      <td>1</td>\n",
       "      <td>1</td>\n",
       "      <td>1</td>\n",
       "      <td>0</td>\n",
       "    </tr>\n",
       "    <tr>\n",
       "      <th>29676</th>\n",
       "      <td>NaN</td>\n",
       "      <td>NaN</td>\n",
       "      <td>NR</td>\n",
       "      <td>0</td>\n",
       "      <td>2</td>\n",
       "      <td>13028</td>\n",
       "      <td>NR</td>\n",
       "      <td>17000</td>\n",
       "      <td>50</td>\n",
       "      <td>enseignant, formateur, chercheur</td>\n",
       "      <td>...</td>\n",
       "      <td>5</td>\n",
       "      <td>A</td>\n",
       "      <td>2</td>\n",
       "      <td>1</td>\n",
       "      <td>2</td>\n",
       "      <td>27</td>\n",
       "      <td>1</td>\n",
       "      <td>0</td>\n",
       "      <td>1</td>\n",
       "      <td>0</td>\n",
       "    </tr>\n",
       "    <tr>\n",
       "      <th>30433</th>\n",
       "      <td>NaN</td>\n",
       "      <td>NaN</td>\n",
       "      <td>NR</td>\n",
       "      <td>0</td>\n",
       "      <td>4</td>\n",
       "      <td>13040</td>\n",
       "      <td>NR</td>\n",
       "      <td>17000</td>\n",
       "      <td>50</td>\n",
       "      <td>enseignant, formateur, chercheur</td>\n",
       "      <td>...</td>\n",
       "      <td>5</td>\n",
       "      <td>A</td>\n",
       "      <td>1</td>\n",
       "      <td>1</td>\n",
       "      <td>3</td>\n",
       "      <td>29</td>\n",
       "      <td>1</td>\n",
       "      <td>1</td>\n",
       "      <td>1</td>\n",
       "      <td>0</td>\n",
       "    </tr>\n",
       "    <tr>\n",
       "      <th>37397</th>\n",
       "      <td>NaN</td>\n",
       "      <td>NaN</td>\n",
       "      <td>NR</td>\n",
       "      <td>0</td>\n",
       "      <td>2</td>\n",
       "      <td>13205</td>\n",
       "      <td>NR</td>\n",
       "      <td>17000</td>\n",
       "      <td>50</td>\n",
       "      <td>enseignant, formateur, chercheur</td>\n",
       "      <td>...</td>\n",
       "      <td>5</td>\n",
       "      <td>A</td>\n",
       "      <td>0</td>\n",
       "      <td>1</td>\n",
       "      <td>1</td>\n",
       "      <td>22</td>\n",
       "      <td>0</td>\n",
       "      <td>1</td>\n",
       "      <td>1</td>\n",
       "      <td>3</td>\n",
       "    </tr>\n",
       "    <tr>\n",
       "      <th>39912</th>\n",
       "      <td>NaN</td>\n",
       "      <td>NaN</td>\n",
       "      <td>NR</td>\n",
       "      <td>0</td>\n",
       "      <td>99</td>\n",
       "      <td>13208</td>\n",
       "      <td>NR</td>\n",
       "      <td>17000</td>\n",
       "      <td>50</td>\n",
       "      <td>homme ou femme au foyer</td>\n",
       "      <td>...</td>\n",
       "      <td>5</td>\n",
       "      <td>A</td>\n",
       "      <td>4</td>\n",
       "      <td>5</td>\n",
       "      <td>1</td>\n",
       "      <td>23</td>\n",
       "      <td>0</td>\n",
       "      <td>0</td>\n",
       "      <td>1</td>\n",
       "      <td>1</td>\n",
       "    </tr>\n",
       "    <tr>\n",
       "      <th>40541</th>\n",
       "      <td>NaN</td>\n",
       "      <td>NaN</td>\n",
       "      <td>NR</td>\n",
       "      <td>0</td>\n",
       "      <td>1</td>\n",
       "      <td>13209</td>\n",
       "      <td>NR</td>\n",
       "      <td>17000</td>\n",
       "      <td>50</td>\n",
       "      <td>enseignant, formateur, chercheur</td>\n",
       "      <td>...</td>\n",
       "      <td>5</td>\n",
       "      <td>A</td>\n",
       "      <td>2</td>\n",
       "      <td>1</td>\n",
       "      <td>2</td>\n",
       "      <td>30</td>\n",
       "      <td>0</td>\n",
       "      <td>0</td>\n",
       "      <td>1</td>\n",
       "      <td>3</td>\n",
       "    </tr>\n",
       "    <tr>\n",
       "      <th>40553</th>\n",
       "      <td>NaN</td>\n",
       "      <td>NaN</td>\n",
       "      <td>NR</td>\n",
       "      <td>0</td>\n",
       "      <td>34</td>\n",
       "      <td>13209</td>\n",
       "      <td>NR</td>\n",
       "      <td>17000</td>\n",
       "      <td>50</td>\n",
       "      <td>ouvrier</td>\n",
       "      <td>...</td>\n",
       "      <td>5</td>\n",
       "      <td>A</td>\n",
       "      <td>0</td>\n",
       "      <td>4</td>\n",
       "      <td>2</td>\n",
       "      <td>22</td>\n",
       "      <td>2</td>\n",
       "      <td>1</td>\n",
       "      <td>1</td>\n",
       "      <td>0</td>\n",
       "    </tr>\n",
       "    <tr>\n",
       "      <th>...</th>\n",
       "      <td>...</td>\n",
       "      <td>...</td>\n",
       "      <td>...</td>\n",
       "      <td>...</td>\n",
       "      <td>...</td>\n",
       "      <td>...</td>\n",
       "      <td>...</td>\n",
       "      <td>...</td>\n",
       "      <td>...</td>\n",
       "      <td>...</td>\n",
       "      <td>...</td>\n",
       "      <td>...</td>\n",
       "      <td>...</td>\n",
       "      <td>...</td>\n",
       "      <td>...</td>\n",
       "      <td>...</td>\n",
       "      <td>...</td>\n",
       "      <td>...</td>\n",
       "      <td>...</td>\n",
       "      <td>...</td>\n",
       "      <td>...</td>\n",
       "    </tr>\n",
       "    <tr>\n",
       "      <th>266815</th>\n",
       "      <td>NaN</td>\n",
       "      <td>NaN</td>\n",
       "      <td>NR</td>\n",
       "      <td>0</td>\n",
       "      <td>0</td>\n",
       "      <td>89024</td>\n",
       "      <td>NR</td>\n",
       "      <td>17000</td>\n",
       "      <td>50</td>\n",
       "      <td>cadre, ingenieur</td>\n",
       "      <td>...</td>\n",
       "      <td>5</td>\n",
       "      <td>D</td>\n",
       "      <td>1</td>\n",
       "      <td>4</td>\n",
       "      <td>2</td>\n",
       "      <td>25</td>\n",
       "      <td>0</td>\n",
       "      <td>0</td>\n",
       "      <td>0</td>\n",
       "      <td>1</td>\n",
       "    </tr>\n",
       "    <tr>\n",
       "      <th>267387</th>\n",
       "      <td>NaN</td>\n",
       "      <td>NaN</td>\n",
       "      <td>NR</td>\n",
       "      <td>0</td>\n",
       "      <td>34</td>\n",
       "      <td>89223</td>\n",
       "      <td>NR</td>\n",
       "      <td>17000</td>\n",
       "      <td>57</td>\n",
       "      <td>commercant</td>\n",
       "      <td>...</td>\n",
       "      <td>5</td>\n",
       "      <td>F</td>\n",
       "      <td>0</td>\n",
       "      <td>4</td>\n",
       "      <td>1</td>\n",
       "      <td>20</td>\n",
       "      <td>0</td>\n",
       "      <td>0</td>\n",
       "      <td>0</td>\n",
       "      <td>1</td>\n",
       "    </tr>\n",
       "    <tr>\n",
       "      <th>270205</th>\n",
       "      <td>NaN</td>\n",
       "      <td>NaN</td>\n",
       "      <td>NR</td>\n",
       "      <td>0</td>\n",
       "      <td>2</td>\n",
       "      <td>91182</td>\n",
       "      <td>NR</td>\n",
       "      <td>17000</td>\n",
       "      <td>64</td>\n",
       "      <td>enseignant, formateur, chercheur</td>\n",
       "      <td>...</td>\n",
       "      <td>5</td>\n",
       "      <td>G</td>\n",
       "      <td>4</td>\n",
       "      <td>1</td>\n",
       "      <td>1</td>\n",
       "      <td>22</td>\n",
       "      <td>0</td>\n",
       "      <td>0</td>\n",
       "      <td>1</td>\n",
       "      <td>0</td>\n",
       "    </tr>\n",
       "    <tr>\n",
       "      <th>270249</th>\n",
       "      <td>NaN</td>\n",
       "      <td>NaN</td>\n",
       "      <td>NR</td>\n",
       "      <td>0</td>\n",
       "      <td>1</td>\n",
       "      <td>91186</td>\n",
       "      <td>NR</td>\n",
       "      <td>17000</td>\n",
       "      <td>50</td>\n",
       "      <td>enseignant, formateur, chercheur</td>\n",
       "      <td>...</td>\n",
       "      <td>5</td>\n",
       "      <td>G</td>\n",
       "      <td>2</td>\n",
       "      <td>1</td>\n",
       "      <td>2</td>\n",
       "      <td>25</td>\n",
       "      <td>0</td>\n",
       "      <td>0</td>\n",
       "      <td>1</td>\n",
       "      <td>1</td>\n",
       "    </tr>\n",
       "    <tr>\n",
       "      <th>270357</th>\n",
       "      <td>NaN</td>\n",
       "      <td>NaN</td>\n",
       "      <td>NR</td>\n",
       "      <td>0</td>\n",
       "      <td>0</td>\n",
       "      <td>91200</td>\n",
       "      <td>NR</td>\n",
       "      <td>17000</td>\n",
       "      <td>50</td>\n",
       "      <td>technicien</td>\n",
       "      <td>...</td>\n",
       "      <td>5</td>\n",
       "      <td>G</td>\n",
       "      <td>0</td>\n",
       "      <td>4</td>\n",
       "      <td>3</td>\n",
       "      <td>21</td>\n",
       "      <td>0</td>\n",
       "      <td>1</td>\n",
       "      <td>1</td>\n",
       "      <td>2</td>\n",
       "    </tr>\n",
       "    <tr>\n",
       "      <th>271148</th>\n",
       "      <td>NaN</td>\n",
       "      <td>NaN</td>\n",
       "      <td>NR</td>\n",
       "      <td>0</td>\n",
       "      <td>4</td>\n",
       "      <td>91272</td>\n",
       "      <td>NR</td>\n",
       "      <td>17000</td>\n",
       "      <td>50</td>\n",
       "      <td>enseignant, formateur, chercheur</td>\n",
       "      <td>...</td>\n",
       "      <td>5</td>\n",
       "      <td>G</td>\n",
       "      <td>2</td>\n",
       "      <td>1</td>\n",
       "      <td>1</td>\n",
       "      <td>21</td>\n",
       "      <td>0</td>\n",
       "      <td>0</td>\n",
       "      <td>1</td>\n",
       "      <td>0</td>\n",
       "    </tr>\n",
       "    <tr>\n",
       "      <th>271643</th>\n",
       "      <td>NaN</td>\n",
       "      <td>NaN</td>\n",
       "      <td>NR</td>\n",
       "      <td>0</td>\n",
       "      <td>2</td>\n",
       "      <td>91326</td>\n",
       "      <td>NR</td>\n",
       "      <td>17000</td>\n",
       "      <td>50</td>\n",
       "      <td>enseignant, formateur, chercheur</td>\n",
       "      <td>...</td>\n",
       "      <td>5</td>\n",
       "      <td>G</td>\n",
       "      <td>0</td>\n",
       "      <td>1</td>\n",
       "      <td>1</td>\n",
       "      <td>22</td>\n",
       "      <td>0</td>\n",
       "      <td>0</td>\n",
       "      <td>0</td>\n",
       "      <td>0</td>\n",
       "    </tr>\n",
       "    <tr>\n",
       "      <th>272307</th>\n",
       "      <td>NaN</td>\n",
       "      <td>NaN</td>\n",
       "      <td>NR</td>\n",
       "      <td>0</td>\n",
       "      <td>1</td>\n",
       "      <td>91386</td>\n",
       "      <td>NR</td>\n",
       "      <td>17000</td>\n",
       "      <td>50</td>\n",
       "      <td>enseignant, formateur, chercheur</td>\n",
       "      <td>...</td>\n",
       "      <td>5</td>\n",
       "      <td>G</td>\n",
       "      <td>1</td>\n",
       "      <td>1</td>\n",
       "      <td>4</td>\n",
       "      <td>21</td>\n",
       "      <td>2</td>\n",
       "      <td>1</td>\n",
       "      <td>1</td>\n",
       "      <td>0</td>\n",
       "    </tr>\n",
       "    <tr>\n",
       "      <th>273510</th>\n",
       "      <td>NaN</td>\n",
       "      <td>NaN</td>\n",
       "      <td>NR</td>\n",
       "      <td>0</td>\n",
       "      <td>0</td>\n",
       "      <td>91521</td>\n",
       "      <td>NR</td>\n",
       "      <td>17000</td>\n",
       "      <td>85</td>\n",
       "      <td>technicien</td>\n",
       "      <td>...</td>\n",
       "      <td>5</td>\n",
       "      <td>G</td>\n",
       "      <td>4</td>\n",
       "      <td>4</td>\n",
       "      <td>1</td>\n",
       "      <td>25</td>\n",
       "      <td>2</td>\n",
       "      <td>1</td>\n",
       "      <td>1</td>\n",
       "      <td>0</td>\n",
       "    </tr>\n",
       "    <tr>\n",
       "      <th>273512</th>\n",
       "      <td>NaN</td>\n",
       "      <td>NaN</td>\n",
       "      <td>NR</td>\n",
       "      <td>0</td>\n",
       "      <td>0</td>\n",
       "      <td>91521</td>\n",
       "      <td>NR</td>\n",
       "      <td>17000</td>\n",
       "      <td>57</td>\n",
       "      <td>agent, employe</td>\n",
       "      <td>...</td>\n",
       "      <td>5</td>\n",
       "      <td>G</td>\n",
       "      <td>0</td>\n",
       "      <td>4</td>\n",
       "      <td>1</td>\n",
       "      <td>24</td>\n",
       "      <td>6</td>\n",
       "      <td>1</td>\n",
       "      <td>1</td>\n",
       "      <td>0</td>\n",
       "    </tr>\n",
       "    <tr>\n",
       "      <th>273787</th>\n",
       "      <td>NaN</td>\n",
       "      <td>NaN</td>\n",
       "      <td>NR</td>\n",
       "      <td>0</td>\n",
       "      <td>0</td>\n",
       "      <td>91552</td>\n",
       "      <td>NR</td>\n",
       "      <td>17000</td>\n",
       "      <td>50</td>\n",
       "      <td>cadre, ingenieur</td>\n",
       "      <td>...</td>\n",
       "      <td>5</td>\n",
       "      <td>G</td>\n",
       "      <td>2</td>\n",
       "      <td>1</td>\n",
       "      <td>1</td>\n",
       "      <td>21</td>\n",
       "      <td>2</td>\n",
       "      <td>0</td>\n",
       "      <td>1</td>\n",
       "      <td>0</td>\n",
       "    </tr>\n",
       "    <tr>\n",
       "      <th>274835</th>\n",
       "      <td>NaN</td>\n",
       "      <td>NaN</td>\n",
       "      <td>NR</td>\n",
       "      <td>0</td>\n",
       "      <td>42</td>\n",
       "      <td>91665</td>\n",
       "      <td>NR</td>\n",
       "      <td>17000</td>\n",
       "      <td>58</td>\n",
       "      <td>agent, employe</td>\n",
       "      <td>...</td>\n",
       "      <td>5</td>\n",
       "      <td>G</td>\n",
       "      <td>2</td>\n",
       "      <td>4</td>\n",
       "      <td>1</td>\n",
       "      <td>21</td>\n",
       "      <td>1</td>\n",
       "      <td>0</td>\n",
       "      <td>1</td>\n",
       "      <td>0</td>\n",
       "    </tr>\n",
       "    <tr>\n",
       "      <th>276777</th>\n",
       "      <td>NaN</td>\n",
       "      <td>NaN</td>\n",
       "      <td>NR</td>\n",
       "      <td>0</td>\n",
       "      <td>19</td>\n",
       "      <td>92019</td>\n",
       "      <td>NR</td>\n",
       "      <td>17000</td>\n",
       "      <td>112</td>\n",
       "      <td>cadre, ingenieur</td>\n",
       "      <td>...</td>\n",
       "      <td>5</td>\n",
       "      <td>G</td>\n",
       "      <td>0</td>\n",
       "      <td>1</td>\n",
       "      <td>1</td>\n",
       "      <td>24</td>\n",
       "      <td>0</td>\n",
       "      <td>0</td>\n",
       "      <td>1</td>\n",
       "      <td>0</td>\n",
       "    </tr>\n",
       "    <tr>\n",
       "      <th>277360</th>\n",
       "      <td>NaN</td>\n",
       "      <td>NaN</td>\n",
       "      <td>NR</td>\n",
       "      <td>0</td>\n",
       "      <td>99</td>\n",
       "      <td>92023</td>\n",
       "      <td>NR</td>\n",
       "      <td>17000</td>\n",
       "      <td>50</td>\n",
       "      <td>demandeur d'emploi</td>\n",
       "      <td>...</td>\n",
       "      <td>5</td>\n",
       "      <td>G</td>\n",
       "      <td>2</td>\n",
       "      <td>5</td>\n",
       "      <td>1</td>\n",
       "      <td>24</td>\n",
       "      <td>0</td>\n",
       "      <td>0</td>\n",
       "      <td>1</td>\n",
       "      <td>1</td>\n",
       "    </tr>\n",
       "    <tr>\n",
       "      <th>277740</th>\n",
       "      <td>NaN</td>\n",
       "      <td>NaN</td>\n",
       "      <td>NR</td>\n",
       "      <td>0</td>\n",
       "      <td>1</td>\n",
       "      <td>92025</td>\n",
       "      <td>NR</td>\n",
       "      <td>17000</td>\n",
       "      <td>50</td>\n",
       "      <td>enseignant, formateur, chercheur</td>\n",
       "      <td>...</td>\n",
       "      <td>5</td>\n",
       "      <td>G</td>\n",
       "      <td>2</td>\n",
       "      <td>1</td>\n",
       "      <td>3</td>\n",
       "      <td>19</td>\n",
       "      <td>1</td>\n",
       "      <td>1</td>\n",
       "      <td>1</td>\n",
       "      <td>0</td>\n",
       "    </tr>\n",
       "    <tr>\n",
       "      <th>279713</th>\n",
       "      <td>NaN</td>\n",
       "      <td>NaN</td>\n",
       "      <td>NR</td>\n",
       "      <td>0</td>\n",
       "      <td>1</td>\n",
       "      <td>92051</td>\n",
       "      <td>NR</td>\n",
       "      <td>17000</td>\n",
       "      <td>90</td>\n",
       "      <td>enseignant, formateur, chercheur</td>\n",
       "      <td>...</td>\n",
       "      <td>5</td>\n",
       "      <td>G</td>\n",
       "      <td>3</td>\n",
       "      <td>1</td>\n",
       "      <td>2</td>\n",
       "      <td>20</td>\n",
       "      <td>2</td>\n",
       "      <td>1</td>\n",
       "      <td>1</td>\n",
       "      <td>0</td>\n",
       "    </tr>\n",
       "    <tr>\n",
       "      <th>279716</th>\n",
       "      <td>NaN</td>\n",
       "      <td>NaN</td>\n",
       "      <td>NR</td>\n",
       "      <td>0</td>\n",
       "      <td>2</td>\n",
       "      <td>92051</td>\n",
       "      <td>NR</td>\n",
       "      <td>17000</td>\n",
       "      <td>50</td>\n",
       "      <td>enseignant, formateur, chercheur</td>\n",
       "      <td>...</td>\n",
       "      <td>5</td>\n",
       "      <td>G</td>\n",
       "      <td>1</td>\n",
       "      <td>1</td>\n",
       "      <td>3</td>\n",
       "      <td>22</td>\n",
       "      <td>0</td>\n",
       "      <td>0</td>\n",
       "      <td>1</td>\n",
       "      <td>2</td>\n",
       "    </tr>\n",
       "    <tr>\n",
       "      <th>281099</th>\n",
       "      <td>NaN</td>\n",
       "      <td>NaN</td>\n",
       "      <td>NR</td>\n",
       "      <td>0</td>\n",
       "      <td>0</td>\n",
       "      <td>92075</td>\n",
       "      <td>NR</td>\n",
       "      <td>17000</td>\n",
       "      <td>57</td>\n",
       "      <td>agent, employe</td>\n",
       "      <td>...</td>\n",
       "      <td>5</td>\n",
       "      <td>G</td>\n",
       "      <td>2</td>\n",
       "      <td>1</td>\n",
       "      <td>1</td>\n",
       "      <td>20</td>\n",
       "      <td>0</td>\n",
       "      <td>0</td>\n",
       "      <td>1</td>\n",
       "      <td>1</td>\n",
       "    </tr>\n",
       "    <tr>\n",
       "      <th>281266</th>\n",
       "      <td>NaN</td>\n",
       "      <td>NaN</td>\n",
       "      <td>NR</td>\n",
       "      <td>0</td>\n",
       "      <td>2</td>\n",
       "      <td>92076</td>\n",
       "      <td>NR</td>\n",
       "      <td>17000</td>\n",
       "      <td>50</td>\n",
       "      <td>enseignant, formateur, chercheur</td>\n",
       "      <td>...</td>\n",
       "      <td>5</td>\n",
       "      <td>G</td>\n",
       "      <td>0</td>\n",
       "      <td>1</td>\n",
       "      <td>1</td>\n",
       "      <td>24</td>\n",
       "      <td>0</td>\n",
       "      <td>0</td>\n",
       "      <td>1</td>\n",
       "      <td>1</td>\n",
       "    </tr>\n",
       "    <tr>\n",
       "      <th>287251</th>\n",
       "      <td>NaN</td>\n",
       "      <td>NaN</td>\n",
       "      <td>NR</td>\n",
       "      <td>0</td>\n",
       "      <td>19</td>\n",
       "      <td>94022</td>\n",
       "      <td>NR</td>\n",
       "      <td>17000</td>\n",
       "      <td>50</td>\n",
       "      <td>cadre, ingenieur</td>\n",
       "      <td>...</td>\n",
       "      <td>5</td>\n",
       "      <td>G</td>\n",
       "      <td>0</td>\n",
       "      <td>1</td>\n",
       "      <td>1</td>\n",
       "      <td>16</td>\n",
       "      <td>1</td>\n",
       "      <td>0</td>\n",
       "      <td>1</td>\n",
       "      <td>0</td>\n",
       "    </tr>\n",
       "    <tr>\n",
       "      <th>288515</th>\n",
       "      <td>NaN</td>\n",
       "      <td>NaN</td>\n",
       "      <td>NR</td>\n",
       "      <td>0</td>\n",
       "      <td>2</td>\n",
       "      <td>94041</td>\n",
       "      <td>NR</td>\n",
       "      <td>17000</td>\n",
       "      <td>95</td>\n",
       "      <td>enseignant, formateur, chercheur</td>\n",
       "      <td>...</td>\n",
       "      <td>5</td>\n",
       "      <td>G</td>\n",
       "      <td>2</td>\n",
       "      <td>1</td>\n",
       "      <td>2</td>\n",
       "      <td>20</td>\n",
       "      <td>0</td>\n",
       "      <td>1</td>\n",
       "      <td>1</td>\n",
       "      <td>3</td>\n",
       "    </tr>\n",
       "    <tr>\n",
       "      <th>288795</th>\n",
       "      <td>NaN</td>\n",
       "      <td>NaN</td>\n",
       "      <td>NR</td>\n",
       "      <td>0</td>\n",
       "      <td>99</td>\n",
       "      <td>94043</td>\n",
       "      <td>NR</td>\n",
       "      <td>17000</td>\n",
       "      <td>90</td>\n",
       "      <td>demandeur d'emploi</td>\n",
       "      <td>...</td>\n",
       "      <td>5</td>\n",
       "      <td>G</td>\n",
       "      <td>0</td>\n",
       "      <td>5</td>\n",
       "      <td>4</td>\n",
       "      <td>23</td>\n",
       "      <td>0</td>\n",
       "      <td>0</td>\n",
       "      <td>1</td>\n",
       "      <td>2</td>\n",
       "    </tr>\n",
       "    <tr>\n",
       "      <th>289019</th>\n",
       "      <td>NaN</td>\n",
       "      <td>NaN</td>\n",
       "      <td>NR</td>\n",
       "      <td>0</td>\n",
       "      <td>2</td>\n",
       "      <td>94046</td>\n",
       "      <td>NR</td>\n",
       "      <td>17000</td>\n",
       "      <td>50</td>\n",
       "      <td>enseignant, formateur, chercheur</td>\n",
       "      <td>...</td>\n",
       "      <td>5</td>\n",
       "      <td>G</td>\n",
       "      <td>0</td>\n",
       "      <td>1</td>\n",
       "      <td>1</td>\n",
       "      <td>23</td>\n",
       "      <td>1</td>\n",
       "      <td>0</td>\n",
       "      <td>1</td>\n",
       "      <td>0</td>\n",
       "    </tr>\n",
       "    <tr>\n",
       "      <th>289285</th>\n",
       "      <td>NaN</td>\n",
       "      <td>NaN</td>\n",
       "      <td>NR</td>\n",
       "      <td>0</td>\n",
       "      <td>34</td>\n",
       "      <td>94052</td>\n",
       "      <td>NR</td>\n",
       "      <td>17000</td>\n",
       "      <td>68</td>\n",
       "      <td>technicien</td>\n",
       "      <td>...</td>\n",
       "      <td>5</td>\n",
       "      <td>G</td>\n",
       "      <td>0</td>\n",
       "      <td>4</td>\n",
       "      <td>2</td>\n",
       "      <td>21</td>\n",
       "      <td>0</td>\n",
       "      <td>0</td>\n",
       "      <td>1</td>\n",
       "      <td>0</td>\n",
       "    </tr>\n",
       "    <tr>\n",
       "      <th>290331</th>\n",
       "      <td>NaN</td>\n",
       "      <td>NaN</td>\n",
       "      <td>NR</td>\n",
       "      <td>0</td>\n",
       "      <td>5</td>\n",
       "      <td>94069</td>\n",
       "      <td>NR</td>\n",
       "      <td>17000</td>\n",
       "      <td>50</td>\n",
       "      <td>cadre, ingenieur</td>\n",
       "      <td>...</td>\n",
       "      <td>5</td>\n",
       "      <td>G</td>\n",
       "      <td>2</td>\n",
       "      <td>1</td>\n",
       "      <td>4</td>\n",
       "      <td>22</td>\n",
       "      <td>5</td>\n",
       "      <td>1</td>\n",
       "      <td>1</td>\n",
       "      <td>0</td>\n",
       "    </tr>\n",
       "    <tr>\n",
       "      <th>291075</th>\n",
       "      <td>NaN</td>\n",
       "      <td>NaN</td>\n",
       "      <td>NR</td>\n",
       "      <td>0</td>\n",
       "      <td>1</td>\n",
       "      <td>94078</td>\n",
       "      <td>NR</td>\n",
       "      <td>17000</td>\n",
       "      <td>52</td>\n",
       "      <td>enseignant, formateur, chercheur</td>\n",
       "      <td>...</td>\n",
       "      <td>5</td>\n",
       "      <td>G</td>\n",
       "      <td>0</td>\n",
       "      <td>1</td>\n",
       "      <td>1</td>\n",
       "      <td>22</td>\n",
       "      <td>1</td>\n",
       "      <td>1</td>\n",
       "      <td>1</td>\n",
       "      <td>0</td>\n",
       "    </tr>\n",
       "    <tr>\n",
       "      <th>291865</th>\n",
       "      <td>NaN</td>\n",
       "      <td>NaN</td>\n",
       "      <td>NR</td>\n",
       "      <td>0</td>\n",
       "      <td>0</td>\n",
       "      <td>94068</td>\n",
       "      <td>NR</td>\n",
       "      <td>17000</td>\n",
       "      <td>95</td>\n",
       "      <td>profession de l'information des arts et des sp...</td>\n",
       "      <td>...</td>\n",
       "      <td>5</td>\n",
       "      <td>G</td>\n",
       "      <td>4</td>\n",
       "      <td>4</td>\n",
       "      <td>1</td>\n",
       "      <td>22</td>\n",
       "      <td>0</td>\n",
       "      <td>1</td>\n",
       "      <td>1</td>\n",
       "      <td>1</td>\n",
       "    </tr>\n",
       "    <tr>\n",
       "      <th>294577</th>\n",
       "      <td>NaN</td>\n",
       "      <td>NaN</td>\n",
       "      <td>NR</td>\n",
       "      <td>0</td>\n",
       "      <td>7</td>\n",
       "      <td>95427</td>\n",
       "      <td>NR</td>\n",
       "      <td>17000</td>\n",
       "      <td>50</td>\n",
       "      <td>educateur, animateur, moniteur</td>\n",
       "      <td>...</td>\n",
       "      <td>5</td>\n",
       "      <td>G</td>\n",
       "      <td>0</td>\n",
       "      <td>2</td>\n",
       "      <td>2</td>\n",
       "      <td>22</td>\n",
       "      <td>0</td>\n",
       "      <td>0</td>\n",
       "      <td>1</td>\n",
       "      <td>1</td>\n",
       "    </tr>\n",
       "    <tr>\n",
       "      <th>295418</th>\n",
       "      <td>NaN</td>\n",
       "      <td>NaN</td>\n",
       "      <td>NR</td>\n",
       "      <td>0</td>\n",
       "      <td>1</td>\n",
       "      <td>95572</td>\n",
       "      <td>NR</td>\n",
       "      <td>17000</td>\n",
       "      <td>50</td>\n",
       "      <td>enseignant, formateur, chercheur</td>\n",
       "      <td>...</td>\n",
       "      <td>5</td>\n",
       "      <td>G</td>\n",
       "      <td>0</td>\n",
       "      <td>1</td>\n",
       "      <td>1</td>\n",
       "      <td>0</td>\n",
       "      <td>1</td>\n",
       "      <td>0</td>\n",
       "      <td>1</td>\n",
       "      <td>0</td>\n",
       "    </tr>\n",
       "    <tr>\n",
       "      <th>297269</th>\n",
       "      <td>NaN</td>\n",
       "      <td>NaN</td>\n",
       "      <td>NR</td>\n",
       "      <td>0</td>\n",
       "      <td>41</td>\n",
       "      <td>97101</td>\n",
       "      <td>NR</td>\n",
       "      <td>17000</td>\n",
       "      <td>80</td>\n",
       "      <td>agent, employe</td>\n",
       "      <td>...</td>\n",
       "      <td>5</td>\n",
       "      <td>N</td>\n",
       "      <td>0</td>\n",
       "      <td>4</td>\n",
       "      <td>1</td>\n",
       "      <td>20</td>\n",
       "      <td>0</td>\n",
       "      <td>0</td>\n",
       "      <td>0</td>\n",
       "      <td>0</td>\n",
       "    </tr>\n",
       "  </tbody>\n",
       "</table>\n",
       "<p>293 rows × 32 columns</p>\n",
       "</div>"
      ],
      "text/plain": [
       "        annee_naissance  annee_permis marque  puis_fiscale  anc_veh  \\\n",
       "id                                                                    \n",
       "1379                NaN           NaN     NR             0        1   \n",
       "3013                NaN           NaN     NR             0       19   \n",
       "3273                NaN           NaN     NR             0       16   \n",
       "3758                NaN           NaN     NR             0       12   \n",
       "3846                NaN           NaN     NR             0        2   \n",
       "4241                NaN           NaN     NR             0        1   \n",
       "4864                NaN           NaN     NR             0        2   \n",
       "5260                NaN           NaN     NR             0        2   \n",
       "5962                NaN           NaN     NR             0        1   \n",
       "6581                NaN           NaN     NR             0       37   \n",
       "7086                NaN           NaN     NR             0       16   \n",
       "8590                NaN           NaN     NR             0        0   \n",
       "10919               NaN           NaN     NR             0       16   \n",
       "13138               NaN           NaN     NR             0        0   \n",
       "16406               NaN           NaN     NR             0        0   \n",
       "17732               NaN           NaN     NR             0        2   \n",
       "18368               NaN           NaN     NR             0        0   \n",
       "19223               NaN           NaN     NR             0        0   \n",
       "20832               NaN           NaN     NR             0        1   \n",
       "20899               NaN           NaN     NR             0        0   \n",
       "22078               NaN           NaN     NR             0        2   \n",
       "22443               NaN           NaN     NR             0       99   \n",
       "26584               NaN           NaN     NR             0       28   \n",
       "28584               NaN           NaN     NR             0        4   \n",
       "29676               NaN           NaN     NR             0        2   \n",
       "30433               NaN           NaN     NR             0        4   \n",
       "37397               NaN           NaN     NR             0        2   \n",
       "39912               NaN           NaN     NR             0       99   \n",
       "40541               NaN           NaN     NR             0        1   \n",
       "40553               NaN           NaN     NR             0       34   \n",
       "...                 ...           ...    ...           ...      ...   \n",
       "266815              NaN           NaN     NR             0        0   \n",
       "267387              NaN           NaN     NR             0       34   \n",
       "270205              NaN           NaN     NR             0        2   \n",
       "270249              NaN           NaN     NR             0        1   \n",
       "270357              NaN           NaN     NR             0        0   \n",
       "271148              NaN           NaN     NR             0        4   \n",
       "271643              NaN           NaN     NR             0        2   \n",
       "272307              NaN           NaN     NR             0        1   \n",
       "273510              NaN           NaN     NR             0        0   \n",
       "273512              NaN           NaN     NR             0        0   \n",
       "273787              NaN           NaN     NR             0        0   \n",
       "274835              NaN           NaN     NR             0       42   \n",
       "276777              NaN           NaN     NR             0       19   \n",
       "277360              NaN           NaN     NR             0       99   \n",
       "277740              NaN           NaN     NR             0        1   \n",
       "279713              NaN           NaN     NR             0        1   \n",
       "279716              NaN           NaN     NR             0        2   \n",
       "281099              NaN           NaN     NR             0        0   \n",
       "281266              NaN           NaN     NR             0        2   \n",
       "287251              NaN           NaN     NR             0       19   \n",
       "288515              NaN           NaN     NR             0        2   \n",
       "288795              NaN           NaN     NR             0       99   \n",
       "289019              NaN           NaN     NR             0        2   \n",
       "289285              NaN           NaN     NR             0       34   \n",
       "290331              NaN           NaN     NR             0        5   \n",
       "291075              NaN           NaN     NR             0        1   \n",
       "291865              NaN           NaN     NR             0        0   \n",
       "294577              NaN           NaN     NR             0        7   \n",
       "295418              NaN           NaN     NR             0        1   \n",
       "297269              NaN           NaN     NR             0       41   \n",
       "\n",
       "       codepostal energie_veh  kmage_annuel  crm  \\\n",
       "id                                                 \n",
       "1379         1005          NR         17000   50   \n",
       "3013         1313          NR         17000   50   \n",
       "3273         1354          NR         17000   76   \n",
       "3758         2018          NR         17000   50   \n",
       "3846         2085          NR         17000   50   \n",
       "4241         2340          NR         17000   50   \n",
       "4864         2691          NR         17000   50   \n",
       "5260         3023          NR         17000   90   \n",
       "5962         3190          NR         17000   50   \n",
       "6581         4033          NR         17000   90   \n",
       "7086         4112          NR         17000   50   \n",
       "8590         5061          NR         17000  118   \n",
       "10919        6033          NR         17000   64   \n",
       "13138        6088          NR         17000   50   \n",
       "16406        6029          NR         17000   50   \n",
       "17732        7247          NR         17000   55   \n",
       "18368        7343          NR         17000   50   \n",
       "19223        8409          NR         17000   50   \n",
       "20832       10110          NR         17000   50   \n",
       "20899       10156          NR         17000   58   \n",
       "22078       10445          NR         17000   75   \n",
       "22443       11069          NR         17000   90   \n",
       "26584       13001          NR         17000   68   \n",
       "28584       13011          NR         17000   50   \n",
       "29676       13028          NR         17000   50   \n",
       "30433       13040          NR         17000   50   \n",
       "37397       13205          NR         17000   50   \n",
       "39912       13208          NR         17000   50   \n",
       "40541       13209          NR         17000   50   \n",
       "40553       13209          NR         17000   50   \n",
       "...           ...         ...           ...  ...   \n",
       "266815      89024          NR         17000   50   \n",
       "267387      89223          NR         17000   57   \n",
       "270205      91182          NR         17000   64   \n",
       "270249      91186          NR         17000   50   \n",
       "270357      91200          NR         17000   50   \n",
       "271148      91272          NR         17000   50   \n",
       "271643      91326          NR         17000   50   \n",
       "272307      91386          NR         17000   50   \n",
       "273510      91521          NR         17000   85   \n",
       "273512      91521          NR         17000   57   \n",
       "273787      91552          NR         17000   50   \n",
       "274835      91665          NR         17000   58   \n",
       "276777      92019          NR         17000  112   \n",
       "277360      92023          NR         17000   50   \n",
       "277740      92025          NR         17000   50   \n",
       "279713      92051          NR         17000   90   \n",
       "279716      92051          NR         17000   50   \n",
       "281099      92075          NR         17000   57   \n",
       "281266      92076          NR         17000   50   \n",
       "287251      94022          NR         17000   50   \n",
       "288515      94041          NR         17000   95   \n",
       "288795      94043          NR         17000   90   \n",
       "289019      94046          NR         17000   50   \n",
       "289285      94052          NR         17000   68   \n",
       "290331      94069          NR         17000   50   \n",
       "291075      94078          NR         17000   52   \n",
       "291865      94068          NR         17000   95   \n",
       "294577      95427          NR         17000   50   \n",
       "295418      95572          NR         17000   50   \n",
       "297269      97101          NR         17000   80   \n",
       "\n",
       "                                               profession  ...    var13  \\\n",
       "id                                                         ...            \n",
       "1379                     enseignant, formateur, chercheur  ...        5   \n",
       "3013                                       agent, employe  ...        5   \n",
       "3273                     enseignant, formateur, chercheur  ...        5   \n",
       "3758                     enseignant, formateur, chercheur  ...        5   \n",
       "3846                     enseignant, formateur, chercheur  ...        5   \n",
       "4241                     enseignant, formateur, chercheur  ...        5   \n",
       "4864                     enseignant, formateur, chercheur  ...        5   \n",
       "5260                     enseignant, formateur, chercheur  ...        5   \n",
       "5962                     enseignant, formateur, chercheur  ...        5   \n",
       "6581                                       agent, employe  ...        5   \n",
       "7086                                           technicien  ...        5   \n",
       "8590                                       agent, employe  ...        5   \n",
       "10919                                    cadre, ingenieur  ...        5   \n",
       "13138                                    cadre, ingenieur  ...        5   \n",
       "16406                                    cadre, ingenieur  ...        5   \n",
       "17732                    enseignant, formateur, chercheur  ...        5   \n",
       "18368                                    cadre, ingenieur  ...        5   \n",
       "19223                                 profession liberale  ...        5   \n",
       "20832                    enseignant, formateur, chercheur  ...        5   \n",
       "20899                                          technicien  ...        5   \n",
       "22078                                      agent, employe  ...        5   \n",
       "22443                             homme ou femme au foyer  ...        5   \n",
       "26584                                    cadre, ingenieur  ...        5   \n",
       "28584                    enseignant, formateur, chercheur  ...        5   \n",
       "29676                    enseignant, formateur, chercheur  ...        5   \n",
       "30433                    enseignant, formateur, chercheur  ...        5   \n",
       "37397                    enseignant, formateur, chercheur  ...        5   \n",
       "39912                             homme ou femme au foyer  ...        5   \n",
       "40541                    enseignant, formateur, chercheur  ...        5   \n",
       "40553                                             ouvrier  ...        5   \n",
       "...                                                   ...  ...      ...   \n",
       "266815                                   cadre, ingenieur  ...        5   \n",
       "267387                                         commercant  ...        5   \n",
       "270205                   enseignant, formateur, chercheur  ...        5   \n",
       "270249                   enseignant, formateur, chercheur  ...        5   \n",
       "270357                                         technicien  ...        5   \n",
       "271148                   enseignant, formateur, chercheur  ...        5   \n",
       "271643                   enseignant, formateur, chercheur  ...        5   \n",
       "272307                   enseignant, formateur, chercheur  ...        5   \n",
       "273510                                         technicien  ...        5   \n",
       "273512                                     agent, employe  ...        5   \n",
       "273787                                   cadre, ingenieur  ...        5   \n",
       "274835                                     agent, employe  ...        5   \n",
       "276777                                   cadre, ingenieur  ...        5   \n",
       "277360                                 demandeur d'emploi  ...        5   \n",
       "277740                   enseignant, formateur, chercheur  ...        5   \n",
       "279713                   enseignant, formateur, chercheur  ...        5   \n",
       "279716                   enseignant, formateur, chercheur  ...        5   \n",
       "281099                                     agent, employe  ...        5   \n",
       "281266                   enseignant, formateur, chercheur  ...        5   \n",
       "287251                                   cadre, ingenieur  ...        5   \n",
       "288515                   enseignant, formateur, chercheur  ...        5   \n",
       "288795                                 demandeur d'emploi  ...        5   \n",
       "289019                   enseignant, formateur, chercheur  ...        5   \n",
       "289285                                         technicien  ...        5   \n",
       "290331                                   cadre, ingenieur  ...        5   \n",
       "291075                   enseignant, formateur, chercheur  ...        5   \n",
       "291865  profession de l'information des arts et des sp...  ...        5   \n",
       "294577                     educateur, animateur, moniteur  ...        5   \n",
       "295418                   enseignant, formateur, chercheur  ...        5   \n",
       "297269                                     agent, employe  ...        5   \n",
       "\n",
       "        var14  var15  var16  var17 var18 var19 var20  var21  var22  \n",
       "id                                                                  \n",
       "1379        A      0      1      1    23     0     1      1      1  \n",
       "3013        B      2      1      1    39     2     1      1      0  \n",
       "3273        B      0      1      1    35     0     1      1      2  \n",
       "3758        E      2      1      1    23     0     0      1      1  \n",
       "3846        D      2      1      1    26     4     1      1      0  \n",
       "4241        C      2      1      1    30     0     1      1      3  \n",
       "4864        C      0      1      1    25     0     1      1      1  \n",
       "5260        C      2      1      2    24     0     1      1      2  \n",
       "5962        D      0      1      1    20     0     0      0      1  \n",
       "6581        F      0      4      1    17     0     1      1      3  \n",
       "7086        D      0      1      1    30     0     1      1      3  \n",
       "8590        D      1      4      1    33     0     1      1      1  \n",
       "10919       A      1      1      4    26     1     1      1      0  \n",
       "13138       A      2      4      1    25     2     0      0      0  \n",
       "16406       A      1      4      1    28     2     1      1      0  \n",
       "17732       F      0      1      2    27     1     0      1      0  \n",
       "18368       D      1      4      1    31     0     0      1      0  \n",
       "19223       D      0      4      1    33     1     1      1      0  \n",
       "20832       B      0      1      1    34     1     1      1      0  \n",
       "20899       B      1      4      1    27     0     1      1      1  \n",
       "22078       F      0      1      2    26     1     0      0      0  \n",
       "22443       D      2      5      1    38     0     0      1      1  \n",
       "26584       A      1      3      2    29     0     0      1      0  \n",
       "28584       F      2      1      2    27     1     1      1      0  \n",
       "29676       A      2      1      2    27     1     0      1      0  \n",
       "30433       A      1      1      3    29     1     1      1      0  \n",
       "37397       A      0      1      1    22     0     1      1      3  \n",
       "39912       A      4      5      1    23     0     0      1      1  \n",
       "40541       A      2      1      2    30     0     0      1      3  \n",
       "40553       A      0      4      2    22     2     1      1      0  \n",
       "...       ...    ...    ...    ...   ...   ...   ...    ...    ...  \n",
       "266815      D      1      4      2    25     0     0      0      1  \n",
       "267387      F      0      4      1    20     0     0      0      1  \n",
       "270205      G      4      1      1    22     0     0      1      0  \n",
       "270249      G      2      1      2    25     0     0      1      1  \n",
       "270357      G      0      4      3    21     0     1      1      2  \n",
       "271148      G      2      1      1    21     0     0      1      0  \n",
       "271643      G      0      1      1    22     0     0      0      0  \n",
       "272307      G      1      1      4    21     2     1      1      0  \n",
       "273510      G      4      4      1    25     2     1      1      0  \n",
       "273512      G      0      4      1    24     6     1      1      0  \n",
       "273787      G      2      1      1    21     2     0      1      0  \n",
       "274835      G      2      4      1    21     1     0      1      0  \n",
       "276777      G      0      1      1    24     0     0      1      0  \n",
       "277360      G      2      5      1    24     0     0      1      1  \n",
       "277740      G      2      1      3    19     1     1      1      0  \n",
       "279713      G      3      1      2    20     2     1      1      0  \n",
       "279716      G      1      1      3    22     0     0      1      2  \n",
       "281099      G      2      1      1    20     0     0      1      1  \n",
       "281266      G      0      1      1    24     0     0      1      1  \n",
       "287251      G      0      1      1    16     1     0      1      0  \n",
       "288515      G      2      1      2    20     0     1      1      3  \n",
       "288795      G      0      5      4    23     0     0      1      2  \n",
       "289019      G      0      1      1    23     1     0      1      0  \n",
       "289285      G      0      4      2    21     0     0      1      0  \n",
       "290331      G      2      1      4    22     5     1      1      0  \n",
       "291075      G      0      1      1    22     1     1      1      0  \n",
       "291865      G      4      4      1    22     0     1      1      1  \n",
       "294577      G      0      2      2    22     0     0      1      1  \n",
       "295418      G      0      1      1     0     1     0      1      0  \n",
       "297269      N      0      4      1    20     0     0      0      0  \n",
       "\n",
       "[293 rows x 32 columns]"
      ]
     },
     "execution_count": 24,
     "metadata": {},
     "output_type": "execute_result"
    }
   ],
   "source": [
    "X[var1 == -1]"
   ]
  },
  {
   "cell_type": "code",
   "execution_count": 25,
   "metadata": {
    "collapsed": false
   },
   "outputs": [
    {
     "data": {
      "text/plain": [
       "id\n",
       "1379      152.49\n",
       "3013      176.85\n",
       "3273      185.72\n",
       "3758      158.81\n",
       "3846      185.70\n",
       "4241      129.13\n",
       "4864      219.82\n",
       "5260      284.59\n",
       "5962      161.08\n",
       "6581      218.12\n",
       "7086      141.80\n",
       "8590      476.43\n",
       "10919     178.67\n",
       "13138     234.09\n",
       "16406     187.05\n",
       "17732     187.09\n",
       "18368     222.77\n",
       "19223     195.32\n",
       "20832     168.92\n",
       "20899     204.58\n",
       "22078     298.36\n",
       "22443     289.02\n",
       "26584     207.73\n",
       "28584     217.86\n",
       "29676     217.44\n",
       "30433     205.96\n",
       "37397     173.65\n",
       "39912     158.44\n",
       "40541     225.22\n",
       "40553     169.99\n",
       "           ...  \n",
       "266815    217.42\n",
       "267387    190.39\n",
       "270205    261.34\n",
       "270249    249.68\n",
       "270357    234.49\n",
       "271148    178.96\n",
       "271643    245.67\n",
       "272307    161.83\n",
       "273510    292.42\n",
       "273512    201.89\n",
       "273787    195.90\n",
       "274835    157.78\n",
       "276777    274.75\n",
       "277360    139.47\n",
       "277740    161.99\n",
       "279713    373.83\n",
       "279716    192.14\n",
       "281099    235.80\n",
       "281266    176.12\n",
       "287251    144.05\n",
       "288515    351.89\n",
       "288795    309.66\n",
       "289019    161.83\n",
       "289285    194.33\n",
       "290331    168.11\n",
       "291075    195.49\n",
       "291865    352.96\n",
       "294577    190.87\n",
       "295418    211.21\n",
       "297269    236.19\n",
       "Name: prime_tot_ttc, dtype: float64"
      ]
     },
     "execution_count": 25,
     "metadata": {},
     "output_type": "execute_result"
    }
   ],
   "source": [
    "y[var1 == -1]"
   ]
  },
  {
   "cell_type": "markdown",
   "metadata": {},
   "source": [
    "### `var2`"
   ]
  },
  {
   "cell_type": "code",
   "execution_count": 81,
   "metadata": {
    "collapsed": false
   },
   "outputs": [
    {
     "name": "stdout",
     "output_type": "stream",
     "text": [
      "0\n",
      "4    66132\n",
      "1    64146\n",
      "5    55494\n",
      "3    55430\n",
      "2    53532\n",
      "0     5266\n",
      "Name: var2, dtype: int64\n"
     ]
    }
   ],
   "source": [
    "print(X.var2.isnull().sum())\n",
    "print(X.var2.value_counts())"
   ]
  },
  {
   "cell_type": "markdown",
   "metadata": {},
   "source": [
    "### `var3`"
   ]
  },
  {
   "cell_type": "code",
   "execution_count": 80,
   "metadata": {
    "collapsed": false
   },
   "outputs": [
    {
     "name": "stdout",
     "output_type": "stream",
     "text": [
      "0\n",
      "372    169434\n",
      "272    130566\n",
      "Name: var3, dtype: int64\n"
     ]
    }
   ],
   "source": [
    "print(X.var3.isnull().sum())\n",
    "print(X.var3.value_counts())"
   ]
  },
  {
   "cell_type": "markdown",
   "metadata": {},
   "source": [
    "### `var4`"
   ]
  },
  {
   "cell_type": "code",
   "execution_count": 79,
   "metadata": {
    "collapsed": false
   },
   "outputs": [
    {
     "name": "stdout",
     "output_type": "stream",
     "text": [
      "0\n",
      "0    139795\n",
      "1     56047\n",
      "2     55355\n",
      "3     22344\n",
      "5      8677\n",
      "4      8672\n",
      "7      3542\n",
      "6      3452\n",
      "9      1591\n",
      "8       525\n",
      "Name: var4, dtype: int64\n"
     ]
    }
   ],
   "source": [
    "print(X.var4.isnull().sum())\n",
    "print(X.var4.value_counts())"
   ]
  },
  {
   "cell_type": "markdown",
   "metadata": {},
   "source": [
    "### `var5`"
   ]
  },
  {
   "cell_type": "code",
   "execution_count": 78,
   "metadata": {
    "collapsed": false
   },
   "outputs": [
    {
     "name": "stdout",
     "output_type": "stream",
     "text": [
      "0\n",
      "1    173974\n",
      "2    126026\n",
      "Name: var5, dtype: int64\n"
     ]
    }
   ],
   "source": [
    "print(X.var5.isnull().sum())\n",
    "print(X.var5.value_counts())"
   ]
  },
  {
   "cell_type": "markdown",
   "metadata": {},
   "source": [
    "### `var6`"
   ]
  },
  {
   "cell_type": "code",
   "execution_count": 77,
   "metadata": {
    "collapsed": false
   },
   "outputs": [
    {
     "name": "stdout",
     "output_type": "stream",
     "text": [
      "0\n",
      "B    115658\n",
      "A     88583\n",
      "C     77203\n",
      "D     17978\n",
      "N       578\n",
      "Name: var6, dtype: int64\n"
     ]
    }
   ],
   "source": [
    "print(X.var6.isnull().sum())\n",
    "print(X.var6.value_counts())"
   ]
  },
  {
   "cell_type": "markdown",
   "metadata": {},
   "source": [
    "### `var7`"
   ]
  },
  {
   "cell_type": "code",
   "execution_count": 76,
   "metadata": {
    "collapsed": false
   },
   "outputs": [
    {
     "name": "stdout",
     "output_type": "stream",
     "text": [
      "0\n",
      "1     153064\n",
      "3      34266\n",
      "10     21388\n",
      "11     19648\n",
      "4      13729\n",
      "5      12237\n",
      "7       9630\n",
      "8       8364\n",
      "20      8184\n",
      "2       7947\n",
      "6       4670\n",
      "14      2169\n",
      "12      1742\n",
      "13      1522\n",
      "9        836\n",
      "0        308\n",
      "NR       290\n",
      "50         5\n",
      "30         1\n",
      "Name: var7, dtype: int64\n"
     ]
    }
   ],
   "source": [
    "print(X.var7.isnull().sum())\n",
    "print(X.var7.value_counts())"
   ]
  },
  {
   "cell_type": "markdown",
   "metadata": {},
   "source": [
    "### `var8`"
   ]
  },
  {
   "cell_type": "code",
   "execution_count": 75,
   "metadata": {
    "collapsed": false
   },
   "outputs": [
    {
     "name": "stdout",
     "output_type": "stream",
     "text": [
      "0\n",
      "M1    91826\n",
      "B2    66389\n",
      "M2    54018\n",
      "H1    25042\n",
      "B1    23369\n",
      "T3     7565\n",
      "T2     6525\n",
      "F      5357\n",
      "K      3947\n",
      "T4     2710\n",
      "T1     2569\n",
      "MC     2208\n",
      "K2     2124\n",
      "VA     1529\n",
      "H2     1438\n",
      "PU     1211\n",
      "P3     1202\n",
      "NR      586\n",
      "TU      348\n",
      "P2       16\n",
      "P1       14\n",
      "P4        5\n",
      "B         1\n",
      "K3        1\n",
      "Name: var8, dtype: int64\n"
     ]
    }
   ],
   "source": [
    "print(X.var8.isnull().sum())\n",
    "print(X.var8.value_counts())"
   ]
  },
  {
   "cell_type": "markdown",
   "metadata": {},
   "source": [
    "### `var9`"
   ]
  },
  {
   "cell_type": "code",
   "execution_count": 67,
   "metadata": {
    "collapsed": false
   },
   "outputs": [
    {
     "name": "stdout",
     "output_type": "stream",
     "text": [
      "0\n",
      "90     28257\n",
      "60     17286\n",
      "110    17199\n",
      "75     17165\n",
      "115    10933\n",
      "Name: var9, dtype: int64\n"
     ]
    }
   ],
   "source": [
    "print(X.var9.isnull().sum())\n",
    "print(X.var9.value_counts().head())"
   ]
  },
  {
   "cell_type": "code",
   "execution_count": 73,
   "metadata": {
    "collapsed": false
   },
   "outputs": [
    {
     "data": {
      "image/png": "[encoded data removed]",
      "text/plain": [
       "<matplotlib.figure.Figure at 0x7f11db398828>"
      ]
     },
     "metadata": {},
     "output_type": "display_data"
    }
   ],
   "source": [
    "X.var9.hist(bins = 30);"
   ]
  },
  {
   "cell_type": "markdown",
   "metadata": {},
   "source": [
    "### `var10`"
   ]
  },
  {
   "cell_type": "code",
   "execution_count": 68,
   "metadata": {
    "collapsed": false
   },
   "outputs": [
    {
     "name": "stdout",
     "output_type": "stream",
     "text": [
      "0\n",
      "180    15769\n",
      "170    12194\n",
      "185    11967\n",
      "175    11745\n",
      "160    10974\n",
      "Name: var10, dtype: int64\n"
     ]
    }
   ],
   "source": [
    "print(X.var10.isnull().sum())\n",
    "print(X.var10.value_counts().head())"
   ]
  },
  {
   "cell_type": "code",
   "execution_count": 64,
   "metadata": {
    "collapsed": false
   },
   "outputs": [
    {
     "data": {
      "image/png": "[encoded data removed]",
      "text/plain": [
       "<matplotlib.figure.Figure at 0x7f11db20da90>"
      ]
     },
     "metadata": {},
     "output_type": "display_data"
    }
   ],
   "source": [
    "X.var10.hist(bins=30);"
   ]
  },
  {
   "cell_type": "markdown",
   "metadata": {},
   "source": [
    "### `var11`"
   ]
  },
  {
   "cell_type": "code",
   "execution_count": 69,
   "metadata": {
    "collapsed": false
   },
   "outputs": [
    {
     "name": "stdout",
     "output_type": "stream",
     "text": [
      "0\n",
      "0     63845\n",
      "2     49587\n",
      "1     44320\n",
      "99    16958\n",
      "34    14497\n",
      "Name: var11, dtype: int64\n"
     ]
    }
   ],
   "source": [
    "print(X.var11.isnull().sum())\n",
    "print(X.var11.value_counts().head())"
   ]
  },
  {
   "cell_type": "code",
   "execution_count": 61,
   "metadata": {
    "collapsed": false
   },
   "outputs": [
    {
     "data": {
      "image/png": "[encoded data removed]",
      "text/plain": [
       "<matplotlib.figure.Figure at 0x7f11f349edd8>"
      ]
     },
     "metadata": {},
     "output_type": "display_data"
    }
   ],
   "source": [
    "X.var11.hist(bins=30);"
   ]
  },
  {
   "cell_type": "markdown",
   "metadata": {},
   "source": [
    "### `var12`"
   ]
  },
  {
   "cell_type": "code",
   "execution_count": 70,
   "metadata": {
    "collapsed": false
   },
   "outputs": [
    {
     "name": "stdout",
     "output_type": "stream",
     "text": [
      "0\n",
      "3211    4121\n",
      "960     3512\n",
      "890     3484\n",
      "980     3384\n",
      "1300    3224\n",
      "Name: var12, dtype: int64\n"
     ]
    }
   ],
   "source": [
    "print(X.var12.isnull().sum())\n",
    "print(X.var12.value_counts().head())"
   ]
  },
  {
   "cell_type": "code",
   "execution_count": 58,
   "metadata": {
    "collapsed": false
   },
   "outputs": [
    {
     "data": {
      "image/png": "[encoded data removed]",
      "text/plain": [
       "<matplotlib.figure.Figure at 0x7f11f3802748>"
      ]
     },
     "metadata": {},
     "output_type": "display_data"
    }
   ],
   "source": [
    "X.var12.hist(bins = 30);"
   ]
  },
  {
   "cell_type": "markdown",
   "metadata": {},
   "source": [
    "### `var13`"
   ]
  },
  {
   "cell_type": "code",
   "execution_count": 54,
   "metadata": {
    "collapsed": false
   },
   "outputs": [
    {
     "name": "stdout",
     "output_type": "stream",
     "text": [
      "0\n",
      "5    180716\n",
      "3     69632\n",
      "4     29832\n",
      "2     19820\n",
      "Name: var13, dtype: int64\n"
     ]
    }
   ],
   "source": [
    "print(X.var13.isnull().sum())\n",
    "print(X.var13.value_counts())"
   ]
  },
  {
   "cell_type": "markdown",
   "metadata": {},
   "source": [
    "### `var14`"
   ]
  },
  {
   "cell_type": "code",
   "execution_count": 53,
   "metadata": {
    "collapsed": false
   },
   "outputs": [
    {
     "name": "stdout",
     "output_type": "stream",
     "text": [
      "0\n",
      "A    62469\n",
      "B    62449\n",
      "F    46276\n",
      "G    45126\n",
      "C    34351\n",
      "D    32757\n",
      "E    11505\n",
      "N     5067\n",
      "Name: var14, dtype: int64\n"
     ]
    }
   ],
   "source": [
    "print(X.var14.isnull().sum())\n",
    "print(X.var14.value_counts())"
   ]
  },
  {
   "cell_type": "markdown",
   "metadata": {},
   "source": [
    "### `var15`"
   ]
  },
  {
   "cell_type": "code",
   "execution_count": 52,
   "metadata": {
    "collapsed": false
   },
   "outputs": [
    {
     "name": "stdout",
     "output_type": "stream",
     "text": [
      "0\n",
      "0    107347\n",
      "2     98212\n",
      "1     55596\n",
      "3     29408\n",
      "4      6985\n",
      "5      1662\n",
      "6       537\n",
      "7       147\n",
      "8        78\n",
      "9        28\n",
      "Name: var15, dtype: int64\n"
     ]
    }
   ],
   "source": [
    "print(X.var15.isnull().sum())\n",
    "print(X.var15.value_counts())"
   ]
  },
  {
   "cell_type": "markdown",
   "metadata": {},
   "source": [
    "### `var16`"
   ]
  },
  {
   "cell_type": "code",
   "execution_count": 40,
   "metadata": {
    "collapsed": false
   },
   "outputs": [
    {
     "data": {
      "text/plain": [
       "0"
      ]
     },
     "execution_count": 40,
     "metadata": {},
     "output_type": "execute_result"
    }
   ],
   "source": [
    "print(X.var16.isnull().sum())\n",
    "print(X.var16.value_counts())"
   ]
  },
  {
   "cell_type": "markdown",
   "metadata": {},
   "source": [
    "### `var17`"
   ]
  },
  {
   "cell_type": "code",
   "execution_count": 51,
   "metadata": {
    "collapsed": false
   },
   "outputs": [
    {
     "name": "stdout",
     "output_type": "stream",
     "text": [
      "0\n",
      "1    189634\n",
      "2     69401\n",
      "4     31959\n",
      "3      7062\n",
      "0      1789\n",
      "5       155\n",
      "Name: var17, dtype: int64\n"
     ]
    }
   ],
   "source": [
    "print(X.var17.isnull().sum())\n",
    "print(X.var17.value_counts())"
   ]
  },
  {
   "cell_type": "markdown",
   "metadata": {},
   "source": [
    "### `var18`"
   ]
  },
  {
   "cell_type": "code",
   "execution_count": 50,
   "metadata": {
    "collapsed": false
   },
   "outputs": [
    {
     "name": "stdout",
     "output_type": "stream",
     "text": [
      "0\n",
      "23    36281\n",
      "22    34870\n",
      "24    33843\n",
      "25    29404\n",
      "21    28001\n",
      "26    25553\n",
      "27    20606\n",
      "28    15433\n",
      "20    15372\n",
      "29    11151\n",
      "30     7953\n",
      "31     6451\n",
      "19     5720\n",
      "32     4956\n",
      "33     3925\n",
      "34     3132\n",
      "35     2401\n",
      "36     1933\n",
      "37     1724\n",
      "38     1517\n",
      "39     1155\n",
      "14      797\n",
      "13      756\n",
      "15      675\n",
      "12      644\n",
      "40      572\n",
      "16      551\n",
      "11      545\n",
      "18      480\n",
      "17      472\n",
      "10      433\n",
      "9       348\n",
      "8       289\n",
      "41      281\n",
      "7       273\n",
      "4       241\n",
      "5       230\n",
      "6       230\n",
      "3       193\n",
      "1       150\n",
      "2       144\n",
      "42      132\n",
      "0        90\n",
      "43       55\n",
      "44       31\n",
      "45        7\n",
      "Name: var18, dtype: int64\n"
     ]
    }
   ],
   "source": [
    "print(X.var18.isnull().sum())\n",
    "print(X.var18.value_counts())"
   ]
  },
  {
   "cell_type": "markdown",
   "metadata": {},
   "source": [
    "### `var19`"
   ]
  },
  {
   "cell_type": "code",
   "execution_count": 49,
   "metadata": {
    "collapsed": false
   },
   "outputs": [
    {
     "name": "stdout",
     "output_type": "stream",
     "text": [
      "0\n",
      "0     210146\n",
      "1      47692\n",
      "2      24855\n",
      "3      10148\n",
      "4       3978\n",
      "5       1537\n",
      "6        662\n",
      "7        362\n",
      "8        237\n",
      "9        125\n",
      "11        63\n",
      "10        47\n",
      "12        32\n",
      "13        27\n",
      "15        16\n",
      "14        15\n",
      "16        14\n",
      "20        14\n",
      "17         9\n",
      "18         6\n",
      "19         3\n",
      "27         3\n",
      "25         2\n",
      "34         2\n",
      "32         1\n",
      "21         1\n",
      "23         1\n",
      "24         1\n",
      "28         1\n",
      "Name: var19, dtype: int64\n"
     ]
    }
   ],
   "source": [
    "print(X.var19.isnull().sum())\n",
    "print(X.var19.value_counts())"
   ]
  },
  {
   "cell_type": "markdown",
   "metadata": {},
   "source": [
    "### `var20`"
   ]
  },
  {
   "cell_type": "code",
   "execution_count": 48,
   "metadata": {
    "collapsed": false
   },
   "outputs": [
    {
     "name": "stdout",
     "output_type": "stream",
     "text": [
      "0\n",
      "1    162846\n",
      "0    137154\n",
      "Name: var20, dtype: int64\n"
     ]
    }
   ],
   "source": [
    "print(X.var20.isnull().sum())\n",
    "print(X.var20.value_counts())"
   ]
  },
  {
   "cell_type": "markdown",
   "metadata": {},
   "source": [
    "### `var21`"
   ]
  },
  {
   "cell_type": "code",
   "execution_count": 47,
   "metadata": {
    "collapsed": false
   },
   "outputs": [
    {
     "name": "stdout",
     "output_type": "stream",
     "text": [
      "0\n",
      "1    273577\n",
      "0     26423\n",
      "Name: var21, dtype: int64\n"
     ]
    }
   ],
   "source": [
    "print(X.var21.isnull().sum())\n",
    "print(X.var21.value_counts())"
   ]
  },
  {
   "cell_type": "markdown",
   "metadata": {},
   "source": [
    "### `var22`"
   ]
  },
  {
   "cell_type": "code",
   "execution_count": 46,
   "metadata": {
    "collapsed": false
   },
   "outputs": [
    {
     "name": "stdout",
     "output_type": "stream",
     "text": [
      "0\n",
      "0     112575\n",
      "1      93220\n",
      "2      57902\n",
      "3      23126\n",
      "4       7954\n",
      "5       2930\n",
      "6       1155\n",
      "7        484\n",
      "8        248\n",
      "9        146\n",
      "10       101\n",
      "11        44\n",
      "13        35\n",
      "12        28\n",
      "14        19\n",
      "15         8\n",
      "17         8\n",
      "22         4\n",
      "25         3\n",
      "60         3\n",
      "18         2\n",
      "30         2\n",
      "59         1\n",
      "16         1\n",
      "20         1\n",
      "Name: var22, dtype: int64\n"
     ]
    }
   ],
   "source": [
    "print(X.var22.isnull().sum())\n",
    "print(X.var22.value_counts())"
   ]
  },
  {
   "cell_type": "code",
   "execution_count": null,
   "metadata": {
    "collapsed": true
   },
   "outputs": [],
   "source": []
  }
 ],
 "metadata": {
  "kernelspec": {
   "display_name": "Python 3",
   "language": "python",
   "name": "python3"
  },
  "language_info": {
   "codemirror_mode": {
    "name": "ipython",
    "version": 3
   },
   "file_extension": ".py",
   "mimetype": "text/x-python",
   "name": "python",
   "nbconvert_exporter": "python",
   "pygments_lexer": "ipython3",
   "version": "3.5.2"
  }
 },
 "nbformat": 4,
 "nbformat_minor": 0
}
